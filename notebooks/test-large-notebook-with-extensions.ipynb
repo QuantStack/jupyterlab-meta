{
 "cells": [
  {
   "cell_type": "markdown",
   "id": "ad72c455",
   "metadata": {},
   "source": [
    "# Large Test Notebook"
   ]
  },
  {
   "cell_type": "markdown",
   "id": "cbe51664",
   "metadata": {},
   "source": [
    "## Table of Contents\n",
    "\n",
    "- [Papermill](#papermill)\n",
    "- [ipywidgets](#ipywidgets)\n",
    "- [Dash](#dash)\n",
    "- [jupyterlab-lsp](#jupyterlab-lsp)\n",
    "- [ipydatagrid](#ipydatagrid)\n",
    "- [ipympl](#ipympl)\n",
    "- [jupyterlab-code-formatter](#jupyterlab-code-formatter)\n",
    "- [dummy-code-cells](#dummy-code-cells)"
   ]
  },
  {
   "cell_type": "markdown",
   "id": "495fd9d7",
   "metadata": {},
   "source": [
    "## Papermill\n",
    "\n",
    "This section tests the Papermill extension"
   ]
  },
  {
   "cell_type": "code",
   "execution_count": null,
   "id": "2830e987",
   "metadata": {},
   "outputs": [],
   "source": [
    "import tempfile\n",
    "import papermill as pm\n",
    "\n",
    "with tempfile.NamedTemporaryFile(delete=False, suffix='.ipynb') as temp_output:\n",
    "    pm.execute_notebook(\n",
    "        \"test-papermill.ipynb\", \n",
    "        temp_output.name,        \n",
    "        parameters={\"param1\": \"TestRun\", \"param2\": 99},\n",
    "        kernel_name=\"python3\"\n",
    "    )\n",
    "    print(f\"Output saved to {temp_output.name}\")\n",
    "    output_path = temp_output.name  \n",
    "output_path"
   ]
  },
  {
   "cell_type": "markdown",
   "id": "ef065783",
   "metadata": {},
   "source": [
    "## ipywidgets\n",
    "\n",
    "This section tests the ipywidgets extension"
   ]
  },
  {
   "cell_type": "code",
   "execution_count": null,
   "id": "ac98ec65",
   "metadata": {},
   "outputs": [],
   "source": [
    "import ipywidgets as widgets\n",
    "from IPython.display import display\n",
    "\n",
    "slider = widgets.IntSlider(value=50, min=0, max=100, description=\"Slider:\")\n",
    "button = widgets.Button(description=\"Click Me\")\n",
    "output = widgets.Output()\n",
    "\n",
    "def on_button_click(b):\n",
    "    with output:\n",
    "        print(\"Button Clicked!\")\n",
    "\n",
    "button.on_click(on_button_click)\n",
    "display(slider, button, output)"
   ]
  },
  {
   "cell_type": "markdown",
   "id": "80ffced0",
   "metadata": {},
   "source": [
    "## Dash\n",
    "\n",
    "This section tests the Dash extension"
   ]
  },
  {
   "cell_type": "code",
   "execution_count": null,
   "id": "52bac575",
   "metadata": {},
   "outputs": [],
   "source": [
    "from dash import dcc, html, Dash\n",
    "app = Dash(__name__)\n",
    "app.layout = html.Div([\n",
    "    dcc.Graph(\n",
    "        id='graph',\n",
    "        figure={\n",
    "            'data': [{'x': [1, 2, 3, 4], 'y': [10, 11, 12, 13], 'type': 'line', 'name': 'Test'}],\n",
    "            'layout': {'title': 'Dash in JupyterLab'}\n",
    "        }\n",
    "    )\n",
    "])\n",
    "app.run_server(host=\"0.0.0.0\", port=8052)"
   ]
  },
  {
   "cell_type": "markdown",
   "id": "c1d5d8ce",
   "metadata": {},
   "source": [
    "## jupyterlab-lsp\n",
    "\n",
    "This section tests the jupyterlab-lsp extension"
   ]
  },
  {
   "cell_type": "code",
   "execution_count": null,
   "id": "95a7f5d9",
   "metadata": {},
   "outputs": [],
   "source": [
    "import numpy as np\n",
    "np"
   ]
  },
  {
   "cell_type": "markdown",
   "id": "cb8f1832",
   "metadata": {},
   "source": [
    "## ipydatagrid\n",
    "\n",
    "This section tests the ipydatagrid extension"
   ]
  },
  {
   "cell_type": "code",
   "execution_count": null,
   "id": "7b7c0eaa",
   "metadata": {},
   "outputs": [],
   "source": [
    "import numpy as np\n",
    "import pandas as pd\n",
    "import ipydatagrid\n",
    "\n",
    "data = pd.DataFrame(\n",
    "    np.random.randint(0, 100, size=(5, 5)), \n",
    "    columns=[\"A\", \"B\", \"C\", \"D\", \"E\"]\n",
    ")\n",
    "grid = ipydatagrid.DataGrid(data, editable=True)\n",
    "grid"
   ]
  },
  {
   "cell_type": "markdown",
   "id": "50fb2a74",
   "metadata": {},
   "source": [
    "## ipympl\n",
    "\n",
    "This section tests the ipympl extension"
   ]
  },
  {
   "cell_type": "code",
   "execution_count": null,
   "id": "16543bda",
   "metadata": {},
   "outputs": [],
   "source": [
    "# Activate ipympl\n",
    "%matplotlib widget  \n",
    "\n",
    "import matplotlib.pyplot as plt  \n",
    "import numpy as np  \n",
    "\n",
    "x = np.linspace(0, 10, 100)  \n",
    "y = np.sin(x)  \n",
    "\n",
    "fig, ax = plt.subplots()  \n",
    "ax.plot(x, y)  \n",
    "plt.show()"
   ]
  },
  {
   "cell_type": "markdown",
   "id": "13d92818",
   "metadata": {},
   "source": [
    "## jupyterlab-code-formatter\n",
    "\n",
    "This section tests the jupyterlab-code-formatter extension"
   ]
  },
  {
   "cell_type": "code",
   "execution_count": null,
   "id": "40c7de11",
   "metadata": {},
   "outputs": [],
   "source": [
    "def             my_function(x,      y):\n",
    "    print(x,            y)"
   ]
  },
  {
   "cell_type": "markdown",
   "id": "3d13b7e6",
   "metadata": {},
   "source": [
    "## dummy-code-cells\n",
    "\n",
    "This section contains filler code cells."
   ]
  },
  {
   "cell_type": "code",
   "execution_count": null,
   "id": "68c6d4c3",
   "metadata": {},
   "outputs": [],
   "source": [
    "\n",
    "import tempfile\n",
    "import papermill as pm\n",
    "\n",
    "with tempfile.NamedTemporaryFile(delete=False, suffix='.ipynb') as temp_output:\n",
    "    pm.execute_notebook(\n",
    "        \"test-papermill.ipynb\", \n",
    "        temp_output.name,        \n",
    "        parameters={\"param1\": \"TestRun\", \"param2\": 99},\n",
    "        kernel_name=\"python3\"\n",
    "    )\n",
    "    print(f\"Output saved to {temp_output.name}\")\n",
    "    output_path = temp_output.name  \n",
    "output_path\n"
   ]
  },
  {
   "cell_type": "code",
   "execution_count": null,
   "id": "14e84646",
   "metadata": {},
   "outputs": [],
   "source": [
    "\n",
    "import ipywidgets as widgets\n",
    "from IPython.display import display\n",
    "\n",
    "slider = widgets.IntSlider(value=50, min=0, max=100, description=\"Slider:\")\n",
    "button = widgets.Button(description=\"Click Me\")\n",
    "output = widgets.Output()\n",
    "\n",
    "def on_button_click(b):\n",
    "    with output:\n",
    "        print(\"Button Clicked!\")\n",
    "\n",
    "button.on_click(on_button_click)\n",
    "display(slider, button, output)\n"
   ]
  },
  {
   "cell_type": "code",
   "execution_count": null,
   "id": "f564afa4",
   "metadata": {},
   "outputs": [],
   "source": [
    "\n",
    "from dash import dcc, html, Dash\n",
    "app = Dash(__name__)\n",
    "app.layout = html.Div([\n",
    "    dcc.Graph(\n",
    "        id='graph',\n",
    "        figure={\n",
    "            'data': [{'x': [1, 2, 3, 4], 'y': [10, 11, 12, 13], 'type': 'line', 'name': 'Test'}],\n",
    "            'layout': {'title': 'Dash in JupyterLab'}\n",
    "        }\n",
    "    )\n",
    "])\n",
    "app.run_server(host=\"0.0.0.0\", port=8052)\n"
   ]
  },
  {
   "cell_type": "code",
   "execution_count": null,
   "id": "57f3ff82",
   "metadata": {},
   "outputs": [],
   "source": [
    "\n",
    "import numpy as np\n",
    "np\n"
   ]
  },
  {
   "cell_type": "code",
   "execution_count": null,
   "id": "60afb8e4",
   "metadata": {},
   "outputs": [],
   "source": [
    "\n",
    "import numpy as np\n",
    "import pandas as pd\n",
    "import ipydatagrid\n",
    "\n",
    "data = pd.DataFrame(\n",
    "    np.random.randint(0, 100, size=(5, 5)), \n",
    "    columns=[\"A\", \"B\", \"C\", \"D\", \"E\"]\n",
    ")\n",
    "grid = ipydatagrid.DataGrid(data, editable=True)\n",
    "grid\n"
   ]
  },
  {
   "cell_type": "code",
   "execution_count": null,
   "id": "25501aa4",
   "metadata": {},
   "outputs": [],
   "source": [
    "\n",
    "# Activate ipympl\n",
    "%matplotlib widget  \n",
    "\n",
    "import matplotlib.pyplot as plt  \n",
    "import numpy as np  \n",
    "\n",
    "x = np.linspace(0, 10, 100)  \n",
    "y = np.sin(x)  \n",
    "\n",
    "fig, ax = plt.subplots()  \n",
    "ax.plot(x, y)  \n",
    "plt.show()\n"
   ]
  },
  {
   "cell_type": "code",
   "execution_count": null,
   "id": "5664d561",
   "metadata": {},
   "outputs": [],
   "source": [
    "\n",
    "def             my_function(x,      y):\n",
    "    print(x,            y)\n"
   ]
  },
  {
   "cell_type": "code",
   "execution_count": null,
   "id": "a0d09017",
   "metadata": {},
   "outputs": [],
   "source": [
    "\n",
    "import tempfile\n",
    "import papermill as pm\n",
    "\n",
    "with tempfile.NamedTemporaryFile(delete=False, suffix='.ipynb') as temp_output:\n",
    "    pm.execute_notebook(\n",
    "        \"test-papermill.ipynb\", \n",
    "        temp_output.name,        \n",
    "        parameters={\"param1\": \"TestRun\", \"param2\": 99},\n",
    "        kernel_name=\"python3\"\n",
    "    )\n",
    "    print(f\"Output saved to {temp_output.name}\")\n",
    "    output_path = temp_output.name  \n",
    "output_path\n"
   ]
  },
  {
   "cell_type": "code",
   "execution_count": null,
   "id": "e9b8a54e",
   "metadata": {},
   "outputs": [],
   "source": [
    "\n",
    "import ipywidgets as widgets\n",
    "from IPython.display import display\n",
    "\n",
    "slider = widgets.IntSlider(value=50, min=0, max=100, description=\"Slider:\")\n",
    "button = widgets.Button(description=\"Click Me\")\n",
    "output = widgets.Output()\n",
    "\n",
    "def on_button_click(b):\n",
    "    with output:\n",
    "        print(\"Button Clicked!\")\n",
    "\n",
    "button.on_click(on_button_click)\n",
    "display(slider, button, output)\n"
   ]
  },
  {
   "cell_type": "code",
   "execution_count": null,
   "id": "889c4d59",
   "metadata": {},
   "outputs": [],
   "source": [
    "\n",
    "from dash import dcc, html, Dash\n",
    "app = Dash(__name__)\n",
    "app.layout = html.Div([\n",
    "    dcc.Graph(\n",
    "        id='graph',\n",
    "        figure={\n",
    "            'data': [{'x': [1, 2, 3, 4], 'y': [10, 11, 12, 13], 'type': 'line', 'name': 'Test'}],\n",
    "            'layout': {'title': 'Dash in JupyterLab'}\n",
    "        }\n",
    "    )\n",
    "])\n",
    "app.run_server(host=\"0.0.0.0\", port=8052)\n"
   ]
  },
  {
   "cell_type": "code",
   "execution_count": null,
   "id": "a24eedfb",
   "metadata": {},
   "outputs": [],
   "source": [
    "\n",
    "import numpy as np\n",
    "np\n"
   ]
  },
  {
   "cell_type": "code",
   "execution_count": null,
   "id": "21b5ef01",
   "metadata": {},
   "outputs": [],
   "source": [
    "\n",
    "import numpy as np\n",
    "import pandas as pd\n",
    "import ipydatagrid\n",
    "\n",
    "data = pd.DataFrame(\n",
    "    np.random.randint(0, 100, size=(5, 5)), \n",
    "    columns=[\"A\", \"B\", \"C\", \"D\", \"E\"]\n",
    ")\n",
    "grid = ipydatagrid.DataGrid(data, editable=True)\n",
    "grid\n"
   ]
  },
  {
   "cell_type": "code",
   "execution_count": null,
   "id": "592e163e",
   "metadata": {},
   "outputs": [],
   "source": [
    "\n",
    "# Activate ipympl\n",
    "%matplotlib widget  \n",
    "\n",
    "import matplotlib.pyplot as plt  \n",
    "import numpy as np  \n",
    "\n",
    "x = np.linspace(0, 10, 100)  \n",
    "y = np.sin(x)  \n",
    "\n",
    "fig, ax = plt.subplots()  \n",
    "ax.plot(x, y)  \n",
    "plt.show()\n"
   ]
  },
  {
   "cell_type": "code",
   "execution_count": null,
   "id": "194fc9fc",
   "metadata": {},
   "outputs": [],
   "source": [
    "\n",
    "def             my_function(x,      y):\n",
    "    print(x,            y)\n"
   ]
  },
  {
   "cell_type": "code",
   "execution_count": null,
   "id": "99c48305",
   "metadata": {},
   "outputs": [],
   "source": [
    "\n",
    "import tempfile\n",
    "import papermill as pm\n",
    "\n",
    "with tempfile.NamedTemporaryFile(delete=False, suffix='.ipynb') as temp_output:\n",
    "    pm.execute_notebook(\n",
    "        \"test-papermill.ipynb\", \n",
    "        temp_output.name,        \n",
    "        parameters={\"param1\": \"TestRun\", \"param2\": 99},\n",
    "        kernel_name=\"python3\"\n",
    "    )\n",
    "    print(f\"Output saved to {temp_output.name}\")\n",
    "    output_path = temp_output.name  \n",
    "output_path\n"
   ]
  },
  {
   "cell_type": "code",
   "execution_count": null,
   "id": "e2ff0e4b",
   "metadata": {},
   "outputs": [],
   "source": [
    "\n",
    "import ipywidgets as widgets\n",
    "from IPython.display import display\n",
    "\n",
    "slider = widgets.IntSlider(value=50, min=0, max=100, description=\"Slider:\")\n",
    "button = widgets.Button(description=\"Click Me\")\n",
    "output = widgets.Output()\n",
    "\n",
    "def on_button_click(b):\n",
    "    with output:\n",
    "        print(\"Button Clicked!\")\n",
    "\n",
    "button.on_click(on_button_click)\n",
    "display(slider, button, output)\n"
   ]
  },
  {
   "cell_type": "code",
   "execution_count": null,
   "id": "f5c10a26",
   "metadata": {},
   "outputs": [],
   "source": [
    "\n",
    "from dash import dcc, html, Dash\n",
    "app = Dash(__name__)\n",
    "app.layout = html.Div([\n",
    "    dcc.Graph(\n",
    "        id='graph',\n",
    "        figure={\n",
    "            'data': [{'x': [1, 2, 3, 4], 'y': [10, 11, 12, 13], 'type': 'line', 'name': 'Test'}],\n",
    "            'layout': {'title': 'Dash in JupyterLab'}\n",
    "        }\n",
    "    )\n",
    "])\n",
    "app.run_server(host=\"0.0.0.0\", port=8052)\n"
   ]
  },
  {
   "cell_type": "code",
   "execution_count": null,
   "id": "8d59e17f",
   "metadata": {},
   "outputs": [],
   "source": [
    "\n",
    "import numpy as np\n",
    "np\n"
   ]
  },
  {
   "cell_type": "code",
   "execution_count": null,
   "id": "8564d69f",
   "metadata": {},
   "outputs": [],
   "source": [
    "\n",
    "import numpy as np\n",
    "import pandas as pd\n",
    "import ipydatagrid\n",
    "\n",
    "data = pd.DataFrame(\n",
    "    np.random.randint(0, 100, size=(5, 5)), \n",
    "    columns=[\"A\", \"B\", \"C\", \"D\", \"E\"]\n",
    ")\n",
    "grid = ipydatagrid.DataGrid(data, editable=True)\n",
    "grid\n"
   ]
  },
  {
   "cell_type": "code",
   "execution_count": null,
   "id": "ef90cf33",
   "metadata": {},
   "outputs": [],
   "source": [
    "\n",
    "# Activate ipympl\n",
    "%matplotlib widget  \n",
    "\n",
    "import matplotlib.pyplot as plt  \n",
    "import numpy as np  \n",
    "\n",
    "x = np.linspace(0, 10, 100)  \n",
    "y = np.sin(x)  \n",
    "\n",
    "fig, ax = plt.subplots()  \n",
    "ax.plot(x, y)  \n",
    "plt.show()\n"
   ]
  },
  {
   "cell_type": "code",
   "execution_count": null,
   "id": "47786667",
   "metadata": {},
   "outputs": [],
   "source": [
    "\n",
    "def             my_function(x,      y):\n",
    "    print(x,            y)\n"
   ]
  },
  {
   "cell_type": "code",
   "execution_count": null,
   "id": "a6b8dd71",
   "metadata": {},
   "outputs": [],
   "source": [
    "\n",
    "import tempfile\n",
    "import papermill as pm\n",
    "\n",
    "with tempfile.NamedTemporaryFile(delete=False, suffix='.ipynb') as temp_output:\n",
    "    pm.execute_notebook(\n",
    "        \"test-papermill.ipynb\", \n",
    "        temp_output.name,        \n",
    "        parameters={\"param1\": \"TestRun\", \"param2\": 99},\n",
    "        kernel_name=\"python3\"\n",
    "    )\n",
    "    print(f\"Output saved to {temp_output.name}\")\n",
    "    output_path = temp_output.name  \n",
    "output_path\n"
   ]
  },
  {
   "cell_type": "code",
   "execution_count": null,
   "id": "f446ec2a",
   "metadata": {},
   "outputs": [],
   "source": [
    "\n",
    "import ipywidgets as widgets\n",
    "from IPython.display import display\n",
    "\n",
    "slider = widgets.IntSlider(value=50, min=0, max=100, description=\"Slider:\")\n",
    "button = widgets.Button(description=\"Click Me\")\n",
    "output = widgets.Output()\n",
    "\n",
    "def on_button_click(b):\n",
    "    with output:\n",
    "        print(\"Button Clicked!\")\n",
    "\n",
    "button.on_click(on_button_click)\n",
    "display(slider, button, output)\n"
   ]
  },
  {
   "cell_type": "code",
   "execution_count": null,
   "id": "00d04b20",
   "metadata": {},
   "outputs": [],
   "source": [
    "\n",
    "from dash import dcc, html, Dash\n",
    "app = Dash(__name__)\n",
    "app.layout = html.Div([\n",
    "    dcc.Graph(\n",
    "        id='graph',\n",
    "        figure={\n",
    "            'data': [{'x': [1, 2, 3, 4], 'y': [10, 11, 12, 13], 'type': 'line', 'name': 'Test'}],\n",
    "            'layout': {'title': 'Dash in JupyterLab'}\n",
    "        }\n",
    "    )\n",
    "])\n",
    "app.run_server(host=\"0.0.0.0\", port=8052)\n"
   ]
  },
  {
   "cell_type": "code",
   "execution_count": null,
   "id": "188c6451",
   "metadata": {},
   "outputs": [],
   "source": [
    "\n",
    "import numpy as np\n",
    "np\n"
   ]
  },
  {
   "cell_type": "code",
   "execution_count": null,
   "id": "dfc24e1e",
   "metadata": {},
   "outputs": [],
   "source": [
    "\n",
    "import numpy as np\n",
    "import pandas as pd\n",
    "import ipydatagrid\n",
    "\n",
    "data = pd.DataFrame(\n",
    "    np.random.randint(0, 100, size=(5, 5)), \n",
    "    columns=[\"A\", \"B\", \"C\", \"D\", \"E\"]\n",
    ")\n",
    "grid = ipydatagrid.DataGrid(data, editable=True)\n",
    "grid\n"
   ]
  },
  {
   "cell_type": "code",
   "execution_count": null,
   "id": "5002a1a9",
   "metadata": {},
   "outputs": [],
   "source": [
    "\n",
    "# Activate ipympl\n",
    "%matplotlib widget  \n",
    "\n",
    "import matplotlib.pyplot as plt  \n",
    "import numpy as np  \n",
    "\n",
    "x = np.linspace(0, 10, 100)  \n",
    "y = np.sin(x)  \n",
    "\n",
    "fig, ax = plt.subplots()  \n",
    "ax.plot(x, y)  \n",
    "plt.show()\n"
   ]
  },
  {
   "cell_type": "code",
   "execution_count": null,
   "id": "0848ac86",
   "metadata": {},
   "outputs": [],
   "source": [
    "\n",
    "def             my_function(x,      y):\n",
    "    print(x,            y)\n"
   ]
  },
  {
   "cell_type": "code",
   "execution_count": null,
   "id": "aa2b508c",
   "metadata": {},
   "outputs": [],
   "source": [
    "\n",
    "import tempfile\n",
    "import papermill as pm\n",
    "\n",
    "with tempfile.NamedTemporaryFile(delete=False, suffix='.ipynb') as temp_output:\n",
    "    pm.execute_notebook(\n",
    "        \"test-papermill.ipynb\", \n",
    "        temp_output.name,        \n",
    "        parameters={\"param1\": \"TestRun\", \"param2\": 99},\n",
    "        kernel_name=\"python3\"\n",
    "    )\n",
    "    print(f\"Output saved to {temp_output.name}\")\n",
    "    output_path = temp_output.name  \n",
    "output_path\n"
   ]
  },
  {
   "cell_type": "code",
   "execution_count": null,
   "id": "248a88d7",
   "metadata": {},
   "outputs": [],
   "source": [
    "\n",
    "import ipywidgets as widgets\n",
    "from IPython.display import display\n",
    "\n",
    "slider = widgets.IntSlider(value=50, min=0, max=100, description=\"Slider:\")\n",
    "button = widgets.Button(description=\"Click Me\")\n",
    "output = widgets.Output()\n",
    "\n",
    "def on_button_click(b):\n",
    "    with output:\n",
    "        print(\"Button Clicked!\")\n",
    "\n",
    "button.on_click(on_button_click)\n",
    "display(slider, button, output)\n"
   ]
  },
  {
   "cell_type": "code",
   "execution_count": null,
   "id": "775aa4d1",
   "metadata": {},
   "outputs": [],
   "source": [
    "\n",
    "from dash import dcc, html, Dash\n",
    "app = Dash(__name__)\n",
    "app.layout = html.Div([\n",
    "    dcc.Graph(\n",
    "        id='graph',\n",
    "        figure={\n",
    "            'data': [{'x': [1, 2, 3, 4], 'y': [10, 11, 12, 13], 'type': 'line', 'name': 'Test'}],\n",
    "            'layout': {'title': 'Dash in JupyterLab'}\n",
    "        }\n",
    "    )\n",
    "])\n",
    "app.run_server(host=\"0.0.0.0\", port=8052)\n"
   ]
  },
  {
   "cell_type": "code",
   "execution_count": null,
   "id": "ace05b27",
   "metadata": {},
   "outputs": [],
   "source": [
    "\n",
    "import numpy as np\n",
    "np\n"
   ]
  },
  {
   "cell_type": "code",
   "execution_count": null,
   "id": "73f146c6",
   "metadata": {},
   "outputs": [],
   "source": [
    "\n",
    "import numpy as np\n",
    "import pandas as pd\n",
    "import ipydatagrid\n",
    "\n",
    "data = pd.DataFrame(\n",
    "    np.random.randint(0, 100, size=(5, 5)), \n",
    "    columns=[\"A\", \"B\", \"C\", \"D\", \"E\"]\n",
    ")\n",
    "grid = ipydatagrid.DataGrid(data, editable=True)\n",
    "grid\n"
   ]
  },
  {
   "cell_type": "code",
   "execution_count": null,
   "id": "04a6af59",
   "metadata": {},
   "outputs": [],
   "source": [
    "\n",
    "# Activate ipympl\n",
    "%matplotlib widget  \n",
    "\n",
    "import matplotlib.pyplot as plt  \n",
    "import numpy as np  \n",
    "\n",
    "x = np.linspace(0, 10, 100)  \n",
    "y = np.sin(x)  \n",
    "\n",
    "fig, ax = plt.subplots()  \n",
    "ax.plot(x, y)  \n",
    "plt.show()\n"
   ]
  },
  {
   "cell_type": "code",
   "execution_count": null,
   "id": "e20c2c30",
   "metadata": {},
   "outputs": [],
   "source": [
    "\n",
    "def             my_function(x,      y):\n",
    "    print(x,            y)\n"
   ]
  },
  {
   "cell_type": "code",
   "execution_count": null,
   "id": "98974813",
   "metadata": {},
   "outputs": [],
   "source": [
    "\n",
    "import tempfile\n",
    "import papermill as pm\n",
    "\n",
    "with tempfile.NamedTemporaryFile(delete=False, suffix='.ipynb') as temp_output:\n",
    "    pm.execute_notebook(\n",
    "        \"test-papermill.ipynb\", \n",
    "        temp_output.name,        \n",
    "        parameters={\"param1\": \"TestRun\", \"param2\": 99},\n",
    "        kernel_name=\"python3\"\n",
    "    )\n",
    "    print(f\"Output saved to {temp_output.name}\")\n",
    "    output_path = temp_output.name  \n",
    "output_path\n"
   ]
  },
  {
   "cell_type": "code",
   "execution_count": null,
   "id": "d16619ec",
   "metadata": {},
   "outputs": [],
   "source": [
    "\n",
    "import ipywidgets as widgets\n",
    "from IPython.display import display\n",
    "\n",
    "slider = widgets.IntSlider(value=50, min=0, max=100, description=\"Slider:\")\n",
    "button = widgets.Button(description=\"Click Me\")\n",
    "output = widgets.Output()\n",
    "\n",
    "def on_button_click(b):\n",
    "    with output:\n",
    "        print(\"Button Clicked!\")\n",
    "\n",
    "button.on_click(on_button_click)\n",
    "display(slider, button, output)\n"
   ]
  },
  {
   "cell_type": "code",
   "execution_count": null,
   "id": "4586ee8f",
   "metadata": {},
   "outputs": [],
   "source": [
    "\n",
    "from dash import dcc, html, Dash\n",
    "app = Dash(__name__)\n",
    "app.layout = html.Div([\n",
    "    dcc.Graph(\n",
    "        id='graph',\n",
    "        figure={\n",
    "            'data': [{'x': [1, 2, 3, 4], 'y': [10, 11, 12, 13], 'type': 'line', 'name': 'Test'}],\n",
    "            'layout': {'title': 'Dash in JupyterLab'}\n",
    "        }\n",
    "    )\n",
    "])\n",
    "app.run_server(host=\"0.0.0.0\", port=8052)\n"
   ]
  },
  {
   "cell_type": "code",
   "execution_count": null,
   "id": "70cdf8e4",
   "metadata": {},
   "outputs": [],
   "source": [
    "\n",
    "import numpy as np\n",
    "np\n"
   ]
  },
  {
   "cell_type": "code",
   "execution_count": null,
   "id": "d49dc664",
   "metadata": {},
   "outputs": [],
   "source": [
    "\n",
    "import numpy as np\n",
    "import pandas as pd\n",
    "import ipydatagrid\n",
    "\n",
    "data = pd.DataFrame(\n",
    "    np.random.randint(0, 100, size=(5, 5)), \n",
    "    columns=[\"A\", \"B\", \"C\", \"D\", \"E\"]\n",
    ")\n",
    "grid = ipydatagrid.DataGrid(data, editable=True)\n",
    "grid\n"
   ]
  },
  {
   "cell_type": "code",
   "execution_count": null,
   "id": "d2b2a124",
   "metadata": {},
   "outputs": [],
   "source": [
    "\n",
    "# Activate ipympl\n",
    "%matplotlib widget  \n",
    "\n",
    "import matplotlib.pyplot as plt  \n",
    "import numpy as np  \n",
    "\n",
    "x = np.linspace(0, 10, 100)  \n",
    "y = np.sin(x)  \n",
    "\n",
    "fig, ax = plt.subplots()  \n",
    "ax.plot(x, y)  \n",
    "plt.show()\n"
   ]
  },
  {
   "cell_type": "code",
   "execution_count": null,
   "id": "984c275e",
   "metadata": {},
   "outputs": [],
   "source": [
    "\n",
    "def             my_function(x,      y):\n",
    "    print(x,            y)\n"
   ]
  },
  {
   "cell_type": "code",
   "execution_count": null,
   "id": "6f2c0efe",
   "metadata": {},
   "outputs": [],
   "source": [
    "\n",
    "import tempfile\n",
    "import papermill as pm\n",
    "\n",
    "with tempfile.NamedTemporaryFile(delete=False, suffix='.ipynb') as temp_output:\n",
    "    pm.execute_notebook(\n",
    "        \"test-papermill.ipynb\", \n",
    "        temp_output.name,        \n",
    "        parameters={\"param1\": \"TestRun\", \"param2\": 99},\n",
    "        kernel_name=\"python3\"\n",
    "    )\n",
    "    print(f\"Output saved to {temp_output.name}\")\n",
    "    output_path = temp_output.name  \n",
    "output_path\n"
   ]
  },
  {
   "cell_type": "code",
   "execution_count": null,
   "id": "22422a4d",
   "metadata": {},
   "outputs": [],
   "source": [
    "\n",
    "import ipywidgets as widgets\n",
    "from IPython.display import display\n",
    "\n",
    "slider = widgets.IntSlider(value=50, min=0, max=100, description=\"Slider:\")\n",
    "button = widgets.Button(description=\"Click Me\")\n",
    "output = widgets.Output()\n",
    "\n",
    "def on_button_click(b):\n",
    "    with output:\n",
    "        print(\"Button Clicked!\")\n",
    "\n",
    "button.on_click(on_button_click)\n",
    "display(slider, button, output)\n"
   ]
  },
  {
   "cell_type": "code",
   "execution_count": null,
   "id": "a6f4d904",
   "metadata": {},
   "outputs": [],
   "source": [
    "\n",
    "from dash import dcc, html, Dash\n",
    "app = Dash(__name__)\n",
    "app.layout = html.Div([\n",
    "    dcc.Graph(\n",
    "        id='graph',\n",
    "        figure={\n",
    "            'data': [{'x': [1, 2, 3, 4], 'y': [10, 11, 12, 13], 'type': 'line', 'name': 'Test'}],\n",
    "            'layout': {'title': 'Dash in JupyterLab'}\n",
    "        }\n",
    "    )\n",
    "])\n",
    "app.run_server(host=\"0.0.0.0\", port=8052)\n"
   ]
  },
  {
   "cell_type": "code",
   "execution_count": null,
   "id": "2868dde1",
   "metadata": {},
   "outputs": [],
   "source": [
    "\n",
    "import numpy as np\n",
    "np\n"
   ]
  },
  {
   "cell_type": "code",
   "execution_count": null,
   "id": "3584cfdc",
   "metadata": {},
   "outputs": [],
   "source": [
    "\n",
    "import numpy as np\n",
    "import pandas as pd\n",
    "import ipydatagrid\n",
    "\n",
    "data = pd.DataFrame(\n",
    "    np.random.randint(0, 100, size=(5, 5)), \n",
    "    columns=[\"A\", \"B\", \"C\", \"D\", \"E\"]\n",
    ")\n",
    "grid = ipydatagrid.DataGrid(data, editable=True)\n",
    "grid\n"
   ]
  },
  {
   "cell_type": "code",
   "execution_count": null,
   "id": "07170ebe",
   "metadata": {},
   "outputs": [],
   "source": [
    "\n",
    "# Activate ipympl\n",
    "%matplotlib widget  \n",
    "\n",
    "import matplotlib.pyplot as plt  \n",
    "import numpy as np  \n",
    "\n",
    "x = np.linspace(0, 10, 100)  \n",
    "y = np.sin(x)  \n",
    "\n",
    "fig, ax = plt.subplots()  \n",
    "ax.plot(x, y)  \n",
    "plt.show()\n"
   ]
  },
  {
   "cell_type": "code",
   "execution_count": null,
   "id": "f5f725c6",
   "metadata": {},
   "outputs": [],
   "source": [
    "\n",
    "def             my_function(x,      y):\n",
    "    print(x,            y)\n"
   ]
  },
  {
   "cell_type": "code",
   "execution_count": null,
   "id": "8317e139",
   "metadata": {},
   "outputs": [],
   "source": [
    "\n",
    "import tempfile\n",
    "import papermill as pm\n",
    "\n",
    "with tempfile.NamedTemporaryFile(delete=False, suffix='.ipynb') as temp_output:\n",
    "    pm.execute_notebook(\n",
    "        \"test-papermill.ipynb\", \n",
    "        temp_output.name,        \n",
    "        parameters={\"param1\": \"TestRun\", \"param2\": 99},\n",
    "        kernel_name=\"python3\"\n",
    "    )\n",
    "    print(f\"Output saved to {temp_output.name}\")\n",
    "    output_path = temp_output.name  \n",
    "output_path\n"
   ]
  },
  {
   "cell_type": "code",
   "execution_count": null,
   "id": "287d5222",
   "metadata": {},
   "outputs": [],
   "source": [
    "\n",
    "import ipywidgets as widgets\n",
    "from IPython.display import display\n",
    "\n",
    "slider = widgets.IntSlider(value=50, min=0, max=100, description=\"Slider:\")\n",
    "button = widgets.Button(description=\"Click Me\")\n",
    "output = widgets.Output()\n",
    "\n",
    "def on_button_click(b):\n",
    "    with output:\n",
    "        print(\"Button Clicked!\")\n",
    "\n",
    "button.on_click(on_button_click)\n",
    "display(slider, button, output)\n"
   ]
  },
  {
   "cell_type": "code",
   "execution_count": null,
   "id": "767b1fdd",
   "metadata": {},
   "outputs": [],
   "source": [
    "\n",
    "from dash import dcc, html, Dash\n",
    "app = Dash(__name__)\n",
    "app.layout = html.Div([\n",
    "    dcc.Graph(\n",
    "        id='graph',\n",
    "        figure={\n",
    "            'data': [{'x': [1, 2, 3, 4], 'y': [10, 11, 12, 13], 'type': 'line', 'name': 'Test'}],\n",
    "            'layout': {'title': 'Dash in JupyterLab'}\n",
    "        }\n",
    "    )\n",
    "])\n",
    "app.run_server(host=\"0.0.0.0\", port=8052)\n"
   ]
  },
  {
   "cell_type": "code",
   "execution_count": null,
   "id": "78d9c260",
   "metadata": {},
   "outputs": [],
   "source": [
    "\n",
    "import numpy as np\n",
    "np\n"
   ]
  },
  {
   "cell_type": "code",
   "execution_count": null,
   "id": "9132d0a0",
   "metadata": {},
   "outputs": [],
   "source": [
    "\n",
    "import numpy as np\n",
    "import pandas as pd\n",
    "import ipydatagrid\n",
    "\n",
    "data = pd.DataFrame(\n",
    "    np.random.randint(0, 100, size=(5, 5)), \n",
    "    columns=[\"A\", \"B\", \"C\", \"D\", \"E\"]\n",
    ")\n",
    "grid = ipydatagrid.DataGrid(data, editable=True)\n",
    "grid\n"
   ]
  },
  {
   "cell_type": "code",
   "execution_count": null,
   "id": "312af857",
   "metadata": {},
   "outputs": [],
   "source": [
    "\n",
    "# Activate ipympl\n",
    "%matplotlib widget  \n",
    "\n",
    "import matplotlib.pyplot as plt  \n",
    "import numpy as np  \n",
    "\n",
    "x = np.linspace(0, 10, 100)  \n",
    "y = np.sin(x)  \n",
    "\n",
    "fig, ax = plt.subplots()  \n",
    "ax.plot(x, y)  \n",
    "plt.show()\n"
   ]
  },
  {
   "cell_type": "code",
   "execution_count": null,
   "id": "c541edb4",
   "metadata": {},
   "outputs": [],
   "source": [
    "\n",
    "def             my_function(x,      y):\n",
    "    print(x,            y)\n"
   ]
  },
  {
   "cell_type": "code",
   "execution_count": null,
   "id": "ac4da70f",
   "metadata": {},
   "outputs": [],
   "source": [
    "\n",
    "import tempfile\n",
    "import papermill as pm\n",
    "\n",
    "with tempfile.NamedTemporaryFile(delete=False, suffix='.ipynb') as temp_output:\n",
    "    pm.execute_notebook(\n",
    "        \"test-papermill.ipynb\", \n",
    "        temp_output.name,        \n",
    "        parameters={\"param1\": \"TestRun\", \"param2\": 99},\n",
    "        kernel_name=\"python3\"\n",
    "    )\n",
    "    print(f\"Output saved to {temp_output.name}\")\n",
    "    output_path = temp_output.name  \n",
    "output_path\n"
   ]
  },
  {
   "cell_type": "code",
   "execution_count": null,
   "id": "201e8511",
   "metadata": {},
   "outputs": [],
   "source": [
    "\n",
    "import ipywidgets as widgets\n",
    "from IPython.display import display\n",
    "\n",
    "slider = widgets.IntSlider(value=50, min=0, max=100, description=\"Slider:\")\n",
    "button = widgets.Button(description=\"Click Me\")\n",
    "output = widgets.Output()\n",
    "\n",
    "def on_button_click(b):\n",
    "    with output:\n",
    "        print(\"Button Clicked!\")\n",
    "\n",
    "button.on_click(on_button_click)\n",
    "display(slider, button, output)\n"
   ]
  },
  {
   "cell_type": "code",
   "execution_count": null,
   "id": "58950301",
   "metadata": {},
   "outputs": [],
   "source": [
    "\n",
    "from dash import dcc, html, Dash\n",
    "app = Dash(__name__)\n",
    "app.layout = html.Div([\n",
    "    dcc.Graph(\n",
    "        id='graph',\n",
    "        figure={\n",
    "            'data': [{'x': [1, 2, 3, 4], 'y': [10, 11, 12, 13], 'type': 'line', 'name': 'Test'}],\n",
    "            'layout': {'title': 'Dash in JupyterLab'}\n",
    "        }\n",
    "    )\n",
    "])\n",
    "app.run_server(host=\"0.0.0.0\", port=8052)\n"
   ]
  },
  {
   "cell_type": "code",
   "execution_count": null,
   "id": "f1fdb87a",
   "metadata": {},
   "outputs": [],
   "source": [
    "\n",
    "import numpy as np\n",
    "np\n"
   ]
  },
  {
   "cell_type": "code",
   "execution_count": null,
   "id": "3c3d6c96",
   "metadata": {},
   "outputs": [],
   "source": [
    "\n",
    "import numpy as np\n",
    "import pandas as pd\n",
    "import ipydatagrid\n",
    "\n",
    "data = pd.DataFrame(\n",
    "    np.random.randint(0, 100, size=(5, 5)), \n",
    "    columns=[\"A\", \"B\", \"C\", \"D\", \"E\"]\n",
    ")\n",
    "grid = ipydatagrid.DataGrid(data, editable=True)\n",
    "grid\n"
   ]
  },
  {
   "cell_type": "code",
   "execution_count": null,
   "id": "336240ae",
   "metadata": {},
   "outputs": [],
   "source": [
    "\n",
    "# Activate ipympl\n",
    "%matplotlib widget  \n",
    "\n",
    "import matplotlib.pyplot as plt  \n",
    "import numpy as np  \n",
    "\n",
    "x = np.linspace(0, 10, 100)  \n",
    "y = np.sin(x)  \n",
    "\n",
    "fig, ax = plt.subplots()  \n",
    "ax.plot(x, y)  \n",
    "plt.show()\n"
   ]
  },
  {
   "cell_type": "code",
   "execution_count": null,
   "id": "6ccaa769",
   "metadata": {},
   "outputs": [],
   "source": [
    "\n",
    "def             my_function(x,      y):\n",
    "    print(x,            y)\n"
   ]
  },
  {
   "cell_type": "code",
   "execution_count": null,
   "id": "84c62e94",
   "metadata": {},
   "outputs": [],
   "source": [
    "\n",
    "import tempfile\n",
    "import papermill as pm\n",
    "\n",
    "with tempfile.NamedTemporaryFile(delete=False, suffix='.ipynb') as temp_output:\n",
    "    pm.execute_notebook(\n",
    "        \"test-papermill.ipynb\", \n",
    "        temp_output.name,        \n",
    "        parameters={\"param1\": \"TestRun\", \"param2\": 99},\n",
    "        kernel_name=\"python3\"\n",
    "    )\n",
    "    print(f\"Output saved to {temp_output.name}\")\n",
    "    output_path = temp_output.name  \n",
    "output_path\n"
   ]
  },
  {
   "cell_type": "code",
   "execution_count": null,
   "id": "2cc0298a",
   "metadata": {},
   "outputs": [],
   "source": [
    "\n",
    "import ipywidgets as widgets\n",
    "from IPython.display import display\n",
    "\n",
    "slider = widgets.IntSlider(value=50, min=0, max=100, description=\"Slider:\")\n",
    "button = widgets.Button(description=\"Click Me\")\n",
    "output = widgets.Output()\n",
    "\n",
    "def on_button_click(b):\n",
    "    with output:\n",
    "        print(\"Button Clicked!\")\n",
    "\n",
    "button.on_click(on_button_click)\n",
    "display(slider, button, output)\n"
   ]
  },
  {
   "cell_type": "code",
   "execution_count": null,
   "id": "a9a62db3",
   "metadata": {},
   "outputs": [],
   "source": [
    "\n",
    "from dash import dcc, html, Dash\n",
    "app = Dash(__name__)\n",
    "app.layout = html.Div([\n",
    "    dcc.Graph(\n",
    "        id='graph',\n",
    "        figure={\n",
    "            'data': [{'x': [1, 2, 3, 4], 'y': [10, 11, 12, 13], 'type': 'line', 'name': 'Test'}],\n",
    "            'layout': {'title': 'Dash in JupyterLab'}\n",
    "        }\n",
    "    )\n",
    "])\n",
    "app.run_server(host=\"0.0.0.0\", port=8052)\n"
   ]
  },
  {
   "cell_type": "code",
   "execution_count": null,
   "id": "ecb2e24c",
   "metadata": {},
   "outputs": [],
   "source": [
    "\n",
    "import numpy as np\n",
    "np\n"
   ]
  },
  {
   "cell_type": "code",
   "execution_count": null,
   "id": "d33eadf0",
   "metadata": {},
   "outputs": [],
   "source": [
    "\n",
    "import numpy as np\n",
    "import pandas as pd\n",
    "import ipydatagrid\n",
    "\n",
    "data = pd.DataFrame(\n",
    "    np.random.randint(0, 100, size=(5, 5)), \n",
    "    columns=[\"A\", \"B\", \"C\", \"D\", \"E\"]\n",
    ")\n",
    "grid = ipydatagrid.DataGrid(data, editable=True)\n",
    "grid\n"
   ]
  },
  {
   "cell_type": "code",
   "execution_count": null,
   "id": "e2afdde1",
   "metadata": {},
   "outputs": [],
   "source": [
    "\n",
    "# Activate ipympl\n",
    "%matplotlib widget  \n",
    "\n",
    "import matplotlib.pyplot as plt  \n",
    "import numpy as np  \n",
    "\n",
    "x = np.linspace(0, 10, 100)  \n",
    "y = np.sin(x)  \n",
    "\n",
    "fig, ax = plt.subplots()  \n",
    "ax.plot(x, y)  \n",
    "plt.show()\n"
   ]
  },
  {
   "cell_type": "code",
   "execution_count": null,
   "id": "6ed8d76a",
   "metadata": {},
   "outputs": [],
   "source": [
    "\n",
    "def             my_function(x,      y):\n",
    "    print(x,            y)\n"
   ]
  },
  {
   "cell_type": "code",
   "execution_count": null,
   "id": "3219f8d2",
   "metadata": {},
   "outputs": [],
   "source": [
    "\n",
    "import tempfile\n",
    "import papermill as pm\n",
    "\n",
    "with tempfile.NamedTemporaryFile(delete=False, suffix='.ipynb') as temp_output:\n",
    "    pm.execute_notebook(\n",
    "        \"test-papermill.ipynb\", \n",
    "        temp_output.name,        \n",
    "        parameters={\"param1\": \"TestRun\", \"param2\": 99},\n",
    "        kernel_name=\"python3\"\n",
    "    )\n",
    "    print(f\"Output saved to {temp_output.name}\")\n",
    "    output_path = temp_output.name  \n",
    "output_path\n"
   ]
  },
  {
   "cell_type": "code",
   "execution_count": null,
   "id": "02505d66",
   "metadata": {},
   "outputs": [],
   "source": [
    "\n",
    "import ipywidgets as widgets\n",
    "from IPython.display import display\n",
    "\n",
    "slider = widgets.IntSlider(value=50, min=0, max=100, description=\"Slider:\")\n",
    "button = widgets.Button(description=\"Click Me\")\n",
    "output = widgets.Output()\n",
    "\n",
    "def on_button_click(b):\n",
    "    with output:\n",
    "        print(\"Button Clicked!\")\n",
    "\n",
    "button.on_click(on_button_click)\n",
    "display(slider, button, output)\n"
   ]
  },
  {
   "cell_type": "code",
   "execution_count": null,
   "id": "310709ba",
   "metadata": {},
   "outputs": [],
   "source": [
    "\n",
    "from dash import dcc, html, Dash\n",
    "app = Dash(__name__)\n",
    "app.layout = html.Div([\n",
    "    dcc.Graph(\n",
    "        id='graph',\n",
    "        figure={\n",
    "            'data': [{'x': [1, 2, 3, 4], 'y': [10, 11, 12, 13], 'type': 'line', 'name': 'Test'}],\n",
    "            'layout': {'title': 'Dash in JupyterLab'}\n",
    "        }\n",
    "    )\n",
    "])\n",
    "app.run_server(host=\"0.0.0.0\", port=8052)\n"
   ]
  },
  {
   "cell_type": "code",
   "execution_count": null,
   "id": "44724172",
   "metadata": {},
   "outputs": [],
   "source": [
    "\n",
    "import numpy as np\n",
    "np\n"
   ]
  },
  {
   "cell_type": "code",
   "execution_count": null,
   "id": "f663aa50",
   "metadata": {},
   "outputs": [],
   "source": [
    "\n",
    "import numpy as np\n",
    "import pandas as pd\n",
    "import ipydatagrid\n",
    "\n",
    "data = pd.DataFrame(\n",
    "    np.random.randint(0, 100, size=(5, 5)), \n",
    "    columns=[\"A\", \"B\", \"C\", \"D\", \"E\"]\n",
    ")\n",
    "grid = ipydatagrid.DataGrid(data, editable=True)\n",
    "grid\n"
   ]
  },
  {
   "cell_type": "code",
   "execution_count": null,
   "id": "5967929a",
   "metadata": {},
   "outputs": [],
   "source": [
    "\n",
    "# Activate ipympl\n",
    "%matplotlib widget  \n",
    "\n",
    "import matplotlib.pyplot as plt  \n",
    "import numpy as np  \n",
    "\n",
    "x = np.linspace(0, 10, 100)  \n",
    "y = np.sin(x)  \n",
    "\n",
    "fig, ax = plt.subplots()  \n",
    "ax.plot(x, y)  \n",
    "plt.show()\n"
   ]
  },
  {
   "cell_type": "code",
   "execution_count": null,
   "id": "56380384",
   "metadata": {},
   "outputs": [],
   "source": [
    "\n",
    "def             my_function(x,      y):\n",
    "    print(x,            y)\n"
   ]
  },
  {
   "cell_type": "code",
   "execution_count": null,
   "id": "60e4d8db",
   "metadata": {},
   "outputs": [],
   "source": [
    "\n",
    "import tempfile\n",
    "import papermill as pm\n",
    "\n",
    "with tempfile.NamedTemporaryFile(delete=False, suffix='.ipynb') as temp_output:\n",
    "    pm.execute_notebook(\n",
    "        \"test-papermill.ipynb\", \n",
    "        temp_output.name,        \n",
    "        parameters={\"param1\": \"TestRun\", \"param2\": 99},\n",
    "        kernel_name=\"python3\"\n",
    "    )\n",
    "    print(f\"Output saved to {temp_output.name}\")\n",
    "    output_path = temp_output.name  \n",
    "output_path\n"
   ]
  },
  {
   "cell_type": "code",
   "execution_count": null,
   "id": "3bf2f3f8",
   "metadata": {},
   "outputs": [],
   "source": [
    "\n",
    "import ipywidgets as widgets\n",
    "from IPython.display import display\n",
    "\n",
    "slider = widgets.IntSlider(value=50, min=0, max=100, description=\"Slider:\")\n",
    "button = widgets.Button(description=\"Click Me\")\n",
    "output = widgets.Output()\n",
    "\n",
    "def on_button_click(b):\n",
    "    with output:\n",
    "        print(\"Button Clicked!\")\n",
    "\n",
    "button.on_click(on_button_click)\n",
    "display(slider, button, output)\n"
   ]
  },
  {
   "cell_type": "code",
   "execution_count": null,
   "id": "96270472",
   "metadata": {},
   "outputs": [],
   "source": [
    "\n",
    "from dash import dcc, html, Dash\n",
    "app = Dash(__name__)\n",
    "app.layout = html.Div([\n",
    "    dcc.Graph(\n",
    "        id='graph',\n",
    "        figure={\n",
    "            'data': [{'x': [1, 2, 3, 4], 'y': [10, 11, 12, 13], 'type': 'line', 'name': 'Test'}],\n",
    "            'layout': {'title': 'Dash in JupyterLab'}\n",
    "        }\n",
    "    )\n",
    "])\n",
    "app.run_server(host=\"0.0.0.0\", port=8052)\n"
   ]
  },
  {
   "cell_type": "code",
   "execution_count": null,
   "id": "95f9f14d",
   "metadata": {},
   "outputs": [],
   "source": [
    "\n",
    "import numpy as np\n",
    "np\n"
   ]
  },
  {
   "cell_type": "code",
   "execution_count": null,
   "id": "5297b2d7",
   "metadata": {},
   "outputs": [],
   "source": [
    "\n",
    "import numpy as np\n",
    "import pandas as pd\n",
    "import ipydatagrid\n",
    "\n",
    "data = pd.DataFrame(\n",
    "    np.random.randint(0, 100, size=(5, 5)), \n",
    "    columns=[\"A\", \"B\", \"C\", \"D\", \"E\"]\n",
    ")\n",
    "grid = ipydatagrid.DataGrid(data, editable=True)\n",
    "grid\n"
   ]
  },
  {
   "cell_type": "code",
   "execution_count": null,
   "id": "c325b968",
   "metadata": {},
   "outputs": [],
   "source": [
    "\n",
    "# Activate ipympl\n",
    "%matplotlib widget  \n",
    "\n",
    "import matplotlib.pyplot as plt  \n",
    "import numpy as np  \n",
    "\n",
    "x = np.linspace(0, 10, 100)  \n",
    "y = np.sin(x)  \n",
    "\n",
    "fig, ax = plt.subplots()  \n",
    "ax.plot(x, y)  \n",
    "plt.show()\n"
   ]
  },
  {
   "cell_type": "code",
   "execution_count": null,
   "id": "28aca641",
   "metadata": {},
   "outputs": [],
   "source": [
    "\n",
    "def             my_function(x,      y):\n",
    "    print(x,            y)\n"
   ]
  },
  {
   "cell_type": "code",
   "execution_count": null,
   "id": "b6562fee",
   "metadata": {},
   "outputs": [],
   "source": [
    "\n",
    "import tempfile\n",
    "import papermill as pm\n",
    "\n",
    "with tempfile.NamedTemporaryFile(delete=False, suffix='.ipynb') as temp_output:\n",
    "    pm.execute_notebook(\n",
    "        \"test-papermill.ipynb\", \n",
    "        temp_output.name,        \n",
    "        parameters={\"param1\": \"TestRun\", \"param2\": 99},\n",
    "        kernel_name=\"python3\"\n",
    "    )\n",
    "    print(f\"Output saved to {temp_output.name}\")\n",
    "    output_path = temp_output.name  \n",
    "output_path\n"
   ]
  },
  {
   "cell_type": "code",
   "execution_count": null,
   "id": "d4bca656",
   "metadata": {},
   "outputs": [],
   "source": [
    "\n",
    "import ipywidgets as widgets\n",
    "from IPython.display import display\n",
    "\n",
    "slider = widgets.IntSlider(value=50, min=0, max=100, description=\"Slider:\")\n",
    "button = widgets.Button(description=\"Click Me\")\n",
    "output = widgets.Output()\n",
    "\n",
    "def on_button_click(b):\n",
    "    with output:\n",
    "        print(\"Button Clicked!\")\n",
    "\n",
    "button.on_click(on_button_click)\n",
    "display(slider, button, output)\n"
   ]
  },
  {
   "cell_type": "code",
   "execution_count": null,
   "id": "1aa5d47d",
   "metadata": {},
   "outputs": [],
   "source": [
    "\n",
    "from dash import dcc, html, Dash\n",
    "app = Dash(__name__)\n",
    "app.layout = html.Div([\n",
    "    dcc.Graph(\n",
    "        id='graph',\n",
    "        figure={\n",
    "            'data': [{'x': [1, 2, 3, 4], 'y': [10, 11, 12, 13], 'type': 'line', 'name': 'Test'}],\n",
    "            'layout': {'title': 'Dash in JupyterLab'}\n",
    "        }\n",
    "    )\n",
    "])\n",
    "app.run_server(host=\"0.0.0.0\", port=8052)\n"
   ]
  },
  {
   "cell_type": "code",
   "execution_count": null,
   "id": "e47d09da",
   "metadata": {},
   "outputs": [],
   "source": [
    "\n",
    "import numpy as np\n",
    "np\n"
   ]
  },
  {
   "cell_type": "code",
   "execution_count": null,
   "id": "699c99a7",
   "metadata": {},
   "outputs": [],
   "source": [
    "\n",
    "import numpy as np\n",
    "import pandas as pd\n",
    "import ipydatagrid\n",
    "\n",
    "data = pd.DataFrame(\n",
    "    np.random.randint(0, 100, size=(5, 5)), \n",
    "    columns=[\"A\", \"B\", \"C\", \"D\", \"E\"]\n",
    ")\n",
    "grid = ipydatagrid.DataGrid(data, editable=True)\n",
    "grid\n"
   ]
  },
  {
   "cell_type": "code",
   "execution_count": null,
   "id": "fd4b1f59",
   "metadata": {},
   "outputs": [],
   "source": [
    "\n",
    "# Activate ipympl\n",
    "%matplotlib widget  \n",
    "\n",
    "import matplotlib.pyplot as plt  \n",
    "import numpy as np  \n",
    "\n",
    "x = np.linspace(0, 10, 100)  \n",
    "y = np.sin(x)  \n",
    "\n",
    "fig, ax = plt.subplots()  \n",
    "ax.plot(x, y)  \n",
    "plt.show()\n"
   ]
  },
  {
   "cell_type": "code",
   "execution_count": null,
   "id": "3b55ee3c",
   "metadata": {},
   "outputs": [],
   "source": [
    "\n",
    "def             my_function(x,      y):\n",
    "    print(x,            y)\n"
   ]
  },
  {
   "cell_type": "code",
   "execution_count": null,
   "id": "7da70190",
   "metadata": {},
   "outputs": [],
   "source": [
    "\n",
    "import tempfile\n",
    "import papermill as pm\n",
    "\n",
    "with tempfile.NamedTemporaryFile(delete=False, suffix='.ipynb') as temp_output:\n",
    "    pm.execute_notebook(\n",
    "        \"test-papermill.ipynb\", \n",
    "        temp_output.name,        \n",
    "        parameters={\"param1\": \"TestRun\", \"param2\": 99},\n",
    "        kernel_name=\"python3\"\n",
    "    )\n",
    "    print(f\"Output saved to {temp_output.name}\")\n",
    "    output_path = temp_output.name  \n",
    "output_path\n"
   ]
  },
  {
   "cell_type": "code",
   "execution_count": null,
   "id": "f234aa50",
   "metadata": {},
   "outputs": [],
   "source": [
    "\n",
    "import ipywidgets as widgets\n",
    "from IPython.display import display\n",
    "\n",
    "slider = widgets.IntSlider(value=50, min=0, max=100, description=\"Slider:\")\n",
    "button = widgets.Button(description=\"Click Me\")\n",
    "output = widgets.Output()\n",
    "\n",
    "def on_button_click(b):\n",
    "    with output:\n",
    "        print(\"Button Clicked!\")\n",
    "\n",
    "button.on_click(on_button_click)\n",
    "display(slider, button, output)\n"
   ]
  },
  {
   "cell_type": "code",
   "execution_count": null,
   "id": "ec39945d",
   "metadata": {},
   "outputs": [],
   "source": [
    "\n",
    "from dash import dcc, html, Dash\n",
    "app = Dash(__name__)\n",
    "app.layout = html.Div([\n",
    "    dcc.Graph(\n",
    "        id='graph',\n",
    "        figure={\n",
    "            'data': [{'x': [1, 2, 3, 4], 'y': [10, 11, 12, 13], 'type': 'line', 'name': 'Test'}],\n",
    "            'layout': {'title': 'Dash in JupyterLab'}\n",
    "        }\n",
    "    )\n",
    "])\n",
    "app.run_server(host=\"0.0.0.0\", port=8052)\n"
   ]
  },
  {
   "cell_type": "code",
   "execution_count": null,
   "id": "049e9e4b",
   "metadata": {},
   "outputs": [],
   "source": [
    "\n",
    "import numpy as np\n",
    "np\n"
   ]
  },
  {
   "cell_type": "code",
   "execution_count": null,
   "id": "790ded49",
   "metadata": {},
   "outputs": [],
   "source": [
    "\n",
    "import numpy as np\n",
    "import pandas as pd\n",
    "import ipydatagrid\n",
    "\n",
    "data = pd.DataFrame(\n",
    "    np.random.randint(0, 100, size=(5, 5)), \n",
    "    columns=[\"A\", \"B\", \"C\", \"D\", \"E\"]\n",
    ")\n",
    "grid = ipydatagrid.DataGrid(data, editable=True)\n",
    "grid\n"
   ]
  },
  {
   "cell_type": "code",
   "execution_count": null,
   "id": "da62eb14",
   "metadata": {},
   "outputs": [],
   "source": [
    "\n",
    "# Activate ipympl\n",
    "%matplotlib widget  \n",
    "\n",
    "import matplotlib.pyplot as plt  \n",
    "import numpy as np  \n",
    "\n",
    "x = np.linspace(0, 10, 100)  \n",
    "y = np.sin(x)  \n",
    "\n",
    "fig, ax = plt.subplots()  \n",
    "ax.plot(x, y)  \n",
    "plt.show()\n"
   ]
  },
  {
   "cell_type": "code",
   "execution_count": null,
   "id": "e36a63d7",
   "metadata": {},
   "outputs": [],
   "source": [
    "\n",
    "def             my_function(x,      y):\n",
    "    print(x,            y)\n"
   ]
  },
  {
   "cell_type": "code",
   "execution_count": null,
   "id": "b62d60ac",
   "metadata": {},
   "outputs": [],
   "source": [
    "\n",
    "import tempfile\n",
    "import papermill as pm\n",
    "\n",
    "with tempfile.NamedTemporaryFile(delete=False, suffix='.ipynb') as temp_output:\n",
    "    pm.execute_notebook(\n",
    "        \"test-papermill.ipynb\", \n",
    "        temp_output.name,        \n",
    "        parameters={\"param1\": \"TestRun\", \"param2\": 99},\n",
    "        kernel_name=\"python3\"\n",
    "    )\n",
    "    print(f\"Output saved to {temp_output.name}\")\n",
    "    output_path = temp_output.name  \n",
    "output_path\n"
   ]
  },
  {
   "cell_type": "code",
   "execution_count": null,
   "id": "7bfabf93",
   "metadata": {},
   "outputs": [],
   "source": [
    "\n",
    "import ipywidgets as widgets\n",
    "from IPython.display import display\n",
    "\n",
    "slider = widgets.IntSlider(value=50, min=0, max=100, description=\"Slider:\")\n",
    "button = widgets.Button(description=\"Click Me\")\n",
    "output = widgets.Output()\n",
    "\n",
    "def on_button_click(b):\n",
    "    with output:\n",
    "        print(\"Button Clicked!\")\n",
    "\n",
    "button.on_click(on_button_click)\n",
    "display(slider, button, output)\n"
   ]
  },
  {
   "cell_type": "code",
   "execution_count": null,
   "id": "d733e733",
   "metadata": {},
   "outputs": [],
   "source": [
    "\n",
    "from dash import dcc, html, Dash\n",
    "app = Dash(__name__)\n",
    "app.layout = html.Div([\n",
    "    dcc.Graph(\n",
    "        id='graph',\n",
    "        figure={\n",
    "            'data': [{'x': [1, 2, 3, 4], 'y': [10, 11, 12, 13], 'type': 'line', 'name': 'Test'}],\n",
    "            'layout': {'title': 'Dash in JupyterLab'}\n",
    "        }\n",
    "    )\n",
    "])\n",
    "app.run_server(host=\"0.0.0.0\", port=8052)\n"
   ]
  },
  {
   "cell_type": "code",
   "execution_count": null,
   "id": "c49f5b65",
   "metadata": {},
   "outputs": [],
   "source": [
    "\n",
    "import numpy as np\n",
    "np\n"
   ]
  },
  {
   "cell_type": "code",
   "execution_count": null,
   "id": "ed8a6c72",
   "metadata": {},
   "outputs": [],
   "source": [
    "\n",
    "import numpy as np\n",
    "import pandas as pd\n",
    "import ipydatagrid\n",
    "\n",
    "data = pd.DataFrame(\n",
    "    np.random.randint(0, 100, size=(5, 5)), \n",
    "    columns=[\"A\", \"B\", \"C\", \"D\", \"E\"]\n",
    ")\n",
    "grid = ipydatagrid.DataGrid(data, editable=True)\n",
    "grid\n"
   ]
  },
  {
   "cell_type": "code",
   "execution_count": null,
   "id": "18a98d2a",
   "metadata": {},
   "outputs": [],
   "source": [
    "\n",
    "# Activate ipympl\n",
    "%matplotlib widget  \n",
    "\n",
    "import matplotlib.pyplot as plt  \n",
    "import numpy as np  \n",
    "\n",
    "x = np.linspace(0, 10, 100)  \n",
    "y = np.sin(x)  \n",
    "\n",
    "fig, ax = plt.subplots()  \n",
    "ax.plot(x, y)  \n",
    "plt.show()\n"
   ]
  },
  {
   "cell_type": "code",
   "execution_count": null,
   "id": "9dadc3a2",
   "metadata": {},
   "outputs": [],
   "source": [
    "\n",
    "def             my_function(x,      y):\n",
    "    print(x,            y)\n"
   ]
  },
  {
   "cell_type": "code",
   "execution_count": null,
   "id": "e4ee57f7",
   "metadata": {},
   "outputs": [],
   "source": [
    "\n",
    "import tempfile\n",
    "import papermill as pm\n",
    "\n",
    "with tempfile.NamedTemporaryFile(delete=False, suffix='.ipynb') as temp_output:\n",
    "    pm.execute_notebook(\n",
    "        \"test-papermill.ipynb\", \n",
    "        temp_output.name,        \n",
    "        parameters={\"param1\": \"TestRun\", \"param2\": 99},\n",
    "        kernel_name=\"python3\"\n",
    "    )\n",
    "    print(f\"Output saved to {temp_output.name}\")\n",
    "    output_path = temp_output.name  \n",
    "output_path\n"
   ]
  },
  {
   "cell_type": "code",
   "execution_count": null,
   "id": "2da6acae",
   "metadata": {},
   "outputs": [],
   "source": [
    "\n",
    "import ipywidgets as widgets\n",
    "from IPython.display import display\n",
    "\n",
    "slider = widgets.IntSlider(value=50, min=0, max=100, description=\"Slider:\")\n",
    "button = widgets.Button(description=\"Click Me\")\n",
    "output = widgets.Output()\n",
    "\n",
    "def on_button_click(b):\n",
    "    with output:\n",
    "        print(\"Button Clicked!\")\n",
    "\n",
    "button.on_click(on_button_click)\n",
    "display(slider, button, output)\n"
   ]
  },
  {
   "cell_type": "code",
   "execution_count": null,
   "id": "3e8bae27",
   "metadata": {},
   "outputs": [],
   "source": [
    "\n",
    "from dash import dcc, html, Dash\n",
    "app = Dash(__name__)\n",
    "app.layout = html.Div([\n",
    "    dcc.Graph(\n",
    "        id='graph',\n",
    "        figure={\n",
    "            'data': [{'x': [1, 2, 3, 4], 'y': [10, 11, 12, 13], 'type': 'line', 'name': 'Test'}],\n",
    "            'layout': {'title': 'Dash in JupyterLab'}\n",
    "        }\n",
    "    )\n",
    "])\n",
    "app.run_server(host=\"0.0.0.0\", port=8052)\n"
   ]
  },
  {
   "cell_type": "code",
   "execution_count": null,
   "id": "08d7d756",
   "metadata": {},
   "outputs": [],
   "source": [
    "\n",
    "import numpy as np\n",
    "np\n"
   ]
  },
  {
   "cell_type": "code",
   "execution_count": null,
   "id": "51a70bca",
   "metadata": {},
   "outputs": [],
   "source": [
    "\n",
    "import numpy as np\n",
    "import pandas as pd\n",
    "import ipydatagrid\n",
    "\n",
    "data = pd.DataFrame(\n",
    "    np.random.randint(0, 100, size=(5, 5)), \n",
    "    columns=[\"A\", \"B\", \"C\", \"D\", \"E\"]\n",
    ")\n",
    "grid = ipydatagrid.DataGrid(data, editable=True)\n",
    "grid\n"
   ]
  },
  {
   "cell_type": "code",
   "execution_count": null,
   "id": "e6f7b808",
   "metadata": {},
   "outputs": [],
   "source": [
    "\n",
    "# Activate ipympl\n",
    "%matplotlib widget  \n",
    "\n",
    "import matplotlib.pyplot as plt  \n",
    "import numpy as np  \n",
    "\n",
    "x = np.linspace(0, 10, 100)  \n",
    "y = np.sin(x)  \n",
    "\n",
    "fig, ax = plt.subplots()  \n",
    "ax.plot(x, y)  \n",
    "plt.show()\n"
   ]
  },
  {
   "cell_type": "code",
   "execution_count": null,
   "id": "0f52bfcd",
   "metadata": {},
   "outputs": [],
   "source": [
    "\n",
    "def             my_function(x,      y):\n",
    "    print(x,            y)\n"
   ]
  },
  {
   "cell_type": "code",
   "execution_count": null,
   "id": "15a717b0",
   "metadata": {},
   "outputs": [],
   "source": [
    "\n",
    "import tempfile\n",
    "import papermill as pm\n",
    "\n",
    "with tempfile.NamedTemporaryFile(delete=False, suffix='.ipynb') as temp_output:\n",
    "    pm.execute_notebook(\n",
    "        \"test-papermill.ipynb\", \n",
    "        temp_output.name,        \n",
    "        parameters={\"param1\": \"TestRun\", \"param2\": 99},\n",
    "        kernel_name=\"python3\"\n",
    "    )\n",
    "    print(f\"Output saved to {temp_output.name}\")\n",
    "    output_path = temp_output.name  \n",
    "output_path\n"
   ]
  },
  {
   "cell_type": "code",
   "execution_count": null,
   "id": "10795061",
   "metadata": {},
   "outputs": [],
   "source": [
    "\n",
    "import ipywidgets as widgets\n",
    "from IPython.display import display\n",
    "\n",
    "slider = widgets.IntSlider(value=50, min=0, max=100, description=\"Slider:\")\n",
    "button = widgets.Button(description=\"Click Me\")\n",
    "output = widgets.Output()\n",
    "\n",
    "def on_button_click(b):\n",
    "    with output:\n",
    "        print(\"Button Clicked!\")\n",
    "\n",
    "button.on_click(on_button_click)\n",
    "display(slider, button, output)\n"
   ]
  },
  {
   "cell_type": "code",
   "execution_count": null,
   "id": "2aabfddf",
   "metadata": {},
   "outputs": [],
   "source": [
    "\n",
    "from dash import dcc, html, Dash\n",
    "app = Dash(__name__)\n",
    "app.layout = html.Div([\n",
    "    dcc.Graph(\n",
    "        id='graph',\n",
    "        figure={\n",
    "            'data': [{'x': [1, 2, 3, 4], 'y': [10, 11, 12, 13], 'type': 'line', 'name': 'Test'}],\n",
    "            'layout': {'title': 'Dash in JupyterLab'}\n",
    "        }\n",
    "    )\n",
    "])\n",
    "app.run_server(host=\"0.0.0.0\", port=8052)\n"
   ]
  },
  {
   "cell_type": "code",
   "execution_count": null,
   "id": "463c28c9",
   "metadata": {},
   "outputs": [],
   "source": [
    "\n",
    "import numpy as np\n",
    "np\n"
   ]
  },
  {
   "cell_type": "code",
   "execution_count": null,
   "id": "4b55f6ba",
   "metadata": {},
   "outputs": [],
   "source": [
    "\n",
    "import numpy as np\n",
    "import pandas as pd\n",
    "import ipydatagrid\n",
    "\n",
    "data = pd.DataFrame(\n",
    "    np.random.randint(0, 100, size=(5, 5)), \n",
    "    columns=[\"A\", \"B\", \"C\", \"D\", \"E\"]\n",
    ")\n",
    "grid = ipydatagrid.DataGrid(data, editable=True)\n",
    "grid\n"
   ]
  },
  {
   "cell_type": "code",
   "execution_count": null,
   "id": "8a567c3e",
   "metadata": {},
   "outputs": [],
   "source": [
    "\n",
    "# Activate ipympl\n",
    "%matplotlib widget  \n",
    "\n",
    "import matplotlib.pyplot as plt  \n",
    "import numpy as np  \n",
    "\n",
    "x = np.linspace(0, 10, 100)  \n",
    "y = np.sin(x)  \n",
    "\n",
    "fig, ax = plt.subplots()  \n",
    "ax.plot(x, y)  \n",
    "plt.show()\n"
   ]
  },
  {
   "cell_type": "code",
   "execution_count": null,
   "id": "69b2c343",
   "metadata": {},
   "outputs": [],
   "source": [
    "\n",
    "def             my_function(x,      y):\n",
    "    print(x,            y)\n"
   ]
  },
  {
   "cell_type": "code",
   "execution_count": null,
   "id": "2134ed07",
   "metadata": {},
   "outputs": [],
   "source": [
    "\n",
    "import tempfile\n",
    "import papermill as pm\n",
    "\n",
    "with tempfile.NamedTemporaryFile(delete=False, suffix='.ipynb') as temp_output:\n",
    "    pm.execute_notebook(\n",
    "        \"test-papermill.ipynb\", \n",
    "        temp_output.name,        \n",
    "        parameters={\"param1\": \"TestRun\", \"param2\": 99},\n",
    "        kernel_name=\"python3\"\n",
    "    )\n",
    "    print(f\"Output saved to {temp_output.name}\")\n",
    "    output_path = temp_output.name  \n",
    "output_path\n"
   ]
  },
  {
   "cell_type": "code",
   "execution_count": null,
   "id": "c52ef9b2",
   "metadata": {},
   "outputs": [],
   "source": [
    "\n",
    "import ipywidgets as widgets\n",
    "from IPython.display import display\n",
    "\n",
    "slider = widgets.IntSlider(value=50, min=0, max=100, description=\"Slider:\")\n",
    "button = widgets.Button(description=\"Click Me\")\n",
    "output = widgets.Output()\n",
    "\n",
    "def on_button_click(b):\n",
    "    with output:\n",
    "        print(\"Button Clicked!\")\n",
    "\n",
    "button.on_click(on_button_click)\n",
    "display(slider, button, output)\n"
   ]
  },
  {
   "cell_type": "code",
   "execution_count": null,
   "id": "b8785e4b",
   "metadata": {},
   "outputs": [],
   "source": [
    "\n",
    "from dash import dcc, html, Dash\n",
    "app = Dash(__name__)\n",
    "app.layout = html.Div([\n",
    "    dcc.Graph(\n",
    "        id='graph',\n",
    "        figure={\n",
    "            'data': [{'x': [1, 2, 3, 4], 'y': [10, 11, 12, 13], 'type': 'line', 'name': 'Test'}],\n",
    "            'layout': {'title': 'Dash in JupyterLab'}\n",
    "        }\n",
    "    )\n",
    "])\n",
    "app.run_server(host=\"0.0.0.0\", port=8052)\n"
   ]
  },
  {
   "cell_type": "code",
   "execution_count": null,
   "id": "c1ac8044",
   "metadata": {},
   "outputs": [],
   "source": [
    "\n",
    "import numpy as np\n",
    "np\n"
   ]
  },
  {
   "cell_type": "code",
   "execution_count": null,
   "id": "c6d02a70",
   "metadata": {},
   "outputs": [],
   "source": [
    "\n",
    "import numpy as np\n",
    "import pandas as pd\n",
    "import ipydatagrid\n",
    "\n",
    "data = pd.DataFrame(\n",
    "    np.random.randint(0, 100, size=(5, 5)), \n",
    "    columns=[\"A\", \"B\", \"C\", \"D\", \"E\"]\n",
    ")\n",
    "grid = ipydatagrid.DataGrid(data, editable=True)\n",
    "grid\n"
   ]
  },
  {
   "cell_type": "code",
   "execution_count": null,
   "id": "4984f186",
   "metadata": {},
   "outputs": [],
   "source": [
    "\n",
    "# Activate ipympl\n",
    "%matplotlib widget  \n",
    "\n",
    "import matplotlib.pyplot as plt  \n",
    "import numpy as np  \n",
    "\n",
    "x = np.linspace(0, 10, 100)  \n",
    "y = np.sin(x)  \n",
    "\n",
    "fig, ax = plt.subplots()  \n",
    "ax.plot(x, y)  \n",
    "plt.show()\n"
   ]
  },
  {
   "cell_type": "code",
   "execution_count": null,
   "id": "81d62232",
   "metadata": {},
   "outputs": [],
   "source": [
    "\n",
    "def             my_function(x,      y):\n",
    "    print(x,            y)\n"
   ]
  },
  {
   "cell_type": "code",
   "execution_count": null,
   "id": "367957aa",
   "metadata": {},
   "outputs": [],
   "source": [
    "\n",
    "import tempfile\n",
    "import papermill as pm\n",
    "\n",
    "with tempfile.NamedTemporaryFile(delete=False, suffix='.ipynb') as temp_output:\n",
    "    pm.execute_notebook(\n",
    "        \"test-papermill.ipynb\", \n",
    "        temp_output.name,        \n",
    "        parameters={\"param1\": \"TestRun\", \"param2\": 99},\n",
    "        kernel_name=\"python3\"\n",
    "    )\n",
    "    print(f\"Output saved to {temp_output.name}\")\n",
    "    output_path = temp_output.name  \n",
    "output_path\n"
   ]
  },
  {
   "cell_type": "code",
   "execution_count": null,
   "id": "057b8085",
   "metadata": {},
   "outputs": [],
   "source": [
    "\n",
    "import ipywidgets as widgets\n",
    "from IPython.display import display\n",
    "\n",
    "slider = widgets.IntSlider(value=50, min=0, max=100, description=\"Slider:\")\n",
    "button = widgets.Button(description=\"Click Me\")\n",
    "output = widgets.Output()\n",
    "\n",
    "def on_button_click(b):\n",
    "    with output:\n",
    "        print(\"Button Clicked!\")\n",
    "\n",
    "button.on_click(on_button_click)\n",
    "display(slider, button, output)\n"
   ]
  },
  {
   "cell_type": "code",
   "execution_count": null,
   "id": "a97add44",
   "metadata": {},
   "outputs": [],
   "source": [
    "\n",
    "from dash import dcc, html, Dash\n",
    "app = Dash(__name__)\n",
    "app.layout = html.Div([\n",
    "    dcc.Graph(\n",
    "        id='graph',\n",
    "        figure={\n",
    "            'data': [{'x': [1, 2, 3, 4], 'y': [10, 11, 12, 13], 'type': 'line', 'name': 'Test'}],\n",
    "            'layout': {'title': 'Dash in JupyterLab'}\n",
    "        }\n",
    "    )\n",
    "])\n",
    "app.run_server(host=\"0.0.0.0\", port=8052)\n"
   ]
  },
  {
   "cell_type": "code",
   "execution_count": null,
   "id": "b9037625",
   "metadata": {},
   "outputs": [],
   "source": [
    "\n",
    "import numpy as np\n",
    "np\n"
   ]
  },
  {
   "cell_type": "code",
   "execution_count": null,
   "id": "fa2283ed",
   "metadata": {},
   "outputs": [],
   "source": [
    "\n",
    "import numpy as np\n",
    "import pandas as pd\n",
    "import ipydatagrid\n",
    "\n",
    "data = pd.DataFrame(\n",
    "    np.random.randint(0, 100, size=(5, 5)), \n",
    "    columns=[\"A\", \"B\", \"C\", \"D\", \"E\"]\n",
    ")\n",
    "grid = ipydatagrid.DataGrid(data, editable=True)\n",
    "grid\n"
   ]
  },
  {
   "cell_type": "code",
   "execution_count": null,
   "id": "9b54551d",
   "metadata": {},
   "outputs": [],
   "source": [
    "\n",
    "# Activate ipympl\n",
    "%matplotlib widget  \n",
    "\n",
    "import matplotlib.pyplot as plt  \n",
    "import numpy as np  \n",
    "\n",
    "x = np.linspace(0, 10, 100)  \n",
    "y = np.sin(x)  \n",
    "\n",
    "fig, ax = plt.subplots()  \n",
    "ax.plot(x, y)  \n",
    "plt.show()\n"
   ]
  },
  {
   "cell_type": "code",
   "execution_count": null,
   "id": "845a49a5",
   "metadata": {},
   "outputs": [],
   "source": [
    "\n",
    "def             my_function(x,      y):\n",
    "    print(x,            y)\n"
   ]
  },
  {
   "cell_type": "code",
   "execution_count": null,
   "id": "413e913b",
   "metadata": {},
   "outputs": [],
   "source": [
    "\n",
    "import tempfile\n",
    "import papermill as pm\n",
    "\n",
    "with tempfile.NamedTemporaryFile(delete=False, suffix='.ipynb') as temp_output:\n",
    "    pm.execute_notebook(\n",
    "        \"test-papermill.ipynb\", \n",
    "        temp_output.name,        \n",
    "        parameters={\"param1\": \"TestRun\", \"param2\": 99},\n",
    "        kernel_name=\"python3\"\n",
    "    )\n",
    "    print(f\"Output saved to {temp_output.name}\")\n",
    "    output_path = temp_output.name  \n",
    "output_path\n"
   ]
  },
  {
   "cell_type": "code",
   "execution_count": null,
   "id": "9d3051ab",
   "metadata": {},
   "outputs": [],
   "source": [
    "\n",
    "import ipywidgets as widgets\n",
    "from IPython.display import display\n",
    "\n",
    "slider = widgets.IntSlider(value=50, min=0, max=100, description=\"Slider:\")\n",
    "button = widgets.Button(description=\"Click Me\")\n",
    "output = widgets.Output()\n",
    "\n",
    "def on_button_click(b):\n",
    "    with output:\n",
    "        print(\"Button Clicked!\")\n",
    "\n",
    "button.on_click(on_button_click)\n",
    "display(slider, button, output)\n"
   ]
  },
  {
   "cell_type": "code",
   "execution_count": null,
   "id": "f4219282",
   "metadata": {},
   "outputs": [],
   "source": [
    "\n",
    "from dash import dcc, html, Dash\n",
    "app = Dash(__name__)\n",
    "app.layout = html.Div([\n",
    "    dcc.Graph(\n",
    "        id='graph',\n",
    "        figure={\n",
    "            'data': [{'x': [1, 2, 3, 4], 'y': [10, 11, 12, 13], 'type': 'line', 'name': 'Test'}],\n",
    "            'layout': {'title': 'Dash in JupyterLab'}\n",
    "        }\n",
    "    )\n",
    "])\n",
    "app.run_server(host=\"0.0.0.0\", port=8052)\n"
   ]
  },
  {
   "cell_type": "code",
   "execution_count": null,
   "id": "71e68889",
   "metadata": {},
   "outputs": [],
   "source": [
    "\n",
    "import numpy as np\n",
    "np\n"
   ]
  },
  {
   "cell_type": "code",
   "execution_count": null,
   "id": "e9501d8d",
   "metadata": {},
   "outputs": [],
   "source": [
    "\n",
    "import numpy as np\n",
    "import pandas as pd\n",
    "import ipydatagrid\n",
    "\n",
    "data = pd.DataFrame(\n",
    "    np.random.randint(0, 100, size=(5, 5)), \n",
    "    columns=[\"A\", \"B\", \"C\", \"D\", \"E\"]\n",
    ")\n",
    "grid = ipydatagrid.DataGrid(data, editable=True)\n",
    "grid\n"
   ]
  },
  {
   "cell_type": "code",
   "execution_count": null,
   "id": "eab37e09",
   "metadata": {},
   "outputs": [],
   "source": [
    "\n",
    "# Activate ipympl\n",
    "%matplotlib widget  \n",
    "\n",
    "import matplotlib.pyplot as plt  \n",
    "import numpy as np  \n",
    "\n",
    "x = np.linspace(0, 10, 100)  \n",
    "y = np.sin(x)  \n",
    "\n",
    "fig, ax = plt.subplots()  \n",
    "ax.plot(x, y)  \n",
    "plt.show()\n"
   ]
  },
  {
   "cell_type": "code",
   "execution_count": null,
   "id": "93a8f007",
   "metadata": {},
   "outputs": [],
   "source": [
    "\n",
    "def             my_function(x,      y):\n",
    "    print(x,            y)\n"
   ]
  },
  {
   "cell_type": "code",
   "execution_count": null,
   "id": "7cbd6dd7",
   "metadata": {},
   "outputs": [],
   "source": [
    "\n",
    "import tempfile\n",
    "import papermill as pm\n",
    "\n",
    "with tempfile.NamedTemporaryFile(delete=False, suffix='.ipynb') as temp_output:\n",
    "    pm.execute_notebook(\n",
    "        \"test-papermill.ipynb\", \n",
    "        temp_output.name,        \n",
    "        parameters={\"param1\": \"TestRun\", \"param2\": 99},\n",
    "        kernel_name=\"python3\"\n",
    "    )\n",
    "    print(f\"Output saved to {temp_output.name}\")\n",
    "    output_path = temp_output.name  \n",
    "output_path\n"
   ]
  },
  {
   "cell_type": "code",
   "execution_count": null,
   "id": "d65e8696",
   "metadata": {},
   "outputs": [],
   "source": [
    "\n",
    "import ipywidgets as widgets\n",
    "from IPython.display import display\n",
    "\n",
    "slider = widgets.IntSlider(value=50, min=0, max=100, description=\"Slider:\")\n",
    "button = widgets.Button(description=\"Click Me\")\n",
    "output = widgets.Output()\n",
    "\n",
    "def on_button_click(b):\n",
    "    with output:\n",
    "        print(\"Button Clicked!\")\n",
    "\n",
    "button.on_click(on_button_click)\n",
    "display(slider, button, output)\n"
   ]
  },
  {
   "cell_type": "code",
   "execution_count": null,
   "id": "b89ef187",
   "metadata": {},
   "outputs": [],
   "source": [
    "\n",
    "from dash import dcc, html, Dash\n",
    "app = Dash(__name__)\n",
    "app.layout = html.Div([\n",
    "    dcc.Graph(\n",
    "        id='graph',\n",
    "        figure={\n",
    "            'data': [{'x': [1, 2, 3, 4], 'y': [10, 11, 12, 13], 'type': 'line', 'name': 'Test'}],\n",
    "            'layout': {'title': 'Dash in JupyterLab'}\n",
    "        }\n",
    "    )\n",
    "])\n",
    "app.run_server(host=\"0.0.0.0\", port=8052)\n"
   ]
  },
  {
   "cell_type": "code",
   "execution_count": null,
   "id": "e31103cc",
   "metadata": {},
   "outputs": [],
   "source": [
    "\n",
    "import numpy as np\n",
    "np\n"
   ]
  },
  {
   "cell_type": "code",
   "execution_count": null,
   "id": "638bd341",
   "metadata": {},
   "outputs": [],
   "source": [
    "\n",
    "import numpy as np\n",
    "import pandas as pd\n",
    "import ipydatagrid\n",
    "\n",
    "data = pd.DataFrame(\n",
    "    np.random.randint(0, 100, size=(5, 5)), \n",
    "    columns=[\"A\", \"B\", \"C\", \"D\", \"E\"]\n",
    ")\n",
    "grid = ipydatagrid.DataGrid(data, editable=True)\n",
    "grid\n"
   ]
  },
  {
   "cell_type": "code",
   "execution_count": null,
   "id": "96a619e5",
   "metadata": {},
   "outputs": [],
   "source": [
    "\n",
    "# Activate ipympl\n",
    "%matplotlib widget  \n",
    "\n",
    "import matplotlib.pyplot as plt  \n",
    "import numpy as np  \n",
    "\n",
    "x = np.linspace(0, 10, 100)  \n",
    "y = np.sin(x)  \n",
    "\n",
    "fig, ax = plt.subplots()  \n",
    "ax.plot(x, y)  \n",
    "plt.show()\n"
   ]
  },
  {
   "cell_type": "code",
   "execution_count": null,
   "id": "972f5bdf",
   "metadata": {},
   "outputs": [],
   "source": [
    "\n",
    "def             my_function(x,      y):\n",
    "    print(x,            y)\n"
   ]
  },
  {
   "cell_type": "code",
   "execution_count": null,
   "id": "0ef15b3d",
   "metadata": {},
   "outputs": [],
   "source": [
    "\n",
    "import tempfile\n",
    "import papermill as pm\n",
    "\n",
    "with tempfile.NamedTemporaryFile(delete=False, suffix='.ipynb') as temp_output:\n",
    "    pm.execute_notebook(\n",
    "        \"test-papermill.ipynb\", \n",
    "        temp_output.name,        \n",
    "        parameters={\"param1\": \"TestRun\", \"param2\": 99},\n",
    "        kernel_name=\"python3\"\n",
    "    )\n",
    "    print(f\"Output saved to {temp_output.name}\")\n",
    "    output_path = temp_output.name  \n",
    "output_path\n"
   ]
  },
  {
   "cell_type": "code",
   "execution_count": null,
   "id": "e2c15906",
   "metadata": {},
   "outputs": [],
   "source": [
    "\n",
    "import ipywidgets as widgets\n",
    "from IPython.display import display\n",
    "\n",
    "slider = widgets.IntSlider(value=50, min=0, max=100, description=\"Slider:\")\n",
    "button = widgets.Button(description=\"Click Me\")\n",
    "output = widgets.Output()\n",
    "\n",
    "def on_button_click(b):\n",
    "    with output:\n",
    "        print(\"Button Clicked!\")\n",
    "\n",
    "button.on_click(on_button_click)\n",
    "display(slider, button, output)\n"
   ]
  },
  {
   "cell_type": "code",
   "execution_count": null,
   "id": "1872613b",
   "metadata": {},
   "outputs": [],
   "source": [
    "\n",
    "from dash import dcc, html, Dash\n",
    "app = Dash(__name__)\n",
    "app.layout = html.Div([\n",
    "    dcc.Graph(\n",
    "        id='graph',\n",
    "        figure={\n",
    "            'data': [{'x': [1, 2, 3, 4], 'y': [10, 11, 12, 13], 'type': 'line', 'name': 'Test'}],\n",
    "            'layout': {'title': 'Dash in JupyterLab'}\n",
    "        }\n",
    "    )\n",
    "])\n",
    "app.run_server(host=\"0.0.0.0\", port=8052)\n"
   ]
  },
  {
   "cell_type": "code",
   "execution_count": null,
   "id": "0ddc1f4d",
   "metadata": {},
   "outputs": [],
   "source": [
    "\n",
    "import numpy as np\n",
    "np\n"
   ]
  },
  {
   "cell_type": "code",
   "execution_count": null,
   "id": "89bac11b",
   "metadata": {},
   "outputs": [],
   "source": [
    "\n",
    "import numpy as np\n",
    "import pandas as pd\n",
    "import ipydatagrid\n",
    "\n",
    "data = pd.DataFrame(\n",
    "    np.random.randint(0, 100, size=(5, 5)), \n",
    "    columns=[\"A\", \"B\", \"C\", \"D\", \"E\"]\n",
    ")\n",
    "grid = ipydatagrid.DataGrid(data, editable=True)\n",
    "grid\n"
   ]
  },
  {
   "cell_type": "code",
   "execution_count": null,
   "id": "530ddc9c",
   "metadata": {},
   "outputs": [],
   "source": [
    "\n",
    "# Activate ipympl\n",
    "%matplotlib widget  \n",
    "\n",
    "import matplotlib.pyplot as plt  \n",
    "import numpy as np  \n",
    "\n",
    "x = np.linspace(0, 10, 100)  \n",
    "y = np.sin(x)  \n",
    "\n",
    "fig, ax = plt.subplots()  \n",
    "ax.plot(x, y)  \n",
    "plt.show()\n"
   ]
  },
  {
   "cell_type": "code",
   "execution_count": null,
   "id": "a986e0fc",
   "metadata": {},
   "outputs": [],
   "source": [
    "\n",
    "def             my_function(x,      y):\n",
    "    print(x,            y)\n"
   ]
  },
  {
   "cell_type": "code",
   "execution_count": null,
   "id": "4b6b0c05",
   "metadata": {},
   "outputs": [],
   "source": [
    "\n",
    "import tempfile\n",
    "import papermill as pm\n",
    "\n",
    "with tempfile.NamedTemporaryFile(delete=False, suffix='.ipynb') as temp_output:\n",
    "    pm.execute_notebook(\n",
    "        \"test-papermill.ipynb\", \n",
    "        temp_output.name,        \n",
    "        parameters={\"param1\": \"TestRun\", \"param2\": 99},\n",
    "        kernel_name=\"python3\"\n",
    "    )\n",
    "    print(f\"Output saved to {temp_output.name}\")\n",
    "    output_path = temp_output.name  \n",
    "output_path\n"
   ]
  },
  {
   "cell_type": "code",
   "execution_count": null,
   "id": "eb2747d3",
   "metadata": {},
   "outputs": [],
   "source": [
    "\n",
    "import ipywidgets as widgets\n",
    "from IPython.display import display\n",
    "\n",
    "slider = widgets.IntSlider(value=50, min=0, max=100, description=\"Slider:\")\n",
    "button = widgets.Button(description=\"Click Me\")\n",
    "output = widgets.Output()\n",
    "\n",
    "def on_button_click(b):\n",
    "    with output:\n",
    "        print(\"Button Clicked!\")\n",
    "\n",
    "button.on_click(on_button_click)\n",
    "display(slider, button, output)\n"
   ]
  },
  {
   "cell_type": "code",
   "execution_count": null,
   "id": "76aa061b",
   "metadata": {},
   "outputs": [],
   "source": [
    "\n",
    "from dash import dcc, html, Dash\n",
    "app = Dash(__name__)\n",
    "app.layout = html.Div([\n",
    "    dcc.Graph(\n",
    "        id='graph',\n",
    "        figure={\n",
    "            'data': [{'x': [1, 2, 3, 4], 'y': [10, 11, 12, 13], 'type': 'line', 'name': 'Test'}],\n",
    "            'layout': {'title': 'Dash in JupyterLab'}\n",
    "        }\n",
    "    )\n",
    "])\n",
    "app.run_server(host=\"0.0.0.0\", port=8052)\n"
   ]
  },
  {
   "cell_type": "code",
   "execution_count": null,
   "id": "f8c530e0",
   "metadata": {},
   "outputs": [],
   "source": [
    "\n",
    "import numpy as np\n",
    "np\n"
   ]
  },
  {
   "cell_type": "code",
   "execution_count": null,
   "id": "be24783d",
   "metadata": {},
   "outputs": [],
   "source": [
    "\n",
    "import numpy as np\n",
    "import pandas as pd\n",
    "import ipydatagrid\n",
    "\n",
    "data = pd.DataFrame(\n",
    "    np.random.randint(0, 100, size=(5, 5)), \n",
    "    columns=[\"A\", \"B\", \"C\", \"D\", \"E\"]\n",
    ")\n",
    "grid = ipydatagrid.DataGrid(data, editable=True)\n",
    "grid\n"
   ]
  },
  {
   "cell_type": "code",
   "execution_count": null,
   "id": "b2ccdcad",
   "metadata": {},
   "outputs": [],
   "source": [
    "\n",
    "# Activate ipympl\n",
    "%matplotlib widget  \n",
    "\n",
    "import matplotlib.pyplot as plt  \n",
    "import numpy as np  \n",
    "\n",
    "x = np.linspace(0, 10, 100)  \n",
    "y = np.sin(x)  \n",
    "\n",
    "fig, ax = plt.subplots()  \n",
    "ax.plot(x, y)  \n",
    "plt.show()\n"
   ]
  },
  {
   "cell_type": "code",
   "execution_count": null,
   "id": "4ee82ee9",
   "metadata": {},
   "outputs": [],
   "source": [
    "\n",
    "def             my_function(x,      y):\n",
    "    print(x,            y)\n"
   ]
  },
  {
   "cell_type": "code",
   "execution_count": null,
   "id": "5daa8009",
   "metadata": {},
   "outputs": [],
   "source": [
    "\n",
    "import tempfile\n",
    "import papermill as pm\n",
    "\n",
    "with tempfile.NamedTemporaryFile(delete=False, suffix='.ipynb') as temp_output:\n",
    "    pm.execute_notebook(\n",
    "        \"test-papermill.ipynb\", \n",
    "        temp_output.name,        \n",
    "        parameters={\"param1\": \"TestRun\", \"param2\": 99},\n",
    "        kernel_name=\"python3\"\n",
    "    )\n",
    "    print(f\"Output saved to {temp_output.name}\")\n",
    "    output_path = temp_output.name  \n",
    "output_path\n"
   ]
  },
  {
   "cell_type": "code",
   "execution_count": null,
   "id": "61488e62",
   "metadata": {},
   "outputs": [],
   "source": [
    "\n",
    "import ipywidgets as widgets\n",
    "from IPython.display import display\n",
    "\n",
    "slider = widgets.IntSlider(value=50, min=0, max=100, description=\"Slider:\")\n",
    "button = widgets.Button(description=\"Click Me\")\n",
    "output = widgets.Output()\n",
    "\n",
    "def on_button_click(b):\n",
    "    with output:\n",
    "        print(\"Button Clicked!\")\n",
    "\n",
    "button.on_click(on_button_click)\n",
    "display(slider, button, output)\n"
   ]
  },
  {
   "cell_type": "code",
   "execution_count": null,
   "id": "28e91c64",
   "metadata": {},
   "outputs": [],
   "source": [
    "\n",
    "from dash import dcc, html, Dash\n",
    "app = Dash(__name__)\n",
    "app.layout = html.Div([\n",
    "    dcc.Graph(\n",
    "        id='graph',\n",
    "        figure={\n",
    "            'data': [{'x': [1, 2, 3, 4], 'y': [10, 11, 12, 13], 'type': 'line', 'name': 'Test'}],\n",
    "            'layout': {'title': 'Dash in JupyterLab'}\n",
    "        }\n",
    "    )\n",
    "])\n",
    "app.run_server(host=\"0.0.0.0\", port=8052)\n"
   ]
  },
  {
   "cell_type": "code",
   "execution_count": null,
   "id": "fc831d6a",
   "metadata": {},
   "outputs": [],
   "source": [
    "\n",
    "import numpy as np\n",
    "np\n"
   ]
  },
  {
   "cell_type": "code",
   "execution_count": null,
   "id": "aa098649",
   "metadata": {},
   "outputs": [],
   "source": [
    "\n",
    "import numpy as np\n",
    "import pandas as pd\n",
    "import ipydatagrid\n",
    "\n",
    "data = pd.DataFrame(\n",
    "    np.random.randint(0, 100, size=(5, 5)), \n",
    "    columns=[\"A\", \"B\", \"C\", \"D\", \"E\"]\n",
    ")\n",
    "grid = ipydatagrid.DataGrid(data, editable=True)\n",
    "grid\n"
   ]
  },
  {
   "cell_type": "code",
   "execution_count": null,
   "id": "31b84b2e",
   "metadata": {},
   "outputs": [],
   "source": [
    "\n",
    "# Activate ipympl\n",
    "%matplotlib widget  \n",
    "\n",
    "import matplotlib.pyplot as plt  \n",
    "import numpy as np  \n",
    "\n",
    "x = np.linspace(0, 10, 100)  \n",
    "y = np.sin(x)  \n",
    "\n",
    "fig, ax = plt.subplots()  \n",
    "ax.plot(x, y)  \n",
    "plt.show()\n"
   ]
  },
  {
   "cell_type": "code",
   "execution_count": null,
   "id": "db57d6c3",
   "metadata": {},
   "outputs": [],
   "source": [
    "\n",
    "def             my_function(x,      y):\n",
    "    print(x,            y)\n"
   ]
  },
  {
   "cell_type": "code",
   "execution_count": null,
   "id": "4bd285e3",
   "metadata": {},
   "outputs": [],
   "source": [
    "\n",
    "import tempfile\n",
    "import papermill as pm\n",
    "\n",
    "with tempfile.NamedTemporaryFile(delete=False, suffix='.ipynb') as temp_output:\n",
    "    pm.execute_notebook(\n",
    "        \"test-papermill.ipynb\", \n",
    "        temp_output.name,        \n",
    "        parameters={\"param1\": \"TestRun\", \"param2\": 99},\n",
    "        kernel_name=\"python3\"\n",
    "    )\n",
    "    print(f\"Output saved to {temp_output.name}\")\n",
    "    output_path = temp_output.name  \n",
    "output_path\n"
   ]
  },
  {
   "cell_type": "code",
   "execution_count": null,
   "id": "9080893d",
   "metadata": {},
   "outputs": [],
   "source": [
    "\n",
    "import ipywidgets as widgets\n",
    "from IPython.display import display\n",
    "\n",
    "slider = widgets.IntSlider(value=50, min=0, max=100, description=\"Slider:\")\n",
    "button = widgets.Button(description=\"Click Me\")\n",
    "output = widgets.Output()\n",
    "\n",
    "def on_button_click(b):\n",
    "    with output:\n",
    "        print(\"Button Clicked!\")\n",
    "\n",
    "button.on_click(on_button_click)\n",
    "display(slider, button, output)\n"
   ]
  },
  {
   "cell_type": "code",
   "execution_count": null,
   "id": "a29d0ef4",
   "metadata": {},
   "outputs": [],
   "source": [
    "\n",
    "from dash import dcc, html, Dash\n",
    "app = Dash(__name__)\n",
    "app.layout = html.Div([\n",
    "    dcc.Graph(\n",
    "        id='graph',\n",
    "        figure={\n",
    "            'data': [{'x': [1, 2, 3, 4], 'y': [10, 11, 12, 13], 'type': 'line', 'name': 'Test'}],\n",
    "            'layout': {'title': 'Dash in JupyterLab'}\n",
    "        }\n",
    "    )\n",
    "])\n",
    "app.run_server(host=\"0.0.0.0\", port=8052)\n"
   ]
  },
  {
   "cell_type": "code",
   "execution_count": null,
   "id": "82927460",
   "metadata": {},
   "outputs": [],
   "source": [
    "\n",
    "import numpy as np\n",
    "np\n"
   ]
  },
  {
   "cell_type": "code",
   "execution_count": null,
   "id": "20a82435",
   "metadata": {},
   "outputs": [],
   "source": [
    "\n",
    "import numpy as np\n",
    "import pandas as pd\n",
    "import ipydatagrid\n",
    "\n",
    "data = pd.DataFrame(\n",
    "    np.random.randint(0, 100, size=(5, 5)), \n",
    "    columns=[\"A\", \"B\", \"C\", \"D\", \"E\"]\n",
    ")\n",
    "grid = ipydatagrid.DataGrid(data, editable=True)\n",
    "grid\n"
   ]
  },
  {
   "cell_type": "code",
   "execution_count": null,
   "id": "02d305d1",
   "metadata": {},
   "outputs": [],
   "source": [
    "\n",
    "# Activate ipympl\n",
    "%matplotlib widget  \n",
    "\n",
    "import matplotlib.pyplot as plt  \n",
    "import numpy as np  \n",
    "\n",
    "x = np.linspace(0, 10, 100)  \n",
    "y = np.sin(x)  \n",
    "\n",
    "fig, ax = plt.subplots()  \n",
    "ax.plot(x, y)  \n",
    "plt.show()\n"
   ]
  },
  {
   "cell_type": "code",
   "execution_count": null,
   "id": "b020a86b",
   "metadata": {},
   "outputs": [],
   "source": [
    "\n",
    "def             my_function(x,      y):\n",
    "    print(x,            y)\n"
   ]
  },
  {
   "cell_type": "code",
   "execution_count": null,
   "id": "59b96db7",
   "metadata": {},
   "outputs": [],
   "source": [
    "\n",
    "import tempfile\n",
    "import papermill as pm\n",
    "\n",
    "with tempfile.NamedTemporaryFile(delete=False, suffix='.ipynb') as temp_output:\n",
    "    pm.execute_notebook(\n",
    "        \"test-papermill.ipynb\", \n",
    "        temp_output.name,        \n",
    "        parameters={\"param1\": \"TestRun\", \"param2\": 99},\n",
    "        kernel_name=\"python3\"\n",
    "    )\n",
    "    print(f\"Output saved to {temp_output.name}\")\n",
    "    output_path = temp_output.name  \n",
    "output_path\n"
   ]
  },
  {
   "cell_type": "code",
   "execution_count": null,
   "id": "0f1089fb",
   "metadata": {},
   "outputs": [],
   "source": [
    "\n",
    "import ipywidgets as widgets\n",
    "from IPython.display import display\n",
    "\n",
    "slider = widgets.IntSlider(value=50, min=0, max=100, description=\"Slider:\")\n",
    "button = widgets.Button(description=\"Click Me\")\n",
    "output = widgets.Output()\n",
    "\n",
    "def on_button_click(b):\n",
    "    with output:\n",
    "        print(\"Button Clicked!\")\n",
    "\n",
    "button.on_click(on_button_click)\n",
    "display(slider, button, output)\n"
   ]
  },
  {
   "cell_type": "code",
   "execution_count": null,
   "id": "2de42b67",
   "metadata": {},
   "outputs": [],
   "source": [
    "\n",
    "from dash import dcc, html, Dash\n",
    "app = Dash(__name__)\n",
    "app.layout = html.Div([\n",
    "    dcc.Graph(\n",
    "        id='graph',\n",
    "        figure={\n",
    "            'data': [{'x': [1, 2, 3, 4], 'y': [10, 11, 12, 13], 'type': 'line', 'name': 'Test'}],\n",
    "            'layout': {'title': 'Dash in JupyterLab'}\n",
    "        }\n",
    "    )\n",
    "])\n",
    "app.run_server(host=\"0.0.0.0\", port=8052)\n"
   ]
  },
  {
   "cell_type": "code",
   "execution_count": null,
   "id": "932ed09f",
   "metadata": {},
   "outputs": [],
   "source": [
    "\n",
    "import numpy as np\n",
    "np\n"
   ]
  },
  {
   "cell_type": "code",
   "execution_count": null,
   "id": "c3cf986b",
   "metadata": {},
   "outputs": [],
   "source": [
    "\n",
    "import numpy as np\n",
    "import pandas as pd\n",
    "import ipydatagrid\n",
    "\n",
    "data = pd.DataFrame(\n",
    "    np.random.randint(0, 100, size=(5, 5)), \n",
    "    columns=[\"A\", \"B\", \"C\", \"D\", \"E\"]\n",
    ")\n",
    "grid = ipydatagrid.DataGrid(data, editable=True)\n",
    "grid\n"
   ]
  },
  {
   "cell_type": "code",
   "execution_count": null,
   "id": "af1fc369",
   "metadata": {},
   "outputs": [],
   "source": [
    "\n",
    "# Activate ipympl\n",
    "%matplotlib widget  \n",
    "\n",
    "import matplotlib.pyplot as plt  \n",
    "import numpy as np  \n",
    "\n",
    "x = np.linspace(0, 10, 100)  \n",
    "y = np.sin(x)  \n",
    "\n",
    "fig, ax = plt.subplots()  \n",
    "ax.plot(x, y)  \n",
    "plt.show()\n"
   ]
  },
  {
   "cell_type": "code",
   "execution_count": null,
   "id": "c6fe69e9",
   "metadata": {},
   "outputs": [],
   "source": [
    "\n",
    "def             my_function(x,      y):\n",
    "    print(x,            y)\n"
   ]
  },
  {
   "cell_type": "code",
   "execution_count": null,
   "id": "8096d22f",
   "metadata": {},
   "outputs": [],
   "source": [
    "\n",
    "import tempfile\n",
    "import papermill as pm\n",
    "\n",
    "with tempfile.NamedTemporaryFile(delete=False, suffix='.ipynb') as temp_output:\n",
    "    pm.execute_notebook(\n",
    "        \"test-papermill.ipynb\", \n",
    "        temp_output.name,        \n",
    "        parameters={\"param1\": \"TestRun\", \"param2\": 99},\n",
    "        kernel_name=\"python3\"\n",
    "    )\n",
    "    print(f\"Output saved to {temp_output.name}\")\n",
    "    output_path = temp_output.name  \n",
    "output_path\n"
   ]
  },
  {
   "cell_type": "code",
   "execution_count": null,
   "id": "e9f1373c",
   "metadata": {},
   "outputs": [],
   "source": [
    "\n",
    "import ipywidgets as widgets\n",
    "from IPython.display import display\n",
    "\n",
    "slider = widgets.IntSlider(value=50, min=0, max=100, description=\"Slider:\")\n",
    "button = widgets.Button(description=\"Click Me\")\n",
    "output = widgets.Output()\n",
    "\n",
    "def on_button_click(b):\n",
    "    with output:\n",
    "        print(\"Button Clicked!\")\n",
    "\n",
    "button.on_click(on_button_click)\n",
    "display(slider, button, output)\n"
   ]
  },
  {
   "cell_type": "code",
   "execution_count": null,
   "id": "b0464ee0",
   "metadata": {},
   "outputs": [],
   "source": [
    "\n",
    "from dash import dcc, html, Dash\n",
    "app = Dash(__name__)\n",
    "app.layout = html.Div([\n",
    "    dcc.Graph(\n",
    "        id='graph',\n",
    "        figure={\n",
    "            'data': [{'x': [1, 2, 3, 4], 'y': [10, 11, 12, 13], 'type': 'line', 'name': 'Test'}],\n",
    "            'layout': {'title': 'Dash in JupyterLab'}\n",
    "        }\n",
    "    )\n",
    "])\n",
    "app.run_server(host=\"0.0.0.0\", port=8052)\n"
   ]
  },
  {
   "cell_type": "code",
   "execution_count": null,
   "id": "4217be85",
   "metadata": {},
   "outputs": [],
   "source": [
    "\n",
    "import numpy as np\n",
    "np\n"
   ]
  },
  {
   "cell_type": "code",
   "execution_count": null,
   "id": "eaa36c39",
   "metadata": {},
   "outputs": [],
   "source": [
    "\n",
    "import numpy as np\n",
    "import pandas as pd\n",
    "import ipydatagrid\n",
    "\n",
    "data = pd.DataFrame(\n",
    "    np.random.randint(0, 100, size=(5, 5)), \n",
    "    columns=[\"A\", \"B\", \"C\", \"D\", \"E\"]\n",
    ")\n",
    "grid = ipydatagrid.DataGrid(data, editable=True)\n",
    "grid\n"
   ]
  },
  {
   "cell_type": "code",
   "execution_count": null,
   "id": "b38afa16",
   "metadata": {},
   "outputs": [],
   "source": [
    "\n",
    "# Activate ipympl\n",
    "%matplotlib widget  \n",
    "\n",
    "import matplotlib.pyplot as plt  \n",
    "import numpy as np  \n",
    "\n",
    "x = np.linspace(0, 10, 100)  \n",
    "y = np.sin(x)  \n",
    "\n",
    "fig, ax = plt.subplots()  \n",
    "ax.plot(x, y)  \n",
    "plt.show()\n"
   ]
  },
  {
   "cell_type": "code",
   "execution_count": null,
   "id": "3256d5a6",
   "metadata": {},
   "outputs": [],
   "source": [
    "\n",
    "def             my_function(x,      y):\n",
    "    print(x,            y)\n"
   ]
  },
  {
   "cell_type": "code",
   "execution_count": null,
   "id": "fb59610b",
   "metadata": {},
   "outputs": [],
   "source": [
    "\n",
    "import tempfile\n",
    "import papermill as pm\n",
    "\n",
    "with tempfile.NamedTemporaryFile(delete=False, suffix='.ipynb') as temp_output:\n",
    "    pm.execute_notebook(\n",
    "        \"test-papermill.ipynb\", \n",
    "        temp_output.name,        \n",
    "        parameters={\"param1\": \"TestRun\", \"param2\": 99},\n",
    "        kernel_name=\"python3\"\n",
    "    )\n",
    "    print(f\"Output saved to {temp_output.name}\")\n",
    "    output_path = temp_output.name  \n",
    "output_path\n"
   ]
  },
  {
   "cell_type": "code",
   "execution_count": null,
   "id": "83c6f121",
   "metadata": {},
   "outputs": [],
   "source": [
    "\n",
    "import ipywidgets as widgets\n",
    "from IPython.display import display\n",
    "\n",
    "slider = widgets.IntSlider(value=50, min=0, max=100, description=\"Slider:\")\n",
    "button = widgets.Button(description=\"Click Me\")\n",
    "output = widgets.Output()\n",
    "\n",
    "def on_button_click(b):\n",
    "    with output:\n",
    "        print(\"Button Clicked!\")\n",
    "\n",
    "button.on_click(on_button_click)\n",
    "display(slider, button, output)\n"
   ]
  },
  {
   "cell_type": "code",
   "execution_count": null,
   "id": "6738459b",
   "metadata": {},
   "outputs": [],
   "source": [
    "\n",
    "from dash import dcc, html, Dash\n",
    "app = Dash(__name__)\n",
    "app.layout = html.Div([\n",
    "    dcc.Graph(\n",
    "        id='graph',\n",
    "        figure={\n",
    "            'data': [{'x': [1, 2, 3, 4], 'y': [10, 11, 12, 13], 'type': 'line', 'name': 'Test'}],\n",
    "            'layout': {'title': 'Dash in JupyterLab'}\n",
    "        }\n",
    "    )\n",
    "])\n",
    "app.run_server(host=\"0.0.0.0\", port=8052)\n"
   ]
  },
  {
   "cell_type": "code",
   "execution_count": null,
   "id": "1023b8ec",
   "metadata": {},
   "outputs": [],
   "source": [
    "\n",
    "import numpy as np\n",
    "np\n"
   ]
  },
  {
   "cell_type": "code",
   "execution_count": null,
   "id": "6e85fe27",
   "metadata": {},
   "outputs": [],
   "source": [
    "\n",
    "import numpy as np\n",
    "import pandas as pd\n",
    "import ipydatagrid\n",
    "\n",
    "data = pd.DataFrame(\n",
    "    np.random.randint(0, 100, size=(5, 5)), \n",
    "    columns=[\"A\", \"B\", \"C\", \"D\", \"E\"]\n",
    ")\n",
    "grid = ipydatagrid.DataGrid(data, editable=True)\n",
    "grid\n"
   ]
  },
  {
   "cell_type": "code",
   "execution_count": null,
   "id": "d681c474",
   "metadata": {},
   "outputs": [],
   "source": [
    "\n",
    "# Activate ipympl\n",
    "%matplotlib widget  \n",
    "\n",
    "import matplotlib.pyplot as plt  \n",
    "import numpy as np  \n",
    "\n",
    "x = np.linspace(0, 10, 100)  \n",
    "y = np.sin(x)  \n",
    "\n",
    "fig, ax = plt.subplots()  \n",
    "ax.plot(x, y)  \n",
    "plt.show()\n"
   ]
  },
  {
   "cell_type": "code",
   "execution_count": null,
   "id": "1611a292",
   "metadata": {},
   "outputs": [],
   "source": [
    "\n",
    "def             my_function(x,      y):\n",
    "    print(x,            y)\n"
   ]
  },
  {
   "cell_type": "code",
   "execution_count": null,
   "id": "506582bf",
   "metadata": {},
   "outputs": [],
   "source": [
    "\n",
    "import tempfile\n",
    "import papermill as pm\n",
    "\n",
    "with tempfile.NamedTemporaryFile(delete=False, suffix='.ipynb') as temp_output:\n",
    "    pm.execute_notebook(\n",
    "        \"test-papermill.ipynb\", \n",
    "        temp_output.name,        \n",
    "        parameters={\"param1\": \"TestRun\", \"param2\": 99},\n",
    "        kernel_name=\"python3\"\n",
    "    )\n",
    "    print(f\"Output saved to {temp_output.name}\")\n",
    "    output_path = temp_output.name  \n",
    "output_path\n"
   ]
  },
  {
   "cell_type": "code",
   "execution_count": null,
   "id": "0d682017",
   "metadata": {},
   "outputs": [],
   "source": [
    "\n",
    "import ipywidgets as widgets\n",
    "from IPython.display import display\n",
    "\n",
    "slider = widgets.IntSlider(value=50, min=0, max=100, description=\"Slider:\")\n",
    "button = widgets.Button(description=\"Click Me\")\n",
    "output = widgets.Output()\n",
    "\n",
    "def on_button_click(b):\n",
    "    with output:\n",
    "        print(\"Button Clicked!\")\n",
    "\n",
    "button.on_click(on_button_click)\n",
    "display(slider, button, output)\n"
   ]
  },
  {
   "cell_type": "code",
   "execution_count": null,
   "id": "52d2fad4",
   "metadata": {},
   "outputs": [],
   "source": [
    "\n",
    "from dash import dcc, html, Dash\n",
    "app = Dash(__name__)\n",
    "app.layout = html.Div([\n",
    "    dcc.Graph(\n",
    "        id='graph',\n",
    "        figure={\n",
    "            'data': [{'x': [1, 2, 3, 4], 'y': [10, 11, 12, 13], 'type': 'line', 'name': 'Test'}],\n",
    "            'layout': {'title': 'Dash in JupyterLab'}\n",
    "        }\n",
    "    )\n",
    "])\n",
    "app.run_server(host=\"0.0.0.0\", port=8052)\n"
   ]
  },
  {
   "cell_type": "code",
   "execution_count": null,
   "id": "d64614de",
   "metadata": {},
   "outputs": [],
   "source": [
    "\n",
    "import numpy as np\n",
    "np\n"
   ]
  },
  {
   "cell_type": "code",
   "execution_count": null,
   "id": "408ef6af",
   "metadata": {},
   "outputs": [],
   "source": [
    "\n",
    "import numpy as np\n",
    "import pandas as pd\n",
    "import ipydatagrid\n",
    "\n",
    "data = pd.DataFrame(\n",
    "    np.random.randint(0, 100, size=(5, 5)), \n",
    "    columns=[\"A\", \"B\", \"C\", \"D\", \"E\"]\n",
    ")\n",
    "grid = ipydatagrid.DataGrid(data, editable=True)\n",
    "grid\n"
   ]
  },
  {
   "cell_type": "code",
   "execution_count": null,
   "id": "3f9d1280",
   "metadata": {},
   "outputs": [],
   "source": [
    "\n",
    "# Activate ipympl\n",
    "%matplotlib widget  \n",
    "\n",
    "import matplotlib.pyplot as plt  \n",
    "import numpy as np  \n",
    "\n",
    "x = np.linspace(0, 10, 100)  \n",
    "y = np.sin(x)  \n",
    "\n",
    "fig, ax = plt.subplots()  \n",
    "ax.plot(x, y)  \n",
    "plt.show()\n"
   ]
  },
  {
   "cell_type": "code",
   "execution_count": null,
   "id": "b1c9b052",
   "metadata": {},
   "outputs": [],
   "source": [
    "\n",
    "def             my_function(x,      y):\n",
    "    print(x,            y)\n"
   ]
  },
  {
   "cell_type": "code",
   "execution_count": null,
   "id": "137805bf",
   "metadata": {},
   "outputs": [],
   "source": [
    "\n",
    "import tempfile\n",
    "import papermill as pm\n",
    "\n",
    "with tempfile.NamedTemporaryFile(delete=False, suffix='.ipynb') as temp_output:\n",
    "    pm.execute_notebook(\n",
    "        \"test-papermill.ipynb\", \n",
    "        temp_output.name,        \n",
    "        parameters={\"param1\": \"TestRun\", \"param2\": 99},\n",
    "        kernel_name=\"python3\"\n",
    "    )\n",
    "    print(f\"Output saved to {temp_output.name}\")\n",
    "    output_path = temp_output.name  \n",
    "output_path\n"
   ]
  },
  {
   "cell_type": "code",
   "execution_count": null,
   "id": "f3fc89f8",
   "metadata": {},
   "outputs": [],
   "source": [
    "\n",
    "import ipywidgets as widgets\n",
    "from IPython.display import display\n",
    "\n",
    "slider = widgets.IntSlider(value=50, min=0, max=100, description=\"Slider:\")\n",
    "button = widgets.Button(description=\"Click Me\")\n",
    "output = widgets.Output()\n",
    "\n",
    "def on_button_click(b):\n",
    "    with output:\n",
    "        print(\"Button Clicked!\")\n",
    "\n",
    "button.on_click(on_button_click)\n",
    "display(slider, button, output)\n"
   ]
  },
  {
   "cell_type": "code",
   "execution_count": null,
   "id": "2f2bd0cb",
   "metadata": {},
   "outputs": [],
   "source": [
    "\n",
    "from dash import dcc, html, Dash\n",
    "app = Dash(__name__)\n",
    "app.layout = html.Div([\n",
    "    dcc.Graph(\n",
    "        id='graph',\n",
    "        figure={\n",
    "            'data': [{'x': [1, 2, 3, 4], 'y': [10, 11, 12, 13], 'type': 'line', 'name': 'Test'}],\n",
    "            'layout': {'title': 'Dash in JupyterLab'}\n",
    "        }\n",
    "    )\n",
    "])\n",
    "app.run_server(host=\"0.0.0.0\", port=8052)\n"
   ]
  },
  {
   "cell_type": "code",
   "execution_count": null,
   "id": "4fdfdb99",
   "metadata": {},
   "outputs": [],
   "source": [
    "\n",
    "import numpy as np\n",
    "np\n"
   ]
  },
  {
   "cell_type": "code",
   "execution_count": null,
   "id": "b56a6f59",
   "metadata": {},
   "outputs": [],
   "source": [
    "\n",
    "import numpy as np\n",
    "import pandas as pd\n",
    "import ipydatagrid\n",
    "\n",
    "data = pd.DataFrame(\n",
    "    np.random.randint(0, 100, size=(5, 5)), \n",
    "    columns=[\"A\", \"B\", \"C\", \"D\", \"E\"]\n",
    ")\n",
    "grid = ipydatagrid.DataGrid(data, editable=True)\n",
    "grid\n"
   ]
  },
  {
   "cell_type": "code",
   "execution_count": null,
   "id": "90e45e46",
   "metadata": {},
   "outputs": [],
   "source": [
    "\n",
    "# Activate ipympl\n",
    "%matplotlib widget  \n",
    "\n",
    "import matplotlib.pyplot as plt  \n",
    "import numpy as np  \n",
    "\n",
    "x = np.linspace(0, 10, 100)  \n",
    "y = np.sin(x)  \n",
    "\n",
    "fig, ax = plt.subplots()  \n",
    "ax.plot(x, y)  \n",
    "plt.show()\n"
   ]
  },
  {
   "cell_type": "code",
   "execution_count": null,
   "id": "40ceeabc",
   "metadata": {},
   "outputs": [],
   "source": [
    "\n",
    "def             my_function(x,      y):\n",
    "    print(x,            y)\n"
   ]
  },
  {
   "cell_type": "code",
   "execution_count": null,
   "id": "453b6cd5",
   "metadata": {},
   "outputs": [],
   "source": [
    "\n",
    "import tempfile\n",
    "import papermill as pm\n",
    "\n",
    "with tempfile.NamedTemporaryFile(delete=False, suffix='.ipynb') as temp_output:\n",
    "    pm.execute_notebook(\n",
    "        \"test-papermill.ipynb\", \n",
    "        temp_output.name,        \n",
    "        parameters={\"param1\": \"TestRun\", \"param2\": 99},\n",
    "        kernel_name=\"python3\"\n",
    "    )\n",
    "    print(f\"Output saved to {temp_output.name}\")\n",
    "    output_path = temp_output.name  \n",
    "output_path\n"
   ]
  },
  {
   "cell_type": "code",
   "execution_count": null,
   "id": "cc121593",
   "metadata": {},
   "outputs": [],
   "source": [
    "\n",
    "import ipywidgets as widgets\n",
    "from IPython.display import display\n",
    "\n",
    "slider = widgets.IntSlider(value=50, min=0, max=100, description=\"Slider:\")\n",
    "button = widgets.Button(description=\"Click Me\")\n",
    "output = widgets.Output()\n",
    "\n",
    "def on_button_click(b):\n",
    "    with output:\n",
    "        print(\"Button Clicked!\")\n",
    "\n",
    "button.on_click(on_button_click)\n",
    "display(slider, button, output)\n"
   ]
  },
  {
   "cell_type": "code",
   "execution_count": null,
   "id": "0074acf7",
   "metadata": {},
   "outputs": [],
   "source": [
    "\n",
    "from dash import dcc, html, Dash\n",
    "app = Dash(__name__)\n",
    "app.layout = html.Div([\n",
    "    dcc.Graph(\n",
    "        id='graph',\n",
    "        figure={\n",
    "            'data': [{'x': [1, 2, 3, 4], 'y': [10, 11, 12, 13], 'type': 'line', 'name': 'Test'}],\n",
    "            'layout': {'title': 'Dash in JupyterLab'}\n",
    "        }\n",
    "    )\n",
    "])\n",
    "app.run_server(host=\"0.0.0.0\", port=8052)\n"
   ]
  },
  {
   "cell_type": "code",
   "execution_count": null,
   "id": "da42cda7",
   "metadata": {},
   "outputs": [],
   "source": [
    "\n",
    "import numpy as np\n",
    "np\n"
   ]
  },
  {
   "cell_type": "code",
   "execution_count": null,
   "id": "1f009ccf",
   "metadata": {},
   "outputs": [],
   "source": [
    "\n",
    "import numpy as np\n",
    "import pandas as pd\n",
    "import ipydatagrid\n",
    "\n",
    "data = pd.DataFrame(\n",
    "    np.random.randint(0, 100, size=(5, 5)), \n",
    "    columns=[\"A\", \"B\", \"C\", \"D\", \"E\"]\n",
    ")\n",
    "grid = ipydatagrid.DataGrid(data, editable=True)\n",
    "grid\n"
   ]
  },
  {
   "cell_type": "code",
   "execution_count": null,
   "id": "0d4a4871",
   "metadata": {},
   "outputs": [],
   "source": [
    "\n",
    "# Activate ipympl\n",
    "%matplotlib widget  \n",
    "\n",
    "import matplotlib.pyplot as plt  \n",
    "import numpy as np  \n",
    "\n",
    "x = np.linspace(0, 10, 100)  \n",
    "y = np.sin(x)  \n",
    "\n",
    "fig, ax = plt.subplots()  \n",
    "ax.plot(x, y)  \n",
    "plt.show()\n"
   ]
  },
  {
   "cell_type": "code",
   "execution_count": null,
   "id": "71315005",
   "metadata": {},
   "outputs": [],
   "source": [
    "\n",
    "def             my_function(x,      y):\n",
    "    print(x,            y)\n"
   ]
  },
  {
   "cell_type": "code",
   "execution_count": null,
   "id": "47824823",
   "metadata": {},
   "outputs": [],
   "source": [
    "\n",
    "import tempfile\n",
    "import papermill as pm\n",
    "\n",
    "with tempfile.NamedTemporaryFile(delete=False, suffix='.ipynb') as temp_output:\n",
    "    pm.execute_notebook(\n",
    "        \"test-papermill.ipynb\", \n",
    "        temp_output.name,        \n",
    "        parameters={\"param1\": \"TestRun\", \"param2\": 99},\n",
    "        kernel_name=\"python3\"\n",
    "    )\n",
    "    print(f\"Output saved to {temp_output.name}\")\n",
    "    output_path = temp_output.name  \n",
    "output_path\n"
   ]
  },
  {
   "cell_type": "code",
   "execution_count": null,
   "id": "73c10468",
   "metadata": {},
   "outputs": [],
   "source": [
    "\n",
    "import ipywidgets as widgets\n",
    "from IPython.display import display\n",
    "\n",
    "slider = widgets.IntSlider(value=50, min=0, max=100, description=\"Slider:\")\n",
    "button = widgets.Button(description=\"Click Me\")\n",
    "output = widgets.Output()\n",
    "\n",
    "def on_button_click(b):\n",
    "    with output:\n",
    "        print(\"Button Clicked!\")\n",
    "\n",
    "button.on_click(on_button_click)\n",
    "display(slider, button, output)\n"
   ]
  },
  {
   "cell_type": "code",
   "execution_count": null,
   "id": "a8a2c39b",
   "metadata": {},
   "outputs": [],
   "source": [
    "\n",
    "from dash import dcc, html, Dash\n",
    "app = Dash(__name__)\n",
    "app.layout = html.Div([\n",
    "    dcc.Graph(\n",
    "        id='graph',\n",
    "        figure={\n",
    "            'data': [{'x': [1, 2, 3, 4], 'y': [10, 11, 12, 13], 'type': 'line', 'name': 'Test'}],\n",
    "            'layout': {'title': 'Dash in JupyterLab'}\n",
    "        }\n",
    "    )\n",
    "])\n",
    "app.run_server(host=\"0.0.0.0\", port=8052)\n"
   ]
  },
  {
   "cell_type": "code",
   "execution_count": null,
   "id": "dfcce6b6",
   "metadata": {},
   "outputs": [],
   "source": [
    "\n",
    "import numpy as np\n",
    "np\n"
   ]
  },
  {
   "cell_type": "code",
   "execution_count": null,
   "id": "d7a740e2",
   "metadata": {},
   "outputs": [],
   "source": [
    "\n",
    "import numpy as np\n",
    "import pandas as pd\n",
    "import ipydatagrid\n",
    "\n",
    "data = pd.DataFrame(\n",
    "    np.random.randint(0, 100, size=(5, 5)), \n",
    "    columns=[\"A\", \"B\", \"C\", \"D\", \"E\"]\n",
    ")\n",
    "grid = ipydatagrid.DataGrid(data, editable=True)\n",
    "grid\n"
   ]
  },
  {
   "cell_type": "code",
   "execution_count": null,
   "id": "d839f718",
   "metadata": {},
   "outputs": [],
   "source": [
    "\n",
    "# Activate ipympl\n",
    "%matplotlib widget  \n",
    "\n",
    "import matplotlib.pyplot as plt  \n",
    "import numpy as np  \n",
    "\n",
    "x = np.linspace(0, 10, 100)  \n",
    "y = np.sin(x)  \n",
    "\n",
    "fig, ax = plt.subplots()  \n",
    "ax.plot(x, y)  \n",
    "plt.show()\n"
   ]
  },
  {
   "cell_type": "code",
   "execution_count": null,
   "id": "20a0b6b9",
   "metadata": {},
   "outputs": [],
   "source": [
    "\n",
    "def             my_function(x,      y):\n",
    "    print(x,            y)\n"
   ]
  },
  {
   "cell_type": "code",
   "execution_count": null,
   "id": "65285677",
   "metadata": {},
   "outputs": [],
   "source": [
    "\n",
    "import tempfile\n",
    "import papermill as pm\n",
    "\n",
    "with tempfile.NamedTemporaryFile(delete=False, suffix='.ipynb') as temp_output:\n",
    "    pm.execute_notebook(\n",
    "        \"test-papermill.ipynb\", \n",
    "        temp_output.name,        \n",
    "        parameters={\"param1\": \"TestRun\", \"param2\": 99},\n",
    "        kernel_name=\"python3\"\n",
    "    )\n",
    "    print(f\"Output saved to {temp_output.name}\")\n",
    "    output_path = temp_output.name  \n",
    "output_path\n"
   ]
  },
  {
   "cell_type": "code",
   "execution_count": null,
   "id": "86fecb70",
   "metadata": {},
   "outputs": [],
   "source": [
    "\n",
    "import ipywidgets as widgets\n",
    "from IPython.display import display\n",
    "\n",
    "slider = widgets.IntSlider(value=50, min=0, max=100, description=\"Slider:\")\n",
    "button = widgets.Button(description=\"Click Me\")\n",
    "output = widgets.Output()\n",
    "\n",
    "def on_button_click(b):\n",
    "    with output:\n",
    "        print(\"Button Clicked!\")\n",
    "\n",
    "button.on_click(on_button_click)\n",
    "display(slider, button, output)\n"
   ]
  },
  {
   "cell_type": "code",
   "execution_count": null,
   "id": "61820a0a",
   "metadata": {},
   "outputs": [],
   "source": [
    "\n",
    "from dash import dcc, html, Dash\n",
    "app = Dash(__name__)\n",
    "app.layout = html.Div([\n",
    "    dcc.Graph(\n",
    "        id='graph',\n",
    "        figure={\n",
    "            'data': [{'x': [1, 2, 3, 4], 'y': [10, 11, 12, 13], 'type': 'line', 'name': 'Test'}],\n",
    "            'layout': {'title': 'Dash in JupyterLab'}\n",
    "        }\n",
    "    )\n",
    "])\n",
    "app.run_server(host=\"0.0.0.0\", port=8052)\n"
   ]
  },
  {
   "cell_type": "code",
   "execution_count": null,
   "id": "764458da",
   "metadata": {},
   "outputs": [],
   "source": [
    "\n",
    "import numpy as np\n",
    "np\n"
   ]
  },
  {
   "cell_type": "code",
   "execution_count": null,
   "id": "7fd8b7c0",
   "metadata": {},
   "outputs": [],
   "source": [
    "\n",
    "import numpy as np\n",
    "import pandas as pd\n",
    "import ipydatagrid\n",
    "\n",
    "data = pd.DataFrame(\n",
    "    np.random.randint(0, 100, size=(5, 5)), \n",
    "    columns=[\"A\", \"B\", \"C\", \"D\", \"E\"]\n",
    ")\n",
    "grid = ipydatagrid.DataGrid(data, editable=True)\n",
    "grid\n"
   ]
  },
  {
   "cell_type": "code",
   "execution_count": null,
   "id": "7b1417b0",
   "metadata": {},
   "outputs": [],
   "source": [
    "\n",
    "# Activate ipympl\n",
    "%matplotlib widget  \n",
    "\n",
    "import matplotlib.pyplot as plt  \n",
    "import numpy as np  \n",
    "\n",
    "x = np.linspace(0, 10, 100)  \n",
    "y = np.sin(x)  \n",
    "\n",
    "fig, ax = plt.subplots()  \n",
    "ax.plot(x, y)  \n",
    "plt.show()\n"
   ]
  },
  {
   "cell_type": "code",
   "execution_count": null,
   "id": "aeaf4f9c",
   "metadata": {},
   "outputs": [],
   "source": [
    "\n",
    "def             my_function(x,      y):\n",
    "    print(x,            y)\n"
   ]
  },
  {
   "cell_type": "code",
   "execution_count": null,
   "id": "e8007699",
   "metadata": {},
   "outputs": [],
   "source": [
    "\n",
    "import tempfile\n",
    "import papermill as pm\n",
    "\n",
    "with tempfile.NamedTemporaryFile(delete=False, suffix='.ipynb') as temp_output:\n",
    "    pm.execute_notebook(\n",
    "        \"test-papermill.ipynb\", \n",
    "        temp_output.name,        \n",
    "        parameters={\"param1\": \"TestRun\", \"param2\": 99},\n",
    "        kernel_name=\"python3\"\n",
    "    )\n",
    "    print(f\"Output saved to {temp_output.name}\")\n",
    "    output_path = temp_output.name  \n",
    "output_path\n"
   ]
  },
  {
   "cell_type": "code",
   "execution_count": null,
   "id": "355b00d6",
   "metadata": {},
   "outputs": [],
   "source": [
    "\n",
    "import ipywidgets as widgets\n",
    "from IPython.display import display\n",
    "\n",
    "slider = widgets.IntSlider(value=50, min=0, max=100, description=\"Slider:\")\n",
    "button = widgets.Button(description=\"Click Me\")\n",
    "output = widgets.Output()\n",
    "\n",
    "def on_button_click(b):\n",
    "    with output:\n",
    "        print(\"Button Clicked!\")\n",
    "\n",
    "button.on_click(on_button_click)\n",
    "display(slider, button, output)\n"
   ]
  },
  {
   "cell_type": "code",
   "execution_count": null,
   "id": "89901d53",
   "metadata": {},
   "outputs": [],
   "source": [
    "\n",
    "from dash import dcc, html, Dash\n",
    "app = Dash(__name__)\n",
    "app.layout = html.Div([\n",
    "    dcc.Graph(\n",
    "        id='graph',\n",
    "        figure={\n",
    "            'data': [{'x': [1, 2, 3, 4], 'y': [10, 11, 12, 13], 'type': 'line', 'name': 'Test'}],\n",
    "            'layout': {'title': 'Dash in JupyterLab'}\n",
    "        }\n",
    "    )\n",
    "])\n",
    "app.run_server(host=\"0.0.0.0\", port=8052)\n"
   ]
  },
  {
   "cell_type": "code",
   "execution_count": null,
   "id": "ef9b12ac",
   "metadata": {},
   "outputs": [],
   "source": [
    "\n",
    "import numpy as np\n",
    "np\n"
   ]
  },
  {
   "cell_type": "code",
   "execution_count": null,
   "id": "58fab8fe",
   "metadata": {},
   "outputs": [],
   "source": [
    "\n",
    "import numpy as np\n",
    "import pandas as pd\n",
    "import ipydatagrid\n",
    "\n",
    "data = pd.DataFrame(\n",
    "    np.random.randint(0, 100, size=(5, 5)), \n",
    "    columns=[\"A\", \"B\", \"C\", \"D\", \"E\"]\n",
    ")\n",
    "grid = ipydatagrid.DataGrid(data, editable=True)\n",
    "grid\n"
   ]
  },
  {
   "cell_type": "code",
   "execution_count": null,
   "id": "831cfd32",
   "metadata": {},
   "outputs": [],
   "source": [
    "\n",
    "# Activate ipympl\n",
    "%matplotlib widget  \n",
    "\n",
    "import matplotlib.pyplot as plt  \n",
    "import numpy as np  \n",
    "\n",
    "x = np.linspace(0, 10, 100)  \n",
    "y = np.sin(x)  \n",
    "\n",
    "fig, ax = plt.subplots()  \n",
    "ax.plot(x, y)  \n",
    "plt.show()\n"
   ]
  },
  {
   "cell_type": "code",
   "execution_count": null,
   "id": "63232ae4",
   "metadata": {},
   "outputs": [],
   "source": [
    "\n",
    "def             my_function(x,      y):\n",
    "    print(x,            y)\n"
   ]
  },
  {
   "cell_type": "code",
   "execution_count": null,
   "id": "3dea96db",
   "metadata": {},
   "outputs": [],
   "source": [
    "\n",
    "import tempfile\n",
    "import papermill as pm\n",
    "\n",
    "with tempfile.NamedTemporaryFile(delete=False, suffix='.ipynb') as temp_output:\n",
    "    pm.execute_notebook(\n",
    "        \"test-papermill.ipynb\", \n",
    "        temp_output.name,        \n",
    "        parameters={\"param1\": \"TestRun\", \"param2\": 99},\n",
    "        kernel_name=\"python3\"\n",
    "    )\n",
    "    print(f\"Output saved to {temp_output.name}\")\n",
    "    output_path = temp_output.name  \n",
    "output_path\n"
   ]
  },
  {
   "cell_type": "code",
   "execution_count": null,
   "id": "66f8908f",
   "metadata": {},
   "outputs": [],
   "source": [
    "\n",
    "import ipywidgets as widgets\n",
    "from IPython.display import display\n",
    "\n",
    "slider = widgets.IntSlider(value=50, min=0, max=100, description=\"Slider:\")\n",
    "button = widgets.Button(description=\"Click Me\")\n",
    "output = widgets.Output()\n",
    "\n",
    "def on_button_click(b):\n",
    "    with output:\n",
    "        print(\"Button Clicked!\")\n",
    "\n",
    "button.on_click(on_button_click)\n",
    "display(slider, button, output)\n"
   ]
  },
  {
   "cell_type": "code",
   "execution_count": null,
   "id": "62adb586",
   "metadata": {},
   "outputs": [],
   "source": [
    "\n",
    "from dash import dcc, html, Dash\n",
    "app = Dash(__name__)\n",
    "app.layout = html.Div([\n",
    "    dcc.Graph(\n",
    "        id='graph',\n",
    "        figure={\n",
    "            'data': [{'x': [1, 2, 3, 4], 'y': [10, 11, 12, 13], 'type': 'line', 'name': 'Test'}],\n",
    "            'layout': {'title': 'Dash in JupyterLab'}\n",
    "        }\n",
    "    )\n",
    "])\n",
    "app.run_server(host=\"0.0.0.0\", port=8052)\n"
   ]
  },
  {
   "cell_type": "code",
   "execution_count": null,
   "id": "1f9386b8",
   "metadata": {},
   "outputs": [],
   "source": [
    "\n",
    "import numpy as np\n",
    "np\n"
   ]
  },
  {
   "cell_type": "code",
   "execution_count": null,
   "id": "96a53879",
   "metadata": {},
   "outputs": [],
   "source": [
    "\n",
    "import numpy as np\n",
    "import pandas as pd\n",
    "import ipydatagrid\n",
    "\n",
    "data = pd.DataFrame(\n",
    "    np.random.randint(0, 100, size=(5, 5)), \n",
    "    columns=[\"A\", \"B\", \"C\", \"D\", \"E\"]\n",
    ")\n",
    "grid = ipydatagrid.DataGrid(data, editable=True)\n",
    "grid\n"
   ]
  },
  {
   "cell_type": "code",
   "execution_count": null,
   "id": "3f0624ce",
   "metadata": {},
   "outputs": [],
   "source": [
    "\n",
    "# Activate ipympl\n",
    "%matplotlib widget  \n",
    "\n",
    "import matplotlib.pyplot as plt  \n",
    "import numpy as np  \n",
    "\n",
    "x = np.linspace(0, 10, 100)  \n",
    "y = np.sin(x)  \n",
    "\n",
    "fig, ax = plt.subplots()  \n",
    "ax.plot(x, y)  \n",
    "plt.show()\n"
   ]
  },
  {
   "cell_type": "code",
   "execution_count": null,
   "id": "e07397bd",
   "metadata": {},
   "outputs": [],
   "source": [
    "\n",
    "def             my_function(x,      y):\n",
    "    print(x,            y)\n"
   ]
  },
  {
   "cell_type": "code",
   "execution_count": null,
   "id": "f9e9f9e8",
   "metadata": {},
   "outputs": [],
   "source": [
    "\n",
    "import tempfile\n",
    "import papermill as pm\n",
    "\n",
    "with tempfile.NamedTemporaryFile(delete=False, suffix='.ipynb') as temp_output:\n",
    "    pm.execute_notebook(\n",
    "        \"test-papermill.ipynb\", \n",
    "        temp_output.name,        \n",
    "        parameters={\"param1\": \"TestRun\", \"param2\": 99},\n",
    "        kernel_name=\"python3\"\n",
    "    )\n",
    "    print(f\"Output saved to {temp_output.name}\")\n",
    "    output_path = temp_output.name  \n",
    "output_path\n"
   ]
  },
  {
   "cell_type": "code",
   "execution_count": null,
   "id": "67384df7",
   "metadata": {},
   "outputs": [],
   "source": [
    "\n",
    "import ipywidgets as widgets\n",
    "from IPython.display import display\n",
    "\n",
    "slider = widgets.IntSlider(value=50, min=0, max=100, description=\"Slider:\")\n",
    "button = widgets.Button(description=\"Click Me\")\n",
    "output = widgets.Output()\n",
    "\n",
    "def on_button_click(b):\n",
    "    with output:\n",
    "        print(\"Button Clicked!\")\n",
    "\n",
    "button.on_click(on_button_click)\n",
    "display(slider, button, output)\n"
   ]
  },
  {
   "cell_type": "code",
   "execution_count": null,
   "id": "8216e52d",
   "metadata": {},
   "outputs": [],
   "source": [
    "\n",
    "from dash import dcc, html, Dash\n",
    "app = Dash(__name__)\n",
    "app.layout = html.Div([\n",
    "    dcc.Graph(\n",
    "        id='graph',\n",
    "        figure={\n",
    "            'data': [{'x': [1, 2, 3, 4], 'y': [10, 11, 12, 13], 'type': 'line', 'name': 'Test'}],\n",
    "            'layout': {'title': 'Dash in JupyterLab'}\n",
    "        }\n",
    "    )\n",
    "])\n",
    "app.run_server(host=\"0.0.0.0\", port=8052)\n"
   ]
  },
  {
   "cell_type": "code",
   "execution_count": null,
   "id": "1be0bc85",
   "metadata": {},
   "outputs": [],
   "source": [
    "\n",
    "import numpy as np\n",
    "np\n"
   ]
  },
  {
   "cell_type": "code",
   "execution_count": null,
   "id": "73c151b0",
   "metadata": {},
   "outputs": [],
   "source": [
    "\n",
    "import numpy as np\n",
    "import pandas as pd\n",
    "import ipydatagrid\n",
    "\n",
    "data = pd.DataFrame(\n",
    "    np.random.randint(0, 100, size=(5, 5)), \n",
    "    columns=[\"A\", \"B\", \"C\", \"D\", \"E\"]\n",
    ")\n",
    "grid = ipydatagrid.DataGrid(data, editable=True)\n",
    "grid\n"
   ]
  },
  {
   "cell_type": "code",
   "execution_count": null,
   "id": "e057a91a",
   "metadata": {},
   "outputs": [],
   "source": [
    "\n",
    "# Activate ipympl\n",
    "%matplotlib widget  \n",
    "\n",
    "import matplotlib.pyplot as plt  \n",
    "import numpy as np  \n",
    "\n",
    "x = np.linspace(0, 10, 100)  \n",
    "y = np.sin(x)  \n",
    "\n",
    "fig, ax = plt.subplots()  \n",
    "ax.plot(x, y)  \n",
    "plt.show()\n"
   ]
  },
  {
   "cell_type": "code",
   "execution_count": null,
   "id": "73f18fef",
   "metadata": {},
   "outputs": [],
   "source": [
    "\n",
    "def             my_function(x,      y):\n",
    "    print(x,            y)\n"
   ]
  },
  {
   "cell_type": "code",
   "execution_count": null,
   "id": "8175258b",
   "metadata": {},
   "outputs": [],
   "source": [
    "\n",
    "import tempfile\n",
    "import papermill as pm\n",
    "\n",
    "with tempfile.NamedTemporaryFile(delete=False, suffix='.ipynb') as temp_output:\n",
    "    pm.execute_notebook(\n",
    "        \"test-papermill.ipynb\", \n",
    "        temp_output.name,        \n",
    "        parameters={\"param1\": \"TestRun\", \"param2\": 99},\n",
    "        kernel_name=\"python3\"\n",
    "    )\n",
    "    print(f\"Output saved to {temp_output.name}\")\n",
    "    output_path = temp_output.name  \n",
    "output_path\n"
   ]
  },
  {
   "cell_type": "code",
   "execution_count": null,
   "id": "35f09140",
   "metadata": {},
   "outputs": [],
   "source": [
    "\n",
    "import ipywidgets as widgets\n",
    "from IPython.display import display\n",
    "\n",
    "slider = widgets.IntSlider(value=50, min=0, max=100, description=\"Slider:\")\n",
    "button = widgets.Button(description=\"Click Me\")\n",
    "output = widgets.Output()\n",
    "\n",
    "def on_button_click(b):\n",
    "    with output:\n",
    "        print(\"Button Clicked!\")\n",
    "\n",
    "button.on_click(on_button_click)\n",
    "display(slider, button, output)\n"
   ]
  },
  {
   "cell_type": "code",
   "execution_count": null,
   "id": "1904c431",
   "metadata": {},
   "outputs": [],
   "source": [
    "\n",
    "from dash import dcc, html, Dash\n",
    "app = Dash(__name__)\n",
    "app.layout = html.Div([\n",
    "    dcc.Graph(\n",
    "        id='graph',\n",
    "        figure={\n",
    "            'data': [{'x': [1, 2, 3, 4], 'y': [10, 11, 12, 13], 'type': 'line', 'name': 'Test'}],\n",
    "            'layout': {'title': 'Dash in JupyterLab'}\n",
    "        }\n",
    "    )\n",
    "])\n",
    "app.run_server(host=\"0.0.0.0\", port=8052)\n"
   ]
  },
  {
   "cell_type": "code",
   "execution_count": null,
   "id": "06f349e7",
   "metadata": {},
   "outputs": [],
   "source": [
    "\n",
    "import numpy as np\n",
    "np\n"
   ]
  },
  {
   "cell_type": "code",
   "execution_count": null,
   "id": "089eae64",
   "metadata": {},
   "outputs": [],
   "source": [
    "\n",
    "import numpy as np\n",
    "import pandas as pd\n",
    "import ipydatagrid\n",
    "\n",
    "data = pd.DataFrame(\n",
    "    np.random.randint(0, 100, size=(5, 5)), \n",
    "    columns=[\"A\", \"B\", \"C\", \"D\", \"E\"]\n",
    ")\n",
    "grid = ipydatagrid.DataGrid(data, editable=True)\n",
    "grid\n"
   ]
  },
  {
   "cell_type": "code",
   "execution_count": null,
   "id": "645df12d",
   "metadata": {},
   "outputs": [],
   "source": [
    "\n",
    "# Activate ipympl\n",
    "%matplotlib widget  \n",
    "\n",
    "import matplotlib.pyplot as plt  \n",
    "import numpy as np  \n",
    "\n",
    "x = np.linspace(0, 10, 100)  \n",
    "y = np.sin(x)  \n",
    "\n",
    "fig, ax = plt.subplots()  \n",
    "ax.plot(x, y)  \n",
    "plt.show()\n"
   ]
  },
  {
   "cell_type": "code",
   "execution_count": null,
   "id": "ee72ad9a",
   "metadata": {},
   "outputs": [],
   "source": [
    "\n",
    "def             my_function(x,      y):\n",
    "    print(x,            y)\n"
   ]
  },
  {
   "cell_type": "code",
   "execution_count": null,
   "id": "0ebcc60c",
   "metadata": {},
   "outputs": [],
   "source": [
    "\n",
    "import tempfile\n",
    "import papermill as pm\n",
    "\n",
    "with tempfile.NamedTemporaryFile(delete=False, suffix='.ipynb') as temp_output:\n",
    "    pm.execute_notebook(\n",
    "        \"test-papermill.ipynb\", \n",
    "        temp_output.name,        \n",
    "        parameters={\"param1\": \"TestRun\", \"param2\": 99},\n",
    "        kernel_name=\"python3\"\n",
    "    )\n",
    "    print(f\"Output saved to {temp_output.name}\")\n",
    "    output_path = temp_output.name  \n",
    "output_path\n"
   ]
  },
  {
   "cell_type": "code",
   "execution_count": null,
   "id": "63a38a44",
   "metadata": {},
   "outputs": [],
   "source": [
    "\n",
    "import ipywidgets as widgets\n",
    "from IPython.display import display\n",
    "\n",
    "slider = widgets.IntSlider(value=50, min=0, max=100, description=\"Slider:\")\n",
    "button = widgets.Button(description=\"Click Me\")\n",
    "output = widgets.Output()\n",
    "\n",
    "def on_button_click(b):\n",
    "    with output:\n",
    "        print(\"Button Clicked!\")\n",
    "\n",
    "button.on_click(on_button_click)\n",
    "display(slider, button, output)\n"
   ]
  },
  {
   "cell_type": "code",
   "execution_count": null,
   "id": "eac108df",
   "metadata": {},
   "outputs": [],
   "source": [
    "\n",
    "from dash import dcc, html, Dash\n",
    "app = Dash(__name__)\n",
    "app.layout = html.Div([\n",
    "    dcc.Graph(\n",
    "        id='graph',\n",
    "        figure={\n",
    "            'data': [{'x': [1, 2, 3, 4], 'y': [10, 11, 12, 13], 'type': 'line', 'name': 'Test'}],\n",
    "            'layout': {'title': 'Dash in JupyterLab'}\n",
    "        }\n",
    "    )\n",
    "])\n",
    "app.run_server(host=\"0.0.0.0\", port=8052)\n"
   ]
  },
  {
   "cell_type": "code",
   "execution_count": null,
   "id": "74a20226",
   "metadata": {},
   "outputs": [],
   "source": [
    "\n",
    "import numpy as np\n",
    "np\n"
   ]
  },
  {
   "cell_type": "code",
   "execution_count": null,
   "id": "e422b070",
   "metadata": {},
   "outputs": [],
   "source": [
    "\n",
    "import numpy as np\n",
    "import pandas as pd\n",
    "import ipydatagrid\n",
    "\n",
    "data = pd.DataFrame(\n",
    "    np.random.randint(0, 100, size=(5, 5)), \n",
    "    columns=[\"A\", \"B\", \"C\", \"D\", \"E\"]\n",
    ")\n",
    "grid = ipydatagrid.DataGrid(data, editable=True)\n",
    "grid\n"
   ]
  },
  {
   "cell_type": "code",
   "execution_count": null,
   "id": "d3af3cca",
   "metadata": {},
   "outputs": [],
   "source": [
    "\n",
    "# Activate ipympl\n",
    "%matplotlib widget  \n",
    "\n",
    "import matplotlib.pyplot as plt  \n",
    "import numpy as np  \n",
    "\n",
    "x = np.linspace(0, 10, 100)  \n",
    "y = np.sin(x)  \n",
    "\n",
    "fig, ax = plt.subplots()  \n",
    "ax.plot(x, y)  \n",
    "plt.show()\n"
   ]
  },
  {
   "cell_type": "code",
   "execution_count": null,
   "id": "c1146e55",
   "metadata": {},
   "outputs": [],
   "source": [
    "\n",
    "def             my_function(x,      y):\n",
    "    print(x,            y)\n"
   ]
  },
  {
   "cell_type": "code",
   "execution_count": null,
   "id": "eec028c9",
   "metadata": {},
   "outputs": [],
   "source": [
    "\n",
    "import tempfile\n",
    "import papermill as pm\n",
    "\n",
    "with tempfile.NamedTemporaryFile(delete=False, suffix='.ipynb') as temp_output:\n",
    "    pm.execute_notebook(\n",
    "        \"test-papermill.ipynb\", \n",
    "        temp_output.name,        \n",
    "        parameters={\"param1\": \"TestRun\", \"param2\": 99},\n",
    "        kernel_name=\"python3\"\n",
    "    )\n",
    "    print(f\"Output saved to {temp_output.name}\")\n",
    "    output_path = temp_output.name  \n",
    "output_path\n"
   ]
  },
  {
   "cell_type": "code",
   "execution_count": null,
   "id": "4c741b9a",
   "metadata": {},
   "outputs": [],
   "source": [
    "\n",
    "import ipywidgets as widgets\n",
    "from IPython.display import display\n",
    "\n",
    "slider = widgets.IntSlider(value=50, min=0, max=100, description=\"Slider:\")\n",
    "button = widgets.Button(description=\"Click Me\")\n",
    "output = widgets.Output()\n",
    "\n",
    "def on_button_click(b):\n",
    "    with output:\n",
    "        print(\"Button Clicked!\")\n",
    "\n",
    "button.on_click(on_button_click)\n",
    "display(slider, button, output)\n"
   ]
  },
  {
   "cell_type": "code",
   "execution_count": null,
   "id": "8aff34c2",
   "metadata": {},
   "outputs": [],
   "source": [
    "\n",
    "from dash import dcc, html, Dash\n",
    "app = Dash(__name__)\n",
    "app.layout = html.Div([\n",
    "    dcc.Graph(\n",
    "        id='graph',\n",
    "        figure={\n",
    "            'data': [{'x': [1, 2, 3, 4], 'y': [10, 11, 12, 13], 'type': 'line', 'name': 'Test'}],\n",
    "            'layout': {'title': 'Dash in JupyterLab'}\n",
    "        }\n",
    "    )\n",
    "])\n",
    "app.run_server(host=\"0.0.0.0\", port=8052)\n"
   ]
  },
  {
   "cell_type": "code",
   "execution_count": null,
   "id": "74306a67",
   "metadata": {},
   "outputs": [],
   "source": [
    "\n",
    "import numpy as np\n",
    "np\n"
   ]
  },
  {
   "cell_type": "code",
   "execution_count": null,
   "id": "98a2a6f1",
   "metadata": {},
   "outputs": [],
   "source": [
    "\n",
    "import numpy as np\n",
    "import pandas as pd\n",
    "import ipydatagrid\n",
    "\n",
    "data = pd.DataFrame(\n",
    "    np.random.randint(0, 100, size=(5, 5)), \n",
    "    columns=[\"A\", \"B\", \"C\", \"D\", \"E\"]\n",
    ")\n",
    "grid = ipydatagrid.DataGrid(data, editable=True)\n",
    "grid\n"
   ]
  },
  {
   "cell_type": "code",
   "execution_count": null,
   "id": "940c0ad0",
   "metadata": {},
   "outputs": [],
   "source": [
    "\n",
    "# Activate ipympl\n",
    "%matplotlib widget  \n",
    "\n",
    "import matplotlib.pyplot as plt  \n",
    "import numpy as np  \n",
    "\n",
    "x = np.linspace(0, 10, 100)  \n",
    "y = np.sin(x)  \n",
    "\n",
    "fig, ax = plt.subplots()  \n",
    "ax.plot(x, y)  \n",
    "plt.show()\n"
   ]
  },
  {
   "cell_type": "code",
   "execution_count": null,
   "id": "3e618ae9",
   "metadata": {},
   "outputs": [],
   "source": [
    "\n",
    "def             my_function(x,      y):\n",
    "    print(x,            y)\n"
   ]
  },
  {
   "cell_type": "code",
   "execution_count": null,
   "id": "8a5c89ae",
   "metadata": {},
   "outputs": [],
   "source": [
    "\n",
    "import tempfile\n",
    "import papermill as pm\n",
    "\n",
    "with tempfile.NamedTemporaryFile(delete=False, suffix='.ipynb') as temp_output:\n",
    "    pm.execute_notebook(\n",
    "        \"test-papermill.ipynb\", \n",
    "        temp_output.name,        \n",
    "        parameters={\"param1\": \"TestRun\", \"param2\": 99},\n",
    "        kernel_name=\"python3\"\n",
    "    )\n",
    "    print(f\"Output saved to {temp_output.name}\")\n",
    "    output_path = temp_output.name  \n",
    "output_path\n"
   ]
  },
  {
   "cell_type": "code",
   "execution_count": null,
   "id": "e9f21974",
   "metadata": {},
   "outputs": [],
   "source": [
    "\n",
    "import ipywidgets as widgets\n",
    "from IPython.display import display\n",
    "\n",
    "slider = widgets.IntSlider(value=50, min=0, max=100, description=\"Slider:\")\n",
    "button = widgets.Button(description=\"Click Me\")\n",
    "output = widgets.Output()\n",
    "\n",
    "def on_button_click(b):\n",
    "    with output:\n",
    "        print(\"Button Clicked!\")\n",
    "\n",
    "button.on_click(on_button_click)\n",
    "display(slider, button, output)\n"
   ]
  },
  {
   "cell_type": "code",
   "execution_count": null,
   "id": "46189713",
   "metadata": {},
   "outputs": [],
   "source": [
    "\n",
    "from dash import dcc, html, Dash\n",
    "app = Dash(__name__)\n",
    "app.layout = html.Div([\n",
    "    dcc.Graph(\n",
    "        id='graph',\n",
    "        figure={\n",
    "            'data': [{'x': [1, 2, 3, 4], 'y': [10, 11, 12, 13], 'type': 'line', 'name': 'Test'}],\n",
    "            'layout': {'title': 'Dash in JupyterLab'}\n",
    "        }\n",
    "    )\n",
    "])\n",
    "app.run_server(host=\"0.0.0.0\", port=8052)\n"
   ]
  },
  {
   "cell_type": "code",
   "execution_count": null,
   "id": "e68f6b83",
   "metadata": {},
   "outputs": [],
   "source": [
    "\n",
    "import numpy as np\n",
    "np\n"
   ]
  },
  {
   "cell_type": "code",
   "execution_count": null,
   "id": "ccc26996",
   "metadata": {},
   "outputs": [],
   "source": [
    "\n",
    "import numpy as np\n",
    "import pandas as pd\n",
    "import ipydatagrid\n",
    "\n",
    "data = pd.DataFrame(\n",
    "    np.random.randint(0, 100, size=(5, 5)), \n",
    "    columns=[\"A\", \"B\", \"C\", \"D\", \"E\"]\n",
    ")\n",
    "grid = ipydatagrid.DataGrid(data, editable=True)\n",
    "grid\n"
   ]
  },
  {
   "cell_type": "code",
   "execution_count": null,
   "id": "10551d94",
   "metadata": {},
   "outputs": [],
   "source": [
    "\n",
    "# Activate ipympl\n",
    "%matplotlib widget  \n",
    "\n",
    "import matplotlib.pyplot as plt  \n",
    "import numpy as np  \n",
    "\n",
    "x = np.linspace(0, 10, 100)  \n",
    "y = np.sin(x)  \n",
    "\n",
    "fig, ax = plt.subplots()  \n",
    "ax.plot(x, y)  \n",
    "plt.show()\n"
   ]
  },
  {
   "cell_type": "code",
   "execution_count": null,
   "id": "90ff6dc9",
   "metadata": {},
   "outputs": [],
   "source": [
    "\n",
    "def             my_function(x,      y):\n",
    "    print(x,            y)\n"
   ]
  },
  {
   "cell_type": "code",
   "execution_count": null,
   "id": "196c36c8",
   "metadata": {},
   "outputs": [],
   "source": [
    "\n",
    "import tempfile\n",
    "import papermill as pm\n",
    "\n",
    "with tempfile.NamedTemporaryFile(delete=False, suffix='.ipynb') as temp_output:\n",
    "    pm.execute_notebook(\n",
    "        \"test-papermill.ipynb\", \n",
    "        temp_output.name,        \n",
    "        parameters={\"param1\": \"TestRun\", \"param2\": 99},\n",
    "        kernel_name=\"python3\"\n",
    "    )\n",
    "    print(f\"Output saved to {temp_output.name}\")\n",
    "    output_path = temp_output.name  \n",
    "output_path\n"
   ]
  },
  {
   "cell_type": "code",
   "execution_count": null,
   "id": "a0fcc356",
   "metadata": {},
   "outputs": [],
   "source": [
    "\n",
    "import ipywidgets as widgets\n",
    "from IPython.display import display\n",
    "\n",
    "slider = widgets.IntSlider(value=50, min=0, max=100, description=\"Slider:\")\n",
    "button = widgets.Button(description=\"Click Me\")\n",
    "output = widgets.Output()\n",
    "\n",
    "def on_button_click(b):\n",
    "    with output:\n",
    "        print(\"Button Clicked!\")\n",
    "\n",
    "button.on_click(on_button_click)\n",
    "display(slider, button, output)\n"
   ]
  },
  {
   "cell_type": "code",
   "execution_count": null,
   "id": "c9e49071",
   "metadata": {},
   "outputs": [],
   "source": [
    "\n",
    "from dash import dcc, html, Dash\n",
    "app = Dash(__name__)\n",
    "app.layout = html.Div([\n",
    "    dcc.Graph(\n",
    "        id='graph',\n",
    "        figure={\n",
    "            'data': [{'x': [1, 2, 3, 4], 'y': [10, 11, 12, 13], 'type': 'line', 'name': 'Test'}],\n",
    "            'layout': {'title': 'Dash in JupyterLab'}\n",
    "        }\n",
    "    )\n",
    "])\n",
    "app.run_server(host=\"0.0.0.0\", port=8052)\n"
   ]
  },
  {
   "cell_type": "code",
   "execution_count": null,
   "id": "43f136e7",
   "metadata": {},
   "outputs": [],
   "source": [
    "\n",
    "import numpy as np\n",
    "np\n"
   ]
  },
  {
   "cell_type": "code",
   "execution_count": null,
   "id": "4b6a402e",
   "metadata": {},
   "outputs": [],
   "source": [
    "\n",
    "import numpy as np\n",
    "import pandas as pd\n",
    "import ipydatagrid\n",
    "\n",
    "data = pd.DataFrame(\n",
    "    np.random.randint(0, 100, size=(5, 5)), \n",
    "    columns=[\"A\", \"B\", \"C\", \"D\", \"E\"]\n",
    ")\n",
    "grid = ipydatagrid.DataGrid(data, editable=True)\n",
    "grid\n"
   ]
  },
  {
   "cell_type": "code",
   "execution_count": null,
   "id": "674758c6",
   "metadata": {},
   "outputs": [],
   "source": [
    "\n",
    "# Activate ipympl\n",
    "%matplotlib widget  \n",
    "\n",
    "import matplotlib.pyplot as plt  \n",
    "import numpy as np  \n",
    "\n",
    "x = np.linspace(0, 10, 100)  \n",
    "y = np.sin(x)  \n",
    "\n",
    "fig, ax = plt.subplots()  \n",
    "ax.plot(x, y)  \n",
    "plt.show()\n"
   ]
  },
  {
   "cell_type": "code",
   "execution_count": null,
   "id": "6f5a3e08",
   "metadata": {},
   "outputs": [],
   "source": [
    "\n",
    "def             my_function(x,      y):\n",
    "    print(x,            y)\n"
   ]
  },
  {
   "cell_type": "code",
   "execution_count": null,
   "id": "8f3b5a66",
   "metadata": {},
   "outputs": [],
   "source": [
    "\n",
    "import tempfile\n",
    "import papermill as pm\n",
    "\n",
    "with tempfile.NamedTemporaryFile(delete=False, suffix='.ipynb') as temp_output:\n",
    "    pm.execute_notebook(\n",
    "        \"test-papermill.ipynb\", \n",
    "        temp_output.name,        \n",
    "        parameters={\"param1\": \"TestRun\", \"param2\": 99},\n",
    "        kernel_name=\"python3\"\n",
    "    )\n",
    "    print(f\"Output saved to {temp_output.name}\")\n",
    "    output_path = temp_output.name  \n",
    "output_path\n"
   ]
  },
  {
   "cell_type": "code",
   "execution_count": null,
   "id": "4846e6bd",
   "metadata": {},
   "outputs": [],
   "source": [
    "\n",
    "import ipywidgets as widgets\n",
    "from IPython.display import display\n",
    "\n",
    "slider = widgets.IntSlider(value=50, min=0, max=100, description=\"Slider:\")\n",
    "button = widgets.Button(description=\"Click Me\")\n",
    "output = widgets.Output()\n",
    "\n",
    "def on_button_click(b):\n",
    "    with output:\n",
    "        print(\"Button Clicked!\")\n",
    "\n",
    "button.on_click(on_button_click)\n",
    "display(slider, button, output)\n"
   ]
  },
  {
   "cell_type": "code",
   "execution_count": null,
   "id": "d52c7510",
   "metadata": {},
   "outputs": [],
   "source": [
    "\n",
    "from dash import dcc, html, Dash\n",
    "app = Dash(__name__)\n",
    "app.layout = html.Div([\n",
    "    dcc.Graph(\n",
    "        id='graph',\n",
    "        figure={\n",
    "            'data': [{'x': [1, 2, 3, 4], 'y': [10, 11, 12, 13], 'type': 'line', 'name': 'Test'}],\n",
    "            'layout': {'title': 'Dash in JupyterLab'}\n",
    "        }\n",
    "    )\n",
    "])\n",
    "app.run_server(host=\"0.0.0.0\", port=8052)\n"
   ]
  },
  {
   "cell_type": "code",
   "execution_count": null,
   "id": "44f3c209",
   "metadata": {},
   "outputs": [],
   "source": [
    "\n",
    "import numpy as np\n",
    "np\n"
   ]
  },
  {
   "cell_type": "code",
   "execution_count": null,
   "id": "665a3147",
   "metadata": {},
   "outputs": [],
   "source": [
    "\n",
    "import numpy as np\n",
    "import pandas as pd\n",
    "import ipydatagrid\n",
    "\n",
    "data = pd.DataFrame(\n",
    "    np.random.randint(0, 100, size=(5, 5)), \n",
    "    columns=[\"A\", \"B\", \"C\", \"D\", \"E\"]\n",
    ")\n",
    "grid = ipydatagrid.DataGrid(data, editable=True)\n",
    "grid\n"
   ]
  },
  {
   "cell_type": "code",
   "execution_count": null,
   "id": "989c925b",
   "metadata": {},
   "outputs": [],
   "source": [
    "\n",
    "# Activate ipympl\n",
    "%matplotlib widget  \n",
    "\n",
    "import matplotlib.pyplot as plt  \n",
    "import numpy as np  \n",
    "\n",
    "x = np.linspace(0, 10, 100)  \n",
    "y = np.sin(x)  \n",
    "\n",
    "fig, ax = plt.subplots()  \n",
    "ax.plot(x, y)  \n",
    "plt.show()\n"
   ]
  },
  {
   "cell_type": "code",
   "execution_count": null,
   "id": "ee8913eb",
   "metadata": {},
   "outputs": [],
   "source": [
    "\n",
    "def             my_function(x,      y):\n",
    "    print(x,            y)\n"
   ]
  },
  {
   "cell_type": "code",
   "execution_count": null,
   "id": "d61c1780",
   "metadata": {},
   "outputs": [],
   "source": [
    "\n",
    "import tempfile\n",
    "import papermill as pm\n",
    "\n",
    "with tempfile.NamedTemporaryFile(delete=False, suffix='.ipynb') as temp_output:\n",
    "    pm.execute_notebook(\n",
    "        \"test-papermill.ipynb\", \n",
    "        temp_output.name,        \n",
    "        parameters={\"param1\": \"TestRun\", \"param2\": 99},\n",
    "        kernel_name=\"python3\"\n",
    "    )\n",
    "    print(f\"Output saved to {temp_output.name}\")\n",
    "    output_path = temp_output.name  \n",
    "output_path\n"
   ]
  },
  {
   "cell_type": "code",
   "execution_count": null,
   "id": "37cd94e8",
   "metadata": {},
   "outputs": [],
   "source": [
    "\n",
    "import ipywidgets as widgets\n",
    "from IPython.display import display\n",
    "\n",
    "slider = widgets.IntSlider(value=50, min=0, max=100, description=\"Slider:\")\n",
    "button = widgets.Button(description=\"Click Me\")\n",
    "output = widgets.Output()\n",
    "\n",
    "def on_button_click(b):\n",
    "    with output:\n",
    "        print(\"Button Clicked!\")\n",
    "\n",
    "button.on_click(on_button_click)\n",
    "display(slider, button, output)\n"
   ]
  },
  {
   "cell_type": "code",
   "execution_count": null,
   "id": "d1804a95",
   "metadata": {},
   "outputs": [],
   "source": [
    "\n",
    "from dash import dcc, html, Dash\n",
    "app = Dash(__name__)\n",
    "app.layout = html.Div([\n",
    "    dcc.Graph(\n",
    "        id='graph',\n",
    "        figure={\n",
    "            'data': [{'x': [1, 2, 3, 4], 'y': [10, 11, 12, 13], 'type': 'line', 'name': 'Test'}],\n",
    "            'layout': {'title': 'Dash in JupyterLab'}\n",
    "        }\n",
    "    )\n",
    "])\n",
    "app.run_server(host=\"0.0.0.0\", port=8052)\n"
   ]
  },
  {
   "cell_type": "code",
   "execution_count": null,
   "id": "da3c407c",
   "metadata": {},
   "outputs": [],
   "source": [
    "\n",
    "import numpy as np\n",
    "np\n"
   ]
  },
  {
   "cell_type": "code",
   "execution_count": null,
   "id": "ba4b31e4",
   "metadata": {},
   "outputs": [],
   "source": [
    "\n",
    "import numpy as np\n",
    "import pandas as pd\n",
    "import ipydatagrid\n",
    "\n",
    "data = pd.DataFrame(\n",
    "    np.random.randint(0, 100, size=(5, 5)), \n",
    "    columns=[\"A\", \"B\", \"C\", \"D\", \"E\"]\n",
    ")\n",
    "grid = ipydatagrid.DataGrid(data, editable=True)\n",
    "grid\n"
   ]
  },
  {
   "cell_type": "code",
   "execution_count": null,
   "id": "680cd2d5",
   "metadata": {},
   "outputs": [],
   "source": [
    "\n",
    "# Activate ipympl\n",
    "%matplotlib widget  \n",
    "\n",
    "import matplotlib.pyplot as plt  \n",
    "import numpy as np  \n",
    "\n",
    "x = np.linspace(0, 10, 100)  \n",
    "y = np.sin(x)  \n",
    "\n",
    "fig, ax = plt.subplots()  \n",
    "ax.plot(x, y)  \n",
    "plt.show()\n"
   ]
  },
  {
   "cell_type": "code",
   "execution_count": null,
   "id": "a8180bc9",
   "metadata": {},
   "outputs": [],
   "source": [
    "\n",
    "def             my_function(x,      y):\n",
    "    print(x,            y)\n"
   ]
  },
  {
   "cell_type": "code",
   "execution_count": null,
   "id": "03df314b",
   "metadata": {},
   "outputs": [],
   "source": [
    "\n",
    "import tempfile\n",
    "import papermill as pm\n",
    "\n",
    "with tempfile.NamedTemporaryFile(delete=False, suffix='.ipynb') as temp_output:\n",
    "    pm.execute_notebook(\n",
    "        \"test-papermill.ipynb\", \n",
    "        temp_output.name,        \n",
    "        parameters={\"param1\": \"TestRun\", \"param2\": 99},\n",
    "        kernel_name=\"python3\"\n",
    "    )\n",
    "    print(f\"Output saved to {temp_output.name}\")\n",
    "    output_path = temp_output.name  \n",
    "output_path\n"
   ]
  },
  {
   "cell_type": "code",
   "execution_count": null,
   "id": "946f422f",
   "metadata": {},
   "outputs": [],
   "source": [
    "\n",
    "import ipywidgets as widgets\n",
    "from IPython.display import display\n",
    "\n",
    "slider = widgets.IntSlider(value=50, min=0, max=100, description=\"Slider:\")\n",
    "button = widgets.Button(description=\"Click Me\")\n",
    "output = widgets.Output()\n",
    "\n",
    "def on_button_click(b):\n",
    "    with output:\n",
    "        print(\"Button Clicked!\")\n",
    "\n",
    "button.on_click(on_button_click)\n",
    "display(slider, button, output)\n"
   ]
  },
  {
   "cell_type": "code",
   "execution_count": null,
   "id": "38a68518",
   "metadata": {},
   "outputs": [],
   "source": [
    "\n",
    "from dash import dcc, html, Dash\n",
    "app = Dash(__name__)\n",
    "app.layout = html.Div([\n",
    "    dcc.Graph(\n",
    "        id='graph',\n",
    "        figure={\n",
    "            'data': [{'x': [1, 2, 3, 4], 'y': [10, 11, 12, 13], 'type': 'line', 'name': 'Test'}],\n",
    "            'layout': {'title': 'Dash in JupyterLab'}\n",
    "        }\n",
    "    )\n",
    "])\n",
    "app.run_server(host=\"0.0.0.0\", port=8052)\n"
   ]
  },
  {
   "cell_type": "code",
   "execution_count": null,
   "id": "fc819772",
   "metadata": {},
   "outputs": [],
   "source": [
    "\n",
    "import numpy as np\n",
    "np\n"
   ]
  },
  {
   "cell_type": "code",
   "execution_count": null,
   "id": "ada07908",
   "metadata": {},
   "outputs": [],
   "source": [
    "\n",
    "import numpy as np\n",
    "import pandas as pd\n",
    "import ipydatagrid\n",
    "\n",
    "data = pd.DataFrame(\n",
    "    np.random.randint(0, 100, size=(5, 5)), \n",
    "    columns=[\"A\", \"B\", \"C\", \"D\", \"E\"]\n",
    ")\n",
    "grid = ipydatagrid.DataGrid(data, editable=True)\n",
    "grid\n"
   ]
  },
  {
   "cell_type": "code",
   "execution_count": null,
   "id": "7246e60a",
   "metadata": {},
   "outputs": [],
   "source": [
    "\n",
    "# Activate ipympl\n",
    "%matplotlib widget  \n",
    "\n",
    "import matplotlib.pyplot as plt  \n",
    "import numpy as np  \n",
    "\n",
    "x = np.linspace(0, 10, 100)  \n",
    "y = np.sin(x)  \n",
    "\n",
    "fig, ax = plt.subplots()  \n",
    "ax.plot(x, y)  \n",
    "plt.show()\n"
   ]
  },
  {
   "cell_type": "code",
   "execution_count": null,
   "id": "5c9b1d39",
   "metadata": {},
   "outputs": [],
   "source": [
    "\n",
    "def             my_function(x,      y):\n",
    "    print(x,            y)\n"
   ]
  },
  {
   "cell_type": "code",
   "execution_count": null,
   "id": "f7db5feb",
   "metadata": {},
   "outputs": [],
   "source": [
    "\n",
    "import tempfile\n",
    "import papermill as pm\n",
    "\n",
    "with tempfile.NamedTemporaryFile(delete=False, suffix='.ipynb') as temp_output:\n",
    "    pm.execute_notebook(\n",
    "        \"test-papermill.ipynb\", \n",
    "        temp_output.name,        \n",
    "        parameters={\"param1\": \"TestRun\", \"param2\": 99},\n",
    "        kernel_name=\"python3\"\n",
    "    )\n",
    "    print(f\"Output saved to {temp_output.name}\")\n",
    "    output_path = temp_output.name  \n",
    "output_path\n"
   ]
  },
  {
   "cell_type": "code",
   "execution_count": null,
   "id": "9ab596be",
   "metadata": {},
   "outputs": [],
   "source": [
    "\n",
    "import ipywidgets as widgets\n",
    "from IPython.display import display\n",
    "\n",
    "slider = widgets.IntSlider(value=50, min=0, max=100, description=\"Slider:\")\n",
    "button = widgets.Button(description=\"Click Me\")\n",
    "output = widgets.Output()\n",
    "\n",
    "def on_button_click(b):\n",
    "    with output:\n",
    "        print(\"Button Clicked!\")\n",
    "\n",
    "button.on_click(on_button_click)\n",
    "display(slider, button, output)\n"
   ]
  },
  {
   "cell_type": "code",
   "execution_count": null,
   "id": "c75c8922",
   "metadata": {},
   "outputs": [],
   "source": [
    "\n",
    "from dash import dcc, html, Dash\n",
    "app = Dash(__name__)\n",
    "app.layout = html.Div([\n",
    "    dcc.Graph(\n",
    "        id='graph',\n",
    "        figure={\n",
    "            'data': [{'x': [1, 2, 3, 4], 'y': [10, 11, 12, 13], 'type': 'line', 'name': 'Test'}],\n",
    "            'layout': {'title': 'Dash in JupyterLab'}\n",
    "        }\n",
    "    )\n",
    "])\n",
    "app.run_server(host=\"0.0.0.0\", port=8052)\n"
   ]
  },
  {
   "cell_type": "code",
   "execution_count": null,
   "id": "2da974c3",
   "metadata": {},
   "outputs": [],
   "source": [
    "\n",
    "import numpy as np\n",
    "np\n"
   ]
  },
  {
   "cell_type": "code",
   "execution_count": null,
   "id": "a53f03b1",
   "metadata": {},
   "outputs": [],
   "source": [
    "\n",
    "import numpy as np\n",
    "import pandas as pd\n",
    "import ipydatagrid\n",
    "\n",
    "data = pd.DataFrame(\n",
    "    np.random.randint(0, 100, size=(5, 5)), \n",
    "    columns=[\"A\", \"B\", \"C\", \"D\", \"E\"]\n",
    ")\n",
    "grid = ipydatagrid.DataGrid(data, editable=True)\n",
    "grid\n"
   ]
  },
  {
   "cell_type": "code",
   "execution_count": null,
   "id": "afcc4c8b",
   "metadata": {},
   "outputs": [],
   "source": [
    "\n",
    "# Activate ipympl\n",
    "%matplotlib widget  \n",
    "\n",
    "import matplotlib.pyplot as plt  \n",
    "import numpy as np  \n",
    "\n",
    "x = np.linspace(0, 10, 100)  \n",
    "y = np.sin(x)  \n",
    "\n",
    "fig, ax = plt.subplots()  \n",
    "ax.plot(x, y)  \n",
    "plt.show()\n"
   ]
  },
  {
   "cell_type": "code",
   "execution_count": null,
   "id": "512574e3",
   "metadata": {},
   "outputs": [],
   "source": [
    "\n",
    "def             my_function(x,      y):\n",
    "    print(x,            y)\n"
   ]
  },
  {
   "cell_type": "code",
   "execution_count": null,
   "id": "07982f60",
   "metadata": {},
   "outputs": [],
   "source": [
    "\n",
    "import tempfile\n",
    "import papermill as pm\n",
    "\n",
    "with tempfile.NamedTemporaryFile(delete=False, suffix='.ipynb') as temp_output:\n",
    "    pm.execute_notebook(\n",
    "        \"test-papermill.ipynb\", \n",
    "        temp_output.name,        \n",
    "        parameters={\"param1\": \"TestRun\", \"param2\": 99},\n",
    "        kernel_name=\"python3\"\n",
    "    )\n",
    "    print(f\"Output saved to {temp_output.name}\")\n",
    "    output_path = temp_output.name  \n",
    "output_path\n"
   ]
  },
  {
   "cell_type": "code",
   "execution_count": null,
   "id": "8014ea45",
   "metadata": {},
   "outputs": [],
   "source": [
    "\n",
    "import ipywidgets as widgets\n",
    "from IPython.display import display\n",
    "\n",
    "slider = widgets.IntSlider(value=50, min=0, max=100, description=\"Slider:\")\n",
    "button = widgets.Button(description=\"Click Me\")\n",
    "output = widgets.Output()\n",
    "\n",
    "def on_button_click(b):\n",
    "    with output:\n",
    "        print(\"Button Clicked!\")\n",
    "\n",
    "button.on_click(on_button_click)\n",
    "display(slider, button, output)\n"
   ]
  },
  {
   "cell_type": "code",
   "execution_count": null,
   "id": "0f88945d",
   "metadata": {},
   "outputs": [],
   "source": [
    "\n",
    "from dash import dcc, html, Dash\n",
    "app = Dash(__name__)\n",
    "app.layout = html.Div([\n",
    "    dcc.Graph(\n",
    "        id='graph',\n",
    "        figure={\n",
    "            'data': [{'x': [1, 2, 3, 4], 'y': [10, 11, 12, 13], 'type': 'line', 'name': 'Test'}],\n",
    "            'layout': {'title': 'Dash in JupyterLab'}\n",
    "        }\n",
    "    )\n",
    "])\n",
    "app.run_server(host=\"0.0.0.0\", port=8052)\n"
   ]
  },
  {
   "cell_type": "code",
   "execution_count": null,
   "id": "bcd1ee1b",
   "metadata": {},
   "outputs": [],
   "source": [
    "\n",
    "import numpy as np\n",
    "np\n"
   ]
  },
  {
   "cell_type": "code",
   "execution_count": null,
   "id": "c950fea4",
   "metadata": {},
   "outputs": [],
   "source": [
    "\n",
    "import numpy as np\n",
    "import pandas as pd\n",
    "import ipydatagrid\n",
    "\n",
    "data = pd.DataFrame(\n",
    "    np.random.randint(0, 100, size=(5, 5)), \n",
    "    columns=[\"A\", \"B\", \"C\", \"D\", \"E\"]\n",
    ")\n",
    "grid = ipydatagrid.DataGrid(data, editable=True)\n",
    "grid\n"
   ]
  },
  {
   "cell_type": "code",
   "execution_count": null,
   "id": "57379919",
   "metadata": {},
   "outputs": [],
   "source": [
    "\n",
    "# Activate ipympl\n",
    "%matplotlib widget  \n",
    "\n",
    "import matplotlib.pyplot as plt  \n",
    "import numpy as np  \n",
    "\n",
    "x = np.linspace(0, 10, 100)  \n",
    "y = np.sin(x)  \n",
    "\n",
    "fig, ax = plt.subplots()  \n",
    "ax.plot(x, y)  \n",
    "plt.show()\n"
   ]
  },
  {
   "cell_type": "code",
   "execution_count": null,
   "id": "b4bdfb6a",
   "metadata": {},
   "outputs": [],
   "source": [
    "\n",
    "def             my_function(x,      y):\n",
    "    print(x,            y)\n"
   ]
  },
  {
   "cell_type": "code",
   "execution_count": null,
   "id": "008ce437",
   "metadata": {},
   "outputs": [],
   "source": [
    "\n",
    "import tempfile\n",
    "import papermill as pm\n",
    "\n",
    "with tempfile.NamedTemporaryFile(delete=False, suffix='.ipynb') as temp_output:\n",
    "    pm.execute_notebook(\n",
    "        \"test-papermill.ipynb\", \n",
    "        temp_output.name,        \n",
    "        parameters={\"param1\": \"TestRun\", \"param2\": 99},\n",
    "        kernel_name=\"python3\"\n",
    "    )\n",
    "    print(f\"Output saved to {temp_output.name}\")\n",
    "    output_path = temp_output.name  \n",
    "output_path\n"
   ]
  },
  {
   "cell_type": "code",
   "execution_count": null,
   "id": "0a7474b1",
   "metadata": {},
   "outputs": [],
   "source": [
    "\n",
    "import ipywidgets as widgets\n",
    "from IPython.display import display\n",
    "\n",
    "slider = widgets.IntSlider(value=50, min=0, max=100, description=\"Slider:\")\n",
    "button = widgets.Button(description=\"Click Me\")\n",
    "output = widgets.Output()\n",
    "\n",
    "def on_button_click(b):\n",
    "    with output:\n",
    "        print(\"Button Clicked!\")\n",
    "\n",
    "button.on_click(on_button_click)\n",
    "display(slider, button, output)\n"
   ]
  },
  {
   "cell_type": "code",
   "execution_count": null,
   "id": "81988b4e",
   "metadata": {},
   "outputs": [],
   "source": [
    "\n",
    "from dash import dcc, html, Dash\n",
    "app = Dash(__name__)\n",
    "app.layout = html.Div([\n",
    "    dcc.Graph(\n",
    "        id='graph',\n",
    "        figure={\n",
    "            'data': [{'x': [1, 2, 3, 4], 'y': [10, 11, 12, 13], 'type': 'line', 'name': 'Test'}],\n",
    "            'layout': {'title': 'Dash in JupyterLab'}\n",
    "        }\n",
    "    )\n",
    "])\n",
    "app.run_server(host=\"0.0.0.0\", port=8052)\n"
   ]
  },
  {
   "cell_type": "code",
   "execution_count": null,
   "id": "7f1b9c88",
   "metadata": {},
   "outputs": [],
   "source": [
    "\n",
    "import numpy as np\n",
    "np\n"
   ]
  },
  {
   "cell_type": "code",
   "execution_count": null,
   "id": "822985ad",
   "metadata": {},
   "outputs": [],
   "source": [
    "\n",
    "import numpy as np\n",
    "import pandas as pd\n",
    "import ipydatagrid\n",
    "\n",
    "data = pd.DataFrame(\n",
    "    np.random.randint(0, 100, size=(5, 5)), \n",
    "    columns=[\"A\", \"B\", \"C\", \"D\", \"E\"]\n",
    ")\n",
    "grid = ipydatagrid.DataGrid(data, editable=True)\n",
    "grid\n"
   ]
  },
  {
   "cell_type": "code",
   "execution_count": null,
   "id": "dbf1c143",
   "metadata": {},
   "outputs": [],
   "source": [
    "\n",
    "# Activate ipympl\n",
    "%matplotlib widget  \n",
    "\n",
    "import matplotlib.pyplot as plt  \n",
    "import numpy as np  \n",
    "\n",
    "x = np.linspace(0, 10, 100)  \n",
    "y = np.sin(x)  \n",
    "\n",
    "fig, ax = plt.subplots()  \n",
    "ax.plot(x, y)  \n",
    "plt.show()\n"
   ]
  },
  {
   "cell_type": "code",
   "execution_count": null,
   "id": "aadbcf24",
   "metadata": {},
   "outputs": [],
   "source": [
    "\n",
    "def             my_function(x,      y):\n",
    "    print(x,            y)\n"
   ]
  },
  {
   "cell_type": "code",
   "execution_count": null,
   "id": "bba19be2",
   "metadata": {},
   "outputs": [],
   "source": [
    "\n",
    "import tempfile\n",
    "import papermill as pm\n",
    "\n",
    "with tempfile.NamedTemporaryFile(delete=False, suffix='.ipynb') as temp_output:\n",
    "    pm.execute_notebook(\n",
    "        \"test-papermill.ipynb\", \n",
    "        temp_output.name,        \n",
    "        parameters={\"param1\": \"TestRun\", \"param2\": 99},\n",
    "        kernel_name=\"python3\"\n",
    "    )\n",
    "    print(f\"Output saved to {temp_output.name}\")\n",
    "    output_path = temp_output.name  \n",
    "output_path\n"
   ]
  },
  {
   "cell_type": "code",
   "execution_count": null,
   "id": "06f080a1",
   "metadata": {},
   "outputs": [],
   "source": [
    "\n",
    "import ipywidgets as widgets\n",
    "from IPython.display import display\n",
    "\n",
    "slider = widgets.IntSlider(value=50, min=0, max=100, description=\"Slider:\")\n",
    "button = widgets.Button(description=\"Click Me\")\n",
    "output = widgets.Output()\n",
    "\n",
    "def on_button_click(b):\n",
    "    with output:\n",
    "        print(\"Button Clicked!\")\n",
    "\n",
    "button.on_click(on_button_click)\n",
    "display(slider, button, output)\n"
   ]
  },
  {
   "cell_type": "code",
   "execution_count": null,
   "id": "8e107261",
   "metadata": {},
   "outputs": [],
   "source": [
    "\n",
    "from dash import dcc, html, Dash\n",
    "app = Dash(__name__)\n",
    "app.layout = html.Div([\n",
    "    dcc.Graph(\n",
    "        id='graph',\n",
    "        figure={\n",
    "            'data': [{'x': [1, 2, 3, 4], 'y': [10, 11, 12, 13], 'type': 'line', 'name': 'Test'}],\n",
    "            'layout': {'title': 'Dash in JupyterLab'}\n",
    "        }\n",
    "    )\n",
    "])\n",
    "app.run_server(host=\"0.0.0.0\", port=8052)\n"
   ]
  },
  {
   "cell_type": "code",
   "execution_count": null,
   "id": "c252f6b8",
   "metadata": {},
   "outputs": [],
   "source": [
    "\n",
    "import numpy as np\n",
    "np\n"
   ]
  },
  {
   "cell_type": "code",
   "execution_count": null,
   "id": "7045184c",
   "metadata": {},
   "outputs": [],
   "source": [
    "\n",
    "import numpy as np\n",
    "import pandas as pd\n",
    "import ipydatagrid\n",
    "\n",
    "data = pd.DataFrame(\n",
    "    np.random.randint(0, 100, size=(5, 5)), \n",
    "    columns=[\"A\", \"B\", \"C\", \"D\", \"E\"]\n",
    ")\n",
    "grid = ipydatagrid.DataGrid(data, editable=True)\n",
    "grid\n"
   ]
  },
  {
   "cell_type": "code",
   "execution_count": null,
   "id": "ec9f37fa",
   "metadata": {},
   "outputs": [],
   "source": [
    "\n",
    "# Activate ipympl\n",
    "%matplotlib widget  \n",
    "\n",
    "import matplotlib.pyplot as plt  \n",
    "import numpy as np  \n",
    "\n",
    "x = np.linspace(0, 10, 100)  \n",
    "y = np.sin(x)  \n",
    "\n",
    "fig, ax = plt.subplots()  \n",
    "ax.plot(x, y)  \n",
    "plt.show()\n"
   ]
  },
  {
   "cell_type": "code",
   "execution_count": null,
   "id": "86f22f58",
   "metadata": {},
   "outputs": [],
   "source": [
    "\n",
    "def             my_function(x,      y):\n",
    "    print(x,            y)\n"
   ]
  },
  {
   "cell_type": "code",
   "execution_count": null,
   "id": "97819262",
   "metadata": {},
   "outputs": [],
   "source": [
    "\n",
    "import tempfile\n",
    "import papermill as pm\n",
    "\n",
    "with tempfile.NamedTemporaryFile(delete=False, suffix='.ipynb') as temp_output:\n",
    "    pm.execute_notebook(\n",
    "        \"test-papermill.ipynb\", \n",
    "        temp_output.name,        \n",
    "        parameters={\"param1\": \"TestRun\", \"param2\": 99},\n",
    "        kernel_name=\"python3\"\n",
    "    )\n",
    "    print(f\"Output saved to {temp_output.name}\")\n",
    "    output_path = temp_output.name  \n",
    "output_path\n"
   ]
  },
  {
   "cell_type": "code",
   "execution_count": null,
   "id": "45d57f2d",
   "metadata": {},
   "outputs": [],
   "source": [
    "\n",
    "import ipywidgets as widgets\n",
    "from IPython.display import display\n",
    "\n",
    "slider = widgets.IntSlider(value=50, min=0, max=100, description=\"Slider:\")\n",
    "button = widgets.Button(description=\"Click Me\")\n",
    "output = widgets.Output()\n",
    "\n",
    "def on_button_click(b):\n",
    "    with output:\n",
    "        print(\"Button Clicked!\")\n",
    "\n",
    "button.on_click(on_button_click)\n",
    "display(slider, button, output)\n"
   ]
  },
  {
   "cell_type": "code",
   "execution_count": null,
   "id": "e0dfd5a4",
   "metadata": {},
   "outputs": [],
   "source": [
    "\n",
    "from dash import dcc, html, Dash\n",
    "app = Dash(__name__)\n",
    "app.layout = html.Div([\n",
    "    dcc.Graph(\n",
    "        id='graph',\n",
    "        figure={\n",
    "            'data': [{'x': [1, 2, 3, 4], 'y': [10, 11, 12, 13], 'type': 'line', 'name': 'Test'}],\n",
    "            'layout': {'title': 'Dash in JupyterLab'}\n",
    "        }\n",
    "    )\n",
    "])\n",
    "app.run_server(host=\"0.0.0.0\", port=8052)\n"
   ]
  },
  {
   "cell_type": "code",
   "execution_count": null,
   "id": "1514801e",
   "metadata": {},
   "outputs": [],
   "source": [
    "\n",
    "import numpy as np\n",
    "np\n"
   ]
  },
  {
   "cell_type": "code",
   "execution_count": null,
   "id": "61115ac3",
   "metadata": {},
   "outputs": [],
   "source": [
    "\n",
    "import numpy as np\n",
    "import pandas as pd\n",
    "import ipydatagrid\n",
    "\n",
    "data = pd.DataFrame(\n",
    "    np.random.randint(0, 100, size=(5, 5)), \n",
    "    columns=[\"A\", \"B\", \"C\", \"D\", \"E\"]\n",
    ")\n",
    "grid = ipydatagrid.DataGrid(data, editable=True)\n",
    "grid\n"
   ]
  },
  {
   "cell_type": "code",
   "execution_count": null,
   "id": "b77cb8da",
   "metadata": {},
   "outputs": [],
   "source": [
    "\n",
    "# Activate ipympl\n",
    "%matplotlib widget  \n",
    "\n",
    "import matplotlib.pyplot as plt  \n",
    "import numpy as np  \n",
    "\n",
    "x = np.linspace(0, 10, 100)  \n",
    "y = np.sin(x)  \n",
    "\n",
    "fig, ax = plt.subplots()  \n",
    "ax.plot(x, y)  \n",
    "plt.show()\n"
   ]
  },
  {
   "cell_type": "code",
   "execution_count": null,
   "id": "bfb54423",
   "metadata": {},
   "outputs": [],
   "source": [
    "\n",
    "def             my_function(x,      y):\n",
    "    print(x,            y)\n"
   ]
  },
  {
   "cell_type": "code",
   "execution_count": null,
   "id": "7d89406b",
   "metadata": {},
   "outputs": [],
   "source": [
    "\n",
    "import tempfile\n",
    "import papermill as pm\n",
    "\n",
    "with tempfile.NamedTemporaryFile(delete=False, suffix='.ipynb') as temp_output:\n",
    "    pm.execute_notebook(\n",
    "        \"test-papermill.ipynb\", \n",
    "        temp_output.name,        \n",
    "        parameters={\"param1\": \"TestRun\", \"param2\": 99},\n",
    "        kernel_name=\"python3\"\n",
    "    )\n",
    "    print(f\"Output saved to {temp_output.name}\")\n",
    "    output_path = temp_output.name  \n",
    "output_path\n"
   ]
  },
  {
   "cell_type": "code",
   "execution_count": null,
   "id": "4816f02b",
   "metadata": {},
   "outputs": [],
   "source": [
    "\n",
    "import ipywidgets as widgets\n",
    "from IPython.display import display\n",
    "\n",
    "slider = widgets.IntSlider(value=50, min=0, max=100, description=\"Slider:\")\n",
    "button = widgets.Button(description=\"Click Me\")\n",
    "output = widgets.Output()\n",
    "\n",
    "def on_button_click(b):\n",
    "    with output:\n",
    "        print(\"Button Clicked!\")\n",
    "\n",
    "button.on_click(on_button_click)\n",
    "display(slider, button, output)\n"
   ]
  },
  {
   "cell_type": "code",
   "execution_count": null,
   "id": "5ebc5c6c",
   "metadata": {},
   "outputs": [],
   "source": [
    "\n",
    "from dash import dcc, html, Dash\n",
    "app = Dash(__name__)\n",
    "app.layout = html.Div([\n",
    "    dcc.Graph(\n",
    "        id='graph',\n",
    "        figure={\n",
    "            'data': [{'x': [1, 2, 3, 4], 'y': [10, 11, 12, 13], 'type': 'line', 'name': 'Test'}],\n",
    "            'layout': {'title': 'Dash in JupyterLab'}\n",
    "        }\n",
    "    )\n",
    "])\n",
    "app.run_server(host=\"0.0.0.0\", port=8052)\n"
   ]
  },
  {
   "cell_type": "code",
   "execution_count": null,
   "id": "35240a13",
   "metadata": {},
   "outputs": [],
   "source": [
    "\n",
    "import numpy as np\n",
    "np\n"
   ]
  },
  {
   "cell_type": "code",
   "execution_count": null,
   "id": "d9eac003",
   "metadata": {},
   "outputs": [],
   "source": [
    "\n",
    "import numpy as np\n",
    "import pandas as pd\n",
    "import ipydatagrid\n",
    "\n",
    "data = pd.DataFrame(\n",
    "    np.random.randint(0, 100, size=(5, 5)), \n",
    "    columns=[\"A\", \"B\", \"C\", \"D\", \"E\"]\n",
    ")\n",
    "grid = ipydatagrid.DataGrid(data, editable=True)\n",
    "grid\n"
   ]
  },
  {
   "cell_type": "code",
   "execution_count": null,
   "id": "249d4af2",
   "metadata": {},
   "outputs": [],
   "source": [
    "\n",
    "# Activate ipympl\n",
    "%matplotlib widget  \n",
    "\n",
    "import matplotlib.pyplot as plt  \n",
    "import numpy as np  \n",
    "\n",
    "x = np.linspace(0, 10, 100)  \n",
    "y = np.sin(x)  \n",
    "\n",
    "fig, ax = plt.subplots()  \n",
    "ax.plot(x, y)  \n",
    "plt.show()\n"
   ]
  },
  {
   "cell_type": "code",
   "execution_count": null,
   "id": "edbd3917",
   "metadata": {},
   "outputs": [],
   "source": [
    "\n",
    "def             my_function(x,      y):\n",
    "    print(x,            y)\n"
   ]
  },
  {
   "cell_type": "code",
   "execution_count": null,
   "id": "3bcff711",
   "metadata": {},
   "outputs": [],
   "source": [
    "\n",
    "import tempfile\n",
    "import papermill as pm\n",
    "\n",
    "with tempfile.NamedTemporaryFile(delete=False, suffix='.ipynb') as temp_output:\n",
    "    pm.execute_notebook(\n",
    "        \"test-papermill.ipynb\", \n",
    "        temp_output.name,        \n",
    "        parameters={\"param1\": \"TestRun\", \"param2\": 99},\n",
    "        kernel_name=\"python3\"\n",
    "    )\n",
    "    print(f\"Output saved to {temp_output.name}\")\n",
    "    output_path = temp_output.name  \n",
    "output_path\n"
   ]
  },
  {
   "cell_type": "code",
   "execution_count": null,
   "id": "6f880475",
   "metadata": {},
   "outputs": [],
   "source": [
    "\n",
    "import ipywidgets as widgets\n",
    "from IPython.display import display\n",
    "\n",
    "slider = widgets.IntSlider(value=50, min=0, max=100, description=\"Slider:\")\n",
    "button = widgets.Button(description=\"Click Me\")\n",
    "output = widgets.Output()\n",
    "\n",
    "def on_button_click(b):\n",
    "    with output:\n",
    "        print(\"Button Clicked!\")\n",
    "\n",
    "button.on_click(on_button_click)\n",
    "display(slider, button, output)\n"
   ]
  },
  {
   "cell_type": "code",
   "execution_count": null,
   "id": "2959a15b",
   "metadata": {},
   "outputs": [],
   "source": [
    "\n",
    "from dash import dcc, html, Dash\n",
    "app = Dash(__name__)\n",
    "app.layout = html.Div([\n",
    "    dcc.Graph(\n",
    "        id='graph',\n",
    "        figure={\n",
    "            'data': [{'x': [1, 2, 3, 4], 'y': [10, 11, 12, 13], 'type': 'line', 'name': 'Test'}],\n",
    "            'layout': {'title': 'Dash in JupyterLab'}\n",
    "        }\n",
    "    )\n",
    "])\n",
    "app.run_server(host=\"0.0.0.0\", port=8052)\n"
   ]
  },
  {
   "cell_type": "code",
   "execution_count": null,
   "id": "4fbf1d07",
   "metadata": {},
   "outputs": [],
   "source": [
    "\n",
    "import numpy as np\n",
    "np\n"
   ]
  },
  {
   "cell_type": "code",
   "execution_count": null,
   "id": "d945dfd3",
   "metadata": {},
   "outputs": [],
   "source": [
    "\n",
    "import numpy as np\n",
    "import pandas as pd\n",
    "import ipydatagrid\n",
    "\n",
    "data = pd.DataFrame(\n",
    "    np.random.randint(0, 100, size=(5, 5)), \n",
    "    columns=[\"A\", \"B\", \"C\", \"D\", \"E\"]\n",
    ")\n",
    "grid = ipydatagrid.DataGrid(data, editable=True)\n",
    "grid\n"
   ]
  },
  {
   "cell_type": "code",
   "execution_count": null,
   "id": "ea3f894d",
   "metadata": {},
   "outputs": [],
   "source": [
    "\n",
    "# Activate ipympl\n",
    "%matplotlib widget  \n",
    "\n",
    "import matplotlib.pyplot as plt  \n",
    "import numpy as np  \n",
    "\n",
    "x = np.linspace(0, 10, 100)  \n",
    "y = np.sin(x)  \n",
    "\n",
    "fig, ax = plt.subplots()  \n",
    "ax.plot(x, y)  \n",
    "plt.show()\n"
   ]
  },
  {
   "cell_type": "code",
   "execution_count": null,
   "id": "fd5a6e0b",
   "metadata": {},
   "outputs": [],
   "source": [
    "\n",
    "def             my_function(x,      y):\n",
    "    print(x,            y)\n"
   ]
  },
  {
   "cell_type": "code",
   "execution_count": null,
   "id": "b09e0c81",
   "metadata": {},
   "outputs": [],
   "source": [
    "\n",
    "import tempfile\n",
    "import papermill as pm\n",
    "\n",
    "with tempfile.NamedTemporaryFile(delete=False, suffix='.ipynb') as temp_output:\n",
    "    pm.execute_notebook(\n",
    "        \"test-papermill.ipynb\", \n",
    "        temp_output.name,        \n",
    "        parameters={\"param1\": \"TestRun\", \"param2\": 99},\n",
    "        kernel_name=\"python3\"\n",
    "    )\n",
    "    print(f\"Output saved to {temp_output.name}\")\n",
    "    output_path = temp_output.name  \n",
    "output_path\n"
   ]
  },
  {
   "cell_type": "code",
   "execution_count": null,
   "id": "79fb28f4",
   "metadata": {},
   "outputs": [],
   "source": [
    "\n",
    "import ipywidgets as widgets\n",
    "from IPython.display import display\n",
    "\n",
    "slider = widgets.IntSlider(value=50, min=0, max=100, description=\"Slider:\")\n",
    "button = widgets.Button(description=\"Click Me\")\n",
    "output = widgets.Output()\n",
    "\n",
    "def on_button_click(b):\n",
    "    with output:\n",
    "        print(\"Button Clicked!\")\n",
    "\n",
    "button.on_click(on_button_click)\n",
    "display(slider, button, output)\n"
   ]
  },
  {
   "cell_type": "code",
   "execution_count": null,
   "id": "1eb77ba9",
   "metadata": {},
   "outputs": [],
   "source": [
    "\n",
    "from dash import dcc, html, Dash\n",
    "app = Dash(__name__)\n",
    "app.layout = html.Div([\n",
    "    dcc.Graph(\n",
    "        id='graph',\n",
    "        figure={\n",
    "            'data': [{'x': [1, 2, 3, 4], 'y': [10, 11, 12, 13], 'type': 'line', 'name': 'Test'}],\n",
    "            'layout': {'title': 'Dash in JupyterLab'}\n",
    "        }\n",
    "    )\n",
    "])\n",
    "app.run_server(host=\"0.0.0.0\", port=8052)\n"
   ]
  },
  {
   "cell_type": "code",
   "execution_count": null,
   "id": "19ce6812",
   "metadata": {},
   "outputs": [],
   "source": [
    "\n",
    "import numpy as np\n",
    "np\n"
   ]
  },
  {
   "cell_type": "code",
   "execution_count": null,
   "id": "3e56a42b",
   "metadata": {},
   "outputs": [],
   "source": [
    "\n",
    "import numpy as np\n",
    "import pandas as pd\n",
    "import ipydatagrid\n",
    "\n",
    "data = pd.DataFrame(\n",
    "    np.random.randint(0, 100, size=(5, 5)), \n",
    "    columns=[\"A\", \"B\", \"C\", \"D\", \"E\"]\n",
    ")\n",
    "grid = ipydatagrid.DataGrid(data, editable=True)\n",
    "grid\n"
   ]
  },
  {
   "cell_type": "code",
   "execution_count": null,
   "id": "601001e9",
   "metadata": {},
   "outputs": [],
   "source": [
    "\n",
    "# Activate ipympl\n",
    "%matplotlib widget  \n",
    "\n",
    "import matplotlib.pyplot as plt  \n",
    "import numpy as np  \n",
    "\n",
    "x = np.linspace(0, 10, 100)  \n",
    "y = np.sin(x)  \n",
    "\n",
    "fig, ax = plt.subplots()  \n",
    "ax.plot(x, y)  \n",
    "plt.show()\n"
   ]
  },
  {
   "cell_type": "code",
   "execution_count": null,
   "id": "cf6d55d4",
   "metadata": {},
   "outputs": [],
   "source": [
    "\n",
    "def             my_function(x,      y):\n",
    "    print(x,            y)\n"
   ]
  },
  {
   "cell_type": "code",
   "execution_count": null,
   "id": "c0979f22",
   "metadata": {},
   "outputs": [],
   "source": [
    "\n",
    "import tempfile\n",
    "import papermill as pm\n",
    "\n",
    "with tempfile.NamedTemporaryFile(delete=False, suffix='.ipynb') as temp_output:\n",
    "    pm.execute_notebook(\n",
    "        \"test-papermill.ipynb\", \n",
    "        temp_output.name,        \n",
    "        parameters={\"param1\": \"TestRun\", \"param2\": 99},\n",
    "        kernel_name=\"python3\"\n",
    "    )\n",
    "    print(f\"Output saved to {temp_output.name}\")\n",
    "    output_path = temp_output.name  \n",
    "output_path\n"
   ]
  },
  {
   "cell_type": "code",
   "execution_count": null,
   "id": "7eacb262",
   "metadata": {},
   "outputs": [],
   "source": [
    "\n",
    "import ipywidgets as widgets\n",
    "from IPython.display import display\n",
    "\n",
    "slider = widgets.IntSlider(value=50, min=0, max=100, description=\"Slider:\")\n",
    "button = widgets.Button(description=\"Click Me\")\n",
    "output = widgets.Output()\n",
    "\n",
    "def on_button_click(b):\n",
    "    with output:\n",
    "        print(\"Button Clicked!\")\n",
    "\n",
    "button.on_click(on_button_click)\n",
    "display(slider, button, output)\n"
   ]
  },
  {
   "cell_type": "code",
   "execution_count": null,
   "id": "d4112a1c",
   "metadata": {},
   "outputs": [],
   "source": [
    "\n",
    "from dash import dcc, html, Dash\n",
    "app = Dash(__name__)\n",
    "app.layout = html.Div([\n",
    "    dcc.Graph(\n",
    "        id='graph',\n",
    "        figure={\n",
    "            'data': [{'x': [1, 2, 3, 4], 'y': [10, 11, 12, 13], 'type': 'line', 'name': 'Test'}],\n",
    "            'layout': {'title': 'Dash in JupyterLab'}\n",
    "        }\n",
    "    )\n",
    "])\n",
    "app.run_server(host=\"0.0.0.0\", port=8052)\n"
   ]
  },
  {
   "cell_type": "code",
   "execution_count": null,
   "id": "90f352b5",
   "metadata": {},
   "outputs": [],
   "source": [
    "\n",
    "import numpy as np\n",
    "np\n"
   ]
  },
  {
   "cell_type": "code",
   "execution_count": null,
   "id": "7271d8c2",
   "metadata": {},
   "outputs": [],
   "source": [
    "\n",
    "import numpy as np\n",
    "import pandas as pd\n",
    "import ipydatagrid\n",
    "\n",
    "data = pd.DataFrame(\n",
    "    np.random.randint(0, 100, size=(5, 5)), \n",
    "    columns=[\"A\", \"B\", \"C\", \"D\", \"E\"]\n",
    ")\n",
    "grid = ipydatagrid.DataGrid(data, editable=True)\n",
    "grid\n"
   ]
  },
  {
   "cell_type": "code",
   "execution_count": null,
   "id": "e5949246",
   "metadata": {},
   "outputs": [],
   "source": [
    "\n",
    "# Activate ipympl\n",
    "%matplotlib widget  \n",
    "\n",
    "import matplotlib.pyplot as plt  \n",
    "import numpy as np  \n",
    "\n",
    "x = np.linspace(0, 10, 100)  \n",
    "y = np.sin(x)  \n",
    "\n",
    "fig, ax = plt.subplots()  \n",
    "ax.plot(x, y)  \n",
    "plt.show()\n"
   ]
  },
  {
   "cell_type": "code",
   "execution_count": null,
   "id": "1d651388",
   "metadata": {},
   "outputs": [],
   "source": [
    "\n",
    "def             my_function(x,      y):\n",
    "    print(x,            y)\n"
   ]
  },
  {
   "cell_type": "code",
   "execution_count": null,
   "id": "b0a278c7",
   "metadata": {},
   "outputs": [],
   "source": [
    "\n",
    "import tempfile\n",
    "import papermill as pm\n",
    "\n",
    "with tempfile.NamedTemporaryFile(delete=False, suffix='.ipynb') as temp_output:\n",
    "    pm.execute_notebook(\n",
    "        \"test-papermill.ipynb\", \n",
    "        temp_output.name,        \n",
    "        parameters={\"param1\": \"TestRun\", \"param2\": 99},\n",
    "        kernel_name=\"python3\"\n",
    "    )\n",
    "    print(f\"Output saved to {temp_output.name}\")\n",
    "    output_path = temp_output.name  \n",
    "output_path\n"
   ]
  },
  {
   "cell_type": "code",
   "execution_count": null,
   "id": "31d4eb9a",
   "metadata": {},
   "outputs": [],
   "source": [
    "\n",
    "import ipywidgets as widgets\n",
    "from IPython.display import display\n",
    "\n",
    "slider = widgets.IntSlider(value=50, min=0, max=100, description=\"Slider:\")\n",
    "button = widgets.Button(description=\"Click Me\")\n",
    "output = widgets.Output()\n",
    "\n",
    "def on_button_click(b):\n",
    "    with output:\n",
    "        print(\"Button Clicked!\")\n",
    "\n",
    "button.on_click(on_button_click)\n",
    "display(slider, button, output)\n"
   ]
  },
  {
   "cell_type": "code",
   "execution_count": null,
   "id": "ab48425d",
   "metadata": {},
   "outputs": [],
   "source": [
    "\n",
    "from dash import dcc, html, Dash\n",
    "app = Dash(__name__)\n",
    "app.layout = html.Div([\n",
    "    dcc.Graph(\n",
    "        id='graph',\n",
    "        figure={\n",
    "            'data': [{'x': [1, 2, 3, 4], 'y': [10, 11, 12, 13], 'type': 'line', 'name': 'Test'}],\n",
    "            'layout': {'title': 'Dash in JupyterLab'}\n",
    "        }\n",
    "    )\n",
    "])\n",
    "app.run_server(host=\"0.0.0.0\", port=8052)\n"
   ]
  },
  {
   "cell_type": "code",
   "execution_count": null,
   "id": "26c4ea68",
   "metadata": {},
   "outputs": [],
   "source": [
    "\n",
    "import numpy as np\n",
    "np\n"
   ]
  },
  {
   "cell_type": "code",
   "execution_count": null,
   "id": "ca196716",
   "metadata": {},
   "outputs": [],
   "source": [
    "\n",
    "import numpy as np\n",
    "import pandas as pd\n",
    "import ipydatagrid\n",
    "\n",
    "data = pd.DataFrame(\n",
    "    np.random.randint(0, 100, size=(5, 5)), \n",
    "    columns=[\"A\", \"B\", \"C\", \"D\", \"E\"]\n",
    ")\n",
    "grid = ipydatagrid.DataGrid(data, editable=True)\n",
    "grid\n"
   ]
  },
  {
   "cell_type": "code",
   "execution_count": null,
   "id": "ac5f2669",
   "metadata": {},
   "outputs": [],
   "source": [
    "\n",
    "# Activate ipympl\n",
    "%matplotlib widget  \n",
    "\n",
    "import matplotlib.pyplot as plt  \n",
    "import numpy as np  \n",
    "\n",
    "x = np.linspace(0, 10, 100)  \n",
    "y = np.sin(x)  \n",
    "\n",
    "fig, ax = plt.subplots()  \n",
    "ax.plot(x, y)  \n",
    "plt.show()\n"
   ]
  },
  {
   "cell_type": "code",
   "execution_count": null,
   "id": "2844c991",
   "metadata": {},
   "outputs": [],
   "source": [
    "\n",
    "def             my_function(x,      y):\n",
    "    print(x,            y)\n"
   ]
  },
  {
   "cell_type": "code",
   "execution_count": null,
   "id": "c514b535",
   "metadata": {},
   "outputs": [],
   "source": [
    "\n",
    "import tempfile\n",
    "import papermill as pm\n",
    "\n",
    "with tempfile.NamedTemporaryFile(delete=False, suffix='.ipynb') as temp_output:\n",
    "    pm.execute_notebook(\n",
    "        \"test-papermill.ipynb\", \n",
    "        temp_output.name,        \n",
    "        parameters={\"param1\": \"TestRun\", \"param2\": 99},\n",
    "        kernel_name=\"python3\"\n",
    "    )\n",
    "    print(f\"Output saved to {temp_output.name}\")\n",
    "    output_path = temp_output.name  \n",
    "output_path\n"
   ]
  },
  {
   "cell_type": "code",
   "execution_count": null,
   "id": "29199f5b",
   "metadata": {},
   "outputs": [],
   "source": [
    "\n",
    "import ipywidgets as widgets\n",
    "from IPython.display import display\n",
    "\n",
    "slider = widgets.IntSlider(value=50, min=0, max=100, description=\"Slider:\")\n",
    "button = widgets.Button(description=\"Click Me\")\n",
    "output = widgets.Output()\n",
    "\n",
    "def on_button_click(b):\n",
    "    with output:\n",
    "        print(\"Button Clicked!\")\n",
    "\n",
    "button.on_click(on_button_click)\n",
    "display(slider, button, output)\n"
   ]
  },
  {
   "cell_type": "code",
   "execution_count": null,
   "id": "20b64fbc",
   "metadata": {},
   "outputs": [],
   "source": [
    "\n",
    "from dash import dcc, html, Dash\n",
    "app = Dash(__name__)\n",
    "app.layout = html.Div([\n",
    "    dcc.Graph(\n",
    "        id='graph',\n",
    "        figure={\n",
    "            'data': [{'x': [1, 2, 3, 4], 'y': [10, 11, 12, 13], 'type': 'line', 'name': 'Test'}],\n",
    "            'layout': {'title': 'Dash in JupyterLab'}\n",
    "        }\n",
    "    )\n",
    "])\n",
    "app.run_server(host=\"0.0.0.0\", port=8052)\n"
   ]
  },
  {
   "cell_type": "code",
   "execution_count": null,
   "id": "11a4c823",
   "metadata": {},
   "outputs": [],
   "source": [
    "\n",
    "import numpy as np\n",
    "np\n"
   ]
  },
  {
   "cell_type": "code",
   "execution_count": null,
   "id": "ad7a67cd",
   "metadata": {},
   "outputs": [],
   "source": [
    "\n",
    "import numpy as np\n",
    "import pandas as pd\n",
    "import ipydatagrid\n",
    "\n",
    "data = pd.DataFrame(\n",
    "    np.random.randint(0, 100, size=(5, 5)), \n",
    "    columns=[\"A\", \"B\", \"C\", \"D\", \"E\"]\n",
    ")\n",
    "grid = ipydatagrid.DataGrid(data, editable=True)\n",
    "grid\n"
   ]
  },
  {
   "cell_type": "code",
   "execution_count": null,
   "id": "e20ce35f",
   "metadata": {},
   "outputs": [],
   "source": [
    "\n",
    "# Activate ipympl\n",
    "%matplotlib widget  \n",
    "\n",
    "import matplotlib.pyplot as plt  \n",
    "import numpy as np  \n",
    "\n",
    "x = np.linspace(0, 10, 100)  \n",
    "y = np.sin(x)  \n",
    "\n",
    "fig, ax = plt.subplots()  \n",
    "ax.plot(x, y)  \n",
    "plt.show()\n"
   ]
  },
  {
   "cell_type": "code",
   "execution_count": null,
   "id": "9555c69f",
   "metadata": {},
   "outputs": [],
   "source": [
    "\n",
    "def             my_function(x,      y):\n",
    "    print(x,            y)\n"
   ]
  },
  {
   "cell_type": "code",
   "execution_count": null,
   "id": "896c192f",
   "metadata": {},
   "outputs": [],
   "source": [
    "\n",
    "import tempfile\n",
    "import papermill as pm\n",
    "\n",
    "with tempfile.NamedTemporaryFile(delete=False, suffix='.ipynb') as temp_output:\n",
    "    pm.execute_notebook(\n",
    "        \"test-papermill.ipynb\", \n",
    "        temp_output.name,        \n",
    "        parameters={\"param1\": \"TestRun\", \"param2\": 99},\n",
    "        kernel_name=\"python3\"\n",
    "    )\n",
    "    print(f\"Output saved to {temp_output.name}\")\n",
    "    output_path = temp_output.name  \n",
    "output_path\n"
   ]
  },
  {
   "cell_type": "code",
   "execution_count": null,
   "id": "faf8aac7",
   "metadata": {},
   "outputs": [],
   "source": [
    "\n",
    "import ipywidgets as widgets\n",
    "from IPython.display import display\n",
    "\n",
    "slider = widgets.IntSlider(value=50, min=0, max=100, description=\"Slider:\")\n",
    "button = widgets.Button(description=\"Click Me\")\n",
    "output = widgets.Output()\n",
    "\n",
    "def on_button_click(b):\n",
    "    with output:\n",
    "        print(\"Button Clicked!\")\n",
    "\n",
    "button.on_click(on_button_click)\n",
    "display(slider, button, output)\n"
   ]
  },
  {
   "cell_type": "code",
   "execution_count": null,
   "id": "79c44fb0",
   "metadata": {},
   "outputs": [],
   "source": [
    "\n",
    "from dash import dcc, html, Dash\n",
    "app = Dash(__name__)\n",
    "app.layout = html.Div([\n",
    "    dcc.Graph(\n",
    "        id='graph',\n",
    "        figure={\n",
    "            'data': [{'x': [1, 2, 3, 4], 'y': [10, 11, 12, 13], 'type': 'line', 'name': 'Test'}],\n",
    "            'layout': {'title': 'Dash in JupyterLab'}\n",
    "        }\n",
    "    )\n",
    "])\n",
    "app.run_server(host=\"0.0.0.0\", port=8052)\n"
   ]
  },
  {
   "cell_type": "code",
   "execution_count": null,
   "id": "b76d2d01",
   "metadata": {},
   "outputs": [],
   "source": [
    "\n",
    "import numpy as np\n",
    "np\n"
   ]
  },
  {
   "cell_type": "code",
   "execution_count": null,
   "id": "16e50bed",
   "metadata": {},
   "outputs": [],
   "source": [
    "\n",
    "import numpy as np\n",
    "import pandas as pd\n",
    "import ipydatagrid\n",
    "\n",
    "data = pd.DataFrame(\n",
    "    np.random.randint(0, 100, size=(5, 5)), \n",
    "    columns=[\"A\", \"B\", \"C\", \"D\", \"E\"]\n",
    ")\n",
    "grid = ipydatagrid.DataGrid(data, editable=True)\n",
    "grid\n"
   ]
  },
  {
   "cell_type": "code",
   "execution_count": null,
   "id": "e190528b",
   "metadata": {},
   "outputs": [],
   "source": [
    "\n",
    "# Activate ipympl\n",
    "%matplotlib widget  \n",
    "\n",
    "import matplotlib.pyplot as plt  \n",
    "import numpy as np  \n",
    "\n",
    "x = np.linspace(0, 10, 100)  \n",
    "y = np.sin(x)  \n",
    "\n",
    "fig, ax = plt.subplots()  \n",
    "ax.plot(x, y)  \n",
    "plt.show()\n"
   ]
  },
  {
   "cell_type": "code",
   "execution_count": null,
   "id": "98ccab7c",
   "metadata": {},
   "outputs": [],
   "source": [
    "\n",
    "def             my_function(x,      y):\n",
    "    print(x,            y)\n"
   ]
  },
  {
   "cell_type": "code",
   "execution_count": null,
   "id": "267e7c79",
   "metadata": {},
   "outputs": [],
   "source": [
    "\n",
    "import tempfile\n",
    "import papermill as pm\n",
    "\n",
    "with tempfile.NamedTemporaryFile(delete=False, suffix='.ipynb') as temp_output:\n",
    "    pm.execute_notebook(\n",
    "        \"test-papermill.ipynb\", \n",
    "        temp_output.name,        \n",
    "        parameters={\"param1\": \"TestRun\", \"param2\": 99},\n",
    "        kernel_name=\"python3\"\n",
    "    )\n",
    "    print(f\"Output saved to {temp_output.name}\")\n",
    "    output_path = temp_output.name  \n",
    "output_path\n"
   ]
  },
  {
   "cell_type": "code",
   "execution_count": null,
   "id": "08adcf54",
   "metadata": {},
   "outputs": [],
   "source": [
    "\n",
    "import ipywidgets as widgets\n",
    "from IPython.display import display\n",
    "\n",
    "slider = widgets.IntSlider(value=50, min=0, max=100, description=\"Slider:\")\n",
    "button = widgets.Button(description=\"Click Me\")\n",
    "output = widgets.Output()\n",
    "\n",
    "def on_button_click(b):\n",
    "    with output:\n",
    "        print(\"Button Clicked!\")\n",
    "\n",
    "button.on_click(on_button_click)\n",
    "display(slider, button, output)\n"
   ]
  },
  {
   "cell_type": "code",
   "execution_count": null,
   "id": "78d22089",
   "metadata": {},
   "outputs": [],
   "source": [
    "\n",
    "from dash import dcc, html, Dash\n",
    "app = Dash(__name__)\n",
    "app.layout = html.Div([\n",
    "    dcc.Graph(\n",
    "        id='graph',\n",
    "        figure={\n",
    "            'data': [{'x': [1, 2, 3, 4], 'y': [10, 11, 12, 13], 'type': 'line', 'name': 'Test'}],\n",
    "            'layout': {'title': 'Dash in JupyterLab'}\n",
    "        }\n",
    "    )\n",
    "])\n",
    "app.run_server(host=\"0.0.0.0\", port=8052)\n"
   ]
  },
  {
   "cell_type": "code",
   "execution_count": null,
   "id": "bf306d55",
   "metadata": {},
   "outputs": [],
   "source": [
    "\n",
    "import numpy as np\n",
    "np\n"
   ]
  },
  {
   "cell_type": "code",
   "execution_count": null,
   "id": "c7b37e27",
   "metadata": {},
   "outputs": [],
   "source": [
    "\n",
    "import numpy as np\n",
    "import pandas as pd\n",
    "import ipydatagrid\n",
    "\n",
    "data = pd.DataFrame(\n",
    "    np.random.randint(0, 100, size=(5, 5)), \n",
    "    columns=[\"A\", \"B\", \"C\", \"D\", \"E\"]\n",
    ")\n",
    "grid = ipydatagrid.DataGrid(data, editable=True)\n",
    "grid\n"
   ]
  },
  {
   "cell_type": "code",
   "execution_count": null,
   "id": "1129045e",
   "metadata": {},
   "outputs": [],
   "source": [
    "\n",
    "# Activate ipympl\n",
    "%matplotlib widget  \n",
    "\n",
    "import matplotlib.pyplot as plt  \n",
    "import numpy as np  \n",
    "\n",
    "x = np.linspace(0, 10, 100)  \n",
    "y = np.sin(x)  \n",
    "\n",
    "fig, ax = plt.subplots()  \n",
    "ax.plot(x, y)  \n",
    "plt.show()\n"
   ]
  },
  {
   "cell_type": "code",
   "execution_count": null,
   "id": "c4fd9038",
   "metadata": {},
   "outputs": [],
   "source": [
    "\n",
    "def             my_function(x,      y):\n",
    "    print(x,            y)\n"
   ]
  },
  {
   "cell_type": "code",
   "execution_count": null,
   "id": "c46bf48b",
   "metadata": {},
   "outputs": [],
   "source": [
    "\n",
    "import tempfile\n",
    "import papermill as pm\n",
    "\n",
    "with tempfile.NamedTemporaryFile(delete=False, suffix='.ipynb') as temp_output:\n",
    "    pm.execute_notebook(\n",
    "        \"test-papermill.ipynb\", \n",
    "        temp_output.name,        \n",
    "        parameters={\"param1\": \"TestRun\", \"param2\": 99},\n",
    "        kernel_name=\"python3\"\n",
    "    )\n",
    "    print(f\"Output saved to {temp_output.name}\")\n",
    "    output_path = temp_output.name  \n",
    "output_path\n"
   ]
  },
  {
   "cell_type": "code",
   "execution_count": null,
   "id": "c5d0c045",
   "metadata": {},
   "outputs": [],
   "source": [
    "\n",
    "import ipywidgets as widgets\n",
    "from IPython.display import display\n",
    "\n",
    "slider = widgets.IntSlider(value=50, min=0, max=100, description=\"Slider:\")\n",
    "button = widgets.Button(description=\"Click Me\")\n",
    "output = widgets.Output()\n",
    "\n",
    "def on_button_click(b):\n",
    "    with output:\n",
    "        print(\"Button Clicked!\")\n",
    "\n",
    "button.on_click(on_button_click)\n",
    "display(slider, button, output)\n"
   ]
  },
  {
   "cell_type": "code",
   "execution_count": null,
   "id": "e924e727",
   "metadata": {},
   "outputs": [],
   "source": [
    "\n",
    "from dash import dcc, html, Dash\n",
    "app = Dash(__name__)\n",
    "app.layout = html.Div([\n",
    "    dcc.Graph(\n",
    "        id='graph',\n",
    "        figure={\n",
    "            'data': [{'x': [1, 2, 3, 4], 'y': [10, 11, 12, 13], 'type': 'line', 'name': 'Test'}],\n",
    "            'layout': {'title': 'Dash in JupyterLab'}\n",
    "        }\n",
    "    )\n",
    "])\n",
    "app.run_server(host=\"0.0.0.0\", port=8052)\n"
   ]
  },
  {
   "cell_type": "code",
   "execution_count": null,
   "id": "b8cb6472",
   "metadata": {},
   "outputs": [],
   "source": [
    "\n",
    "import numpy as np\n",
    "np\n"
   ]
  },
  {
   "cell_type": "code",
   "execution_count": null,
   "id": "16728b0a",
   "metadata": {},
   "outputs": [],
   "source": [
    "\n",
    "import numpy as np\n",
    "import pandas as pd\n",
    "import ipydatagrid\n",
    "\n",
    "data = pd.DataFrame(\n",
    "    np.random.randint(0, 100, size=(5, 5)), \n",
    "    columns=[\"A\", \"B\", \"C\", \"D\", \"E\"]\n",
    ")\n",
    "grid = ipydatagrid.DataGrid(data, editable=True)\n",
    "grid\n"
   ]
  },
  {
   "cell_type": "code",
   "execution_count": null,
   "id": "1a64a344",
   "metadata": {},
   "outputs": [],
   "source": [
    "\n",
    "# Activate ipympl\n",
    "%matplotlib widget  \n",
    "\n",
    "import matplotlib.pyplot as plt  \n",
    "import numpy as np  \n",
    "\n",
    "x = np.linspace(0, 10, 100)  \n",
    "y = np.sin(x)  \n",
    "\n",
    "fig, ax = plt.subplots()  \n",
    "ax.plot(x, y)  \n",
    "plt.show()\n"
   ]
  },
  {
   "cell_type": "code",
   "execution_count": null,
   "id": "1ff7aabe",
   "metadata": {},
   "outputs": [],
   "source": [
    "\n",
    "def             my_function(x,      y):\n",
    "    print(x,            y)\n"
   ]
  },
  {
   "cell_type": "code",
   "execution_count": null,
   "id": "8b038d80",
   "metadata": {},
   "outputs": [],
   "source": [
    "\n",
    "import tempfile\n",
    "import papermill as pm\n",
    "\n",
    "with tempfile.NamedTemporaryFile(delete=False, suffix='.ipynb') as temp_output:\n",
    "    pm.execute_notebook(\n",
    "        \"test-papermill.ipynb\", \n",
    "        temp_output.name,        \n",
    "        parameters={\"param1\": \"TestRun\", \"param2\": 99},\n",
    "        kernel_name=\"python3\"\n",
    "    )\n",
    "    print(f\"Output saved to {temp_output.name}\")\n",
    "    output_path = temp_output.name  \n",
    "output_path\n"
   ]
  },
  {
   "cell_type": "code",
   "execution_count": null,
   "id": "34b4c10e",
   "metadata": {},
   "outputs": [],
   "source": [
    "\n",
    "import ipywidgets as widgets\n",
    "from IPython.display import display\n",
    "\n",
    "slider = widgets.IntSlider(value=50, min=0, max=100, description=\"Slider:\")\n",
    "button = widgets.Button(description=\"Click Me\")\n",
    "output = widgets.Output()\n",
    "\n",
    "def on_button_click(b):\n",
    "    with output:\n",
    "        print(\"Button Clicked!\")\n",
    "\n",
    "button.on_click(on_button_click)\n",
    "display(slider, button, output)\n"
   ]
  },
  {
   "cell_type": "code",
   "execution_count": null,
   "id": "c574e3be",
   "metadata": {},
   "outputs": [],
   "source": [
    "\n",
    "from dash import dcc, html, Dash\n",
    "app = Dash(__name__)\n",
    "app.layout = html.Div([\n",
    "    dcc.Graph(\n",
    "        id='graph',\n",
    "        figure={\n",
    "            'data': [{'x': [1, 2, 3, 4], 'y': [10, 11, 12, 13], 'type': 'line', 'name': 'Test'}],\n",
    "            'layout': {'title': 'Dash in JupyterLab'}\n",
    "        }\n",
    "    )\n",
    "])\n",
    "app.run_server(host=\"0.0.0.0\", port=8052)\n"
   ]
  },
  {
   "cell_type": "code",
   "execution_count": null,
   "id": "40b67434",
   "metadata": {},
   "outputs": [],
   "source": [
    "\n",
    "import numpy as np\n",
    "np\n"
   ]
  },
  {
   "cell_type": "code",
   "execution_count": null,
   "id": "4e3c1c1f",
   "metadata": {},
   "outputs": [],
   "source": [
    "\n",
    "import numpy as np\n",
    "import pandas as pd\n",
    "import ipydatagrid\n",
    "\n",
    "data = pd.DataFrame(\n",
    "    np.random.randint(0, 100, size=(5, 5)), \n",
    "    columns=[\"A\", \"B\", \"C\", \"D\", \"E\"]\n",
    ")\n",
    "grid = ipydatagrid.DataGrid(data, editable=True)\n",
    "grid\n"
   ]
  },
  {
   "cell_type": "code",
   "execution_count": null,
   "id": "ccafd209",
   "metadata": {},
   "outputs": [],
   "source": [
    "\n",
    "# Activate ipympl\n",
    "%matplotlib widget  \n",
    "\n",
    "import matplotlib.pyplot as plt  \n",
    "import numpy as np  \n",
    "\n",
    "x = np.linspace(0, 10, 100)  \n",
    "y = np.sin(x)  \n",
    "\n",
    "fig, ax = plt.subplots()  \n",
    "ax.plot(x, y)  \n",
    "plt.show()\n"
   ]
  },
  {
   "cell_type": "code",
   "execution_count": null,
   "id": "4e2fe408",
   "metadata": {},
   "outputs": [],
   "source": [
    "\n",
    "def             my_function(x,      y):\n",
    "    print(x,            y)\n"
   ]
  },
  {
   "cell_type": "code",
   "execution_count": null,
   "id": "bc8d9938",
   "metadata": {},
   "outputs": [],
   "source": [
    "\n",
    "import tempfile\n",
    "import papermill as pm\n",
    "\n",
    "with tempfile.NamedTemporaryFile(delete=False, suffix='.ipynb') as temp_output:\n",
    "    pm.execute_notebook(\n",
    "        \"test-papermill.ipynb\", \n",
    "        temp_output.name,        \n",
    "        parameters={\"param1\": \"TestRun\", \"param2\": 99},\n",
    "        kernel_name=\"python3\"\n",
    "    )\n",
    "    print(f\"Output saved to {temp_output.name}\")\n",
    "    output_path = temp_output.name  \n",
    "output_path\n"
   ]
  },
  {
   "cell_type": "code",
   "execution_count": null,
   "id": "905bfd79",
   "metadata": {},
   "outputs": [],
   "source": [
    "\n",
    "import ipywidgets as widgets\n",
    "from IPython.display import display\n",
    "\n",
    "slider = widgets.IntSlider(value=50, min=0, max=100, description=\"Slider:\")\n",
    "button = widgets.Button(description=\"Click Me\")\n",
    "output = widgets.Output()\n",
    "\n",
    "def on_button_click(b):\n",
    "    with output:\n",
    "        print(\"Button Clicked!\")\n",
    "\n",
    "button.on_click(on_button_click)\n",
    "display(slider, button, output)\n"
   ]
  },
  {
   "cell_type": "code",
   "execution_count": null,
   "id": "6c8f0737",
   "metadata": {},
   "outputs": [],
   "source": [
    "\n",
    "from dash import dcc, html, Dash\n",
    "app = Dash(__name__)\n",
    "app.layout = html.Div([\n",
    "    dcc.Graph(\n",
    "        id='graph',\n",
    "        figure={\n",
    "            'data': [{'x': [1, 2, 3, 4], 'y': [10, 11, 12, 13], 'type': 'line', 'name': 'Test'}],\n",
    "            'layout': {'title': 'Dash in JupyterLab'}\n",
    "        }\n",
    "    )\n",
    "])\n",
    "app.run_server(host=\"0.0.0.0\", port=8052)\n"
   ]
  },
  {
   "cell_type": "code",
   "execution_count": null,
   "id": "f3fa8e52",
   "metadata": {},
   "outputs": [],
   "source": [
    "\n",
    "import numpy as np\n",
    "np\n"
   ]
  },
  {
   "cell_type": "code",
   "execution_count": null,
   "id": "2551ff74",
   "metadata": {},
   "outputs": [],
   "source": [
    "\n",
    "import numpy as np\n",
    "import pandas as pd\n",
    "import ipydatagrid\n",
    "\n",
    "data = pd.DataFrame(\n",
    "    np.random.randint(0, 100, size=(5, 5)), \n",
    "    columns=[\"A\", \"B\", \"C\", \"D\", \"E\"]\n",
    ")\n",
    "grid = ipydatagrid.DataGrid(data, editable=True)\n",
    "grid\n"
   ]
  },
  {
   "cell_type": "code",
   "execution_count": null,
   "id": "091979fd",
   "metadata": {},
   "outputs": [],
   "source": [
    "\n",
    "# Activate ipympl\n",
    "%matplotlib widget  \n",
    "\n",
    "import matplotlib.pyplot as plt  \n",
    "import numpy as np  \n",
    "\n",
    "x = np.linspace(0, 10, 100)  \n",
    "y = np.sin(x)  \n",
    "\n",
    "fig, ax = plt.subplots()  \n",
    "ax.plot(x, y)  \n",
    "plt.show()\n"
   ]
  },
  {
   "cell_type": "code",
   "execution_count": null,
   "id": "07cb0192",
   "metadata": {},
   "outputs": [],
   "source": [
    "\n",
    "def             my_function(x,      y):\n",
    "    print(x,            y)\n"
   ]
  },
  {
   "cell_type": "code",
   "execution_count": null,
   "id": "8b181ffd",
   "metadata": {},
   "outputs": [],
   "source": [
    "\n",
    "import tempfile\n",
    "import papermill as pm\n",
    "\n",
    "with tempfile.NamedTemporaryFile(delete=False, suffix='.ipynb') as temp_output:\n",
    "    pm.execute_notebook(\n",
    "        \"test-papermill.ipynb\", \n",
    "        temp_output.name,        \n",
    "        parameters={\"param1\": \"TestRun\", \"param2\": 99},\n",
    "        kernel_name=\"python3\"\n",
    "    )\n",
    "    print(f\"Output saved to {temp_output.name}\")\n",
    "    output_path = temp_output.name  \n",
    "output_path\n"
   ]
  },
  {
   "cell_type": "code",
   "execution_count": null,
   "id": "8b245a05",
   "metadata": {},
   "outputs": [],
   "source": [
    "\n",
    "import ipywidgets as widgets\n",
    "from IPython.display import display\n",
    "\n",
    "slider = widgets.IntSlider(value=50, min=0, max=100, description=\"Slider:\")\n",
    "button = widgets.Button(description=\"Click Me\")\n",
    "output = widgets.Output()\n",
    "\n",
    "def on_button_click(b):\n",
    "    with output:\n",
    "        print(\"Button Clicked!\")\n",
    "\n",
    "button.on_click(on_button_click)\n",
    "display(slider, button, output)\n"
   ]
  },
  {
   "cell_type": "code",
   "execution_count": null,
   "id": "212c30ed",
   "metadata": {},
   "outputs": [],
   "source": [
    "\n",
    "from dash import dcc, html, Dash\n",
    "app = Dash(__name__)\n",
    "app.layout = html.Div([\n",
    "    dcc.Graph(\n",
    "        id='graph',\n",
    "        figure={\n",
    "            'data': [{'x': [1, 2, 3, 4], 'y': [10, 11, 12, 13], 'type': 'line', 'name': 'Test'}],\n",
    "            'layout': {'title': 'Dash in JupyterLab'}\n",
    "        }\n",
    "    )\n",
    "])\n",
    "app.run_server(host=\"0.0.0.0\", port=8052)\n"
   ]
  },
  {
   "cell_type": "code",
   "execution_count": null,
   "id": "006b71af",
   "metadata": {},
   "outputs": [],
   "source": [
    "\n",
    "import numpy as np\n",
    "np\n"
   ]
  },
  {
   "cell_type": "code",
   "execution_count": null,
   "id": "89300b2f",
   "metadata": {},
   "outputs": [],
   "source": [
    "\n",
    "import numpy as np\n",
    "import pandas as pd\n",
    "import ipydatagrid\n",
    "\n",
    "data = pd.DataFrame(\n",
    "    np.random.randint(0, 100, size=(5, 5)), \n",
    "    columns=[\"A\", \"B\", \"C\", \"D\", \"E\"]\n",
    ")\n",
    "grid = ipydatagrid.DataGrid(data, editable=True)\n",
    "grid\n"
   ]
  },
  {
   "cell_type": "code",
   "execution_count": null,
   "id": "35dfefeb",
   "metadata": {},
   "outputs": [],
   "source": [
    "\n",
    "# Activate ipympl\n",
    "%matplotlib widget  \n",
    "\n",
    "import matplotlib.pyplot as plt  \n",
    "import numpy as np  \n",
    "\n",
    "x = np.linspace(0, 10, 100)  \n",
    "y = np.sin(x)  \n",
    "\n",
    "fig, ax = plt.subplots()  \n",
    "ax.plot(x, y)  \n",
    "plt.show()\n"
   ]
  },
  {
   "cell_type": "code",
   "execution_count": null,
   "id": "c17e7f48",
   "metadata": {},
   "outputs": [],
   "source": [
    "\n",
    "def             my_function(x,      y):\n",
    "    print(x,            y)\n"
   ]
  },
  {
   "cell_type": "code",
   "execution_count": null,
   "id": "16c8af56",
   "metadata": {},
   "outputs": [],
   "source": [
    "\n",
    "import tempfile\n",
    "import papermill as pm\n",
    "\n",
    "with tempfile.NamedTemporaryFile(delete=False, suffix='.ipynb') as temp_output:\n",
    "    pm.execute_notebook(\n",
    "        \"test-papermill.ipynb\", \n",
    "        temp_output.name,        \n",
    "        parameters={\"param1\": \"TestRun\", \"param2\": 99},\n",
    "        kernel_name=\"python3\"\n",
    "    )\n",
    "    print(f\"Output saved to {temp_output.name}\")\n",
    "    output_path = temp_output.name  \n",
    "output_path\n"
   ]
  },
  {
   "cell_type": "code",
   "execution_count": null,
   "id": "784ae4e6",
   "metadata": {},
   "outputs": [],
   "source": [
    "\n",
    "import ipywidgets as widgets\n",
    "from IPython.display import display\n",
    "\n",
    "slider = widgets.IntSlider(value=50, min=0, max=100, description=\"Slider:\")\n",
    "button = widgets.Button(description=\"Click Me\")\n",
    "output = widgets.Output()\n",
    "\n",
    "def on_button_click(b):\n",
    "    with output:\n",
    "        print(\"Button Clicked!\")\n",
    "\n",
    "button.on_click(on_button_click)\n",
    "display(slider, button, output)\n"
   ]
  },
  {
   "cell_type": "code",
   "execution_count": null,
   "id": "7b7ddc73",
   "metadata": {},
   "outputs": [],
   "source": [
    "\n",
    "from dash import dcc, html, Dash\n",
    "app = Dash(__name__)\n",
    "app.layout = html.Div([\n",
    "    dcc.Graph(\n",
    "        id='graph',\n",
    "        figure={\n",
    "            'data': [{'x': [1, 2, 3, 4], 'y': [10, 11, 12, 13], 'type': 'line', 'name': 'Test'}],\n",
    "            'layout': {'title': 'Dash in JupyterLab'}\n",
    "        }\n",
    "    )\n",
    "])\n",
    "app.run_server(host=\"0.0.0.0\", port=8052)\n"
   ]
  },
  {
   "cell_type": "code",
   "execution_count": null,
   "id": "cfc6f311",
   "metadata": {},
   "outputs": [],
   "source": [
    "\n",
    "import numpy as np\n",
    "np\n"
   ]
  },
  {
   "cell_type": "code",
   "execution_count": null,
   "id": "61d4bd82",
   "metadata": {},
   "outputs": [],
   "source": [
    "\n",
    "import numpy as np\n",
    "import pandas as pd\n",
    "import ipydatagrid\n",
    "\n",
    "data = pd.DataFrame(\n",
    "    np.random.randint(0, 100, size=(5, 5)), \n",
    "    columns=[\"A\", \"B\", \"C\", \"D\", \"E\"]\n",
    ")\n",
    "grid = ipydatagrid.DataGrid(data, editable=True)\n",
    "grid\n"
   ]
  },
  {
   "cell_type": "code",
   "execution_count": null,
   "id": "56e18950",
   "metadata": {},
   "outputs": [],
   "source": [
    "\n",
    "# Activate ipympl\n",
    "%matplotlib widget  \n",
    "\n",
    "import matplotlib.pyplot as plt  \n",
    "import numpy as np  \n",
    "\n",
    "x = np.linspace(0, 10, 100)  \n",
    "y = np.sin(x)  \n",
    "\n",
    "fig, ax = plt.subplots()  \n",
    "ax.plot(x, y)  \n",
    "plt.show()\n"
   ]
  },
  {
   "cell_type": "code",
   "execution_count": null,
   "id": "35bb371e",
   "metadata": {},
   "outputs": [],
   "source": [
    "\n",
    "def             my_function(x,      y):\n",
    "    print(x,            y)\n"
   ]
  },
  {
   "cell_type": "code",
   "execution_count": null,
   "id": "01a3723c",
   "metadata": {},
   "outputs": [],
   "source": [
    "\n",
    "import tempfile\n",
    "import papermill as pm\n",
    "\n",
    "with tempfile.NamedTemporaryFile(delete=False, suffix='.ipynb') as temp_output:\n",
    "    pm.execute_notebook(\n",
    "        \"test-papermill.ipynb\", \n",
    "        temp_output.name,        \n",
    "        parameters={\"param1\": \"TestRun\", \"param2\": 99},\n",
    "        kernel_name=\"python3\"\n",
    "    )\n",
    "    print(f\"Output saved to {temp_output.name}\")\n",
    "    output_path = temp_output.name  \n",
    "output_path\n"
   ]
  },
  {
   "cell_type": "code",
   "execution_count": null,
   "id": "a98a53e0",
   "metadata": {},
   "outputs": [],
   "source": [
    "\n",
    "import ipywidgets as widgets\n",
    "from IPython.display import display\n",
    "\n",
    "slider = widgets.IntSlider(value=50, min=0, max=100, description=\"Slider:\")\n",
    "button = widgets.Button(description=\"Click Me\")\n",
    "output = widgets.Output()\n",
    "\n",
    "def on_button_click(b):\n",
    "    with output:\n",
    "        print(\"Button Clicked!\")\n",
    "\n",
    "button.on_click(on_button_click)\n",
    "display(slider, button, output)\n"
   ]
  },
  {
   "cell_type": "code",
   "execution_count": null,
   "id": "c3a6a059",
   "metadata": {},
   "outputs": [],
   "source": [
    "\n",
    "from dash import dcc, html, Dash\n",
    "app = Dash(__name__)\n",
    "app.layout = html.Div([\n",
    "    dcc.Graph(\n",
    "        id='graph',\n",
    "        figure={\n",
    "            'data': [{'x': [1, 2, 3, 4], 'y': [10, 11, 12, 13], 'type': 'line', 'name': 'Test'}],\n",
    "            'layout': {'title': 'Dash in JupyterLab'}\n",
    "        }\n",
    "    )\n",
    "])\n",
    "app.run_server(host=\"0.0.0.0\", port=8052)\n"
   ]
  },
  {
   "cell_type": "code",
   "execution_count": null,
   "id": "b41f1edd",
   "metadata": {},
   "outputs": [],
   "source": [
    "\n",
    "import numpy as np\n",
    "np\n"
   ]
  },
  {
   "cell_type": "code",
   "execution_count": null,
   "id": "8d4bd209",
   "metadata": {},
   "outputs": [],
   "source": [
    "\n",
    "import numpy as np\n",
    "import pandas as pd\n",
    "import ipydatagrid\n",
    "\n",
    "data = pd.DataFrame(\n",
    "    np.random.randint(0, 100, size=(5, 5)), \n",
    "    columns=[\"A\", \"B\", \"C\", \"D\", \"E\"]\n",
    ")\n",
    "grid = ipydatagrid.DataGrid(data, editable=True)\n",
    "grid\n"
   ]
  },
  {
   "cell_type": "code",
   "execution_count": null,
   "id": "43bdaff0",
   "metadata": {},
   "outputs": [],
   "source": [
    "\n",
    "# Activate ipympl\n",
    "%matplotlib widget  \n",
    "\n",
    "import matplotlib.pyplot as plt  \n",
    "import numpy as np  \n",
    "\n",
    "x = np.linspace(0, 10, 100)  \n",
    "y = np.sin(x)  \n",
    "\n",
    "fig, ax = plt.subplots()  \n",
    "ax.plot(x, y)  \n",
    "plt.show()\n"
   ]
  },
  {
   "cell_type": "code",
   "execution_count": null,
   "id": "3355072a",
   "metadata": {},
   "outputs": [],
   "source": [
    "\n",
    "def             my_function(x,      y):\n",
    "    print(x,            y)\n"
   ]
  },
  {
   "cell_type": "code",
   "execution_count": null,
   "id": "bc2808d9",
   "metadata": {},
   "outputs": [],
   "source": [
    "\n",
    "import tempfile\n",
    "import papermill as pm\n",
    "\n",
    "with tempfile.NamedTemporaryFile(delete=False, suffix='.ipynb') as temp_output:\n",
    "    pm.execute_notebook(\n",
    "        \"test-papermill.ipynb\", \n",
    "        temp_output.name,        \n",
    "        parameters={\"param1\": \"TestRun\", \"param2\": 99},\n",
    "        kernel_name=\"python3\"\n",
    "    )\n",
    "    print(f\"Output saved to {temp_output.name}\")\n",
    "    output_path = temp_output.name  \n",
    "output_path\n"
   ]
  },
  {
   "cell_type": "code",
   "execution_count": null,
   "id": "8bdda5d3",
   "metadata": {},
   "outputs": [],
   "source": [
    "\n",
    "import ipywidgets as widgets\n",
    "from IPython.display import display\n",
    "\n",
    "slider = widgets.IntSlider(value=50, min=0, max=100, description=\"Slider:\")\n",
    "button = widgets.Button(description=\"Click Me\")\n",
    "output = widgets.Output()\n",
    "\n",
    "def on_button_click(b):\n",
    "    with output:\n",
    "        print(\"Button Clicked!\")\n",
    "\n",
    "button.on_click(on_button_click)\n",
    "display(slider, button, output)\n"
   ]
  },
  {
   "cell_type": "code",
   "execution_count": null,
   "id": "47d85cbc",
   "metadata": {},
   "outputs": [],
   "source": [
    "\n",
    "from dash import dcc, html, Dash\n",
    "app = Dash(__name__)\n",
    "app.layout = html.Div([\n",
    "    dcc.Graph(\n",
    "        id='graph',\n",
    "        figure={\n",
    "            'data': [{'x': [1, 2, 3, 4], 'y': [10, 11, 12, 13], 'type': 'line', 'name': 'Test'}],\n",
    "            'layout': {'title': 'Dash in JupyterLab'}\n",
    "        }\n",
    "    )\n",
    "])\n",
    "app.run_server(host=\"0.0.0.0\", port=8052)\n"
   ]
  },
  {
   "cell_type": "code",
   "execution_count": null,
   "id": "208afddc",
   "metadata": {},
   "outputs": [],
   "source": [
    "\n",
    "import numpy as np\n",
    "np\n"
   ]
  },
  {
   "cell_type": "code",
   "execution_count": null,
   "id": "501a2a2d",
   "metadata": {},
   "outputs": [],
   "source": [
    "\n",
    "import numpy as np\n",
    "import pandas as pd\n",
    "import ipydatagrid\n",
    "\n",
    "data = pd.DataFrame(\n",
    "    np.random.randint(0, 100, size=(5, 5)), \n",
    "    columns=[\"A\", \"B\", \"C\", \"D\", \"E\"]\n",
    ")\n",
    "grid = ipydatagrid.DataGrid(data, editable=True)\n",
    "grid\n"
   ]
  },
  {
   "cell_type": "code",
   "execution_count": null,
   "id": "21eb87ac",
   "metadata": {},
   "outputs": [],
   "source": [
    "\n",
    "# Activate ipympl\n",
    "%matplotlib widget  \n",
    "\n",
    "import matplotlib.pyplot as plt  \n",
    "import numpy as np  \n",
    "\n",
    "x = np.linspace(0, 10, 100)  \n",
    "y = np.sin(x)  \n",
    "\n",
    "fig, ax = plt.subplots()  \n",
    "ax.plot(x, y)  \n",
    "plt.show()\n"
   ]
  },
  {
   "cell_type": "code",
   "execution_count": null,
   "id": "f6ed9865",
   "metadata": {},
   "outputs": [],
   "source": [
    "\n",
    "def             my_function(x,      y):\n",
    "    print(x,            y)\n"
   ]
  },
  {
   "cell_type": "code",
   "execution_count": null,
   "id": "dda953b3",
   "metadata": {},
   "outputs": [],
   "source": [
    "\n",
    "import tempfile\n",
    "import papermill as pm\n",
    "\n",
    "with tempfile.NamedTemporaryFile(delete=False, suffix='.ipynb') as temp_output:\n",
    "    pm.execute_notebook(\n",
    "        \"test-papermill.ipynb\", \n",
    "        temp_output.name,        \n",
    "        parameters={\"param1\": \"TestRun\", \"param2\": 99},\n",
    "        kernel_name=\"python3\"\n",
    "    )\n",
    "    print(f\"Output saved to {temp_output.name}\")\n",
    "    output_path = temp_output.name  \n",
    "output_path\n"
   ]
  },
  {
   "cell_type": "code",
   "execution_count": null,
   "id": "4176d799",
   "metadata": {},
   "outputs": [],
   "source": [
    "\n",
    "import ipywidgets as widgets\n",
    "from IPython.display import display\n",
    "\n",
    "slider = widgets.IntSlider(value=50, min=0, max=100, description=\"Slider:\")\n",
    "button = widgets.Button(description=\"Click Me\")\n",
    "output = widgets.Output()\n",
    "\n",
    "def on_button_click(b):\n",
    "    with output:\n",
    "        print(\"Button Clicked!\")\n",
    "\n",
    "button.on_click(on_button_click)\n",
    "display(slider, button, output)\n"
   ]
  },
  {
   "cell_type": "code",
   "execution_count": null,
   "id": "e907d1cd",
   "metadata": {},
   "outputs": [],
   "source": [
    "\n",
    "from dash import dcc, html, Dash\n",
    "app = Dash(__name__)\n",
    "app.layout = html.Div([\n",
    "    dcc.Graph(\n",
    "        id='graph',\n",
    "        figure={\n",
    "            'data': [{'x': [1, 2, 3, 4], 'y': [10, 11, 12, 13], 'type': 'line', 'name': 'Test'}],\n",
    "            'layout': {'title': 'Dash in JupyterLab'}\n",
    "        }\n",
    "    )\n",
    "])\n",
    "app.run_server(host=\"0.0.0.0\", port=8052)\n"
   ]
  },
  {
   "cell_type": "code",
   "execution_count": null,
   "id": "d1a5c1f4",
   "metadata": {},
   "outputs": [],
   "source": [
    "\n",
    "import numpy as np\n",
    "np\n"
   ]
  },
  {
   "cell_type": "code",
   "execution_count": null,
   "id": "0ed16ed2",
   "metadata": {},
   "outputs": [],
   "source": [
    "\n",
    "import numpy as np\n",
    "import pandas as pd\n",
    "import ipydatagrid\n",
    "\n",
    "data = pd.DataFrame(\n",
    "    np.random.randint(0, 100, size=(5, 5)), \n",
    "    columns=[\"A\", \"B\", \"C\", \"D\", \"E\"]\n",
    ")\n",
    "grid = ipydatagrid.DataGrid(data, editable=True)\n",
    "grid\n"
   ]
  },
  {
   "cell_type": "code",
   "execution_count": null,
   "id": "021d70d6",
   "metadata": {},
   "outputs": [],
   "source": [
    "\n",
    "# Activate ipympl\n",
    "%matplotlib widget  \n",
    "\n",
    "import matplotlib.pyplot as plt  \n",
    "import numpy as np  \n",
    "\n",
    "x = np.linspace(0, 10, 100)  \n",
    "y = np.sin(x)  \n",
    "\n",
    "fig, ax = plt.subplots()  \n",
    "ax.plot(x, y)  \n",
    "plt.show()\n"
   ]
  },
  {
   "cell_type": "code",
   "execution_count": null,
   "id": "e7143426",
   "metadata": {},
   "outputs": [],
   "source": [
    "\n",
    "def             my_function(x,      y):\n",
    "    print(x,            y)\n"
   ]
  },
  {
   "cell_type": "code",
   "execution_count": null,
   "id": "2751fe2c",
   "metadata": {},
   "outputs": [],
   "source": [
    "\n",
    "import tempfile\n",
    "import papermill as pm\n",
    "\n",
    "with tempfile.NamedTemporaryFile(delete=False, suffix='.ipynb') as temp_output:\n",
    "    pm.execute_notebook(\n",
    "        \"test-papermill.ipynb\", \n",
    "        temp_output.name,        \n",
    "        parameters={\"param1\": \"TestRun\", \"param2\": 99},\n",
    "        kernel_name=\"python3\"\n",
    "    )\n",
    "    print(f\"Output saved to {temp_output.name}\")\n",
    "    output_path = temp_output.name  \n",
    "output_path\n"
   ]
  },
  {
   "cell_type": "code",
   "execution_count": null,
   "id": "21c60533",
   "metadata": {},
   "outputs": [],
   "source": [
    "\n",
    "import ipywidgets as widgets\n",
    "from IPython.display import display\n",
    "\n",
    "slider = widgets.IntSlider(value=50, min=0, max=100, description=\"Slider:\")\n",
    "button = widgets.Button(description=\"Click Me\")\n",
    "output = widgets.Output()\n",
    "\n",
    "def on_button_click(b):\n",
    "    with output:\n",
    "        print(\"Button Clicked!\")\n",
    "\n",
    "button.on_click(on_button_click)\n",
    "display(slider, button, output)\n"
   ]
  },
  {
   "cell_type": "code",
   "execution_count": null,
   "id": "bc654344",
   "metadata": {},
   "outputs": [],
   "source": [
    "\n",
    "from dash import dcc, html, Dash\n",
    "app = Dash(__name__)\n",
    "app.layout = html.Div([\n",
    "    dcc.Graph(\n",
    "        id='graph',\n",
    "        figure={\n",
    "            'data': [{'x': [1, 2, 3, 4], 'y': [10, 11, 12, 13], 'type': 'line', 'name': 'Test'}],\n",
    "            'layout': {'title': 'Dash in JupyterLab'}\n",
    "        }\n",
    "    )\n",
    "])\n",
    "app.run_server(host=\"0.0.0.0\", port=8052)\n"
   ]
  },
  {
   "cell_type": "code",
   "execution_count": null,
   "id": "090778fb",
   "metadata": {},
   "outputs": [],
   "source": [
    "\n",
    "import numpy as np\n",
    "np\n"
   ]
  },
  {
   "cell_type": "code",
   "execution_count": null,
   "id": "907466c4",
   "metadata": {},
   "outputs": [],
   "source": [
    "\n",
    "import numpy as np\n",
    "import pandas as pd\n",
    "import ipydatagrid\n",
    "\n",
    "data = pd.DataFrame(\n",
    "    np.random.randint(0, 100, size=(5, 5)), \n",
    "    columns=[\"A\", \"B\", \"C\", \"D\", \"E\"]\n",
    ")\n",
    "grid = ipydatagrid.DataGrid(data, editable=True)\n",
    "grid\n"
   ]
  },
  {
   "cell_type": "code",
   "execution_count": null,
   "id": "c7204146",
   "metadata": {},
   "outputs": [],
   "source": [
    "\n",
    "# Activate ipympl\n",
    "%matplotlib widget  \n",
    "\n",
    "import matplotlib.pyplot as plt  \n",
    "import numpy as np  \n",
    "\n",
    "x = np.linspace(0, 10, 100)  \n",
    "y = np.sin(x)  \n",
    "\n",
    "fig, ax = plt.subplots()  \n",
    "ax.plot(x, y)  \n",
    "plt.show()\n"
   ]
  },
  {
   "cell_type": "code",
   "execution_count": null,
   "id": "dba2da85",
   "metadata": {},
   "outputs": [],
   "source": [
    "\n",
    "def             my_function(x,      y):\n",
    "    print(x,            y)\n"
   ]
  },
  {
   "cell_type": "code",
   "execution_count": null,
   "id": "41e408e7",
   "metadata": {},
   "outputs": [],
   "source": [
    "\n",
    "import tempfile\n",
    "import papermill as pm\n",
    "\n",
    "with tempfile.NamedTemporaryFile(delete=False, suffix='.ipynb') as temp_output:\n",
    "    pm.execute_notebook(\n",
    "        \"test-papermill.ipynb\", \n",
    "        temp_output.name,        \n",
    "        parameters={\"param1\": \"TestRun\", \"param2\": 99},\n",
    "        kernel_name=\"python3\"\n",
    "    )\n",
    "    print(f\"Output saved to {temp_output.name}\")\n",
    "    output_path = temp_output.name  \n",
    "output_path\n"
   ]
  },
  {
   "cell_type": "code",
   "execution_count": null,
   "id": "05397ac4",
   "metadata": {},
   "outputs": [],
   "source": [
    "\n",
    "import ipywidgets as widgets\n",
    "from IPython.display import display\n",
    "\n",
    "slider = widgets.IntSlider(value=50, min=0, max=100, description=\"Slider:\")\n",
    "button = widgets.Button(description=\"Click Me\")\n",
    "output = widgets.Output()\n",
    "\n",
    "def on_button_click(b):\n",
    "    with output:\n",
    "        print(\"Button Clicked!\")\n",
    "\n",
    "button.on_click(on_button_click)\n",
    "display(slider, button, output)\n"
   ]
  },
  {
   "cell_type": "code",
   "execution_count": null,
   "id": "ac935335",
   "metadata": {},
   "outputs": [],
   "source": [
    "\n",
    "from dash import dcc, html, Dash\n",
    "app = Dash(__name__)\n",
    "app.layout = html.Div([\n",
    "    dcc.Graph(\n",
    "        id='graph',\n",
    "        figure={\n",
    "            'data': [{'x': [1, 2, 3, 4], 'y': [10, 11, 12, 13], 'type': 'line', 'name': 'Test'}],\n",
    "            'layout': {'title': 'Dash in JupyterLab'}\n",
    "        }\n",
    "    )\n",
    "])\n",
    "app.run_server(host=\"0.0.0.0\", port=8052)\n"
   ]
  },
  {
   "cell_type": "code",
   "execution_count": null,
   "id": "2f3c9185",
   "metadata": {},
   "outputs": [],
   "source": [
    "\n",
    "import numpy as np\n",
    "np\n"
   ]
  },
  {
   "cell_type": "code",
   "execution_count": null,
   "id": "274dacad",
   "metadata": {},
   "outputs": [],
   "source": [
    "\n",
    "import numpy as np\n",
    "import pandas as pd\n",
    "import ipydatagrid\n",
    "\n",
    "data = pd.DataFrame(\n",
    "    np.random.randint(0, 100, size=(5, 5)), \n",
    "    columns=[\"A\", \"B\", \"C\", \"D\", \"E\"]\n",
    ")\n",
    "grid = ipydatagrid.DataGrid(data, editable=True)\n",
    "grid\n"
   ]
  },
  {
   "cell_type": "code",
   "execution_count": null,
   "id": "f11d8d7b",
   "metadata": {},
   "outputs": [],
   "source": [
    "\n",
    "# Activate ipympl\n",
    "%matplotlib widget  \n",
    "\n",
    "import matplotlib.pyplot as plt  \n",
    "import numpy as np  \n",
    "\n",
    "x = np.linspace(0, 10, 100)  \n",
    "y = np.sin(x)  \n",
    "\n",
    "fig, ax = plt.subplots()  \n",
    "ax.plot(x, y)  \n",
    "plt.show()\n"
   ]
  },
  {
   "cell_type": "code",
   "execution_count": null,
   "id": "1c73ac00",
   "metadata": {},
   "outputs": [],
   "source": [
    "\n",
    "def             my_function(x,      y):\n",
    "    print(x,            y)\n"
   ]
  },
  {
   "cell_type": "code",
   "execution_count": null,
   "id": "a4e85d42",
   "metadata": {},
   "outputs": [],
   "source": [
    "\n",
    "import tempfile\n",
    "import papermill as pm\n",
    "\n",
    "with tempfile.NamedTemporaryFile(delete=False, suffix='.ipynb') as temp_output:\n",
    "    pm.execute_notebook(\n",
    "        \"test-papermill.ipynb\", \n",
    "        temp_output.name,        \n",
    "        parameters={\"param1\": \"TestRun\", \"param2\": 99},\n",
    "        kernel_name=\"python3\"\n",
    "    )\n",
    "    print(f\"Output saved to {temp_output.name}\")\n",
    "    output_path = temp_output.name  \n",
    "output_path\n"
   ]
  },
  {
   "cell_type": "code",
   "execution_count": null,
   "id": "e991ef2b",
   "metadata": {},
   "outputs": [],
   "source": [
    "\n",
    "import ipywidgets as widgets\n",
    "from IPython.display import display\n",
    "\n",
    "slider = widgets.IntSlider(value=50, min=0, max=100, description=\"Slider:\")\n",
    "button = widgets.Button(description=\"Click Me\")\n",
    "output = widgets.Output()\n",
    "\n",
    "def on_button_click(b):\n",
    "    with output:\n",
    "        print(\"Button Clicked!\")\n",
    "\n",
    "button.on_click(on_button_click)\n",
    "display(slider, button, output)\n"
   ]
  },
  {
   "cell_type": "code",
   "execution_count": null,
   "id": "81bb8bc6",
   "metadata": {},
   "outputs": [],
   "source": [
    "\n",
    "from dash import dcc, html, Dash\n",
    "app = Dash(__name__)\n",
    "app.layout = html.Div([\n",
    "    dcc.Graph(\n",
    "        id='graph',\n",
    "        figure={\n",
    "            'data': [{'x': [1, 2, 3, 4], 'y': [10, 11, 12, 13], 'type': 'line', 'name': 'Test'}],\n",
    "            'layout': {'title': 'Dash in JupyterLab'}\n",
    "        }\n",
    "    )\n",
    "])\n",
    "app.run_server(host=\"0.0.0.0\", port=8052)\n"
   ]
  },
  {
   "cell_type": "code",
   "execution_count": null,
   "id": "a0f689ed",
   "metadata": {},
   "outputs": [],
   "source": [
    "\n",
    "import numpy as np\n",
    "np\n"
   ]
  },
  {
   "cell_type": "code",
   "execution_count": null,
   "id": "60528938",
   "metadata": {},
   "outputs": [],
   "source": [
    "\n",
    "import numpy as np\n",
    "import pandas as pd\n",
    "import ipydatagrid\n",
    "\n",
    "data = pd.DataFrame(\n",
    "    np.random.randint(0, 100, size=(5, 5)), \n",
    "    columns=[\"A\", \"B\", \"C\", \"D\", \"E\"]\n",
    ")\n",
    "grid = ipydatagrid.DataGrid(data, editable=True)\n",
    "grid\n"
   ]
  },
  {
   "cell_type": "code",
   "execution_count": null,
   "id": "68e824f4",
   "metadata": {},
   "outputs": [],
   "source": [
    "\n",
    "# Activate ipympl\n",
    "%matplotlib widget  \n",
    "\n",
    "import matplotlib.pyplot as plt  \n",
    "import numpy as np  \n",
    "\n",
    "x = np.linspace(0, 10, 100)  \n",
    "y = np.sin(x)  \n",
    "\n",
    "fig, ax = plt.subplots()  \n",
    "ax.plot(x, y)  \n",
    "plt.show()\n"
   ]
  },
  {
   "cell_type": "code",
   "execution_count": null,
   "id": "27884867",
   "metadata": {},
   "outputs": [],
   "source": [
    "\n",
    "def             my_function(x,      y):\n",
    "    print(x,            y)\n"
   ]
  },
  {
   "cell_type": "code",
   "execution_count": null,
   "id": "567eafb8",
   "metadata": {},
   "outputs": [],
   "source": [
    "\n",
    "import tempfile\n",
    "import papermill as pm\n",
    "\n",
    "with tempfile.NamedTemporaryFile(delete=False, suffix='.ipynb') as temp_output:\n",
    "    pm.execute_notebook(\n",
    "        \"test-papermill.ipynb\", \n",
    "        temp_output.name,        \n",
    "        parameters={\"param1\": \"TestRun\", \"param2\": 99},\n",
    "        kernel_name=\"python3\"\n",
    "    )\n",
    "    print(f\"Output saved to {temp_output.name}\")\n",
    "    output_path = temp_output.name  \n",
    "output_path\n"
   ]
  },
  {
   "cell_type": "code",
   "execution_count": null,
   "id": "393fdeec",
   "metadata": {},
   "outputs": [],
   "source": [
    "\n",
    "import ipywidgets as widgets\n",
    "from IPython.display import display\n",
    "\n",
    "slider = widgets.IntSlider(value=50, min=0, max=100, description=\"Slider:\")\n",
    "button = widgets.Button(description=\"Click Me\")\n",
    "output = widgets.Output()\n",
    "\n",
    "def on_button_click(b):\n",
    "    with output:\n",
    "        print(\"Button Clicked!\")\n",
    "\n",
    "button.on_click(on_button_click)\n",
    "display(slider, button, output)\n"
   ]
  },
  {
   "cell_type": "code",
   "execution_count": null,
   "id": "9fe84c6b",
   "metadata": {},
   "outputs": [],
   "source": [
    "\n",
    "from dash import dcc, html, Dash\n",
    "app = Dash(__name__)\n",
    "app.layout = html.Div([\n",
    "    dcc.Graph(\n",
    "        id='graph',\n",
    "        figure={\n",
    "            'data': [{'x': [1, 2, 3, 4], 'y': [10, 11, 12, 13], 'type': 'line', 'name': 'Test'}],\n",
    "            'layout': {'title': 'Dash in JupyterLab'}\n",
    "        }\n",
    "    )\n",
    "])\n",
    "app.run_server(host=\"0.0.0.0\", port=8052)\n"
   ]
  },
  {
   "cell_type": "code",
   "execution_count": null,
   "id": "28b6e8f7",
   "metadata": {},
   "outputs": [],
   "source": [
    "\n",
    "import numpy as np\n",
    "np\n"
   ]
  },
  {
   "cell_type": "code",
   "execution_count": null,
   "id": "e45ce207",
   "metadata": {},
   "outputs": [],
   "source": [
    "\n",
    "import numpy as np\n",
    "import pandas as pd\n",
    "import ipydatagrid\n",
    "\n",
    "data = pd.DataFrame(\n",
    "    np.random.randint(0, 100, size=(5, 5)), \n",
    "    columns=[\"A\", \"B\", \"C\", \"D\", \"E\"]\n",
    ")\n",
    "grid = ipydatagrid.DataGrid(data, editable=True)\n",
    "grid\n"
   ]
  },
  {
   "cell_type": "code",
   "execution_count": null,
   "id": "41fb7000",
   "metadata": {},
   "outputs": [],
   "source": [
    "\n",
    "# Activate ipympl\n",
    "%matplotlib widget  \n",
    "\n",
    "import matplotlib.pyplot as plt  \n",
    "import numpy as np  \n",
    "\n",
    "x = np.linspace(0, 10, 100)  \n",
    "y = np.sin(x)  \n",
    "\n",
    "fig, ax = plt.subplots()  \n",
    "ax.plot(x, y)  \n",
    "plt.show()\n"
   ]
  },
  {
   "cell_type": "code",
   "execution_count": null,
   "id": "7ac09961",
   "metadata": {},
   "outputs": [],
   "source": [
    "\n",
    "def             my_function(x,      y):\n",
    "    print(x,            y)\n"
   ]
  },
  {
   "cell_type": "code",
   "execution_count": null,
   "id": "f44e8683",
   "metadata": {},
   "outputs": [],
   "source": [
    "\n",
    "import tempfile\n",
    "import papermill as pm\n",
    "\n",
    "with tempfile.NamedTemporaryFile(delete=False, suffix='.ipynb') as temp_output:\n",
    "    pm.execute_notebook(\n",
    "        \"test-papermill.ipynb\", \n",
    "        temp_output.name,        \n",
    "        parameters={\"param1\": \"TestRun\", \"param2\": 99},\n",
    "        kernel_name=\"python3\"\n",
    "    )\n",
    "    print(f\"Output saved to {temp_output.name}\")\n",
    "    output_path = temp_output.name  \n",
    "output_path\n"
   ]
  },
  {
   "cell_type": "code",
   "execution_count": null,
   "id": "698558d2",
   "metadata": {},
   "outputs": [],
   "source": [
    "\n",
    "import ipywidgets as widgets\n",
    "from IPython.display import display\n",
    "\n",
    "slider = widgets.IntSlider(value=50, min=0, max=100, description=\"Slider:\")\n",
    "button = widgets.Button(description=\"Click Me\")\n",
    "output = widgets.Output()\n",
    "\n",
    "def on_button_click(b):\n",
    "    with output:\n",
    "        print(\"Button Clicked!\")\n",
    "\n",
    "button.on_click(on_button_click)\n",
    "display(slider, button, output)\n"
   ]
  },
  {
   "cell_type": "code",
   "execution_count": null,
   "id": "09b2958b",
   "metadata": {},
   "outputs": [],
   "source": [
    "\n",
    "from dash import dcc, html, Dash\n",
    "app = Dash(__name__)\n",
    "app.layout = html.Div([\n",
    "    dcc.Graph(\n",
    "        id='graph',\n",
    "        figure={\n",
    "            'data': [{'x': [1, 2, 3, 4], 'y': [10, 11, 12, 13], 'type': 'line', 'name': 'Test'}],\n",
    "            'layout': {'title': 'Dash in JupyterLab'}\n",
    "        }\n",
    "    )\n",
    "])\n",
    "app.run_server(host=\"0.0.0.0\", port=8052)\n"
   ]
  },
  {
   "cell_type": "code",
   "execution_count": null,
   "id": "bd4bc021",
   "metadata": {},
   "outputs": [],
   "source": [
    "\n",
    "import numpy as np\n",
    "np\n"
   ]
  },
  {
   "cell_type": "code",
   "execution_count": null,
   "id": "e0d83cfd",
   "metadata": {},
   "outputs": [],
   "source": [
    "\n",
    "import numpy as np\n",
    "import pandas as pd\n",
    "import ipydatagrid\n",
    "\n",
    "data = pd.DataFrame(\n",
    "    np.random.randint(0, 100, size=(5, 5)), \n",
    "    columns=[\"A\", \"B\", \"C\", \"D\", \"E\"]\n",
    ")\n",
    "grid = ipydatagrid.DataGrid(data, editable=True)\n",
    "grid\n"
   ]
  },
  {
   "cell_type": "code",
   "execution_count": null,
   "id": "30d9f1ad",
   "metadata": {},
   "outputs": [],
   "source": [
    "\n",
    "# Activate ipympl\n",
    "%matplotlib widget  \n",
    "\n",
    "import matplotlib.pyplot as plt  \n",
    "import numpy as np  \n",
    "\n",
    "x = np.linspace(0, 10, 100)  \n",
    "y = np.sin(x)  \n",
    "\n",
    "fig, ax = plt.subplots()  \n",
    "ax.plot(x, y)  \n",
    "plt.show()\n"
   ]
  },
  {
   "cell_type": "code",
   "execution_count": null,
   "id": "4c9a4b42",
   "metadata": {},
   "outputs": [],
   "source": [
    "\n",
    "def             my_function(x,      y):\n",
    "    print(x,            y)\n"
   ]
  },
  {
   "cell_type": "code",
   "execution_count": null,
   "id": "96e65c0b",
   "metadata": {},
   "outputs": [],
   "source": [
    "\n",
    "import tempfile\n",
    "import papermill as pm\n",
    "\n",
    "with tempfile.NamedTemporaryFile(delete=False, suffix='.ipynb') as temp_output:\n",
    "    pm.execute_notebook(\n",
    "        \"test-papermill.ipynb\", \n",
    "        temp_output.name,        \n",
    "        parameters={\"param1\": \"TestRun\", \"param2\": 99},\n",
    "        kernel_name=\"python3\"\n",
    "    )\n",
    "    print(f\"Output saved to {temp_output.name}\")\n",
    "    output_path = temp_output.name  \n",
    "output_path\n"
   ]
  },
  {
   "cell_type": "code",
   "execution_count": null,
   "id": "4c468cee",
   "metadata": {},
   "outputs": [],
   "source": [
    "\n",
    "import ipywidgets as widgets\n",
    "from IPython.display import display\n",
    "\n",
    "slider = widgets.IntSlider(value=50, min=0, max=100, description=\"Slider:\")\n",
    "button = widgets.Button(description=\"Click Me\")\n",
    "output = widgets.Output()\n",
    "\n",
    "def on_button_click(b):\n",
    "    with output:\n",
    "        print(\"Button Clicked!\")\n",
    "\n",
    "button.on_click(on_button_click)\n",
    "display(slider, button, output)\n"
   ]
  },
  {
   "cell_type": "code",
   "execution_count": null,
   "id": "9b514df0",
   "metadata": {},
   "outputs": [],
   "source": [
    "\n",
    "from dash import dcc, html, Dash\n",
    "app = Dash(__name__)\n",
    "app.layout = html.Div([\n",
    "    dcc.Graph(\n",
    "        id='graph',\n",
    "        figure={\n",
    "            'data': [{'x': [1, 2, 3, 4], 'y': [10, 11, 12, 13], 'type': 'line', 'name': 'Test'}],\n",
    "            'layout': {'title': 'Dash in JupyterLab'}\n",
    "        }\n",
    "    )\n",
    "])\n",
    "app.run_server(host=\"0.0.0.0\", port=8052)\n"
   ]
  },
  {
   "cell_type": "code",
   "execution_count": null,
   "id": "abade9a7",
   "metadata": {},
   "outputs": [],
   "source": [
    "\n",
    "import numpy as np\n",
    "np\n"
   ]
  },
  {
   "cell_type": "code",
   "execution_count": null,
   "id": "c10645ca",
   "metadata": {},
   "outputs": [],
   "source": [
    "\n",
    "import numpy as np\n",
    "import pandas as pd\n",
    "import ipydatagrid\n",
    "\n",
    "data = pd.DataFrame(\n",
    "    np.random.randint(0, 100, size=(5, 5)), \n",
    "    columns=[\"A\", \"B\", \"C\", \"D\", \"E\"]\n",
    ")\n",
    "grid = ipydatagrid.DataGrid(data, editable=True)\n",
    "grid\n"
   ]
  },
  {
   "cell_type": "code",
   "execution_count": null,
   "id": "06c89a23",
   "metadata": {},
   "outputs": [],
   "source": [
    "\n",
    "# Activate ipympl\n",
    "%matplotlib widget  \n",
    "\n",
    "import matplotlib.pyplot as plt  \n",
    "import numpy as np  \n",
    "\n",
    "x = np.linspace(0, 10, 100)  \n",
    "y = np.sin(x)  \n",
    "\n",
    "fig, ax = plt.subplots()  \n",
    "ax.plot(x, y)  \n",
    "plt.show()\n"
   ]
  },
  {
   "cell_type": "code",
   "execution_count": null,
   "id": "3129eef9",
   "metadata": {},
   "outputs": [],
   "source": [
    "\n",
    "def             my_function(x,      y):\n",
    "    print(x,            y)\n"
   ]
  },
  {
   "cell_type": "code",
   "execution_count": null,
   "id": "7ca47afa",
   "metadata": {},
   "outputs": [],
   "source": [
    "\n",
    "import tempfile\n",
    "import papermill as pm\n",
    "\n",
    "with tempfile.NamedTemporaryFile(delete=False, suffix='.ipynb') as temp_output:\n",
    "    pm.execute_notebook(\n",
    "        \"test-papermill.ipynb\", \n",
    "        temp_output.name,        \n",
    "        parameters={\"param1\": \"TestRun\", \"param2\": 99},\n",
    "        kernel_name=\"python3\"\n",
    "    )\n",
    "    print(f\"Output saved to {temp_output.name}\")\n",
    "    output_path = temp_output.name  \n",
    "output_path\n"
   ]
  },
  {
   "cell_type": "code",
   "execution_count": null,
   "id": "9c6cddea",
   "metadata": {},
   "outputs": [],
   "source": [
    "\n",
    "import ipywidgets as widgets\n",
    "from IPython.display import display\n",
    "\n",
    "slider = widgets.IntSlider(value=50, min=0, max=100, description=\"Slider:\")\n",
    "button = widgets.Button(description=\"Click Me\")\n",
    "output = widgets.Output()\n",
    "\n",
    "def on_button_click(b):\n",
    "    with output:\n",
    "        print(\"Button Clicked!\")\n",
    "\n",
    "button.on_click(on_button_click)\n",
    "display(slider, button, output)\n"
   ]
  },
  {
   "cell_type": "code",
   "execution_count": null,
   "id": "c454169b",
   "metadata": {},
   "outputs": [],
   "source": [
    "\n",
    "from dash import dcc, html, Dash\n",
    "app = Dash(__name__)\n",
    "app.layout = html.Div([\n",
    "    dcc.Graph(\n",
    "        id='graph',\n",
    "        figure={\n",
    "            'data': [{'x': [1, 2, 3, 4], 'y': [10, 11, 12, 13], 'type': 'line', 'name': 'Test'}],\n",
    "            'layout': {'title': 'Dash in JupyterLab'}\n",
    "        }\n",
    "    )\n",
    "])\n",
    "app.run_server(host=\"0.0.0.0\", port=8052)\n"
   ]
  },
  {
   "cell_type": "code",
   "execution_count": null,
   "id": "5e0f262b",
   "metadata": {},
   "outputs": [],
   "source": [
    "\n",
    "import numpy as np\n",
    "np\n"
   ]
  },
  {
   "cell_type": "code",
   "execution_count": null,
   "id": "11afdfb4",
   "metadata": {},
   "outputs": [],
   "source": [
    "\n",
    "import numpy as np\n",
    "import pandas as pd\n",
    "import ipydatagrid\n",
    "\n",
    "data = pd.DataFrame(\n",
    "    np.random.randint(0, 100, size=(5, 5)), \n",
    "    columns=[\"A\", \"B\", \"C\", \"D\", \"E\"]\n",
    ")\n",
    "grid = ipydatagrid.DataGrid(data, editable=True)\n",
    "grid\n"
   ]
  },
  {
   "cell_type": "code",
   "execution_count": null,
   "id": "240e4558",
   "metadata": {},
   "outputs": [],
   "source": [
    "\n",
    "# Activate ipympl\n",
    "%matplotlib widget  \n",
    "\n",
    "import matplotlib.pyplot as plt  \n",
    "import numpy as np  \n",
    "\n",
    "x = np.linspace(0, 10, 100)  \n",
    "y = np.sin(x)  \n",
    "\n",
    "fig, ax = plt.subplots()  \n",
    "ax.plot(x, y)  \n",
    "plt.show()\n"
   ]
  },
  {
   "cell_type": "code",
   "execution_count": null,
   "id": "4086a0e2",
   "metadata": {},
   "outputs": [],
   "source": [
    "\n",
    "def             my_function(x,      y):\n",
    "    print(x,            y)\n"
   ]
  },
  {
   "cell_type": "code",
   "execution_count": null,
   "id": "7567e9df",
   "metadata": {},
   "outputs": [],
   "source": [
    "\n",
    "import tempfile\n",
    "import papermill as pm\n",
    "\n",
    "with tempfile.NamedTemporaryFile(delete=False, suffix='.ipynb') as temp_output:\n",
    "    pm.execute_notebook(\n",
    "        \"test-papermill.ipynb\", \n",
    "        temp_output.name,        \n",
    "        parameters={\"param1\": \"TestRun\", \"param2\": 99},\n",
    "        kernel_name=\"python3\"\n",
    "    )\n",
    "    print(f\"Output saved to {temp_output.name}\")\n",
    "    output_path = temp_output.name  \n",
    "output_path\n"
   ]
  },
  {
   "cell_type": "code",
   "execution_count": null,
   "id": "ff2df254",
   "metadata": {},
   "outputs": [],
   "source": [
    "\n",
    "import ipywidgets as widgets\n",
    "from IPython.display import display\n",
    "\n",
    "slider = widgets.IntSlider(value=50, min=0, max=100, description=\"Slider:\")\n",
    "button = widgets.Button(description=\"Click Me\")\n",
    "output = widgets.Output()\n",
    "\n",
    "def on_button_click(b):\n",
    "    with output:\n",
    "        print(\"Button Clicked!\")\n",
    "\n",
    "button.on_click(on_button_click)\n",
    "display(slider, button, output)\n"
   ]
  },
  {
   "cell_type": "code",
   "execution_count": null,
   "id": "342d0c27",
   "metadata": {},
   "outputs": [],
   "source": [
    "\n",
    "from dash import dcc, html, Dash\n",
    "app = Dash(__name__)\n",
    "app.layout = html.Div([\n",
    "    dcc.Graph(\n",
    "        id='graph',\n",
    "        figure={\n",
    "            'data': [{'x': [1, 2, 3, 4], 'y': [10, 11, 12, 13], 'type': 'line', 'name': 'Test'}],\n",
    "            'layout': {'title': 'Dash in JupyterLab'}\n",
    "        }\n",
    "    )\n",
    "])\n",
    "app.run_server(host=\"0.0.0.0\", port=8052)\n"
   ]
  },
  {
   "cell_type": "code",
   "execution_count": null,
   "id": "c1bbff3a",
   "metadata": {},
   "outputs": [],
   "source": [
    "\n",
    "import numpy as np\n",
    "np\n"
   ]
  },
  {
   "cell_type": "code",
   "execution_count": null,
   "id": "90edf7ea",
   "metadata": {},
   "outputs": [],
   "source": [
    "\n",
    "import numpy as np\n",
    "import pandas as pd\n",
    "import ipydatagrid\n",
    "\n",
    "data = pd.DataFrame(\n",
    "    np.random.randint(0, 100, size=(5, 5)), \n",
    "    columns=[\"A\", \"B\", \"C\", \"D\", \"E\"]\n",
    ")\n",
    "grid = ipydatagrid.DataGrid(data, editable=True)\n",
    "grid\n"
   ]
  },
  {
   "cell_type": "code",
   "execution_count": null,
   "id": "f19be476",
   "metadata": {},
   "outputs": [],
   "source": [
    "\n",
    "# Activate ipympl\n",
    "%matplotlib widget  \n",
    "\n",
    "import matplotlib.pyplot as plt  \n",
    "import numpy as np  \n",
    "\n",
    "x = np.linspace(0, 10, 100)  \n",
    "y = np.sin(x)  \n",
    "\n",
    "fig, ax = plt.subplots()  \n",
    "ax.plot(x, y)  \n",
    "plt.show()\n"
   ]
  },
  {
   "cell_type": "code",
   "execution_count": null,
   "id": "0a8bfc8a",
   "metadata": {},
   "outputs": [],
   "source": [
    "\n",
    "def             my_function(x,      y):\n",
    "    print(x,            y)\n"
   ]
  },
  {
   "cell_type": "code",
   "execution_count": null,
   "id": "e4d8ac99",
   "metadata": {},
   "outputs": [],
   "source": [
    "\n",
    "import tempfile\n",
    "import papermill as pm\n",
    "\n",
    "with tempfile.NamedTemporaryFile(delete=False, suffix='.ipynb') as temp_output:\n",
    "    pm.execute_notebook(\n",
    "        \"test-papermill.ipynb\", \n",
    "        temp_output.name,        \n",
    "        parameters={\"param1\": \"TestRun\", \"param2\": 99},\n",
    "        kernel_name=\"python3\"\n",
    "    )\n",
    "    print(f\"Output saved to {temp_output.name}\")\n",
    "    output_path = temp_output.name  \n",
    "output_path\n"
   ]
  },
  {
   "cell_type": "code",
   "execution_count": null,
   "id": "1fb7b24b",
   "metadata": {},
   "outputs": [],
   "source": [
    "\n",
    "import ipywidgets as widgets\n",
    "from IPython.display import display\n",
    "\n",
    "slider = widgets.IntSlider(value=50, min=0, max=100, description=\"Slider:\")\n",
    "button = widgets.Button(description=\"Click Me\")\n",
    "output = widgets.Output()\n",
    "\n",
    "def on_button_click(b):\n",
    "    with output:\n",
    "        print(\"Button Clicked!\")\n",
    "\n",
    "button.on_click(on_button_click)\n",
    "display(slider, button, output)\n"
   ]
  },
  {
   "cell_type": "code",
   "execution_count": null,
   "id": "238c475c",
   "metadata": {},
   "outputs": [],
   "source": [
    "\n",
    "from dash import dcc, html, Dash\n",
    "app = Dash(__name__)\n",
    "app.layout = html.Div([\n",
    "    dcc.Graph(\n",
    "        id='graph',\n",
    "        figure={\n",
    "            'data': [{'x': [1, 2, 3, 4], 'y': [10, 11, 12, 13], 'type': 'line', 'name': 'Test'}],\n",
    "            'layout': {'title': 'Dash in JupyterLab'}\n",
    "        }\n",
    "    )\n",
    "])\n",
    "app.run_server(host=\"0.0.0.0\", port=8052)\n"
   ]
  },
  {
   "cell_type": "code",
   "execution_count": null,
   "id": "79846950",
   "metadata": {},
   "outputs": [],
   "source": [
    "\n",
    "import numpy as np\n",
    "np\n"
   ]
  },
  {
   "cell_type": "code",
   "execution_count": null,
   "id": "f84bcf9c",
   "metadata": {},
   "outputs": [],
   "source": [
    "\n",
    "import numpy as np\n",
    "import pandas as pd\n",
    "import ipydatagrid\n",
    "\n",
    "data = pd.DataFrame(\n",
    "    np.random.randint(0, 100, size=(5, 5)), \n",
    "    columns=[\"A\", \"B\", \"C\", \"D\", \"E\"]\n",
    ")\n",
    "grid = ipydatagrid.DataGrid(data, editable=True)\n",
    "grid\n"
   ]
  },
  {
   "cell_type": "code",
   "execution_count": null,
   "id": "16b7b333",
   "metadata": {},
   "outputs": [],
   "source": [
    "\n",
    "# Activate ipympl\n",
    "%matplotlib widget  \n",
    "\n",
    "import matplotlib.pyplot as plt  \n",
    "import numpy as np  \n",
    "\n",
    "x = np.linspace(0, 10, 100)  \n",
    "y = np.sin(x)  \n",
    "\n",
    "fig, ax = plt.subplots()  \n",
    "ax.plot(x, y)  \n",
    "plt.show()\n"
   ]
  },
  {
   "cell_type": "code",
   "execution_count": null,
   "id": "85a7b080",
   "metadata": {},
   "outputs": [],
   "source": [
    "\n",
    "def             my_function(x,      y):\n",
    "    print(x,            y)\n"
   ]
  },
  {
   "cell_type": "code",
   "execution_count": null,
   "id": "676e1401",
   "metadata": {},
   "outputs": [],
   "source": [
    "\n",
    "import tempfile\n",
    "import papermill as pm\n",
    "\n",
    "with tempfile.NamedTemporaryFile(delete=False, suffix='.ipynb') as temp_output:\n",
    "    pm.execute_notebook(\n",
    "        \"test-papermill.ipynb\", \n",
    "        temp_output.name,        \n",
    "        parameters={\"param1\": \"TestRun\", \"param2\": 99},\n",
    "        kernel_name=\"python3\"\n",
    "    )\n",
    "    print(f\"Output saved to {temp_output.name}\")\n",
    "    output_path = temp_output.name  \n",
    "output_path\n"
   ]
  },
  {
   "cell_type": "code",
   "execution_count": null,
   "id": "7d2fed93",
   "metadata": {},
   "outputs": [],
   "source": [
    "\n",
    "import ipywidgets as widgets\n",
    "from IPython.display import display\n",
    "\n",
    "slider = widgets.IntSlider(value=50, min=0, max=100, description=\"Slider:\")\n",
    "button = widgets.Button(description=\"Click Me\")\n",
    "output = widgets.Output()\n",
    "\n",
    "def on_button_click(b):\n",
    "    with output:\n",
    "        print(\"Button Clicked!\")\n",
    "\n",
    "button.on_click(on_button_click)\n",
    "display(slider, button, output)\n"
   ]
  },
  {
   "cell_type": "code",
   "execution_count": null,
   "id": "a2a562ad",
   "metadata": {},
   "outputs": [],
   "source": [
    "\n",
    "from dash import dcc, html, Dash\n",
    "app = Dash(__name__)\n",
    "app.layout = html.Div([\n",
    "    dcc.Graph(\n",
    "        id='graph',\n",
    "        figure={\n",
    "            'data': [{'x': [1, 2, 3, 4], 'y': [10, 11, 12, 13], 'type': 'line', 'name': 'Test'}],\n",
    "            'layout': {'title': 'Dash in JupyterLab'}\n",
    "        }\n",
    "    )\n",
    "])\n",
    "app.run_server(host=\"0.0.0.0\", port=8052)\n"
   ]
  },
  {
   "cell_type": "code",
   "execution_count": null,
   "id": "886aa0a0",
   "metadata": {},
   "outputs": [],
   "source": [
    "\n",
    "import numpy as np\n",
    "np\n"
   ]
  },
  {
   "cell_type": "code",
   "execution_count": null,
   "id": "07663163",
   "metadata": {},
   "outputs": [],
   "source": [
    "\n",
    "import numpy as np\n",
    "import pandas as pd\n",
    "import ipydatagrid\n",
    "\n",
    "data = pd.DataFrame(\n",
    "    np.random.randint(0, 100, size=(5, 5)), \n",
    "    columns=[\"A\", \"B\", \"C\", \"D\", \"E\"]\n",
    ")\n",
    "grid = ipydatagrid.DataGrid(data, editable=True)\n",
    "grid\n"
   ]
  },
  {
   "cell_type": "code",
   "execution_count": null,
   "id": "ee28874d",
   "metadata": {},
   "outputs": [],
   "source": [
    "\n",
    "# Activate ipympl\n",
    "%matplotlib widget  \n",
    "\n",
    "import matplotlib.pyplot as plt  \n",
    "import numpy as np  \n",
    "\n",
    "x = np.linspace(0, 10, 100)  \n",
    "y = np.sin(x)  \n",
    "\n",
    "fig, ax = plt.subplots()  \n",
    "ax.plot(x, y)  \n",
    "plt.show()\n"
   ]
  },
  {
   "cell_type": "code",
   "execution_count": null,
   "id": "fa603a16",
   "metadata": {},
   "outputs": [],
   "source": [
    "\n",
    "def             my_function(x,      y):\n",
    "    print(x,            y)\n"
   ]
  },
  {
   "cell_type": "code",
   "execution_count": null,
   "id": "f9423670",
   "metadata": {},
   "outputs": [],
   "source": [
    "\n",
    "import tempfile\n",
    "import papermill as pm\n",
    "\n",
    "with tempfile.NamedTemporaryFile(delete=False, suffix='.ipynb') as temp_output:\n",
    "    pm.execute_notebook(\n",
    "        \"test-papermill.ipynb\", \n",
    "        temp_output.name,        \n",
    "        parameters={\"param1\": \"TestRun\", \"param2\": 99},\n",
    "        kernel_name=\"python3\"\n",
    "    )\n",
    "    print(f\"Output saved to {temp_output.name}\")\n",
    "    output_path = temp_output.name  \n",
    "output_path\n"
   ]
  },
  {
   "cell_type": "code",
   "execution_count": null,
   "id": "5fe88700",
   "metadata": {},
   "outputs": [],
   "source": [
    "\n",
    "import ipywidgets as widgets\n",
    "from IPython.display import display\n",
    "\n",
    "slider = widgets.IntSlider(value=50, min=0, max=100, description=\"Slider:\")\n",
    "button = widgets.Button(description=\"Click Me\")\n",
    "output = widgets.Output()\n",
    "\n",
    "def on_button_click(b):\n",
    "    with output:\n",
    "        print(\"Button Clicked!\")\n",
    "\n",
    "button.on_click(on_button_click)\n",
    "display(slider, button, output)\n"
   ]
  },
  {
   "cell_type": "code",
   "execution_count": null,
   "id": "42626eb7",
   "metadata": {},
   "outputs": [],
   "source": [
    "\n",
    "from dash import dcc, html, Dash\n",
    "app = Dash(__name__)\n",
    "app.layout = html.Div([\n",
    "    dcc.Graph(\n",
    "        id='graph',\n",
    "        figure={\n",
    "            'data': [{'x': [1, 2, 3, 4], 'y': [10, 11, 12, 13], 'type': 'line', 'name': 'Test'}],\n",
    "            'layout': {'title': 'Dash in JupyterLab'}\n",
    "        }\n",
    "    )\n",
    "])\n",
    "app.run_server(host=\"0.0.0.0\", port=8052)\n"
   ]
  },
  {
   "cell_type": "code",
   "execution_count": null,
   "id": "3d9d3f03",
   "metadata": {},
   "outputs": [],
   "source": [
    "\n",
    "import numpy as np\n",
    "np\n"
   ]
  },
  {
   "cell_type": "code",
   "execution_count": null,
   "id": "17b531cd",
   "metadata": {},
   "outputs": [],
   "source": [
    "\n",
    "import numpy as np\n",
    "import pandas as pd\n",
    "import ipydatagrid\n",
    "\n",
    "data = pd.DataFrame(\n",
    "    np.random.randint(0, 100, size=(5, 5)), \n",
    "    columns=[\"A\", \"B\", \"C\", \"D\", \"E\"]\n",
    ")\n",
    "grid = ipydatagrid.DataGrid(data, editable=True)\n",
    "grid\n"
   ]
  },
  {
   "cell_type": "code",
   "execution_count": null,
   "id": "60f30c3a",
   "metadata": {},
   "outputs": [],
   "source": [
    "\n",
    "# Activate ipympl\n",
    "%matplotlib widget  \n",
    "\n",
    "import matplotlib.pyplot as plt  \n",
    "import numpy as np  \n",
    "\n",
    "x = np.linspace(0, 10, 100)  \n",
    "y = np.sin(x)  \n",
    "\n",
    "fig, ax = plt.subplots()  \n",
    "ax.plot(x, y)  \n",
    "plt.show()\n"
   ]
  },
  {
   "cell_type": "code",
   "execution_count": null,
   "id": "20932038",
   "metadata": {},
   "outputs": [],
   "source": [
    "\n",
    "def             my_function(x,      y):\n",
    "    print(x,            y)\n"
   ]
  },
  {
   "cell_type": "code",
   "execution_count": null,
   "id": "dd73f040",
   "metadata": {},
   "outputs": [],
   "source": [
    "\n",
    "import tempfile\n",
    "import papermill as pm\n",
    "\n",
    "with tempfile.NamedTemporaryFile(delete=False, suffix='.ipynb') as temp_output:\n",
    "    pm.execute_notebook(\n",
    "        \"test-papermill.ipynb\", \n",
    "        temp_output.name,        \n",
    "        parameters={\"param1\": \"TestRun\", \"param2\": 99},\n",
    "        kernel_name=\"python3\"\n",
    "    )\n",
    "    print(f\"Output saved to {temp_output.name}\")\n",
    "    output_path = temp_output.name  \n",
    "output_path\n"
   ]
  },
  {
   "cell_type": "code",
   "execution_count": null,
   "id": "5045e0b1",
   "metadata": {},
   "outputs": [],
   "source": [
    "\n",
    "import ipywidgets as widgets\n",
    "from IPython.display import display\n",
    "\n",
    "slider = widgets.IntSlider(value=50, min=0, max=100, description=\"Slider:\")\n",
    "button = widgets.Button(description=\"Click Me\")\n",
    "output = widgets.Output()\n",
    "\n",
    "def on_button_click(b):\n",
    "    with output:\n",
    "        print(\"Button Clicked!\")\n",
    "\n",
    "button.on_click(on_button_click)\n",
    "display(slider, button, output)\n"
   ]
  },
  {
   "cell_type": "code",
   "execution_count": null,
   "id": "689a2be5",
   "metadata": {},
   "outputs": [],
   "source": [
    "\n",
    "from dash import dcc, html, Dash\n",
    "app = Dash(__name__)\n",
    "app.layout = html.Div([\n",
    "    dcc.Graph(\n",
    "        id='graph',\n",
    "        figure={\n",
    "            'data': [{'x': [1, 2, 3, 4], 'y': [10, 11, 12, 13], 'type': 'line', 'name': 'Test'}],\n",
    "            'layout': {'title': 'Dash in JupyterLab'}\n",
    "        }\n",
    "    )\n",
    "])\n",
    "app.run_server(host=\"0.0.0.0\", port=8052)\n"
   ]
  },
  {
   "cell_type": "code",
   "execution_count": null,
   "id": "bc5e3687",
   "metadata": {},
   "outputs": [],
   "source": [
    "\n",
    "import numpy as np\n",
    "np\n"
   ]
  },
  {
   "cell_type": "code",
   "execution_count": null,
   "id": "5f254732",
   "metadata": {},
   "outputs": [],
   "source": [
    "\n",
    "import numpy as np\n",
    "import pandas as pd\n",
    "import ipydatagrid\n",
    "\n",
    "data = pd.DataFrame(\n",
    "    np.random.randint(0, 100, size=(5, 5)), \n",
    "    columns=[\"A\", \"B\", \"C\", \"D\", \"E\"]\n",
    ")\n",
    "grid = ipydatagrid.DataGrid(data, editable=True)\n",
    "grid\n"
   ]
  },
  {
   "cell_type": "code",
   "execution_count": null,
   "id": "e00b7d94",
   "metadata": {},
   "outputs": [],
   "source": [
    "\n",
    "# Activate ipympl\n",
    "%matplotlib widget  \n",
    "\n",
    "import matplotlib.pyplot as plt  \n",
    "import numpy as np  \n",
    "\n",
    "x = np.linspace(0, 10, 100)  \n",
    "y = np.sin(x)  \n",
    "\n",
    "fig, ax = plt.subplots()  \n",
    "ax.plot(x, y)  \n",
    "plt.show()\n"
   ]
  },
  {
   "cell_type": "code",
   "execution_count": null,
   "id": "a07e0a6e",
   "metadata": {},
   "outputs": [],
   "source": [
    "\n",
    "def             my_function(x,      y):\n",
    "    print(x,            y)\n"
   ]
  },
  {
   "cell_type": "code",
   "execution_count": null,
   "id": "0ec4d0f8",
   "metadata": {},
   "outputs": [],
   "source": [
    "\n",
    "import tempfile\n",
    "import papermill as pm\n",
    "\n",
    "with tempfile.NamedTemporaryFile(delete=False, suffix='.ipynb') as temp_output:\n",
    "    pm.execute_notebook(\n",
    "        \"test-papermill.ipynb\", \n",
    "        temp_output.name,        \n",
    "        parameters={\"param1\": \"TestRun\", \"param2\": 99},\n",
    "        kernel_name=\"python3\"\n",
    "    )\n",
    "    print(f\"Output saved to {temp_output.name}\")\n",
    "    output_path = temp_output.name  \n",
    "output_path\n"
   ]
  },
  {
   "cell_type": "code",
   "execution_count": null,
   "id": "11c719e5",
   "metadata": {},
   "outputs": [],
   "source": [
    "\n",
    "import ipywidgets as widgets\n",
    "from IPython.display import display\n",
    "\n",
    "slider = widgets.IntSlider(value=50, min=0, max=100, description=\"Slider:\")\n",
    "button = widgets.Button(description=\"Click Me\")\n",
    "output = widgets.Output()\n",
    "\n",
    "def on_button_click(b):\n",
    "    with output:\n",
    "        print(\"Button Clicked!\")\n",
    "\n",
    "button.on_click(on_button_click)\n",
    "display(slider, button, output)\n"
   ]
  },
  {
   "cell_type": "code",
   "execution_count": null,
   "id": "08e513ea",
   "metadata": {},
   "outputs": [],
   "source": [
    "\n",
    "from dash import dcc, html, Dash\n",
    "app = Dash(__name__)\n",
    "app.layout = html.Div([\n",
    "    dcc.Graph(\n",
    "        id='graph',\n",
    "        figure={\n",
    "            'data': [{'x': [1, 2, 3, 4], 'y': [10, 11, 12, 13], 'type': 'line', 'name': 'Test'}],\n",
    "            'layout': {'title': 'Dash in JupyterLab'}\n",
    "        }\n",
    "    )\n",
    "])\n",
    "app.run_server(host=\"0.0.0.0\", port=8052)\n"
   ]
  },
  {
   "cell_type": "code",
   "execution_count": null,
   "id": "48c60968",
   "metadata": {},
   "outputs": [],
   "source": [
    "\n",
    "import numpy as np\n",
    "np\n"
   ]
  },
  {
   "cell_type": "code",
   "execution_count": null,
   "id": "0415dbe6",
   "metadata": {},
   "outputs": [],
   "source": [
    "\n",
    "import numpy as np\n",
    "import pandas as pd\n",
    "import ipydatagrid\n",
    "\n",
    "data = pd.DataFrame(\n",
    "    np.random.randint(0, 100, size=(5, 5)), \n",
    "    columns=[\"A\", \"B\", \"C\", \"D\", \"E\"]\n",
    ")\n",
    "grid = ipydatagrid.DataGrid(data, editable=True)\n",
    "grid\n"
   ]
  },
  {
   "cell_type": "code",
   "execution_count": null,
   "id": "a2ac1112",
   "metadata": {},
   "outputs": [],
   "source": [
    "\n",
    "# Activate ipympl\n",
    "%matplotlib widget  \n",
    "\n",
    "import matplotlib.pyplot as plt  \n",
    "import numpy as np  \n",
    "\n",
    "x = np.linspace(0, 10, 100)  \n",
    "y = np.sin(x)  \n",
    "\n",
    "fig, ax = plt.subplots()  \n",
    "ax.plot(x, y)  \n",
    "plt.show()\n"
   ]
  },
  {
   "cell_type": "code",
   "execution_count": null,
   "id": "54748443",
   "metadata": {},
   "outputs": [],
   "source": [
    "\n",
    "def             my_function(x,      y):\n",
    "    print(x,            y)\n"
   ]
  },
  {
   "cell_type": "code",
   "execution_count": null,
   "id": "a3e0f8c2",
   "metadata": {},
   "outputs": [],
   "source": [
    "\n",
    "import tempfile\n",
    "import papermill as pm\n",
    "\n",
    "with tempfile.NamedTemporaryFile(delete=False, suffix='.ipynb') as temp_output:\n",
    "    pm.execute_notebook(\n",
    "        \"test-papermill.ipynb\", \n",
    "        temp_output.name,        \n",
    "        parameters={\"param1\": \"TestRun\", \"param2\": 99},\n",
    "        kernel_name=\"python3\"\n",
    "    )\n",
    "    print(f\"Output saved to {temp_output.name}\")\n",
    "    output_path = temp_output.name  \n",
    "output_path\n"
   ]
  },
  {
   "cell_type": "code",
   "execution_count": null,
   "id": "0511dc20",
   "metadata": {},
   "outputs": [],
   "source": [
    "\n",
    "import ipywidgets as widgets\n",
    "from IPython.display import display\n",
    "\n",
    "slider = widgets.IntSlider(value=50, min=0, max=100, description=\"Slider:\")\n",
    "button = widgets.Button(description=\"Click Me\")\n",
    "output = widgets.Output()\n",
    "\n",
    "def on_button_click(b):\n",
    "    with output:\n",
    "        print(\"Button Clicked!\")\n",
    "\n",
    "button.on_click(on_button_click)\n",
    "display(slider, button, output)\n"
   ]
  },
  {
   "cell_type": "code",
   "execution_count": null,
   "id": "506b42db",
   "metadata": {},
   "outputs": [],
   "source": [
    "\n",
    "from dash import dcc, html, Dash\n",
    "app = Dash(__name__)\n",
    "app.layout = html.Div([\n",
    "    dcc.Graph(\n",
    "        id='graph',\n",
    "        figure={\n",
    "            'data': [{'x': [1, 2, 3, 4], 'y': [10, 11, 12, 13], 'type': 'line', 'name': 'Test'}],\n",
    "            'layout': {'title': 'Dash in JupyterLab'}\n",
    "        }\n",
    "    )\n",
    "])\n",
    "app.run_server(host=\"0.0.0.0\", port=8052)\n"
   ]
  },
  {
   "cell_type": "code",
   "execution_count": null,
   "id": "b16f0f41",
   "metadata": {},
   "outputs": [],
   "source": [
    "\n",
    "import numpy as np\n",
    "np\n"
   ]
  },
  {
   "cell_type": "code",
   "execution_count": null,
   "id": "a8717c80",
   "metadata": {},
   "outputs": [],
   "source": [
    "\n",
    "import numpy as np\n",
    "import pandas as pd\n",
    "import ipydatagrid\n",
    "\n",
    "data = pd.DataFrame(\n",
    "    np.random.randint(0, 100, size=(5, 5)), \n",
    "    columns=[\"A\", \"B\", \"C\", \"D\", \"E\"]\n",
    ")\n",
    "grid = ipydatagrid.DataGrid(data, editable=True)\n",
    "grid\n"
   ]
  },
  {
   "cell_type": "code",
   "execution_count": null,
   "id": "e45c7608",
   "metadata": {},
   "outputs": [],
   "source": [
    "\n",
    "# Activate ipympl\n",
    "%matplotlib widget  \n",
    "\n",
    "import matplotlib.pyplot as plt  \n",
    "import numpy as np  \n",
    "\n",
    "x = np.linspace(0, 10, 100)  \n",
    "y = np.sin(x)  \n",
    "\n",
    "fig, ax = plt.subplots()  \n",
    "ax.plot(x, y)  \n",
    "plt.show()\n"
   ]
  },
  {
   "cell_type": "code",
   "execution_count": null,
   "id": "3d612100",
   "metadata": {},
   "outputs": [],
   "source": [
    "\n",
    "def             my_function(x,      y):\n",
    "    print(x,            y)\n"
   ]
  },
  {
   "cell_type": "code",
   "execution_count": null,
   "id": "ae216425",
   "metadata": {},
   "outputs": [],
   "source": [
    "\n",
    "import tempfile\n",
    "import papermill as pm\n",
    "\n",
    "with tempfile.NamedTemporaryFile(delete=False, suffix='.ipynb') as temp_output:\n",
    "    pm.execute_notebook(\n",
    "        \"test-papermill.ipynb\", \n",
    "        temp_output.name,        \n",
    "        parameters={\"param1\": \"TestRun\", \"param2\": 99},\n",
    "        kernel_name=\"python3\"\n",
    "    )\n",
    "    print(f\"Output saved to {temp_output.name}\")\n",
    "    output_path = temp_output.name  \n",
    "output_path\n"
   ]
  },
  {
   "cell_type": "code",
   "execution_count": null,
   "id": "9e25b3ee",
   "metadata": {},
   "outputs": [],
   "source": [
    "\n",
    "import ipywidgets as widgets\n",
    "from IPython.display import display\n",
    "\n",
    "slider = widgets.IntSlider(value=50, min=0, max=100, description=\"Slider:\")\n",
    "button = widgets.Button(description=\"Click Me\")\n",
    "output = widgets.Output()\n",
    "\n",
    "def on_button_click(b):\n",
    "    with output:\n",
    "        print(\"Button Clicked!\")\n",
    "\n",
    "button.on_click(on_button_click)\n",
    "display(slider, button, output)\n"
   ]
  },
  {
   "cell_type": "code",
   "execution_count": null,
   "id": "c0a5f431",
   "metadata": {},
   "outputs": [],
   "source": [
    "\n",
    "from dash import dcc, html, Dash\n",
    "app = Dash(__name__)\n",
    "app.layout = html.Div([\n",
    "    dcc.Graph(\n",
    "        id='graph',\n",
    "        figure={\n",
    "            'data': [{'x': [1, 2, 3, 4], 'y': [10, 11, 12, 13], 'type': 'line', 'name': 'Test'}],\n",
    "            'layout': {'title': 'Dash in JupyterLab'}\n",
    "        }\n",
    "    )\n",
    "])\n",
    "app.run_server(host=\"0.0.0.0\", port=8052)\n"
   ]
  },
  {
   "cell_type": "code",
   "execution_count": null,
   "id": "6c83bd63",
   "metadata": {},
   "outputs": [],
   "source": [
    "\n",
    "import numpy as np\n",
    "np\n"
   ]
  },
  {
   "cell_type": "code",
   "execution_count": null,
   "id": "55d5c261",
   "metadata": {},
   "outputs": [],
   "source": [
    "\n",
    "import numpy as np\n",
    "import pandas as pd\n",
    "import ipydatagrid\n",
    "\n",
    "data = pd.DataFrame(\n",
    "    np.random.randint(0, 100, size=(5, 5)), \n",
    "    columns=[\"A\", \"B\", \"C\", \"D\", \"E\"]\n",
    ")\n",
    "grid = ipydatagrid.DataGrid(data, editable=True)\n",
    "grid\n"
   ]
  },
  {
   "cell_type": "code",
   "execution_count": null,
   "id": "b6b19c4a",
   "metadata": {},
   "outputs": [],
   "source": [
    "\n",
    "# Activate ipympl\n",
    "%matplotlib widget  \n",
    "\n",
    "import matplotlib.pyplot as plt  \n",
    "import numpy as np  \n",
    "\n",
    "x = np.linspace(0, 10, 100)  \n",
    "y = np.sin(x)  \n",
    "\n",
    "fig, ax = plt.subplots()  \n",
    "ax.plot(x, y)  \n",
    "plt.show()\n"
   ]
  },
  {
   "cell_type": "code",
   "execution_count": null,
   "id": "35b837bb",
   "metadata": {},
   "outputs": [],
   "source": [
    "\n",
    "def             my_function(x,      y):\n",
    "    print(x,            y)\n"
   ]
  },
  {
   "cell_type": "code",
   "execution_count": null,
   "id": "4f4dd122",
   "metadata": {},
   "outputs": [],
   "source": [
    "\n",
    "import tempfile\n",
    "import papermill as pm\n",
    "\n",
    "with tempfile.NamedTemporaryFile(delete=False, suffix='.ipynb') as temp_output:\n",
    "    pm.execute_notebook(\n",
    "        \"test-papermill.ipynb\", \n",
    "        temp_output.name,        \n",
    "        parameters={\"param1\": \"TestRun\", \"param2\": 99},\n",
    "        kernel_name=\"python3\"\n",
    "    )\n",
    "    print(f\"Output saved to {temp_output.name}\")\n",
    "    output_path = temp_output.name  \n",
    "output_path\n"
   ]
  },
  {
   "cell_type": "code",
   "execution_count": null,
   "id": "b3e4726b",
   "metadata": {},
   "outputs": [],
   "source": [
    "\n",
    "import ipywidgets as widgets\n",
    "from IPython.display import display\n",
    "\n",
    "slider = widgets.IntSlider(value=50, min=0, max=100, description=\"Slider:\")\n",
    "button = widgets.Button(description=\"Click Me\")\n",
    "output = widgets.Output()\n",
    "\n",
    "def on_button_click(b):\n",
    "    with output:\n",
    "        print(\"Button Clicked!\")\n",
    "\n",
    "button.on_click(on_button_click)\n",
    "display(slider, button, output)\n"
   ]
  },
  {
   "cell_type": "code",
   "execution_count": null,
   "id": "b08a1d59",
   "metadata": {},
   "outputs": [],
   "source": [
    "\n",
    "from dash import dcc, html, Dash\n",
    "app = Dash(__name__)\n",
    "app.layout = html.Div([\n",
    "    dcc.Graph(\n",
    "        id='graph',\n",
    "        figure={\n",
    "            'data': [{'x': [1, 2, 3, 4], 'y': [10, 11, 12, 13], 'type': 'line', 'name': 'Test'}],\n",
    "            'layout': {'title': 'Dash in JupyterLab'}\n",
    "        }\n",
    "    )\n",
    "])\n",
    "app.run_server(host=\"0.0.0.0\", port=8052)\n"
   ]
  },
  {
   "cell_type": "code",
   "execution_count": null,
   "id": "8fd736ca",
   "metadata": {},
   "outputs": [],
   "source": [
    "\n",
    "import numpy as np\n",
    "np\n"
   ]
  },
  {
   "cell_type": "code",
   "execution_count": null,
   "id": "be3be05b",
   "metadata": {},
   "outputs": [],
   "source": [
    "\n",
    "import numpy as np\n",
    "import pandas as pd\n",
    "import ipydatagrid\n",
    "\n",
    "data = pd.DataFrame(\n",
    "    np.random.randint(0, 100, size=(5, 5)), \n",
    "    columns=[\"A\", \"B\", \"C\", \"D\", \"E\"]\n",
    ")\n",
    "grid = ipydatagrid.DataGrid(data, editable=True)\n",
    "grid\n"
   ]
  },
  {
   "cell_type": "code",
   "execution_count": null,
   "id": "aff3519c",
   "metadata": {},
   "outputs": [],
   "source": [
    "\n",
    "# Activate ipympl\n",
    "%matplotlib widget  \n",
    "\n",
    "import matplotlib.pyplot as plt  \n",
    "import numpy as np  \n",
    "\n",
    "x = np.linspace(0, 10, 100)  \n",
    "y = np.sin(x)  \n",
    "\n",
    "fig, ax = plt.subplots()  \n",
    "ax.plot(x, y)  \n",
    "plt.show()\n"
   ]
  },
  {
   "cell_type": "code",
   "execution_count": null,
   "id": "80f9596f",
   "metadata": {},
   "outputs": [],
   "source": [
    "\n",
    "def             my_function(x,      y):\n",
    "    print(x,            y)\n"
   ]
  },
  {
   "cell_type": "code",
   "execution_count": null,
   "id": "bf4e5a35",
   "metadata": {},
   "outputs": [],
   "source": [
    "\n",
    "import tempfile\n",
    "import papermill as pm\n",
    "\n",
    "with tempfile.NamedTemporaryFile(delete=False, suffix='.ipynb') as temp_output:\n",
    "    pm.execute_notebook(\n",
    "        \"test-papermill.ipynb\", \n",
    "        temp_output.name,        \n",
    "        parameters={\"param1\": \"TestRun\", \"param2\": 99},\n",
    "        kernel_name=\"python3\"\n",
    "    )\n",
    "    print(f\"Output saved to {temp_output.name}\")\n",
    "    output_path = temp_output.name  \n",
    "output_path\n"
   ]
  },
  {
   "cell_type": "code",
   "execution_count": null,
   "id": "e369ed55",
   "metadata": {},
   "outputs": [],
   "source": [
    "\n",
    "import ipywidgets as widgets\n",
    "from IPython.display import display\n",
    "\n",
    "slider = widgets.IntSlider(value=50, min=0, max=100, description=\"Slider:\")\n",
    "button = widgets.Button(description=\"Click Me\")\n",
    "output = widgets.Output()\n",
    "\n",
    "def on_button_click(b):\n",
    "    with output:\n",
    "        print(\"Button Clicked!\")\n",
    "\n",
    "button.on_click(on_button_click)\n",
    "display(slider, button, output)\n"
   ]
  },
  {
   "cell_type": "code",
   "execution_count": null,
   "id": "52243561",
   "metadata": {},
   "outputs": [],
   "source": [
    "\n",
    "from dash import dcc, html, Dash\n",
    "app = Dash(__name__)\n",
    "app.layout = html.Div([\n",
    "    dcc.Graph(\n",
    "        id='graph',\n",
    "        figure={\n",
    "            'data': [{'x': [1, 2, 3, 4], 'y': [10, 11, 12, 13], 'type': 'line', 'name': 'Test'}],\n",
    "            'layout': {'title': 'Dash in JupyterLab'}\n",
    "        }\n",
    "    )\n",
    "])\n",
    "app.run_server(host=\"0.0.0.0\", port=8052)\n"
   ]
  },
  {
   "cell_type": "code",
   "execution_count": null,
   "id": "d1c9a287",
   "metadata": {},
   "outputs": [],
   "source": [
    "\n",
    "import numpy as np\n",
    "np\n"
   ]
  },
  {
   "cell_type": "code",
   "execution_count": null,
   "id": "14bc736b",
   "metadata": {},
   "outputs": [],
   "source": [
    "\n",
    "import numpy as np\n",
    "import pandas as pd\n",
    "import ipydatagrid\n",
    "\n",
    "data = pd.DataFrame(\n",
    "    np.random.randint(0, 100, size=(5, 5)), \n",
    "    columns=[\"A\", \"B\", \"C\", \"D\", \"E\"]\n",
    ")\n",
    "grid = ipydatagrid.DataGrid(data, editable=True)\n",
    "grid\n"
   ]
  },
  {
   "cell_type": "code",
   "execution_count": null,
   "id": "4d35d238",
   "metadata": {},
   "outputs": [],
   "source": [
    "\n",
    "# Activate ipympl\n",
    "%matplotlib widget  \n",
    "\n",
    "import matplotlib.pyplot as plt  \n",
    "import numpy as np  \n",
    "\n",
    "x = np.linspace(0, 10, 100)  \n",
    "y = np.sin(x)  \n",
    "\n",
    "fig, ax = plt.subplots()  \n",
    "ax.plot(x, y)  \n",
    "plt.show()\n"
   ]
  },
  {
   "cell_type": "code",
   "execution_count": null,
   "id": "67045a08",
   "metadata": {},
   "outputs": [],
   "source": [
    "\n",
    "def             my_function(x,      y):\n",
    "    print(x,            y)\n"
   ]
  },
  {
   "cell_type": "code",
   "execution_count": null,
   "id": "e6fb5eea",
   "metadata": {},
   "outputs": [],
   "source": [
    "\n",
    "import tempfile\n",
    "import papermill as pm\n",
    "\n",
    "with tempfile.NamedTemporaryFile(delete=False, suffix='.ipynb') as temp_output:\n",
    "    pm.execute_notebook(\n",
    "        \"test-papermill.ipynb\", \n",
    "        temp_output.name,        \n",
    "        parameters={\"param1\": \"TestRun\", \"param2\": 99},\n",
    "        kernel_name=\"python3\"\n",
    "    )\n",
    "    print(f\"Output saved to {temp_output.name}\")\n",
    "    output_path = temp_output.name  \n",
    "output_path\n"
   ]
  },
  {
   "cell_type": "code",
   "execution_count": null,
   "id": "b6b1d653",
   "metadata": {},
   "outputs": [],
   "source": [
    "\n",
    "import ipywidgets as widgets\n",
    "from IPython.display import display\n",
    "\n",
    "slider = widgets.IntSlider(value=50, min=0, max=100, description=\"Slider:\")\n",
    "button = widgets.Button(description=\"Click Me\")\n",
    "output = widgets.Output()\n",
    "\n",
    "def on_button_click(b):\n",
    "    with output:\n",
    "        print(\"Button Clicked!\")\n",
    "\n",
    "button.on_click(on_button_click)\n",
    "display(slider, button, output)\n"
   ]
  },
  {
   "cell_type": "code",
   "execution_count": null,
   "id": "17b0621b",
   "metadata": {},
   "outputs": [],
   "source": [
    "\n",
    "from dash import dcc, html, Dash\n",
    "app = Dash(__name__)\n",
    "app.layout = html.Div([\n",
    "    dcc.Graph(\n",
    "        id='graph',\n",
    "        figure={\n",
    "            'data': [{'x': [1, 2, 3, 4], 'y': [10, 11, 12, 13], 'type': 'line', 'name': 'Test'}],\n",
    "            'layout': {'title': 'Dash in JupyterLab'}\n",
    "        }\n",
    "    )\n",
    "])\n",
    "app.run_server(host=\"0.0.0.0\", port=8052)\n"
   ]
  },
  {
   "cell_type": "code",
   "execution_count": null,
   "id": "4adbd7e8",
   "metadata": {},
   "outputs": [],
   "source": [
    "\n",
    "import numpy as np\n",
    "np\n"
   ]
  },
  {
   "cell_type": "code",
   "execution_count": null,
   "id": "afd8d2f8",
   "metadata": {},
   "outputs": [],
   "source": [
    "\n",
    "import numpy as np\n",
    "import pandas as pd\n",
    "import ipydatagrid\n",
    "\n",
    "data = pd.DataFrame(\n",
    "    np.random.randint(0, 100, size=(5, 5)), \n",
    "    columns=[\"A\", \"B\", \"C\", \"D\", \"E\"]\n",
    ")\n",
    "grid = ipydatagrid.DataGrid(data, editable=True)\n",
    "grid\n"
   ]
  },
  {
   "cell_type": "code",
   "execution_count": null,
   "id": "94711127",
   "metadata": {},
   "outputs": [],
   "source": [
    "\n",
    "# Activate ipympl\n",
    "%matplotlib widget  \n",
    "\n",
    "import matplotlib.pyplot as plt  \n",
    "import numpy as np  \n",
    "\n",
    "x = np.linspace(0, 10, 100)  \n",
    "y = np.sin(x)  \n",
    "\n",
    "fig, ax = plt.subplots()  \n",
    "ax.plot(x, y)  \n",
    "plt.show()\n"
   ]
  },
  {
   "cell_type": "code",
   "execution_count": null,
   "id": "eea88dee",
   "metadata": {},
   "outputs": [],
   "source": [
    "\n",
    "def             my_function(x,      y):\n",
    "    print(x,            y)\n"
   ]
  },
  {
   "cell_type": "code",
   "execution_count": null,
   "id": "46b88f8b",
   "metadata": {},
   "outputs": [],
   "source": [
    "\n",
    "import tempfile\n",
    "import papermill as pm\n",
    "\n",
    "with tempfile.NamedTemporaryFile(delete=False, suffix='.ipynb') as temp_output:\n",
    "    pm.execute_notebook(\n",
    "        \"test-papermill.ipynb\", \n",
    "        temp_output.name,        \n",
    "        parameters={\"param1\": \"TestRun\", \"param2\": 99},\n",
    "        kernel_name=\"python3\"\n",
    "    )\n",
    "    print(f\"Output saved to {temp_output.name}\")\n",
    "    output_path = temp_output.name  \n",
    "output_path\n"
   ]
  },
  {
   "cell_type": "code",
   "execution_count": null,
   "id": "7e5e6752",
   "metadata": {},
   "outputs": [],
   "source": [
    "\n",
    "import ipywidgets as widgets\n",
    "from IPython.display import display\n",
    "\n",
    "slider = widgets.IntSlider(value=50, min=0, max=100, description=\"Slider:\")\n",
    "button = widgets.Button(description=\"Click Me\")\n",
    "output = widgets.Output()\n",
    "\n",
    "def on_button_click(b):\n",
    "    with output:\n",
    "        print(\"Button Clicked!\")\n",
    "\n",
    "button.on_click(on_button_click)\n",
    "display(slider, button, output)\n"
   ]
  },
  {
   "cell_type": "code",
   "execution_count": null,
   "id": "ee9e4118",
   "metadata": {},
   "outputs": [],
   "source": [
    "\n",
    "from dash import dcc, html, Dash\n",
    "app = Dash(__name__)\n",
    "app.layout = html.Div([\n",
    "    dcc.Graph(\n",
    "        id='graph',\n",
    "        figure={\n",
    "            'data': [{'x': [1, 2, 3, 4], 'y': [10, 11, 12, 13], 'type': 'line', 'name': 'Test'}],\n",
    "            'layout': {'title': 'Dash in JupyterLab'}\n",
    "        }\n",
    "    )\n",
    "])\n",
    "app.run_server(host=\"0.0.0.0\", port=8052)\n"
   ]
  },
  {
   "cell_type": "code",
   "execution_count": null,
   "id": "cdb0f0fd",
   "metadata": {},
   "outputs": [],
   "source": [
    "\n",
    "import numpy as np\n",
    "np\n"
   ]
  },
  {
   "cell_type": "code",
   "execution_count": null,
   "id": "252c6fa2",
   "metadata": {},
   "outputs": [],
   "source": [
    "\n",
    "import numpy as np\n",
    "import pandas as pd\n",
    "import ipydatagrid\n",
    "\n",
    "data = pd.DataFrame(\n",
    "    np.random.randint(0, 100, size=(5, 5)), \n",
    "    columns=[\"A\", \"B\", \"C\", \"D\", \"E\"]\n",
    ")\n",
    "grid = ipydatagrid.DataGrid(data, editable=True)\n",
    "grid\n"
   ]
  },
  {
   "cell_type": "code",
   "execution_count": null,
   "id": "7020c1ac",
   "metadata": {},
   "outputs": [],
   "source": [
    "\n",
    "# Activate ipympl\n",
    "%matplotlib widget  \n",
    "\n",
    "import matplotlib.pyplot as plt  \n",
    "import numpy as np  \n",
    "\n",
    "x = np.linspace(0, 10, 100)  \n",
    "y = np.sin(x)  \n",
    "\n",
    "fig, ax = plt.subplots()  \n",
    "ax.plot(x, y)  \n",
    "plt.show()\n"
   ]
  },
  {
   "cell_type": "code",
   "execution_count": null,
   "id": "0c4e7bbf",
   "metadata": {},
   "outputs": [],
   "source": [
    "\n",
    "def             my_function(x,      y):\n",
    "    print(x,            y)\n"
   ]
  },
  {
   "cell_type": "code",
   "execution_count": null,
   "id": "378e2d30",
   "metadata": {},
   "outputs": [],
   "source": [
    "\n",
    "import tempfile\n",
    "import papermill as pm\n",
    "\n",
    "with tempfile.NamedTemporaryFile(delete=False, suffix='.ipynb') as temp_output:\n",
    "    pm.execute_notebook(\n",
    "        \"test-papermill.ipynb\", \n",
    "        temp_output.name,        \n",
    "        parameters={\"param1\": \"TestRun\", \"param2\": 99},\n",
    "        kernel_name=\"python3\"\n",
    "    )\n",
    "    print(f\"Output saved to {temp_output.name}\")\n",
    "    output_path = temp_output.name  \n",
    "output_path\n"
   ]
  },
  {
   "cell_type": "code",
   "execution_count": null,
   "id": "a6b601c6",
   "metadata": {},
   "outputs": [],
   "source": [
    "\n",
    "import ipywidgets as widgets\n",
    "from IPython.display import display\n",
    "\n",
    "slider = widgets.IntSlider(value=50, min=0, max=100, description=\"Slider:\")\n",
    "button = widgets.Button(description=\"Click Me\")\n",
    "output = widgets.Output()\n",
    "\n",
    "def on_button_click(b):\n",
    "    with output:\n",
    "        print(\"Button Clicked!\")\n",
    "\n",
    "button.on_click(on_button_click)\n",
    "display(slider, button, output)\n"
   ]
  },
  {
   "cell_type": "code",
   "execution_count": null,
   "id": "10d3cbbb",
   "metadata": {},
   "outputs": [],
   "source": [
    "\n",
    "from dash import dcc, html, Dash\n",
    "app = Dash(__name__)\n",
    "app.layout = html.Div([\n",
    "    dcc.Graph(\n",
    "        id='graph',\n",
    "        figure={\n",
    "            'data': [{'x': [1, 2, 3, 4], 'y': [10, 11, 12, 13], 'type': 'line', 'name': 'Test'}],\n",
    "            'layout': {'title': 'Dash in JupyterLab'}\n",
    "        }\n",
    "    )\n",
    "])\n",
    "app.run_server(host=\"0.0.0.0\", port=8052)\n"
   ]
  },
  {
   "cell_type": "code",
   "execution_count": null,
   "id": "01c33b3e",
   "metadata": {},
   "outputs": [],
   "source": [
    "\n",
    "import numpy as np\n",
    "np\n"
   ]
  },
  {
   "cell_type": "code",
   "execution_count": null,
   "id": "14d12981",
   "metadata": {},
   "outputs": [],
   "source": [
    "\n",
    "import numpy as np\n",
    "import pandas as pd\n",
    "import ipydatagrid\n",
    "\n",
    "data = pd.DataFrame(\n",
    "    np.random.randint(0, 100, size=(5, 5)), \n",
    "    columns=[\"A\", \"B\", \"C\", \"D\", \"E\"]\n",
    ")\n",
    "grid = ipydatagrid.DataGrid(data, editable=True)\n",
    "grid\n"
   ]
  },
  {
   "cell_type": "code",
   "execution_count": null,
   "id": "ae586742",
   "metadata": {},
   "outputs": [],
   "source": [
    "\n",
    "# Activate ipympl\n",
    "%matplotlib widget  \n",
    "\n",
    "import matplotlib.pyplot as plt  \n",
    "import numpy as np  \n",
    "\n",
    "x = np.linspace(0, 10, 100)  \n",
    "y = np.sin(x)  \n",
    "\n",
    "fig, ax = plt.subplots()  \n",
    "ax.plot(x, y)  \n",
    "plt.show()\n"
   ]
  },
  {
   "cell_type": "code",
   "execution_count": null,
   "id": "7322471b",
   "metadata": {},
   "outputs": [],
   "source": [
    "\n",
    "def             my_function(x,      y):\n",
    "    print(x,            y)\n"
   ]
  },
  {
   "cell_type": "code",
   "execution_count": null,
   "id": "04e71eb1",
   "metadata": {},
   "outputs": [],
   "source": [
    "\n",
    "import tempfile\n",
    "import papermill as pm\n",
    "\n",
    "with tempfile.NamedTemporaryFile(delete=False, suffix='.ipynb') as temp_output:\n",
    "    pm.execute_notebook(\n",
    "        \"test-papermill.ipynb\", \n",
    "        temp_output.name,        \n",
    "        parameters={\"param1\": \"TestRun\", \"param2\": 99},\n",
    "        kernel_name=\"python3\"\n",
    "    )\n",
    "    print(f\"Output saved to {temp_output.name}\")\n",
    "    output_path = temp_output.name  \n",
    "output_path\n"
   ]
  },
  {
   "cell_type": "code",
   "execution_count": null,
   "id": "1f2c6a4c",
   "metadata": {},
   "outputs": [],
   "source": [
    "\n",
    "import ipywidgets as widgets\n",
    "from IPython.display import display\n",
    "\n",
    "slider = widgets.IntSlider(value=50, min=0, max=100, description=\"Slider:\")\n",
    "button = widgets.Button(description=\"Click Me\")\n",
    "output = widgets.Output()\n",
    "\n",
    "def on_button_click(b):\n",
    "    with output:\n",
    "        print(\"Button Clicked!\")\n",
    "\n",
    "button.on_click(on_button_click)\n",
    "display(slider, button, output)\n"
   ]
  },
  {
   "cell_type": "code",
   "execution_count": null,
   "id": "831ab75c",
   "metadata": {},
   "outputs": [],
   "source": [
    "\n",
    "from dash import dcc, html, Dash\n",
    "app = Dash(__name__)\n",
    "app.layout = html.Div([\n",
    "    dcc.Graph(\n",
    "        id='graph',\n",
    "        figure={\n",
    "            'data': [{'x': [1, 2, 3, 4], 'y': [10, 11, 12, 13], 'type': 'line', 'name': 'Test'}],\n",
    "            'layout': {'title': 'Dash in JupyterLab'}\n",
    "        }\n",
    "    )\n",
    "])\n",
    "app.run_server(host=\"0.0.0.0\", port=8052)\n"
   ]
  },
  {
   "cell_type": "code",
   "execution_count": null,
   "id": "7dfb40ff",
   "metadata": {},
   "outputs": [],
   "source": [
    "\n",
    "import numpy as np\n",
    "np\n"
   ]
  },
  {
   "cell_type": "code",
   "execution_count": null,
   "id": "56187ad2",
   "metadata": {},
   "outputs": [],
   "source": [
    "\n",
    "import numpy as np\n",
    "import pandas as pd\n",
    "import ipydatagrid\n",
    "\n",
    "data = pd.DataFrame(\n",
    "    np.random.randint(0, 100, size=(5, 5)), \n",
    "    columns=[\"A\", \"B\", \"C\", \"D\", \"E\"]\n",
    ")\n",
    "grid = ipydatagrid.DataGrid(data, editable=True)\n",
    "grid\n"
   ]
  },
  {
   "cell_type": "code",
   "execution_count": null,
   "id": "b73cebea",
   "metadata": {},
   "outputs": [],
   "source": [
    "\n",
    "# Activate ipympl\n",
    "%matplotlib widget  \n",
    "\n",
    "import matplotlib.pyplot as plt  \n",
    "import numpy as np  \n",
    "\n",
    "x = np.linspace(0, 10, 100)  \n",
    "y = np.sin(x)  \n",
    "\n",
    "fig, ax = plt.subplots()  \n",
    "ax.plot(x, y)  \n",
    "plt.show()\n"
   ]
  },
  {
   "cell_type": "code",
   "execution_count": null,
   "id": "80087fab",
   "metadata": {},
   "outputs": [],
   "source": [
    "\n",
    "def             my_function(x,      y):\n",
    "    print(x,            y)\n"
   ]
  },
  {
   "cell_type": "code",
   "execution_count": null,
   "id": "90088e44",
   "metadata": {},
   "outputs": [],
   "source": [
    "\n",
    "import tempfile\n",
    "import papermill as pm\n",
    "\n",
    "with tempfile.NamedTemporaryFile(delete=False, suffix='.ipynb') as temp_output:\n",
    "    pm.execute_notebook(\n",
    "        \"test-papermill.ipynb\", \n",
    "        temp_output.name,        \n",
    "        parameters={\"param1\": \"TestRun\", \"param2\": 99},\n",
    "        kernel_name=\"python3\"\n",
    "    )\n",
    "    print(f\"Output saved to {temp_output.name}\")\n",
    "    output_path = temp_output.name  \n",
    "output_path\n"
   ]
  },
  {
   "cell_type": "code",
   "execution_count": null,
   "id": "5898d877",
   "metadata": {},
   "outputs": [],
   "source": [
    "\n",
    "import ipywidgets as widgets\n",
    "from IPython.display import display\n",
    "\n",
    "slider = widgets.IntSlider(value=50, min=0, max=100, description=\"Slider:\")\n",
    "button = widgets.Button(description=\"Click Me\")\n",
    "output = widgets.Output()\n",
    "\n",
    "def on_button_click(b):\n",
    "    with output:\n",
    "        print(\"Button Clicked!\")\n",
    "\n",
    "button.on_click(on_button_click)\n",
    "display(slider, button, output)\n"
   ]
  },
  {
   "cell_type": "code",
   "execution_count": null,
   "id": "02ff54b5",
   "metadata": {},
   "outputs": [],
   "source": [
    "\n",
    "from dash import dcc, html, Dash\n",
    "app = Dash(__name__)\n",
    "app.layout = html.Div([\n",
    "    dcc.Graph(\n",
    "        id='graph',\n",
    "        figure={\n",
    "            'data': [{'x': [1, 2, 3, 4], 'y': [10, 11, 12, 13], 'type': 'line', 'name': 'Test'}],\n",
    "            'layout': {'title': 'Dash in JupyterLab'}\n",
    "        }\n",
    "    )\n",
    "])\n",
    "app.run_server(host=\"0.0.0.0\", port=8052)\n"
   ]
  },
  {
   "cell_type": "code",
   "execution_count": null,
   "id": "2b46527a",
   "metadata": {},
   "outputs": [],
   "source": [
    "\n",
    "import numpy as np\n",
    "np\n"
   ]
  },
  {
   "cell_type": "code",
   "execution_count": null,
   "id": "14dc007e",
   "metadata": {},
   "outputs": [],
   "source": [
    "\n",
    "import numpy as np\n",
    "import pandas as pd\n",
    "import ipydatagrid\n",
    "\n",
    "data = pd.DataFrame(\n",
    "    np.random.randint(0, 100, size=(5, 5)), \n",
    "    columns=[\"A\", \"B\", \"C\", \"D\", \"E\"]\n",
    ")\n",
    "grid = ipydatagrid.DataGrid(data, editable=True)\n",
    "grid\n"
   ]
  },
  {
   "cell_type": "code",
   "execution_count": null,
   "id": "3eab6f5d",
   "metadata": {},
   "outputs": [],
   "source": [
    "\n",
    "# Activate ipympl\n",
    "%matplotlib widget  \n",
    "\n",
    "import matplotlib.pyplot as plt  \n",
    "import numpy as np  \n",
    "\n",
    "x = np.linspace(0, 10, 100)  \n",
    "y = np.sin(x)  \n",
    "\n",
    "fig, ax = plt.subplots()  \n",
    "ax.plot(x, y)  \n",
    "plt.show()\n"
   ]
  },
  {
   "cell_type": "code",
   "execution_count": null,
   "id": "4757fe05",
   "metadata": {},
   "outputs": [],
   "source": [
    "\n",
    "def             my_function(x,      y):\n",
    "    print(x,            y)\n"
   ]
  },
  {
   "cell_type": "code",
   "execution_count": null,
   "id": "c773d05b",
   "metadata": {},
   "outputs": [],
   "source": [
    "\n",
    "import tempfile\n",
    "import papermill as pm\n",
    "\n",
    "with tempfile.NamedTemporaryFile(delete=False, suffix='.ipynb') as temp_output:\n",
    "    pm.execute_notebook(\n",
    "        \"test-papermill.ipynb\", \n",
    "        temp_output.name,        \n",
    "        parameters={\"param1\": \"TestRun\", \"param2\": 99},\n",
    "        kernel_name=\"python3\"\n",
    "    )\n",
    "    print(f\"Output saved to {temp_output.name}\")\n",
    "    output_path = temp_output.name  \n",
    "output_path\n"
   ]
  },
  {
   "cell_type": "code",
   "execution_count": null,
   "id": "52bac3b5",
   "metadata": {},
   "outputs": [],
   "source": [
    "\n",
    "import ipywidgets as widgets\n",
    "from IPython.display import display\n",
    "\n",
    "slider = widgets.IntSlider(value=50, min=0, max=100, description=\"Slider:\")\n",
    "button = widgets.Button(description=\"Click Me\")\n",
    "output = widgets.Output()\n",
    "\n",
    "def on_button_click(b):\n",
    "    with output:\n",
    "        print(\"Button Clicked!\")\n",
    "\n",
    "button.on_click(on_button_click)\n",
    "display(slider, button, output)\n"
   ]
  },
  {
   "cell_type": "code",
   "execution_count": null,
   "id": "ba01bdba",
   "metadata": {},
   "outputs": [],
   "source": [
    "\n",
    "from dash import dcc, html, Dash\n",
    "app = Dash(__name__)\n",
    "app.layout = html.Div([\n",
    "    dcc.Graph(\n",
    "        id='graph',\n",
    "        figure={\n",
    "            'data': [{'x': [1, 2, 3, 4], 'y': [10, 11, 12, 13], 'type': 'line', 'name': 'Test'}],\n",
    "            'layout': {'title': 'Dash in JupyterLab'}\n",
    "        }\n",
    "    )\n",
    "])\n",
    "app.run_server(host=\"0.0.0.0\", port=8052)\n"
   ]
  },
  {
   "cell_type": "code",
   "execution_count": null,
   "id": "80f1acf2",
   "metadata": {},
   "outputs": [],
   "source": [
    "\n",
    "import numpy as np\n",
    "np\n"
   ]
  },
  {
   "cell_type": "code",
   "execution_count": null,
   "id": "aa7a9fb5",
   "metadata": {},
   "outputs": [],
   "source": [
    "\n",
    "import numpy as np\n",
    "import pandas as pd\n",
    "import ipydatagrid\n",
    "\n",
    "data = pd.DataFrame(\n",
    "    np.random.randint(0, 100, size=(5, 5)), \n",
    "    columns=[\"A\", \"B\", \"C\", \"D\", \"E\"]\n",
    ")\n",
    "grid = ipydatagrid.DataGrid(data, editable=True)\n",
    "grid\n"
   ]
  },
  {
   "cell_type": "code",
   "execution_count": null,
   "id": "0a44f9ef",
   "metadata": {},
   "outputs": [],
   "source": [
    "\n",
    "# Activate ipympl\n",
    "%matplotlib widget  \n",
    "\n",
    "import matplotlib.pyplot as plt  \n",
    "import numpy as np  \n",
    "\n",
    "x = np.linspace(0, 10, 100)  \n",
    "y = np.sin(x)  \n",
    "\n",
    "fig, ax = plt.subplots()  \n",
    "ax.plot(x, y)  \n",
    "plt.show()\n"
   ]
  },
  {
   "cell_type": "code",
   "execution_count": null,
   "id": "eee07cb4",
   "metadata": {},
   "outputs": [],
   "source": [
    "\n",
    "def             my_function(x,      y):\n",
    "    print(x,            y)\n"
   ]
  },
  {
   "cell_type": "code",
   "execution_count": null,
   "id": "d4916c93",
   "metadata": {},
   "outputs": [],
   "source": [
    "\n",
    "import tempfile\n",
    "import papermill as pm\n",
    "\n",
    "with tempfile.NamedTemporaryFile(delete=False, suffix='.ipynb') as temp_output:\n",
    "    pm.execute_notebook(\n",
    "        \"test-papermill.ipynb\", \n",
    "        temp_output.name,        \n",
    "        parameters={\"param1\": \"TestRun\", \"param2\": 99},\n",
    "        kernel_name=\"python3\"\n",
    "    )\n",
    "    print(f\"Output saved to {temp_output.name}\")\n",
    "    output_path = temp_output.name  \n",
    "output_path\n"
   ]
  },
  {
   "cell_type": "code",
   "execution_count": null,
   "id": "ea44bbb1",
   "metadata": {},
   "outputs": [],
   "source": [
    "\n",
    "import ipywidgets as widgets\n",
    "from IPython.display import display\n",
    "\n",
    "slider = widgets.IntSlider(value=50, min=0, max=100, description=\"Slider:\")\n",
    "button = widgets.Button(description=\"Click Me\")\n",
    "output = widgets.Output()\n",
    "\n",
    "def on_button_click(b):\n",
    "    with output:\n",
    "        print(\"Button Clicked!\")\n",
    "\n",
    "button.on_click(on_button_click)\n",
    "display(slider, button, output)\n"
   ]
  },
  {
   "cell_type": "code",
   "execution_count": null,
   "id": "a0ecc17f",
   "metadata": {},
   "outputs": [],
   "source": [
    "\n",
    "from dash import dcc, html, Dash\n",
    "app = Dash(__name__)\n",
    "app.layout = html.Div([\n",
    "    dcc.Graph(\n",
    "        id='graph',\n",
    "        figure={\n",
    "            'data': [{'x': [1, 2, 3, 4], 'y': [10, 11, 12, 13], 'type': 'line', 'name': 'Test'}],\n",
    "            'layout': {'title': 'Dash in JupyterLab'}\n",
    "        }\n",
    "    )\n",
    "])\n",
    "app.run_server(host=\"0.0.0.0\", port=8052)\n"
   ]
  },
  {
   "cell_type": "code",
   "execution_count": null,
   "id": "d1605d7e",
   "metadata": {},
   "outputs": [],
   "source": [
    "\n",
    "import numpy as np\n",
    "np\n"
   ]
  },
  {
   "cell_type": "code",
   "execution_count": null,
   "id": "a062ca32",
   "metadata": {},
   "outputs": [],
   "source": [
    "\n",
    "import numpy as np\n",
    "import pandas as pd\n",
    "import ipydatagrid\n",
    "\n",
    "data = pd.DataFrame(\n",
    "    np.random.randint(0, 100, size=(5, 5)), \n",
    "    columns=[\"A\", \"B\", \"C\", \"D\", \"E\"]\n",
    ")\n",
    "grid = ipydatagrid.DataGrid(data, editable=True)\n",
    "grid\n"
   ]
  },
  {
   "cell_type": "code",
   "execution_count": null,
   "id": "cfc9a845",
   "metadata": {},
   "outputs": [],
   "source": [
    "\n",
    "# Activate ipympl\n",
    "%matplotlib widget  \n",
    "\n",
    "import matplotlib.pyplot as plt  \n",
    "import numpy as np  \n",
    "\n",
    "x = np.linspace(0, 10, 100)  \n",
    "y = np.sin(x)  \n",
    "\n",
    "fig, ax = plt.subplots()  \n",
    "ax.plot(x, y)  \n",
    "plt.show()\n"
   ]
  },
  {
   "cell_type": "code",
   "execution_count": null,
   "id": "e8b7d241",
   "metadata": {},
   "outputs": [],
   "source": [
    "\n",
    "def             my_function(x,      y):\n",
    "    print(x,            y)\n"
   ]
  },
  {
   "cell_type": "code",
   "execution_count": null,
   "id": "e127ba92",
   "metadata": {},
   "outputs": [],
   "source": [
    "\n",
    "import tempfile\n",
    "import papermill as pm\n",
    "\n",
    "with tempfile.NamedTemporaryFile(delete=False, suffix='.ipynb') as temp_output:\n",
    "    pm.execute_notebook(\n",
    "        \"test-papermill.ipynb\", \n",
    "        temp_output.name,        \n",
    "        parameters={\"param1\": \"TestRun\", \"param2\": 99},\n",
    "        kernel_name=\"python3\"\n",
    "    )\n",
    "    print(f\"Output saved to {temp_output.name}\")\n",
    "    output_path = temp_output.name  \n",
    "output_path\n"
   ]
  },
  {
   "cell_type": "code",
   "execution_count": null,
   "id": "20c1dc40",
   "metadata": {},
   "outputs": [],
   "source": [
    "\n",
    "import ipywidgets as widgets\n",
    "from IPython.display import display\n",
    "\n",
    "slider = widgets.IntSlider(value=50, min=0, max=100, description=\"Slider:\")\n",
    "button = widgets.Button(description=\"Click Me\")\n",
    "output = widgets.Output()\n",
    "\n",
    "def on_button_click(b):\n",
    "    with output:\n",
    "        print(\"Button Clicked!\")\n",
    "\n",
    "button.on_click(on_button_click)\n",
    "display(slider, button, output)\n"
   ]
  },
  {
   "cell_type": "code",
   "execution_count": null,
   "id": "486b4474",
   "metadata": {},
   "outputs": [],
   "source": [
    "\n",
    "from dash import dcc, html, Dash\n",
    "app = Dash(__name__)\n",
    "app.layout = html.Div([\n",
    "    dcc.Graph(\n",
    "        id='graph',\n",
    "        figure={\n",
    "            'data': [{'x': [1, 2, 3, 4], 'y': [10, 11, 12, 13], 'type': 'line', 'name': 'Test'}],\n",
    "            'layout': {'title': 'Dash in JupyterLab'}\n",
    "        }\n",
    "    )\n",
    "])\n",
    "app.run_server(host=\"0.0.0.0\", port=8052)\n"
   ]
  },
  {
   "cell_type": "code",
   "execution_count": null,
   "id": "e435f185",
   "metadata": {},
   "outputs": [],
   "source": [
    "\n",
    "import numpy as np\n",
    "np\n"
   ]
  },
  {
   "cell_type": "code",
   "execution_count": null,
   "id": "31e28b49",
   "metadata": {},
   "outputs": [],
   "source": [
    "\n",
    "import numpy as np\n",
    "import pandas as pd\n",
    "import ipydatagrid\n",
    "\n",
    "data = pd.DataFrame(\n",
    "    np.random.randint(0, 100, size=(5, 5)), \n",
    "    columns=[\"A\", \"B\", \"C\", \"D\", \"E\"]\n",
    ")\n",
    "grid = ipydatagrid.DataGrid(data, editable=True)\n",
    "grid\n"
   ]
  },
  {
   "cell_type": "code",
   "execution_count": null,
   "id": "33d6851b",
   "metadata": {},
   "outputs": [],
   "source": [
    "\n",
    "# Activate ipympl\n",
    "%matplotlib widget  \n",
    "\n",
    "import matplotlib.pyplot as plt  \n",
    "import numpy as np  \n",
    "\n",
    "x = np.linspace(0, 10, 100)  \n",
    "y = np.sin(x)  \n",
    "\n",
    "fig, ax = plt.subplots()  \n",
    "ax.plot(x, y)  \n",
    "plt.show()\n"
   ]
  },
  {
   "cell_type": "code",
   "execution_count": null,
   "id": "86b14eed",
   "metadata": {},
   "outputs": [],
   "source": [
    "\n",
    "def             my_function(x,      y):\n",
    "    print(x,            y)\n"
   ]
  },
  {
   "cell_type": "code",
   "execution_count": null,
   "id": "6ad70e05",
   "metadata": {},
   "outputs": [],
   "source": [
    "\n",
    "import tempfile\n",
    "import papermill as pm\n",
    "\n",
    "with tempfile.NamedTemporaryFile(delete=False, suffix='.ipynb') as temp_output:\n",
    "    pm.execute_notebook(\n",
    "        \"test-papermill.ipynb\", \n",
    "        temp_output.name,        \n",
    "        parameters={\"param1\": \"TestRun\", \"param2\": 99},\n",
    "        kernel_name=\"python3\"\n",
    "    )\n",
    "    print(f\"Output saved to {temp_output.name}\")\n",
    "    output_path = temp_output.name  \n",
    "output_path\n"
   ]
  },
  {
   "cell_type": "code",
   "execution_count": null,
   "id": "d382ebb2",
   "metadata": {},
   "outputs": [],
   "source": [
    "\n",
    "import ipywidgets as widgets\n",
    "from IPython.display import display\n",
    "\n",
    "slider = widgets.IntSlider(value=50, min=0, max=100, description=\"Slider:\")\n",
    "button = widgets.Button(description=\"Click Me\")\n",
    "output = widgets.Output()\n",
    "\n",
    "def on_button_click(b):\n",
    "    with output:\n",
    "        print(\"Button Clicked!\")\n",
    "\n",
    "button.on_click(on_button_click)\n",
    "display(slider, button, output)\n"
   ]
  },
  {
   "cell_type": "code",
   "execution_count": null,
   "id": "c5859917",
   "metadata": {},
   "outputs": [],
   "source": [
    "\n",
    "from dash import dcc, html, Dash\n",
    "app = Dash(__name__)\n",
    "app.layout = html.Div([\n",
    "    dcc.Graph(\n",
    "        id='graph',\n",
    "        figure={\n",
    "            'data': [{'x': [1, 2, 3, 4], 'y': [10, 11, 12, 13], 'type': 'line', 'name': 'Test'}],\n",
    "            'layout': {'title': 'Dash in JupyterLab'}\n",
    "        }\n",
    "    )\n",
    "])\n",
    "app.run_server(host=\"0.0.0.0\", port=8052)\n"
   ]
  },
  {
   "cell_type": "code",
   "execution_count": null,
   "id": "3502299c",
   "metadata": {},
   "outputs": [],
   "source": [
    "\n",
    "import numpy as np\n",
    "np\n"
   ]
  },
  {
   "cell_type": "code",
   "execution_count": null,
   "id": "127b7984",
   "metadata": {},
   "outputs": [],
   "source": [
    "\n",
    "import numpy as np\n",
    "import pandas as pd\n",
    "import ipydatagrid\n",
    "\n",
    "data = pd.DataFrame(\n",
    "    np.random.randint(0, 100, size=(5, 5)), \n",
    "    columns=[\"A\", \"B\", \"C\", \"D\", \"E\"]\n",
    ")\n",
    "grid = ipydatagrid.DataGrid(data, editable=True)\n",
    "grid\n"
   ]
  },
  {
   "cell_type": "code",
   "execution_count": null,
   "id": "53532729",
   "metadata": {},
   "outputs": [],
   "source": [
    "\n",
    "# Activate ipympl\n",
    "%matplotlib widget  \n",
    "\n",
    "import matplotlib.pyplot as plt  \n",
    "import numpy as np  \n",
    "\n",
    "x = np.linspace(0, 10, 100)  \n",
    "y = np.sin(x)  \n",
    "\n",
    "fig, ax = plt.subplots()  \n",
    "ax.plot(x, y)  \n",
    "plt.show()\n"
   ]
  },
  {
   "cell_type": "code",
   "execution_count": null,
   "id": "7a943925",
   "metadata": {},
   "outputs": [],
   "source": [
    "\n",
    "def             my_function(x,      y):\n",
    "    print(x,            y)\n"
   ]
  },
  {
   "cell_type": "code",
   "execution_count": null,
   "id": "f3d206ea",
   "metadata": {},
   "outputs": [],
   "source": [
    "\n",
    "import tempfile\n",
    "import papermill as pm\n",
    "\n",
    "with tempfile.NamedTemporaryFile(delete=False, suffix='.ipynb') as temp_output:\n",
    "    pm.execute_notebook(\n",
    "        \"test-papermill.ipynb\", \n",
    "        temp_output.name,        \n",
    "        parameters={\"param1\": \"TestRun\", \"param2\": 99},\n",
    "        kernel_name=\"python3\"\n",
    "    )\n",
    "    print(f\"Output saved to {temp_output.name}\")\n",
    "    output_path = temp_output.name  \n",
    "output_path\n"
   ]
  },
  {
   "cell_type": "code",
   "execution_count": null,
   "id": "516f2e64",
   "metadata": {},
   "outputs": [],
   "source": [
    "\n",
    "import ipywidgets as widgets\n",
    "from IPython.display import display\n",
    "\n",
    "slider = widgets.IntSlider(value=50, min=0, max=100, description=\"Slider:\")\n",
    "button = widgets.Button(description=\"Click Me\")\n",
    "output = widgets.Output()\n",
    "\n",
    "def on_button_click(b):\n",
    "    with output:\n",
    "        print(\"Button Clicked!\")\n",
    "\n",
    "button.on_click(on_button_click)\n",
    "display(slider, button, output)\n"
   ]
  },
  {
   "cell_type": "code",
   "execution_count": null,
   "id": "baf181fb",
   "metadata": {},
   "outputs": [],
   "source": [
    "\n",
    "from dash import dcc, html, Dash\n",
    "app = Dash(__name__)\n",
    "app.layout = html.Div([\n",
    "    dcc.Graph(\n",
    "        id='graph',\n",
    "        figure={\n",
    "            'data': [{'x': [1, 2, 3, 4], 'y': [10, 11, 12, 13], 'type': 'line', 'name': 'Test'}],\n",
    "            'layout': {'title': 'Dash in JupyterLab'}\n",
    "        }\n",
    "    )\n",
    "])\n",
    "app.run_server(host=\"0.0.0.0\", port=8052)\n"
   ]
  },
  {
   "cell_type": "code",
   "execution_count": null,
   "id": "b59b2413",
   "metadata": {},
   "outputs": [],
   "source": [
    "\n",
    "import numpy as np\n",
    "np\n"
   ]
  },
  {
   "cell_type": "code",
   "execution_count": null,
   "id": "f684aafa",
   "metadata": {},
   "outputs": [],
   "source": [
    "\n",
    "import numpy as np\n",
    "import pandas as pd\n",
    "import ipydatagrid\n",
    "\n",
    "data = pd.DataFrame(\n",
    "    np.random.randint(0, 100, size=(5, 5)), \n",
    "    columns=[\"A\", \"B\", \"C\", \"D\", \"E\"]\n",
    ")\n",
    "grid = ipydatagrid.DataGrid(data, editable=True)\n",
    "grid\n"
   ]
  },
  {
   "cell_type": "code",
   "execution_count": null,
   "id": "2368a516",
   "metadata": {},
   "outputs": [],
   "source": [
    "\n",
    "# Activate ipympl\n",
    "%matplotlib widget  \n",
    "\n",
    "import matplotlib.pyplot as plt  \n",
    "import numpy as np  \n",
    "\n",
    "x = np.linspace(0, 10, 100)  \n",
    "y = np.sin(x)  \n",
    "\n",
    "fig, ax = plt.subplots()  \n",
    "ax.plot(x, y)  \n",
    "plt.show()\n"
   ]
  },
  {
   "cell_type": "code",
   "execution_count": null,
   "id": "0ab63ed7",
   "metadata": {},
   "outputs": [],
   "source": [
    "\n",
    "def             my_function(x,      y):\n",
    "    print(x,            y)\n"
   ]
  },
  {
   "cell_type": "code",
   "execution_count": null,
   "id": "44328440",
   "metadata": {},
   "outputs": [],
   "source": [
    "\n",
    "import tempfile\n",
    "import papermill as pm\n",
    "\n",
    "with tempfile.NamedTemporaryFile(delete=False, suffix='.ipynb') as temp_output:\n",
    "    pm.execute_notebook(\n",
    "        \"test-papermill.ipynb\", \n",
    "        temp_output.name,        \n",
    "        parameters={\"param1\": \"TestRun\", \"param2\": 99},\n",
    "        kernel_name=\"python3\"\n",
    "    )\n",
    "    print(f\"Output saved to {temp_output.name}\")\n",
    "    output_path = temp_output.name  \n",
    "output_path\n"
   ]
  },
  {
   "cell_type": "code",
   "execution_count": null,
   "id": "f6ede079",
   "metadata": {},
   "outputs": [],
   "source": [
    "\n",
    "import ipywidgets as widgets\n",
    "from IPython.display import display\n",
    "\n",
    "slider = widgets.IntSlider(value=50, min=0, max=100, description=\"Slider:\")\n",
    "button = widgets.Button(description=\"Click Me\")\n",
    "output = widgets.Output()\n",
    "\n",
    "def on_button_click(b):\n",
    "    with output:\n",
    "        print(\"Button Clicked!\")\n",
    "\n",
    "button.on_click(on_button_click)\n",
    "display(slider, button, output)\n"
   ]
  },
  {
   "cell_type": "code",
   "execution_count": null,
   "id": "06e3dad8",
   "metadata": {},
   "outputs": [],
   "source": [
    "\n",
    "from dash import dcc, html, Dash\n",
    "app = Dash(__name__)\n",
    "app.layout = html.Div([\n",
    "    dcc.Graph(\n",
    "        id='graph',\n",
    "        figure={\n",
    "            'data': [{'x': [1, 2, 3, 4], 'y': [10, 11, 12, 13], 'type': 'line', 'name': 'Test'}],\n",
    "            'layout': {'title': 'Dash in JupyterLab'}\n",
    "        }\n",
    "    )\n",
    "])\n",
    "app.run_server(host=\"0.0.0.0\", port=8052)\n"
   ]
  },
  {
   "cell_type": "code",
   "execution_count": null,
   "id": "e7b1efde",
   "metadata": {},
   "outputs": [],
   "source": [
    "\n",
    "import numpy as np\n",
    "np\n"
   ]
  },
  {
   "cell_type": "code",
   "execution_count": null,
   "id": "a6004540",
   "metadata": {},
   "outputs": [],
   "source": [
    "\n",
    "import numpy as np\n",
    "import pandas as pd\n",
    "import ipydatagrid\n",
    "\n",
    "data = pd.DataFrame(\n",
    "    np.random.randint(0, 100, size=(5, 5)), \n",
    "    columns=[\"A\", \"B\", \"C\", \"D\", \"E\"]\n",
    ")\n",
    "grid = ipydatagrid.DataGrid(data, editable=True)\n",
    "grid\n"
   ]
  },
  {
   "cell_type": "code",
   "execution_count": null,
   "id": "a93903ad",
   "metadata": {},
   "outputs": [],
   "source": [
    "\n",
    "# Activate ipympl\n",
    "%matplotlib widget  \n",
    "\n",
    "import matplotlib.pyplot as plt  \n",
    "import numpy as np  \n",
    "\n",
    "x = np.linspace(0, 10, 100)  \n",
    "y = np.sin(x)  \n",
    "\n",
    "fig, ax = plt.subplots()  \n",
    "ax.plot(x, y)  \n",
    "plt.show()\n"
   ]
  },
  {
   "cell_type": "code",
   "execution_count": null,
   "id": "75829fa2",
   "metadata": {},
   "outputs": [],
   "source": [
    "\n",
    "def             my_function(x,      y):\n",
    "    print(x,            y)\n"
   ]
  },
  {
   "cell_type": "code",
   "execution_count": null,
   "id": "6b7b2491",
   "metadata": {},
   "outputs": [],
   "source": [
    "\n",
    "import tempfile\n",
    "import papermill as pm\n",
    "\n",
    "with tempfile.NamedTemporaryFile(delete=False, suffix='.ipynb') as temp_output:\n",
    "    pm.execute_notebook(\n",
    "        \"test-papermill.ipynb\", \n",
    "        temp_output.name,        \n",
    "        parameters={\"param1\": \"TestRun\", \"param2\": 99},\n",
    "        kernel_name=\"python3\"\n",
    "    )\n",
    "    print(f\"Output saved to {temp_output.name}\")\n",
    "    output_path = temp_output.name  \n",
    "output_path\n"
   ]
  },
  {
   "cell_type": "code",
   "execution_count": null,
   "id": "74a5beb5",
   "metadata": {},
   "outputs": [],
   "source": [
    "\n",
    "import ipywidgets as widgets\n",
    "from IPython.display import display\n",
    "\n",
    "slider = widgets.IntSlider(value=50, min=0, max=100, description=\"Slider:\")\n",
    "button = widgets.Button(description=\"Click Me\")\n",
    "output = widgets.Output()\n",
    "\n",
    "def on_button_click(b):\n",
    "    with output:\n",
    "        print(\"Button Clicked!\")\n",
    "\n",
    "button.on_click(on_button_click)\n",
    "display(slider, button, output)\n"
   ]
  },
  {
   "cell_type": "code",
   "execution_count": null,
   "id": "5593dcf1",
   "metadata": {},
   "outputs": [],
   "source": [
    "\n",
    "from dash import dcc, html, Dash\n",
    "app = Dash(__name__)\n",
    "app.layout = html.Div([\n",
    "    dcc.Graph(\n",
    "        id='graph',\n",
    "        figure={\n",
    "            'data': [{'x': [1, 2, 3, 4], 'y': [10, 11, 12, 13], 'type': 'line', 'name': 'Test'}],\n",
    "            'layout': {'title': 'Dash in JupyterLab'}\n",
    "        }\n",
    "    )\n",
    "])\n",
    "app.run_server(host=\"0.0.0.0\", port=8052)\n"
   ]
  },
  {
   "cell_type": "code",
   "execution_count": null,
   "id": "a43440bd",
   "metadata": {},
   "outputs": [],
   "source": [
    "\n",
    "import numpy as np\n",
    "np\n"
   ]
  },
  {
   "cell_type": "code",
   "execution_count": null,
   "id": "b3cca48d",
   "metadata": {},
   "outputs": [],
   "source": [
    "\n",
    "import numpy as np\n",
    "import pandas as pd\n",
    "import ipydatagrid\n",
    "\n",
    "data = pd.DataFrame(\n",
    "    np.random.randint(0, 100, size=(5, 5)), \n",
    "    columns=[\"A\", \"B\", \"C\", \"D\", \"E\"]\n",
    ")\n",
    "grid = ipydatagrid.DataGrid(data, editable=True)\n",
    "grid\n"
   ]
  },
  {
   "cell_type": "code",
   "execution_count": null,
   "id": "8f58b465",
   "metadata": {},
   "outputs": [],
   "source": [
    "\n",
    "# Activate ipympl\n",
    "%matplotlib widget  \n",
    "\n",
    "import matplotlib.pyplot as plt  \n",
    "import numpy as np  \n",
    "\n",
    "x = np.linspace(0, 10, 100)  \n",
    "y = np.sin(x)  \n",
    "\n",
    "fig, ax = plt.subplots()  \n",
    "ax.plot(x, y)  \n",
    "plt.show()\n"
   ]
  },
  {
   "cell_type": "code",
   "execution_count": null,
   "id": "eb831be8",
   "metadata": {},
   "outputs": [],
   "source": [
    "\n",
    "def             my_function(x,      y):\n",
    "    print(x,            y)\n"
   ]
  },
  {
   "cell_type": "code",
   "execution_count": null,
   "id": "441ccdd0",
   "metadata": {},
   "outputs": [],
   "source": [
    "\n",
    "import tempfile\n",
    "import papermill as pm\n",
    "\n",
    "with tempfile.NamedTemporaryFile(delete=False, suffix='.ipynb') as temp_output:\n",
    "    pm.execute_notebook(\n",
    "        \"test-papermill.ipynb\", \n",
    "        temp_output.name,        \n",
    "        parameters={\"param1\": \"TestRun\", \"param2\": 99},\n",
    "        kernel_name=\"python3\"\n",
    "    )\n",
    "    print(f\"Output saved to {temp_output.name}\")\n",
    "    output_path = temp_output.name  \n",
    "output_path\n"
   ]
  },
  {
   "cell_type": "code",
   "execution_count": null,
   "id": "5cd7ac7d",
   "metadata": {},
   "outputs": [],
   "source": [
    "\n",
    "import ipywidgets as widgets\n",
    "from IPython.display import display\n",
    "\n",
    "slider = widgets.IntSlider(value=50, min=0, max=100, description=\"Slider:\")\n",
    "button = widgets.Button(description=\"Click Me\")\n",
    "output = widgets.Output()\n",
    "\n",
    "def on_button_click(b):\n",
    "    with output:\n",
    "        print(\"Button Clicked!\")\n",
    "\n",
    "button.on_click(on_button_click)\n",
    "display(slider, button, output)\n"
   ]
  },
  {
   "cell_type": "code",
   "execution_count": null,
   "id": "b1c56175",
   "metadata": {},
   "outputs": [],
   "source": [
    "\n",
    "from dash import dcc, html, Dash\n",
    "app = Dash(__name__)\n",
    "app.layout = html.Div([\n",
    "    dcc.Graph(\n",
    "        id='graph',\n",
    "        figure={\n",
    "            'data': [{'x': [1, 2, 3, 4], 'y': [10, 11, 12, 13], 'type': 'line', 'name': 'Test'}],\n",
    "            'layout': {'title': 'Dash in JupyterLab'}\n",
    "        }\n",
    "    )\n",
    "])\n",
    "app.run_server(host=\"0.0.0.0\", port=8052)\n"
   ]
  },
  {
   "cell_type": "code",
   "execution_count": null,
   "id": "40f35e06",
   "metadata": {},
   "outputs": [],
   "source": [
    "\n",
    "import numpy as np\n",
    "np\n"
   ]
  },
  {
   "cell_type": "code",
   "execution_count": null,
   "id": "c68ae1b9",
   "metadata": {},
   "outputs": [],
   "source": [
    "\n",
    "import numpy as np\n",
    "import pandas as pd\n",
    "import ipydatagrid\n",
    "\n",
    "data = pd.DataFrame(\n",
    "    np.random.randint(0, 100, size=(5, 5)), \n",
    "    columns=[\"A\", \"B\", \"C\", \"D\", \"E\"]\n",
    ")\n",
    "grid = ipydatagrid.DataGrid(data, editable=True)\n",
    "grid\n"
   ]
  },
  {
   "cell_type": "code",
   "execution_count": null,
   "id": "d45ff412",
   "metadata": {},
   "outputs": [],
   "source": [
    "\n",
    "# Activate ipympl\n",
    "%matplotlib widget  \n",
    "\n",
    "import matplotlib.pyplot as plt  \n",
    "import numpy as np  \n",
    "\n",
    "x = np.linspace(0, 10, 100)  \n",
    "y = np.sin(x)  \n",
    "\n",
    "fig, ax = plt.subplots()  \n",
    "ax.plot(x, y)  \n",
    "plt.show()\n"
   ]
  },
  {
   "cell_type": "code",
   "execution_count": null,
   "id": "1a863f22",
   "metadata": {},
   "outputs": [],
   "source": [
    "\n",
    "def             my_function(x,      y):\n",
    "    print(x,            y)\n"
   ]
  },
  {
   "cell_type": "code",
   "execution_count": null,
   "id": "aa9c7790",
   "metadata": {},
   "outputs": [],
   "source": [
    "\n",
    "import tempfile\n",
    "import papermill as pm\n",
    "\n",
    "with tempfile.NamedTemporaryFile(delete=False, suffix='.ipynb') as temp_output:\n",
    "    pm.execute_notebook(\n",
    "        \"test-papermill.ipynb\", \n",
    "        temp_output.name,        \n",
    "        parameters={\"param1\": \"TestRun\", \"param2\": 99},\n",
    "        kernel_name=\"python3\"\n",
    "    )\n",
    "    print(f\"Output saved to {temp_output.name}\")\n",
    "    output_path = temp_output.name  \n",
    "output_path\n"
   ]
  },
  {
   "cell_type": "code",
   "execution_count": null,
   "id": "6167ca95",
   "metadata": {},
   "outputs": [],
   "source": [
    "\n",
    "import ipywidgets as widgets\n",
    "from IPython.display import display\n",
    "\n",
    "slider = widgets.IntSlider(value=50, min=0, max=100, description=\"Slider:\")\n",
    "button = widgets.Button(description=\"Click Me\")\n",
    "output = widgets.Output()\n",
    "\n",
    "def on_button_click(b):\n",
    "    with output:\n",
    "        print(\"Button Clicked!\")\n",
    "\n",
    "button.on_click(on_button_click)\n",
    "display(slider, button, output)\n"
   ]
  },
  {
   "cell_type": "code",
   "execution_count": null,
   "id": "c06363dc",
   "metadata": {},
   "outputs": [],
   "source": [
    "\n",
    "from dash import dcc, html, Dash\n",
    "app = Dash(__name__)\n",
    "app.layout = html.Div([\n",
    "    dcc.Graph(\n",
    "        id='graph',\n",
    "        figure={\n",
    "            'data': [{'x': [1, 2, 3, 4], 'y': [10, 11, 12, 13], 'type': 'line', 'name': 'Test'}],\n",
    "            'layout': {'title': 'Dash in JupyterLab'}\n",
    "        }\n",
    "    )\n",
    "])\n",
    "app.run_server(host=\"0.0.0.0\", port=8052)\n"
   ]
  },
  {
   "cell_type": "code",
   "execution_count": null,
   "id": "9228396e",
   "metadata": {},
   "outputs": [],
   "source": [
    "\n",
    "import numpy as np\n",
    "np\n"
   ]
  },
  {
   "cell_type": "code",
   "execution_count": null,
   "id": "9e5c15a2",
   "metadata": {},
   "outputs": [],
   "source": [
    "\n",
    "import numpy as np\n",
    "import pandas as pd\n",
    "import ipydatagrid\n",
    "\n",
    "data = pd.DataFrame(\n",
    "    np.random.randint(0, 100, size=(5, 5)), \n",
    "    columns=[\"A\", \"B\", \"C\", \"D\", \"E\"]\n",
    ")\n",
    "grid = ipydatagrid.DataGrid(data, editable=True)\n",
    "grid\n"
   ]
  },
  {
   "cell_type": "code",
   "execution_count": null,
   "id": "e948b9b9",
   "metadata": {},
   "outputs": [],
   "source": [
    "\n",
    "# Activate ipympl\n",
    "%matplotlib widget  \n",
    "\n",
    "import matplotlib.pyplot as plt  \n",
    "import numpy as np  \n",
    "\n",
    "x = np.linspace(0, 10, 100)  \n",
    "y = np.sin(x)  \n",
    "\n",
    "fig, ax = plt.subplots()  \n",
    "ax.plot(x, y)  \n",
    "plt.show()\n"
   ]
  },
  {
   "cell_type": "code",
   "execution_count": null,
   "id": "2135941a",
   "metadata": {},
   "outputs": [],
   "source": [
    "\n",
    "def             my_function(x,      y):\n",
    "    print(x,            y)\n"
   ]
  },
  {
   "cell_type": "code",
   "execution_count": null,
   "id": "e0ae2240",
   "metadata": {},
   "outputs": [],
   "source": [
    "\n",
    "import tempfile\n",
    "import papermill as pm\n",
    "\n",
    "with tempfile.NamedTemporaryFile(delete=False, suffix='.ipynb') as temp_output:\n",
    "    pm.execute_notebook(\n",
    "        \"test-papermill.ipynb\", \n",
    "        temp_output.name,        \n",
    "        parameters={\"param1\": \"TestRun\", \"param2\": 99},\n",
    "        kernel_name=\"python3\"\n",
    "    )\n",
    "    print(f\"Output saved to {temp_output.name}\")\n",
    "    output_path = temp_output.name  \n",
    "output_path\n"
   ]
  },
  {
   "cell_type": "code",
   "execution_count": null,
   "id": "592f586a",
   "metadata": {},
   "outputs": [],
   "source": [
    "\n",
    "import ipywidgets as widgets\n",
    "from IPython.display import display\n",
    "\n",
    "slider = widgets.IntSlider(value=50, min=0, max=100, description=\"Slider:\")\n",
    "button = widgets.Button(description=\"Click Me\")\n",
    "output = widgets.Output()\n",
    "\n",
    "def on_button_click(b):\n",
    "    with output:\n",
    "        print(\"Button Clicked!\")\n",
    "\n",
    "button.on_click(on_button_click)\n",
    "display(slider, button, output)\n"
   ]
  },
  {
   "cell_type": "code",
   "execution_count": null,
   "id": "136a3df6",
   "metadata": {},
   "outputs": [],
   "source": [
    "\n",
    "from dash import dcc, html, Dash\n",
    "app = Dash(__name__)\n",
    "app.layout = html.Div([\n",
    "    dcc.Graph(\n",
    "        id='graph',\n",
    "        figure={\n",
    "            'data': [{'x': [1, 2, 3, 4], 'y': [10, 11, 12, 13], 'type': 'line', 'name': 'Test'}],\n",
    "            'layout': {'title': 'Dash in JupyterLab'}\n",
    "        }\n",
    "    )\n",
    "])\n",
    "app.run_server(host=\"0.0.0.0\", port=8052)\n"
   ]
  },
  {
   "cell_type": "code",
   "execution_count": null,
   "id": "ac61b0ea",
   "metadata": {},
   "outputs": [],
   "source": [
    "\n",
    "import numpy as np\n",
    "np\n"
   ]
  },
  {
   "cell_type": "code",
   "execution_count": null,
   "id": "0b0bddfe",
   "metadata": {},
   "outputs": [],
   "source": [
    "\n",
    "import numpy as np\n",
    "import pandas as pd\n",
    "import ipydatagrid\n",
    "\n",
    "data = pd.DataFrame(\n",
    "    np.random.randint(0, 100, size=(5, 5)), \n",
    "    columns=[\"A\", \"B\", \"C\", \"D\", \"E\"]\n",
    ")\n",
    "grid = ipydatagrid.DataGrid(data, editable=True)\n",
    "grid\n"
   ]
  },
  {
   "cell_type": "code",
   "execution_count": null,
   "id": "7b12c016",
   "metadata": {},
   "outputs": [],
   "source": [
    "\n",
    "# Activate ipympl\n",
    "%matplotlib widget  \n",
    "\n",
    "import matplotlib.pyplot as plt  \n",
    "import numpy as np  \n",
    "\n",
    "x = np.linspace(0, 10, 100)  \n",
    "y = np.sin(x)  \n",
    "\n",
    "fig, ax = plt.subplots()  \n",
    "ax.plot(x, y)  \n",
    "plt.show()\n"
   ]
  },
  {
   "cell_type": "code",
   "execution_count": null,
   "id": "9b1e7084",
   "metadata": {},
   "outputs": [],
   "source": [
    "\n",
    "def             my_function(x,      y):\n",
    "    print(x,            y)\n"
   ]
  },
  {
   "cell_type": "code",
   "execution_count": null,
   "id": "71389262",
   "metadata": {},
   "outputs": [],
   "source": [
    "\n",
    "import tempfile\n",
    "import papermill as pm\n",
    "\n",
    "with tempfile.NamedTemporaryFile(delete=False, suffix='.ipynb') as temp_output:\n",
    "    pm.execute_notebook(\n",
    "        \"test-papermill.ipynb\", \n",
    "        temp_output.name,        \n",
    "        parameters={\"param1\": \"TestRun\", \"param2\": 99},\n",
    "        kernel_name=\"python3\"\n",
    "    )\n",
    "    print(f\"Output saved to {temp_output.name}\")\n",
    "    output_path = temp_output.name  \n",
    "output_path\n"
   ]
  },
  {
   "cell_type": "code",
   "execution_count": null,
   "id": "33273e60",
   "metadata": {},
   "outputs": [],
   "source": [
    "\n",
    "import ipywidgets as widgets\n",
    "from IPython.display import display\n",
    "\n",
    "slider = widgets.IntSlider(value=50, min=0, max=100, description=\"Slider:\")\n",
    "button = widgets.Button(description=\"Click Me\")\n",
    "output = widgets.Output()\n",
    "\n",
    "def on_button_click(b):\n",
    "    with output:\n",
    "        print(\"Button Clicked!\")\n",
    "\n",
    "button.on_click(on_button_click)\n",
    "display(slider, button, output)\n"
   ]
  },
  {
   "cell_type": "code",
   "execution_count": null,
   "id": "3f41d460",
   "metadata": {},
   "outputs": [],
   "source": [
    "\n",
    "from dash import dcc, html, Dash\n",
    "app = Dash(__name__)\n",
    "app.layout = html.Div([\n",
    "    dcc.Graph(\n",
    "        id='graph',\n",
    "        figure={\n",
    "            'data': [{'x': [1, 2, 3, 4], 'y': [10, 11, 12, 13], 'type': 'line', 'name': 'Test'}],\n",
    "            'layout': {'title': 'Dash in JupyterLab'}\n",
    "        }\n",
    "    )\n",
    "])\n",
    "app.run_server(host=\"0.0.0.0\", port=8052)\n"
   ]
  },
  {
   "cell_type": "code",
   "execution_count": null,
   "id": "fca471d8",
   "metadata": {},
   "outputs": [],
   "source": [
    "\n",
    "import numpy as np\n",
    "np\n"
   ]
  },
  {
   "cell_type": "code",
   "execution_count": null,
   "id": "4872d161",
   "metadata": {},
   "outputs": [],
   "source": [
    "\n",
    "import numpy as np\n",
    "import pandas as pd\n",
    "import ipydatagrid\n",
    "\n",
    "data = pd.DataFrame(\n",
    "    np.random.randint(0, 100, size=(5, 5)), \n",
    "    columns=[\"A\", \"B\", \"C\", \"D\", \"E\"]\n",
    ")\n",
    "grid = ipydatagrid.DataGrid(data, editable=True)\n",
    "grid\n"
   ]
  },
  {
   "cell_type": "code",
   "execution_count": null,
   "id": "7cc9ccc0",
   "metadata": {},
   "outputs": [],
   "source": [
    "\n",
    "# Activate ipympl\n",
    "%matplotlib widget  \n",
    "\n",
    "import matplotlib.pyplot as plt  \n",
    "import numpy as np  \n",
    "\n",
    "x = np.linspace(0, 10, 100)  \n",
    "y = np.sin(x)  \n",
    "\n",
    "fig, ax = plt.subplots()  \n",
    "ax.plot(x, y)  \n",
    "plt.show()\n"
   ]
  },
  {
   "cell_type": "code",
   "execution_count": null,
   "id": "23fc7c2a",
   "metadata": {},
   "outputs": [],
   "source": [
    "\n",
    "def             my_function(x,      y):\n",
    "    print(x,            y)\n"
   ]
  },
  {
   "cell_type": "code",
   "execution_count": null,
   "id": "6703604d",
   "metadata": {},
   "outputs": [],
   "source": [
    "\n",
    "import tempfile\n",
    "import papermill as pm\n",
    "\n",
    "with tempfile.NamedTemporaryFile(delete=False, suffix='.ipynb') as temp_output:\n",
    "    pm.execute_notebook(\n",
    "        \"test-papermill.ipynb\", \n",
    "        temp_output.name,        \n",
    "        parameters={\"param1\": \"TestRun\", \"param2\": 99},\n",
    "        kernel_name=\"python3\"\n",
    "    )\n",
    "    print(f\"Output saved to {temp_output.name}\")\n",
    "    output_path = temp_output.name  \n",
    "output_path\n"
   ]
  },
  {
   "cell_type": "code",
   "execution_count": null,
   "id": "e819fc38",
   "metadata": {},
   "outputs": [],
   "source": [
    "\n",
    "import ipywidgets as widgets\n",
    "from IPython.display import display\n",
    "\n",
    "slider = widgets.IntSlider(value=50, min=0, max=100, description=\"Slider:\")\n",
    "button = widgets.Button(description=\"Click Me\")\n",
    "output = widgets.Output()\n",
    "\n",
    "def on_button_click(b):\n",
    "    with output:\n",
    "        print(\"Button Clicked!\")\n",
    "\n",
    "button.on_click(on_button_click)\n",
    "display(slider, button, output)\n"
   ]
  },
  {
   "cell_type": "code",
   "execution_count": null,
   "id": "0d149ee5",
   "metadata": {},
   "outputs": [],
   "source": [
    "\n",
    "from dash import dcc, html, Dash\n",
    "app = Dash(__name__)\n",
    "app.layout = html.Div([\n",
    "    dcc.Graph(\n",
    "        id='graph',\n",
    "        figure={\n",
    "            'data': [{'x': [1, 2, 3, 4], 'y': [10, 11, 12, 13], 'type': 'line', 'name': 'Test'}],\n",
    "            'layout': {'title': 'Dash in JupyterLab'}\n",
    "        }\n",
    "    )\n",
    "])\n",
    "app.run_server(host=\"0.0.0.0\", port=8052)\n"
   ]
  },
  {
   "cell_type": "code",
   "execution_count": null,
   "id": "988278b7",
   "metadata": {},
   "outputs": [],
   "source": [
    "\n",
    "import numpy as np\n",
    "np\n"
   ]
  },
  {
   "cell_type": "code",
   "execution_count": null,
   "id": "ecf3893e",
   "metadata": {},
   "outputs": [],
   "source": [
    "\n",
    "import numpy as np\n",
    "import pandas as pd\n",
    "import ipydatagrid\n",
    "\n",
    "data = pd.DataFrame(\n",
    "    np.random.randint(0, 100, size=(5, 5)), \n",
    "    columns=[\"A\", \"B\", \"C\", \"D\", \"E\"]\n",
    ")\n",
    "grid = ipydatagrid.DataGrid(data, editable=True)\n",
    "grid\n"
   ]
  },
  {
   "cell_type": "code",
   "execution_count": null,
   "id": "618ebf38",
   "metadata": {},
   "outputs": [],
   "source": [
    "\n",
    "# Activate ipympl\n",
    "%matplotlib widget  \n",
    "\n",
    "import matplotlib.pyplot as plt  \n",
    "import numpy as np  \n",
    "\n",
    "x = np.linspace(0, 10, 100)  \n",
    "y = np.sin(x)  \n",
    "\n",
    "fig, ax = plt.subplots()  \n",
    "ax.plot(x, y)  \n",
    "plt.show()\n"
   ]
  },
  {
   "cell_type": "code",
   "execution_count": null,
   "id": "52d30773",
   "metadata": {},
   "outputs": [],
   "source": [
    "\n",
    "def             my_function(x,      y):\n",
    "    print(x,            y)\n"
   ]
  },
  {
   "cell_type": "code",
   "execution_count": null,
   "id": "6fdc8773",
   "metadata": {},
   "outputs": [],
   "source": [
    "\n",
    "import tempfile\n",
    "import papermill as pm\n",
    "\n",
    "with tempfile.NamedTemporaryFile(delete=False, suffix='.ipynb') as temp_output:\n",
    "    pm.execute_notebook(\n",
    "        \"test-papermill.ipynb\", \n",
    "        temp_output.name,        \n",
    "        parameters={\"param1\": \"TestRun\", \"param2\": 99},\n",
    "        kernel_name=\"python3\"\n",
    "    )\n",
    "    print(f\"Output saved to {temp_output.name}\")\n",
    "    output_path = temp_output.name  \n",
    "output_path\n"
   ]
  },
  {
   "cell_type": "code",
   "execution_count": null,
   "id": "be47cd2e",
   "metadata": {},
   "outputs": [],
   "source": [
    "\n",
    "import ipywidgets as widgets\n",
    "from IPython.display import display\n",
    "\n",
    "slider = widgets.IntSlider(value=50, min=0, max=100, description=\"Slider:\")\n",
    "button = widgets.Button(description=\"Click Me\")\n",
    "output = widgets.Output()\n",
    "\n",
    "def on_button_click(b):\n",
    "    with output:\n",
    "        print(\"Button Clicked!\")\n",
    "\n",
    "button.on_click(on_button_click)\n",
    "display(slider, button, output)\n"
   ]
  },
  {
   "cell_type": "code",
   "execution_count": null,
   "id": "2dc7f4a4",
   "metadata": {},
   "outputs": [],
   "source": [
    "\n",
    "from dash import dcc, html, Dash\n",
    "app = Dash(__name__)\n",
    "app.layout = html.Div([\n",
    "    dcc.Graph(\n",
    "        id='graph',\n",
    "        figure={\n",
    "            'data': [{'x': [1, 2, 3, 4], 'y': [10, 11, 12, 13], 'type': 'line', 'name': 'Test'}],\n",
    "            'layout': {'title': 'Dash in JupyterLab'}\n",
    "        }\n",
    "    )\n",
    "])\n",
    "app.run_server(host=\"0.0.0.0\", port=8052)\n"
   ]
  },
  {
   "cell_type": "code",
   "execution_count": null,
   "id": "1653c00b",
   "metadata": {},
   "outputs": [],
   "source": [
    "\n",
    "import numpy as np\n",
    "np\n"
   ]
  },
  {
   "cell_type": "code",
   "execution_count": null,
   "id": "452b6fa4",
   "metadata": {},
   "outputs": [],
   "source": [
    "\n",
    "import numpy as np\n",
    "import pandas as pd\n",
    "import ipydatagrid\n",
    "\n",
    "data = pd.DataFrame(\n",
    "    np.random.randint(0, 100, size=(5, 5)), \n",
    "    columns=[\"A\", \"B\", \"C\", \"D\", \"E\"]\n",
    ")\n",
    "grid = ipydatagrid.DataGrid(data, editable=True)\n",
    "grid\n"
   ]
  },
  {
   "cell_type": "code",
   "execution_count": null,
   "id": "15f35150",
   "metadata": {},
   "outputs": [],
   "source": [
    "\n",
    "# Activate ipympl\n",
    "%matplotlib widget  \n",
    "\n",
    "import matplotlib.pyplot as plt  \n",
    "import numpy as np  \n",
    "\n",
    "x = np.linspace(0, 10, 100)  \n",
    "y = np.sin(x)  \n",
    "\n",
    "fig, ax = plt.subplots()  \n",
    "ax.plot(x, y)  \n",
    "plt.show()\n"
   ]
  },
  {
   "cell_type": "code",
   "execution_count": null,
   "id": "6f8173a8",
   "metadata": {},
   "outputs": [],
   "source": [
    "\n",
    "def             my_function(x,      y):\n",
    "    print(x,            y)\n"
   ]
  },
  {
   "cell_type": "code",
   "execution_count": null,
   "id": "4280448f",
   "metadata": {},
   "outputs": [],
   "source": [
    "\n",
    "import tempfile\n",
    "import papermill as pm\n",
    "\n",
    "with tempfile.NamedTemporaryFile(delete=False, suffix='.ipynb') as temp_output:\n",
    "    pm.execute_notebook(\n",
    "        \"test-papermill.ipynb\", \n",
    "        temp_output.name,        \n",
    "        parameters={\"param1\": \"TestRun\", \"param2\": 99},\n",
    "        kernel_name=\"python3\"\n",
    "    )\n",
    "    print(f\"Output saved to {temp_output.name}\")\n",
    "    output_path = temp_output.name  \n",
    "output_path\n"
   ]
  },
  {
   "cell_type": "code",
   "execution_count": null,
   "id": "f53f48cc",
   "metadata": {},
   "outputs": [],
   "source": [
    "\n",
    "import ipywidgets as widgets\n",
    "from IPython.display import display\n",
    "\n",
    "slider = widgets.IntSlider(value=50, min=0, max=100, description=\"Slider:\")\n",
    "button = widgets.Button(description=\"Click Me\")\n",
    "output = widgets.Output()\n",
    "\n",
    "def on_button_click(b):\n",
    "    with output:\n",
    "        print(\"Button Clicked!\")\n",
    "\n",
    "button.on_click(on_button_click)\n",
    "display(slider, button, output)\n"
   ]
  },
  {
   "cell_type": "code",
   "execution_count": null,
   "id": "f190db83",
   "metadata": {},
   "outputs": [],
   "source": [
    "\n",
    "from dash import dcc, html, Dash\n",
    "app = Dash(__name__)\n",
    "app.layout = html.Div([\n",
    "    dcc.Graph(\n",
    "        id='graph',\n",
    "        figure={\n",
    "            'data': [{'x': [1, 2, 3, 4], 'y': [10, 11, 12, 13], 'type': 'line', 'name': 'Test'}],\n",
    "            'layout': {'title': 'Dash in JupyterLab'}\n",
    "        }\n",
    "    )\n",
    "])\n",
    "app.run_server(host=\"0.0.0.0\", port=8052)\n"
   ]
  },
  {
   "cell_type": "code",
   "execution_count": null,
   "id": "f4e6baa5",
   "metadata": {},
   "outputs": [],
   "source": [
    "\n",
    "import numpy as np\n",
    "np\n"
   ]
  },
  {
   "cell_type": "code",
   "execution_count": null,
   "id": "f8539d23",
   "metadata": {},
   "outputs": [],
   "source": [
    "\n",
    "import numpy as np\n",
    "import pandas as pd\n",
    "import ipydatagrid\n",
    "\n",
    "data = pd.DataFrame(\n",
    "    np.random.randint(0, 100, size=(5, 5)), \n",
    "    columns=[\"A\", \"B\", \"C\", \"D\", \"E\"]\n",
    ")\n",
    "grid = ipydatagrid.DataGrid(data, editable=True)\n",
    "grid\n"
   ]
  },
  {
   "cell_type": "code",
   "execution_count": null,
   "id": "8d300cfb",
   "metadata": {},
   "outputs": [],
   "source": [
    "\n",
    "# Activate ipympl\n",
    "%matplotlib widget  \n",
    "\n",
    "import matplotlib.pyplot as plt  \n",
    "import numpy as np  \n",
    "\n",
    "x = np.linspace(0, 10, 100)  \n",
    "y = np.sin(x)  \n",
    "\n",
    "fig, ax = plt.subplots()  \n",
    "ax.plot(x, y)  \n",
    "plt.show()\n"
   ]
  },
  {
   "cell_type": "code",
   "execution_count": null,
   "id": "1d8bf8a9",
   "metadata": {},
   "outputs": [],
   "source": [
    "\n",
    "def             my_function(x,      y):\n",
    "    print(x,            y)\n"
   ]
  },
  {
   "cell_type": "code",
   "execution_count": null,
   "id": "15e9bdbb",
   "metadata": {},
   "outputs": [],
   "source": [
    "\n",
    "import tempfile\n",
    "import papermill as pm\n",
    "\n",
    "with tempfile.NamedTemporaryFile(delete=False, suffix='.ipynb') as temp_output:\n",
    "    pm.execute_notebook(\n",
    "        \"test-papermill.ipynb\", \n",
    "        temp_output.name,        \n",
    "        parameters={\"param1\": \"TestRun\", \"param2\": 99},\n",
    "        kernel_name=\"python3\"\n",
    "    )\n",
    "    print(f\"Output saved to {temp_output.name}\")\n",
    "    output_path = temp_output.name  \n",
    "output_path\n"
   ]
  },
  {
   "cell_type": "code",
   "execution_count": null,
   "id": "b6c27a27",
   "metadata": {},
   "outputs": [],
   "source": [
    "\n",
    "import ipywidgets as widgets\n",
    "from IPython.display import display\n",
    "\n",
    "slider = widgets.IntSlider(value=50, min=0, max=100, description=\"Slider:\")\n",
    "button = widgets.Button(description=\"Click Me\")\n",
    "output = widgets.Output()\n",
    "\n",
    "def on_button_click(b):\n",
    "    with output:\n",
    "        print(\"Button Clicked!\")\n",
    "\n",
    "button.on_click(on_button_click)\n",
    "display(slider, button, output)\n"
   ]
  },
  {
   "cell_type": "code",
   "execution_count": null,
   "id": "4d4a4624",
   "metadata": {},
   "outputs": [],
   "source": [
    "\n",
    "from dash import dcc, html, Dash\n",
    "app = Dash(__name__)\n",
    "app.layout = html.Div([\n",
    "    dcc.Graph(\n",
    "        id='graph',\n",
    "        figure={\n",
    "            'data': [{'x': [1, 2, 3, 4], 'y': [10, 11, 12, 13], 'type': 'line', 'name': 'Test'}],\n",
    "            'layout': {'title': 'Dash in JupyterLab'}\n",
    "        }\n",
    "    )\n",
    "])\n",
    "app.run_server(host=\"0.0.0.0\", port=8052)\n"
   ]
  },
  {
   "cell_type": "code",
   "execution_count": null,
   "id": "27516c20",
   "metadata": {},
   "outputs": [],
   "source": [
    "\n",
    "import numpy as np\n",
    "np\n"
   ]
  },
  {
   "cell_type": "code",
   "execution_count": null,
   "id": "301d648c",
   "metadata": {},
   "outputs": [],
   "source": [
    "\n",
    "import numpy as np\n",
    "import pandas as pd\n",
    "import ipydatagrid\n",
    "\n",
    "data = pd.DataFrame(\n",
    "    np.random.randint(0, 100, size=(5, 5)), \n",
    "    columns=[\"A\", \"B\", \"C\", \"D\", \"E\"]\n",
    ")\n",
    "grid = ipydatagrid.DataGrid(data, editable=True)\n",
    "grid\n"
   ]
  },
  {
   "cell_type": "code",
   "execution_count": null,
   "id": "5794c920",
   "metadata": {},
   "outputs": [],
   "source": [
    "\n",
    "# Activate ipympl\n",
    "%matplotlib widget  \n",
    "\n",
    "import matplotlib.pyplot as plt  \n",
    "import numpy as np  \n",
    "\n",
    "x = np.linspace(0, 10, 100)  \n",
    "y = np.sin(x)  \n",
    "\n",
    "fig, ax = plt.subplots()  \n",
    "ax.plot(x, y)  \n",
    "plt.show()\n"
   ]
  },
  {
   "cell_type": "code",
   "execution_count": null,
   "id": "2d52ad1e",
   "metadata": {},
   "outputs": [],
   "source": [
    "\n",
    "def             my_function(x,      y):\n",
    "    print(x,            y)\n"
   ]
  },
  {
   "cell_type": "code",
   "execution_count": null,
   "id": "1d8ee5ad",
   "metadata": {},
   "outputs": [],
   "source": [
    "\n",
    "import tempfile\n",
    "import papermill as pm\n",
    "\n",
    "with tempfile.NamedTemporaryFile(delete=False, suffix='.ipynb') as temp_output:\n",
    "    pm.execute_notebook(\n",
    "        \"test-papermill.ipynb\", \n",
    "        temp_output.name,        \n",
    "        parameters={\"param1\": \"TestRun\", \"param2\": 99},\n",
    "        kernel_name=\"python3\"\n",
    "    )\n",
    "    print(f\"Output saved to {temp_output.name}\")\n",
    "    output_path = temp_output.name  \n",
    "output_path\n"
   ]
  },
  {
   "cell_type": "code",
   "execution_count": null,
   "id": "df2ed150",
   "metadata": {},
   "outputs": [],
   "source": [
    "\n",
    "import ipywidgets as widgets\n",
    "from IPython.display import display\n",
    "\n",
    "slider = widgets.IntSlider(value=50, min=0, max=100, description=\"Slider:\")\n",
    "button = widgets.Button(description=\"Click Me\")\n",
    "output = widgets.Output()\n",
    "\n",
    "def on_button_click(b):\n",
    "    with output:\n",
    "        print(\"Button Clicked!\")\n",
    "\n",
    "button.on_click(on_button_click)\n",
    "display(slider, button, output)\n"
   ]
  },
  {
   "cell_type": "code",
   "execution_count": null,
   "id": "e04e1dc2",
   "metadata": {},
   "outputs": [],
   "source": [
    "\n",
    "from dash import dcc, html, Dash\n",
    "app = Dash(__name__)\n",
    "app.layout = html.Div([\n",
    "    dcc.Graph(\n",
    "        id='graph',\n",
    "        figure={\n",
    "            'data': [{'x': [1, 2, 3, 4], 'y': [10, 11, 12, 13], 'type': 'line', 'name': 'Test'}],\n",
    "            'layout': {'title': 'Dash in JupyterLab'}\n",
    "        }\n",
    "    )\n",
    "])\n",
    "app.run_server(host=\"0.0.0.0\", port=8052)\n"
   ]
  },
  {
   "cell_type": "code",
   "execution_count": null,
   "id": "764373d9",
   "metadata": {},
   "outputs": [],
   "source": [
    "\n",
    "import numpy as np\n",
    "np\n"
   ]
  },
  {
   "cell_type": "code",
   "execution_count": null,
   "id": "25de391b",
   "metadata": {},
   "outputs": [],
   "source": [
    "\n",
    "import numpy as np\n",
    "import pandas as pd\n",
    "import ipydatagrid\n",
    "\n",
    "data = pd.DataFrame(\n",
    "    np.random.randint(0, 100, size=(5, 5)), \n",
    "    columns=[\"A\", \"B\", \"C\", \"D\", \"E\"]\n",
    ")\n",
    "grid = ipydatagrid.DataGrid(data, editable=True)\n",
    "grid\n"
   ]
  },
  {
   "cell_type": "code",
   "execution_count": null,
   "id": "f49a7435",
   "metadata": {},
   "outputs": [],
   "source": [
    "\n",
    "# Activate ipympl\n",
    "%matplotlib widget  \n",
    "\n",
    "import matplotlib.pyplot as plt  \n",
    "import numpy as np  \n",
    "\n",
    "x = np.linspace(0, 10, 100)  \n",
    "y = np.sin(x)  \n",
    "\n",
    "fig, ax = plt.subplots()  \n",
    "ax.plot(x, y)  \n",
    "plt.show()\n"
   ]
  },
  {
   "cell_type": "code",
   "execution_count": null,
   "id": "74a29570",
   "metadata": {},
   "outputs": [],
   "source": [
    "\n",
    "def             my_function(x,      y):\n",
    "    print(x,            y)\n"
   ]
  },
  {
   "cell_type": "code",
   "execution_count": null,
   "id": "2aa5c1e2",
   "metadata": {},
   "outputs": [],
   "source": [
    "\n",
    "import tempfile\n",
    "import papermill as pm\n",
    "\n",
    "with tempfile.NamedTemporaryFile(delete=False, suffix='.ipynb') as temp_output:\n",
    "    pm.execute_notebook(\n",
    "        \"test-papermill.ipynb\", \n",
    "        temp_output.name,        \n",
    "        parameters={\"param1\": \"TestRun\", \"param2\": 99},\n",
    "        kernel_name=\"python3\"\n",
    "    )\n",
    "    print(f\"Output saved to {temp_output.name}\")\n",
    "    output_path = temp_output.name  \n",
    "output_path\n"
   ]
  },
  {
   "cell_type": "code",
   "execution_count": null,
   "id": "fd1506c1",
   "metadata": {},
   "outputs": [],
   "source": [
    "\n",
    "import ipywidgets as widgets\n",
    "from IPython.display import display\n",
    "\n",
    "slider = widgets.IntSlider(value=50, min=0, max=100, description=\"Slider:\")\n",
    "button = widgets.Button(description=\"Click Me\")\n",
    "output = widgets.Output()\n",
    "\n",
    "def on_button_click(b):\n",
    "    with output:\n",
    "        print(\"Button Clicked!\")\n",
    "\n",
    "button.on_click(on_button_click)\n",
    "display(slider, button, output)\n"
   ]
  },
  {
   "cell_type": "code",
   "execution_count": null,
   "id": "9d43560d",
   "metadata": {},
   "outputs": [],
   "source": [
    "\n",
    "from dash import dcc, html, Dash\n",
    "app = Dash(__name__)\n",
    "app.layout = html.Div([\n",
    "    dcc.Graph(\n",
    "        id='graph',\n",
    "        figure={\n",
    "            'data': [{'x': [1, 2, 3, 4], 'y': [10, 11, 12, 13], 'type': 'line', 'name': 'Test'}],\n",
    "            'layout': {'title': 'Dash in JupyterLab'}\n",
    "        }\n",
    "    )\n",
    "])\n",
    "app.run_server(host=\"0.0.0.0\", port=8052)\n"
   ]
  },
  {
   "cell_type": "code",
   "execution_count": null,
   "id": "cfd5371b",
   "metadata": {},
   "outputs": [],
   "source": [
    "\n",
    "import numpy as np\n",
    "np\n"
   ]
  },
  {
   "cell_type": "code",
   "execution_count": null,
   "id": "f128cfaf",
   "metadata": {},
   "outputs": [],
   "source": [
    "\n",
    "import numpy as np\n",
    "import pandas as pd\n",
    "import ipydatagrid\n",
    "\n",
    "data = pd.DataFrame(\n",
    "    np.random.randint(0, 100, size=(5, 5)), \n",
    "    columns=[\"A\", \"B\", \"C\", \"D\", \"E\"]\n",
    ")\n",
    "grid = ipydatagrid.DataGrid(data, editable=True)\n",
    "grid\n"
   ]
  },
  {
   "cell_type": "code",
   "execution_count": null,
   "id": "572cf095",
   "metadata": {},
   "outputs": [],
   "source": [
    "\n",
    "# Activate ipympl\n",
    "%matplotlib widget  \n",
    "\n",
    "import matplotlib.pyplot as plt  \n",
    "import numpy as np  \n",
    "\n",
    "x = np.linspace(0, 10, 100)  \n",
    "y = np.sin(x)  \n",
    "\n",
    "fig, ax = plt.subplots()  \n",
    "ax.plot(x, y)  \n",
    "plt.show()\n"
   ]
  },
  {
   "cell_type": "code",
   "execution_count": null,
   "id": "5d45e07d",
   "metadata": {},
   "outputs": [],
   "source": [
    "\n",
    "def             my_function(x,      y):\n",
    "    print(x,            y)\n"
   ]
  },
  {
   "cell_type": "code",
   "execution_count": null,
   "id": "d12e6281",
   "metadata": {},
   "outputs": [],
   "source": [
    "\n",
    "import tempfile\n",
    "import papermill as pm\n",
    "\n",
    "with tempfile.NamedTemporaryFile(delete=False, suffix='.ipynb') as temp_output:\n",
    "    pm.execute_notebook(\n",
    "        \"test-papermill.ipynb\", \n",
    "        temp_output.name,        \n",
    "        parameters={\"param1\": \"TestRun\", \"param2\": 99},\n",
    "        kernel_name=\"python3\"\n",
    "    )\n",
    "    print(f\"Output saved to {temp_output.name}\")\n",
    "    output_path = temp_output.name  \n",
    "output_path\n"
   ]
  },
  {
   "cell_type": "code",
   "execution_count": null,
   "id": "cc38be38",
   "metadata": {},
   "outputs": [],
   "source": [
    "\n",
    "import ipywidgets as widgets\n",
    "from IPython.display import display\n",
    "\n",
    "slider = widgets.IntSlider(value=50, min=0, max=100, description=\"Slider:\")\n",
    "button = widgets.Button(description=\"Click Me\")\n",
    "output = widgets.Output()\n",
    "\n",
    "def on_button_click(b):\n",
    "    with output:\n",
    "        print(\"Button Clicked!\")\n",
    "\n",
    "button.on_click(on_button_click)\n",
    "display(slider, button, output)\n"
   ]
  },
  {
   "cell_type": "code",
   "execution_count": null,
   "id": "b9fc68b6",
   "metadata": {},
   "outputs": [],
   "source": [
    "\n",
    "from dash import dcc, html, Dash\n",
    "app = Dash(__name__)\n",
    "app.layout = html.Div([\n",
    "    dcc.Graph(\n",
    "        id='graph',\n",
    "        figure={\n",
    "            'data': [{'x': [1, 2, 3, 4], 'y': [10, 11, 12, 13], 'type': 'line', 'name': 'Test'}],\n",
    "            'layout': {'title': 'Dash in JupyterLab'}\n",
    "        }\n",
    "    )\n",
    "])\n",
    "app.run_server(host=\"0.0.0.0\", port=8052)\n"
   ]
  },
  {
   "cell_type": "code",
   "execution_count": null,
   "id": "b0b89663",
   "metadata": {},
   "outputs": [],
   "source": [
    "\n",
    "import numpy as np\n",
    "np\n"
   ]
  },
  {
   "cell_type": "code",
   "execution_count": null,
   "id": "ebbd0221",
   "metadata": {},
   "outputs": [],
   "source": [
    "\n",
    "import numpy as np\n",
    "import pandas as pd\n",
    "import ipydatagrid\n",
    "\n",
    "data = pd.DataFrame(\n",
    "    np.random.randint(0, 100, size=(5, 5)), \n",
    "    columns=[\"A\", \"B\", \"C\", \"D\", \"E\"]\n",
    ")\n",
    "grid = ipydatagrid.DataGrid(data, editable=True)\n",
    "grid\n"
   ]
  },
  {
   "cell_type": "code",
   "execution_count": null,
   "id": "55ce7979",
   "metadata": {},
   "outputs": [],
   "source": [
    "\n",
    "# Activate ipympl\n",
    "%matplotlib widget  \n",
    "\n",
    "import matplotlib.pyplot as plt  \n",
    "import numpy as np  \n",
    "\n",
    "x = np.linspace(0, 10, 100)  \n",
    "y = np.sin(x)  \n",
    "\n",
    "fig, ax = plt.subplots()  \n",
    "ax.plot(x, y)  \n",
    "plt.show()\n"
   ]
  },
  {
   "cell_type": "code",
   "execution_count": null,
   "id": "04efb4d0",
   "metadata": {},
   "outputs": [],
   "source": [
    "\n",
    "def             my_function(x,      y):\n",
    "    print(x,            y)\n"
   ]
  },
  {
   "cell_type": "code",
   "execution_count": null,
   "id": "187737d1",
   "metadata": {},
   "outputs": [],
   "source": [
    "\n",
    "import tempfile\n",
    "import papermill as pm\n",
    "\n",
    "with tempfile.NamedTemporaryFile(delete=False, suffix='.ipynb') as temp_output:\n",
    "    pm.execute_notebook(\n",
    "        \"test-papermill.ipynb\", \n",
    "        temp_output.name,        \n",
    "        parameters={\"param1\": \"TestRun\", \"param2\": 99},\n",
    "        kernel_name=\"python3\"\n",
    "    )\n",
    "    print(f\"Output saved to {temp_output.name}\")\n",
    "    output_path = temp_output.name  \n",
    "output_path\n"
   ]
  },
  {
   "cell_type": "code",
   "execution_count": null,
   "id": "98658edf",
   "metadata": {},
   "outputs": [],
   "source": [
    "\n",
    "import ipywidgets as widgets\n",
    "from IPython.display import display\n",
    "\n",
    "slider = widgets.IntSlider(value=50, min=0, max=100, description=\"Slider:\")\n",
    "button = widgets.Button(description=\"Click Me\")\n",
    "output = widgets.Output()\n",
    "\n",
    "def on_button_click(b):\n",
    "    with output:\n",
    "        print(\"Button Clicked!\")\n",
    "\n",
    "button.on_click(on_button_click)\n",
    "display(slider, button, output)\n"
   ]
  },
  {
   "cell_type": "code",
   "execution_count": null,
   "id": "f4751ed4",
   "metadata": {},
   "outputs": [],
   "source": [
    "\n",
    "from dash import dcc, html, Dash\n",
    "app = Dash(__name__)\n",
    "app.layout = html.Div([\n",
    "    dcc.Graph(\n",
    "        id='graph',\n",
    "        figure={\n",
    "            'data': [{'x': [1, 2, 3, 4], 'y': [10, 11, 12, 13], 'type': 'line', 'name': 'Test'}],\n",
    "            'layout': {'title': 'Dash in JupyterLab'}\n",
    "        }\n",
    "    )\n",
    "])\n",
    "app.run_server(host=\"0.0.0.0\", port=8052)\n"
   ]
  },
  {
   "cell_type": "code",
   "execution_count": null,
   "id": "ec11c662",
   "metadata": {},
   "outputs": [],
   "source": [
    "\n",
    "import numpy as np\n",
    "np\n"
   ]
  },
  {
   "cell_type": "code",
   "execution_count": null,
   "id": "9067c281",
   "metadata": {},
   "outputs": [],
   "source": [
    "\n",
    "import numpy as np\n",
    "import pandas as pd\n",
    "import ipydatagrid\n",
    "\n",
    "data = pd.DataFrame(\n",
    "    np.random.randint(0, 100, size=(5, 5)), \n",
    "    columns=[\"A\", \"B\", \"C\", \"D\", \"E\"]\n",
    ")\n",
    "grid = ipydatagrid.DataGrid(data, editable=True)\n",
    "grid\n"
   ]
  },
  {
   "cell_type": "code",
   "execution_count": null,
   "id": "f82a12d1",
   "metadata": {},
   "outputs": [],
   "source": [
    "\n",
    "# Activate ipympl\n",
    "%matplotlib widget  \n",
    "\n",
    "import matplotlib.pyplot as plt  \n",
    "import numpy as np  \n",
    "\n",
    "x = np.linspace(0, 10, 100)  \n",
    "y = np.sin(x)  \n",
    "\n",
    "fig, ax = plt.subplots()  \n",
    "ax.plot(x, y)  \n",
    "plt.show()\n"
   ]
  },
  {
   "cell_type": "code",
   "execution_count": null,
   "id": "36a307ab",
   "metadata": {},
   "outputs": [],
   "source": [
    "\n",
    "def             my_function(x,      y):\n",
    "    print(x,            y)\n"
   ]
  },
  {
   "cell_type": "code",
   "execution_count": null,
   "id": "a8776abe",
   "metadata": {},
   "outputs": [],
   "source": [
    "\n",
    "import tempfile\n",
    "import papermill as pm\n",
    "\n",
    "with tempfile.NamedTemporaryFile(delete=False, suffix='.ipynb') as temp_output:\n",
    "    pm.execute_notebook(\n",
    "        \"test-papermill.ipynb\", \n",
    "        temp_output.name,        \n",
    "        parameters={\"param1\": \"TestRun\", \"param2\": 99},\n",
    "        kernel_name=\"python3\"\n",
    "    )\n",
    "    print(f\"Output saved to {temp_output.name}\")\n",
    "    output_path = temp_output.name  \n",
    "output_path\n"
   ]
  },
  {
   "cell_type": "code",
   "execution_count": null,
   "id": "c0b86df8",
   "metadata": {},
   "outputs": [],
   "source": [
    "\n",
    "import ipywidgets as widgets\n",
    "from IPython.display import display\n",
    "\n",
    "slider = widgets.IntSlider(value=50, min=0, max=100, description=\"Slider:\")\n",
    "button = widgets.Button(description=\"Click Me\")\n",
    "output = widgets.Output()\n",
    "\n",
    "def on_button_click(b):\n",
    "    with output:\n",
    "        print(\"Button Clicked!\")\n",
    "\n",
    "button.on_click(on_button_click)\n",
    "display(slider, button, output)\n"
   ]
  },
  {
   "cell_type": "code",
   "execution_count": null,
   "id": "0b2272dc",
   "metadata": {},
   "outputs": [],
   "source": [
    "\n",
    "from dash import dcc, html, Dash\n",
    "app = Dash(__name__)\n",
    "app.layout = html.Div([\n",
    "    dcc.Graph(\n",
    "        id='graph',\n",
    "        figure={\n",
    "            'data': [{'x': [1, 2, 3, 4], 'y': [10, 11, 12, 13], 'type': 'line', 'name': 'Test'}],\n",
    "            'layout': {'title': 'Dash in JupyterLab'}\n",
    "        }\n",
    "    )\n",
    "])\n",
    "app.run_server(host=\"0.0.0.0\", port=8052)\n"
   ]
  },
  {
   "cell_type": "code",
   "execution_count": null,
   "id": "11681bd3",
   "metadata": {},
   "outputs": [],
   "source": [
    "\n",
    "import numpy as np\n",
    "np\n"
   ]
  },
  {
   "cell_type": "code",
   "execution_count": null,
   "id": "9310787d",
   "metadata": {},
   "outputs": [],
   "source": [
    "\n",
    "import numpy as np\n",
    "import pandas as pd\n",
    "import ipydatagrid\n",
    "\n",
    "data = pd.DataFrame(\n",
    "    np.random.randint(0, 100, size=(5, 5)), \n",
    "    columns=[\"A\", \"B\", \"C\", \"D\", \"E\"]\n",
    ")\n",
    "grid = ipydatagrid.DataGrid(data, editable=True)\n",
    "grid\n"
   ]
  },
  {
   "cell_type": "code",
   "execution_count": null,
   "id": "0c919a0c",
   "metadata": {},
   "outputs": [],
   "source": [
    "\n",
    "# Activate ipympl\n",
    "%matplotlib widget  \n",
    "\n",
    "import matplotlib.pyplot as plt  \n",
    "import numpy as np  \n",
    "\n",
    "x = np.linspace(0, 10, 100)  \n",
    "y = np.sin(x)  \n",
    "\n",
    "fig, ax = plt.subplots()  \n",
    "ax.plot(x, y)  \n",
    "plt.show()\n"
   ]
  },
  {
   "cell_type": "code",
   "execution_count": null,
   "id": "bba8127a",
   "metadata": {},
   "outputs": [],
   "source": [
    "\n",
    "def             my_function(x,      y):\n",
    "    print(x,            y)\n"
   ]
  },
  {
   "cell_type": "code",
   "execution_count": null,
   "id": "dfbf2d5f",
   "metadata": {},
   "outputs": [],
   "source": [
    "\n",
    "import tempfile\n",
    "import papermill as pm\n",
    "\n",
    "with tempfile.NamedTemporaryFile(delete=False, suffix='.ipynb') as temp_output:\n",
    "    pm.execute_notebook(\n",
    "        \"test-papermill.ipynb\", \n",
    "        temp_output.name,        \n",
    "        parameters={\"param1\": \"TestRun\", \"param2\": 99},\n",
    "        kernel_name=\"python3\"\n",
    "    )\n",
    "    print(f\"Output saved to {temp_output.name}\")\n",
    "    output_path = temp_output.name  \n",
    "output_path\n"
   ]
  },
  {
   "cell_type": "code",
   "execution_count": null,
   "id": "f9cc82ac",
   "metadata": {},
   "outputs": [],
   "source": [
    "\n",
    "import ipywidgets as widgets\n",
    "from IPython.display import display\n",
    "\n",
    "slider = widgets.IntSlider(value=50, min=0, max=100, description=\"Slider:\")\n",
    "button = widgets.Button(description=\"Click Me\")\n",
    "output = widgets.Output()\n",
    "\n",
    "def on_button_click(b):\n",
    "    with output:\n",
    "        print(\"Button Clicked!\")\n",
    "\n",
    "button.on_click(on_button_click)\n",
    "display(slider, button, output)\n"
   ]
  },
  {
   "cell_type": "code",
   "execution_count": null,
   "id": "973cc1a2",
   "metadata": {},
   "outputs": [],
   "source": [
    "\n",
    "from dash import dcc, html, Dash\n",
    "app = Dash(__name__)\n",
    "app.layout = html.Div([\n",
    "    dcc.Graph(\n",
    "        id='graph',\n",
    "        figure={\n",
    "            'data': [{'x': [1, 2, 3, 4], 'y': [10, 11, 12, 13], 'type': 'line', 'name': 'Test'}],\n",
    "            'layout': {'title': 'Dash in JupyterLab'}\n",
    "        }\n",
    "    )\n",
    "])\n",
    "app.run_server(host=\"0.0.0.0\", port=8052)\n"
   ]
  },
  {
   "cell_type": "code",
   "execution_count": null,
   "id": "f604d109",
   "metadata": {},
   "outputs": [],
   "source": [
    "\n",
    "import numpy as np\n",
    "np\n"
   ]
  },
  {
   "cell_type": "code",
   "execution_count": null,
   "id": "058230ea",
   "metadata": {},
   "outputs": [],
   "source": [
    "\n",
    "import numpy as np\n",
    "import pandas as pd\n",
    "import ipydatagrid\n",
    "\n",
    "data = pd.DataFrame(\n",
    "    np.random.randint(0, 100, size=(5, 5)), \n",
    "    columns=[\"A\", \"B\", \"C\", \"D\", \"E\"]\n",
    ")\n",
    "grid = ipydatagrid.DataGrid(data, editable=True)\n",
    "grid\n"
   ]
  },
  {
   "cell_type": "code",
   "execution_count": null,
   "id": "1a996a1c",
   "metadata": {},
   "outputs": [],
   "source": [
    "\n",
    "# Activate ipympl\n",
    "%matplotlib widget  \n",
    "\n",
    "import matplotlib.pyplot as plt  \n",
    "import numpy as np  \n",
    "\n",
    "x = np.linspace(0, 10, 100)  \n",
    "y = np.sin(x)  \n",
    "\n",
    "fig, ax = plt.subplots()  \n",
    "ax.plot(x, y)  \n",
    "plt.show()\n"
   ]
  },
  {
   "cell_type": "code",
   "execution_count": null,
   "id": "52a28cc8",
   "metadata": {},
   "outputs": [],
   "source": [
    "\n",
    "def             my_function(x,      y):\n",
    "    print(x,            y)\n"
   ]
  },
  {
   "cell_type": "code",
   "execution_count": null,
   "id": "4bb3c83b",
   "metadata": {},
   "outputs": [],
   "source": [
    "\n",
    "import tempfile\n",
    "import papermill as pm\n",
    "\n",
    "with tempfile.NamedTemporaryFile(delete=False, suffix='.ipynb') as temp_output:\n",
    "    pm.execute_notebook(\n",
    "        \"test-papermill.ipynb\", \n",
    "        temp_output.name,        \n",
    "        parameters={\"param1\": \"TestRun\", \"param2\": 99},\n",
    "        kernel_name=\"python3\"\n",
    "    )\n",
    "    print(f\"Output saved to {temp_output.name}\")\n",
    "    output_path = temp_output.name  \n",
    "output_path\n"
   ]
  },
  {
   "cell_type": "code",
   "execution_count": null,
   "id": "f45a6598",
   "metadata": {},
   "outputs": [],
   "source": [
    "\n",
    "import ipywidgets as widgets\n",
    "from IPython.display import display\n",
    "\n",
    "slider = widgets.IntSlider(value=50, min=0, max=100, description=\"Slider:\")\n",
    "button = widgets.Button(description=\"Click Me\")\n",
    "output = widgets.Output()\n",
    "\n",
    "def on_button_click(b):\n",
    "    with output:\n",
    "        print(\"Button Clicked!\")\n",
    "\n",
    "button.on_click(on_button_click)\n",
    "display(slider, button, output)\n"
   ]
  },
  {
   "cell_type": "code",
   "execution_count": null,
   "id": "e929db8f",
   "metadata": {},
   "outputs": [],
   "source": [
    "\n",
    "from dash import dcc, html, Dash\n",
    "app = Dash(__name__)\n",
    "app.layout = html.Div([\n",
    "    dcc.Graph(\n",
    "        id='graph',\n",
    "        figure={\n",
    "            'data': [{'x': [1, 2, 3, 4], 'y': [10, 11, 12, 13], 'type': 'line', 'name': 'Test'}],\n",
    "            'layout': {'title': 'Dash in JupyterLab'}\n",
    "        }\n",
    "    )\n",
    "])\n",
    "app.run_server(host=\"0.0.0.0\", port=8052)\n"
   ]
  },
  {
   "cell_type": "code",
   "execution_count": null,
   "id": "497c08aa",
   "metadata": {},
   "outputs": [],
   "source": [
    "\n",
    "import numpy as np\n",
    "np\n"
   ]
  },
  {
   "cell_type": "code",
   "execution_count": null,
   "id": "131d32d4",
   "metadata": {},
   "outputs": [],
   "source": [
    "\n",
    "import numpy as np\n",
    "import pandas as pd\n",
    "import ipydatagrid\n",
    "\n",
    "data = pd.DataFrame(\n",
    "    np.random.randint(0, 100, size=(5, 5)), \n",
    "    columns=[\"A\", \"B\", \"C\", \"D\", \"E\"]\n",
    ")\n",
    "grid = ipydatagrid.DataGrid(data, editable=True)\n",
    "grid\n"
   ]
  },
  {
   "cell_type": "code",
   "execution_count": null,
   "id": "fc24d9de",
   "metadata": {},
   "outputs": [],
   "source": [
    "\n",
    "# Activate ipympl\n",
    "%matplotlib widget  \n",
    "\n",
    "import matplotlib.pyplot as plt  \n",
    "import numpy as np  \n",
    "\n",
    "x = np.linspace(0, 10, 100)  \n",
    "y = np.sin(x)  \n",
    "\n",
    "fig, ax = plt.subplots()  \n",
    "ax.plot(x, y)  \n",
    "plt.show()\n"
   ]
  },
  {
   "cell_type": "code",
   "execution_count": null,
   "id": "d4efbb5f",
   "metadata": {},
   "outputs": [],
   "source": [
    "\n",
    "def             my_function(x,      y):\n",
    "    print(x,            y)\n"
   ]
  },
  {
   "cell_type": "code",
   "execution_count": null,
   "id": "cdf66f47",
   "metadata": {},
   "outputs": [],
   "source": [
    "\n",
    "import tempfile\n",
    "import papermill as pm\n",
    "\n",
    "with tempfile.NamedTemporaryFile(delete=False, suffix='.ipynb') as temp_output:\n",
    "    pm.execute_notebook(\n",
    "        \"test-papermill.ipynb\", \n",
    "        temp_output.name,        \n",
    "        parameters={\"param1\": \"TestRun\", \"param2\": 99},\n",
    "        kernel_name=\"python3\"\n",
    "    )\n",
    "    print(f\"Output saved to {temp_output.name}\")\n",
    "    output_path = temp_output.name  \n",
    "output_path\n"
   ]
  },
  {
   "cell_type": "code",
   "execution_count": null,
   "id": "34d1444d",
   "metadata": {},
   "outputs": [],
   "source": [
    "\n",
    "import ipywidgets as widgets\n",
    "from IPython.display import display\n",
    "\n",
    "slider = widgets.IntSlider(value=50, min=0, max=100, description=\"Slider:\")\n",
    "button = widgets.Button(description=\"Click Me\")\n",
    "output = widgets.Output()\n",
    "\n",
    "def on_button_click(b):\n",
    "    with output:\n",
    "        print(\"Button Clicked!\")\n",
    "\n",
    "button.on_click(on_button_click)\n",
    "display(slider, button, output)\n"
   ]
  },
  {
   "cell_type": "code",
   "execution_count": null,
   "id": "16fe9824",
   "metadata": {},
   "outputs": [],
   "source": [
    "\n",
    "from dash import dcc, html, Dash\n",
    "app = Dash(__name__)\n",
    "app.layout = html.Div([\n",
    "    dcc.Graph(\n",
    "        id='graph',\n",
    "        figure={\n",
    "            'data': [{'x': [1, 2, 3, 4], 'y': [10, 11, 12, 13], 'type': 'line', 'name': 'Test'}],\n",
    "            'layout': {'title': 'Dash in JupyterLab'}\n",
    "        }\n",
    "    )\n",
    "])\n",
    "app.run_server(host=\"0.0.0.0\", port=8052)\n"
   ]
  },
  {
   "cell_type": "code",
   "execution_count": null,
   "id": "b7c5a7f9",
   "metadata": {},
   "outputs": [],
   "source": [
    "\n",
    "import numpy as np\n",
    "np\n"
   ]
  },
  {
   "cell_type": "code",
   "execution_count": null,
   "id": "1a031925",
   "metadata": {},
   "outputs": [],
   "source": [
    "\n",
    "import numpy as np\n",
    "import pandas as pd\n",
    "import ipydatagrid\n",
    "\n",
    "data = pd.DataFrame(\n",
    "    np.random.randint(0, 100, size=(5, 5)), \n",
    "    columns=[\"A\", \"B\", \"C\", \"D\", \"E\"]\n",
    ")\n",
    "grid = ipydatagrid.DataGrid(data, editable=True)\n",
    "grid\n"
   ]
  },
  {
   "cell_type": "code",
   "execution_count": null,
   "id": "cfa667e7",
   "metadata": {},
   "outputs": [],
   "source": [
    "\n",
    "# Activate ipympl\n",
    "%matplotlib widget  \n",
    "\n",
    "import matplotlib.pyplot as plt  \n",
    "import numpy as np  \n",
    "\n",
    "x = np.linspace(0, 10, 100)  \n",
    "y = np.sin(x)  \n",
    "\n",
    "fig, ax = plt.subplots()  \n",
    "ax.plot(x, y)  \n",
    "plt.show()\n"
   ]
  },
  {
   "cell_type": "code",
   "execution_count": null,
   "id": "5f323011",
   "metadata": {},
   "outputs": [],
   "source": [
    "\n",
    "def             my_function(x,      y):\n",
    "    print(x,            y)\n"
   ]
  },
  {
   "cell_type": "code",
   "execution_count": null,
   "id": "1acfe2a6",
   "metadata": {},
   "outputs": [],
   "source": [
    "\n",
    "import tempfile\n",
    "import papermill as pm\n",
    "\n",
    "with tempfile.NamedTemporaryFile(delete=False, suffix='.ipynb') as temp_output:\n",
    "    pm.execute_notebook(\n",
    "        \"test-papermill.ipynb\", \n",
    "        temp_output.name,        \n",
    "        parameters={\"param1\": \"TestRun\", \"param2\": 99},\n",
    "        kernel_name=\"python3\"\n",
    "    )\n",
    "    print(f\"Output saved to {temp_output.name}\")\n",
    "    output_path = temp_output.name  \n",
    "output_path\n"
   ]
  },
  {
   "cell_type": "code",
   "execution_count": null,
   "id": "dbafcb0d",
   "metadata": {},
   "outputs": [],
   "source": [
    "\n",
    "import ipywidgets as widgets\n",
    "from IPython.display import display\n",
    "\n",
    "slider = widgets.IntSlider(value=50, min=0, max=100, description=\"Slider:\")\n",
    "button = widgets.Button(description=\"Click Me\")\n",
    "output = widgets.Output()\n",
    "\n",
    "def on_button_click(b):\n",
    "    with output:\n",
    "        print(\"Button Clicked!\")\n",
    "\n",
    "button.on_click(on_button_click)\n",
    "display(slider, button, output)\n"
   ]
  },
  {
   "cell_type": "code",
   "execution_count": null,
   "id": "4bc51046",
   "metadata": {},
   "outputs": [],
   "source": [
    "\n",
    "from dash import dcc, html, Dash\n",
    "app = Dash(__name__)\n",
    "app.layout = html.Div([\n",
    "    dcc.Graph(\n",
    "        id='graph',\n",
    "        figure={\n",
    "            'data': [{'x': [1, 2, 3, 4], 'y': [10, 11, 12, 13], 'type': 'line', 'name': 'Test'}],\n",
    "            'layout': {'title': 'Dash in JupyterLab'}\n",
    "        }\n",
    "    )\n",
    "])\n",
    "app.run_server(host=\"0.0.0.0\", port=8052)\n"
   ]
  },
  {
   "cell_type": "code",
   "execution_count": null,
   "id": "c094703a",
   "metadata": {},
   "outputs": [],
   "source": [
    "\n",
    "import numpy as np\n",
    "np\n"
   ]
  },
  {
   "cell_type": "code",
   "execution_count": null,
   "id": "56839ecc",
   "metadata": {},
   "outputs": [],
   "source": [
    "\n",
    "import numpy as np\n",
    "import pandas as pd\n",
    "import ipydatagrid\n",
    "\n",
    "data = pd.DataFrame(\n",
    "    np.random.randint(0, 100, size=(5, 5)), \n",
    "    columns=[\"A\", \"B\", \"C\", \"D\", \"E\"]\n",
    ")\n",
    "grid = ipydatagrid.DataGrid(data, editable=True)\n",
    "grid\n"
   ]
  },
  {
   "cell_type": "code",
   "execution_count": null,
   "id": "86b94290",
   "metadata": {},
   "outputs": [],
   "source": [
    "\n",
    "# Activate ipympl\n",
    "%matplotlib widget  \n",
    "\n",
    "import matplotlib.pyplot as plt  \n",
    "import numpy as np  \n",
    "\n",
    "x = np.linspace(0, 10, 100)  \n",
    "y = np.sin(x)  \n",
    "\n",
    "fig, ax = plt.subplots()  \n",
    "ax.plot(x, y)  \n",
    "plt.show()\n"
   ]
  },
  {
   "cell_type": "code",
   "execution_count": null,
   "id": "aa8b297d",
   "metadata": {},
   "outputs": [],
   "source": [
    "\n",
    "def             my_function(x,      y):\n",
    "    print(x,            y)\n"
   ]
  },
  {
   "cell_type": "code",
   "execution_count": null,
   "id": "80e17cf0",
   "metadata": {},
   "outputs": [],
   "source": [
    "\n",
    "import tempfile\n",
    "import papermill as pm\n",
    "\n",
    "with tempfile.NamedTemporaryFile(delete=False, suffix='.ipynb') as temp_output:\n",
    "    pm.execute_notebook(\n",
    "        \"test-papermill.ipynb\", \n",
    "        temp_output.name,        \n",
    "        parameters={\"param1\": \"TestRun\", \"param2\": 99},\n",
    "        kernel_name=\"python3\"\n",
    "    )\n",
    "    print(f\"Output saved to {temp_output.name}\")\n",
    "    output_path = temp_output.name  \n",
    "output_path\n"
   ]
  },
  {
   "cell_type": "code",
   "execution_count": null,
   "id": "ec847cec",
   "metadata": {},
   "outputs": [],
   "source": [
    "\n",
    "import ipywidgets as widgets\n",
    "from IPython.display import display\n",
    "\n",
    "slider = widgets.IntSlider(value=50, min=0, max=100, description=\"Slider:\")\n",
    "button = widgets.Button(description=\"Click Me\")\n",
    "output = widgets.Output()\n",
    "\n",
    "def on_button_click(b):\n",
    "    with output:\n",
    "        print(\"Button Clicked!\")\n",
    "\n",
    "button.on_click(on_button_click)\n",
    "display(slider, button, output)\n"
   ]
  },
  {
   "cell_type": "code",
   "execution_count": null,
   "id": "7e59e0c8",
   "metadata": {},
   "outputs": [],
   "source": [
    "\n",
    "from dash import dcc, html, Dash\n",
    "app = Dash(__name__)\n",
    "app.layout = html.Div([\n",
    "    dcc.Graph(\n",
    "        id='graph',\n",
    "        figure={\n",
    "            'data': [{'x': [1, 2, 3, 4], 'y': [10, 11, 12, 13], 'type': 'line', 'name': 'Test'}],\n",
    "            'layout': {'title': 'Dash in JupyterLab'}\n",
    "        }\n",
    "    )\n",
    "])\n",
    "app.run_server(host=\"0.0.0.0\", port=8052)\n"
   ]
  },
  {
   "cell_type": "code",
   "execution_count": null,
   "id": "48348671",
   "metadata": {},
   "outputs": [],
   "source": [
    "\n",
    "import numpy as np\n",
    "np\n"
   ]
  },
  {
   "cell_type": "code",
   "execution_count": null,
   "id": "95dfa3f4",
   "metadata": {},
   "outputs": [],
   "source": [
    "\n",
    "import numpy as np\n",
    "import pandas as pd\n",
    "import ipydatagrid\n",
    "\n",
    "data = pd.DataFrame(\n",
    "    np.random.randint(0, 100, size=(5, 5)), \n",
    "    columns=[\"A\", \"B\", \"C\", \"D\", \"E\"]\n",
    ")\n",
    "grid = ipydatagrid.DataGrid(data, editable=True)\n",
    "grid\n"
   ]
  },
  {
   "cell_type": "code",
   "execution_count": null,
   "id": "d433df3a",
   "metadata": {},
   "outputs": [],
   "source": [
    "\n",
    "# Activate ipympl\n",
    "%matplotlib widget  \n",
    "\n",
    "import matplotlib.pyplot as plt  \n",
    "import numpy as np  \n",
    "\n",
    "x = np.linspace(0, 10, 100)  \n",
    "y = np.sin(x)  \n",
    "\n",
    "fig, ax = plt.subplots()  \n",
    "ax.plot(x, y)  \n",
    "plt.show()\n"
   ]
  },
  {
   "cell_type": "code",
   "execution_count": null,
   "id": "0ab39edb",
   "metadata": {},
   "outputs": [],
   "source": [
    "\n",
    "def             my_function(x,      y):\n",
    "    print(x,            y)\n"
   ]
  },
  {
   "cell_type": "code",
   "execution_count": null,
   "id": "ca9d7483",
   "metadata": {},
   "outputs": [],
   "source": [
    "\n",
    "import tempfile\n",
    "import papermill as pm\n",
    "\n",
    "with tempfile.NamedTemporaryFile(delete=False, suffix='.ipynb') as temp_output:\n",
    "    pm.execute_notebook(\n",
    "        \"test-papermill.ipynb\", \n",
    "        temp_output.name,        \n",
    "        parameters={\"param1\": \"TestRun\", \"param2\": 99},\n",
    "        kernel_name=\"python3\"\n",
    "    )\n",
    "    print(f\"Output saved to {temp_output.name}\")\n",
    "    output_path = temp_output.name  \n",
    "output_path\n"
   ]
  },
  {
   "cell_type": "code",
   "execution_count": null,
   "id": "63a15ed9",
   "metadata": {},
   "outputs": [],
   "source": [
    "\n",
    "import ipywidgets as widgets\n",
    "from IPython.display import display\n",
    "\n",
    "slider = widgets.IntSlider(value=50, min=0, max=100, description=\"Slider:\")\n",
    "button = widgets.Button(description=\"Click Me\")\n",
    "output = widgets.Output()\n",
    "\n",
    "def on_button_click(b):\n",
    "    with output:\n",
    "        print(\"Button Clicked!\")\n",
    "\n",
    "button.on_click(on_button_click)\n",
    "display(slider, button, output)\n"
   ]
  },
  {
   "cell_type": "code",
   "execution_count": null,
   "id": "63c90bb0",
   "metadata": {},
   "outputs": [],
   "source": [
    "\n",
    "from dash import dcc, html, Dash\n",
    "app = Dash(__name__)\n",
    "app.layout = html.Div([\n",
    "    dcc.Graph(\n",
    "        id='graph',\n",
    "        figure={\n",
    "            'data': [{'x': [1, 2, 3, 4], 'y': [10, 11, 12, 13], 'type': 'line', 'name': 'Test'}],\n",
    "            'layout': {'title': 'Dash in JupyterLab'}\n",
    "        }\n",
    "    )\n",
    "])\n",
    "app.run_server(host=\"0.0.0.0\", port=8052)\n"
   ]
  },
  {
   "cell_type": "code",
   "execution_count": null,
   "id": "ad50e016",
   "metadata": {},
   "outputs": [],
   "source": [
    "\n",
    "import numpy as np\n",
    "np\n"
   ]
  },
  {
   "cell_type": "code",
   "execution_count": null,
   "id": "723c287d",
   "metadata": {},
   "outputs": [],
   "source": [
    "\n",
    "import numpy as np\n",
    "import pandas as pd\n",
    "import ipydatagrid\n",
    "\n",
    "data = pd.DataFrame(\n",
    "    np.random.randint(0, 100, size=(5, 5)), \n",
    "    columns=[\"A\", \"B\", \"C\", \"D\", \"E\"]\n",
    ")\n",
    "grid = ipydatagrid.DataGrid(data, editable=True)\n",
    "grid\n"
   ]
  },
  {
   "cell_type": "code",
   "execution_count": null,
   "id": "4334daf6",
   "metadata": {},
   "outputs": [],
   "source": [
    "\n",
    "# Activate ipympl\n",
    "%matplotlib widget  \n",
    "\n",
    "import matplotlib.pyplot as plt  \n",
    "import numpy as np  \n",
    "\n",
    "x = np.linspace(0, 10, 100)  \n",
    "y = np.sin(x)  \n",
    "\n",
    "fig, ax = plt.subplots()  \n",
    "ax.plot(x, y)  \n",
    "plt.show()\n"
   ]
  },
  {
   "cell_type": "code",
   "execution_count": null,
   "id": "5d762f77",
   "metadata": {},
   "outputs": [],
   "source": [
    "\n",
    "def             my_function(x,      y):\n",
    "    print(x,            y)\n"
   ]
  },
  {
   "cell_type": "code",
   "execution_count": null,
   "id": "e19654f5",
   "metadata": {},
   "outputs": [],
   "source": [
    "\n",
    "import tempfile\n",
    "import papermill as pm\n",
    "\n",
    "with tempfile.NamedTemporaryFile(delete=False, suffix='.ipynb') as temp_output:\n",
    "    pm.execute_notebook(\n",
    "        \"test-papermill.ipynb\", \n",
    "        temp_output.name,        \n",
    "        parameters={\"param1\": \"TestRun\", \"param2\": 99},\n",
    "        kernel_name=\"python3\"\n",
    "    )\n",
    "    print(f\"Output saved to {temp_output.name}\")\n",
    "    output_path = temp_output.name  \n",
    "output_path\n"
   ]
  },
  {
   "cell_type": "code",
   "execution_count": null,
   "id": "1fa7c08f",
   "metadata": {},
   "outputs": [],
   "source": [
    "\n",
    "import ipywidgets as widgets\n",
    "from IPython.display import display\n",
    "\n",
    "slider = widgets.IntSlider(value=50, min=0, max=100, description=\"Slider:\")\n",
    "button = widgets.Button(description=\"Click Me\")\n",
    "output = widgets.Output()\n",
    "\n",
    "def on_button_click(b):\n",
    "    with output:\n",
    "        print(\"Button Clicked!\")\n",
    "\n",
    "button.on_click(on_button_click)\n",
    "display(slider, button, output)\n"
   ]
  },
  {
   "cell_type": "code",
   "execution_count": null,
   "id": "f6f4772e",
   "metadata": {},
   "outputs": [],
   "source": [
    "\n",
    "from dash import dcc, html, Dash\n",
    "app = Dash(__name__)\n",
    "app.layout = html.Div([\n",
    "    dcc.Graph(\n",
    "        id='graph',\n",
    "        figure={\n",
    "            'data': [{'x': [1, 2, 3, 4], 'y': [10, 11, 12, 13], 'type': 'line', 'name': 'Test'}],\n",
    "            'layout': {'title': 'Dash in JupyterLab'}\n",
    "        }\n",
    "    )\n",
    "])\n",
    "app.run_server(host=\"0.0.0.0\", port=8052)\n"
   ]
  },
  {
   "cell_type": "code",
   "execution_count": null,
   "id": "cc48f57b",
   "metadata": {},
   "outputs": [],
   "source": [
    "\n",
    "import numpy as np\n",
    "np\n"
   ]
  },
  {
   "cell_type": "code",
   "execution_count": null,
   "id": "2bbfadcb",
   "metadata": {},
   "outputs": [],
   "source": [
    "\n",
    "import numpy as np\n",
    "import pandas as pd\n",
    "import ipydatagrid\n",
    "\n",
    "data = pd.DataFrame(\n",
    "    np.random.randint(0, 100, size=(5, 5)), \n",
    "    columns=[\"A\", \"B\", \"C\", \"D\", \"E\"]\n",
    ")\n",
    "grid = ipydatagrid.DataGrid(data, editable=True)\n",
    "grid\n"
   ]
  },
  {
   "cell_type": "code",
   "execution_count": null,
   "id": "6285103e",
   "metadata": {},
   "outputs": [],
   "source": [
    "\n",
    "# Activate ipympl\n",
    "%matplotlib widget  \n",
    "\n",
    "import matplotlib.pyplot as plt  \n",
    "import numpy as np  \n",
    "\n",
    "x = np.linspace(0, 10, 100)  \n",
    "y = np.sin(x)  \n",
    "\n",
    "fig, ax = plt.subplots()  \n",
    "ax.plot(x, y)  \n",
    "plt.show()\n"
   ]
  },
  {
   "cell_type": "code",
   "execution_count": null,
   "id": "6cc25ba2",
   "metadata": {},
   "outputs": [],
   "source": [
    "\n",
    "def             my_function(x,      y):\n",
    "    print(x,            y)\n"
   ]
  },
  {
   "cell_type": "code",
   "execution_count": null,
   "id": "02982299",
   "metadata": {},
   "outputs": [],
   "source": [
    "\n",
    "import tempfile\n",
    "import papermill as pm\n",
    "\n",
    "with tempfile.NamedTemporaryFile(delete=False, suffix='.ipynb') as temp_output:\n",
    "    pm.execute_notebook(\n",
    "        \"test-papermill.ipynb\", \n",
    "        temp_output.name,        \n",
    "        parameters={\"param1\": \"TestRun\", \"param2\": 99},\n",
    "        kernel_name=\"python3\"\n",
    "    )\n",
    "    print(f\"Output saved to {temp_output.name}\")\n",
    "    output_path = temp_output.name  \n",
    "output_path\n"
   ]
  },
  {
   "cell_type": "code",
   "execution_count": null,
   "id": "69d46156",
   "metadata": {},
   "outputs": [],
   "source": [
    "\n",
    "import ipywidgets as widgets\n",
    "from IPython.display import display\n",
    "\n",
    "slider = widgets.IntSlider(value=50, min=0, max=100, description=\"Slider:\")\n",
    "button = widgets.Button(description=\"Click Me\")\n",
    "output = widgets.Output()\n",
    "\n",
    "def on_button_click(b):\n",
    "    with output:\n",
    "        print(\"Button Clicked!\")\n",
    "\n",
    "button.on_click(on_button_click)\n",
    "display(slider, button, output)\n"
   ]
  },
  {
   "cell_type": "code",
   "execution_count": null,
   "id": "5bc11262",
   "metadata": {},
   "outputs": [],
   "source": [
    "\n",
    "from dash import dcc, html, Dash\n",
    "app = Dash(__name__)\n",
    "app.layout = html.Div([\n",
    "    dcc.Graph(\n",
    "        id='graph',\n",
    "        figure={\n",
    "            'data': [{'x': [1, 2, 3, 4], 'y': [10, 11, 12, 13], 'type': 'line', 'name': 'Test'}],\n",
    "            'layout': {'title': 'Dash in JupyterLab'}\n",
    "        }\n",
    "    )\n",
    "])\n",
    "app.run_server(host=\"0.0.0.0\", port=8052)\n"
   ]
  },
  {
   "cell_type": "code",
   "execution_count": null,
   "id": "9c7f8b1f",
   "metadata": {},
   "outputs": [],
   "source": [
    "\n",
    "import numpy as np\n",
    "np\n"
   ]
  },
  {
   "cell_type": "code",
   "execution_count": null,
   "id": "97f68bd0",
   "metadata": {},
   "outputs": [],
   "source": [
    "\n",
    "import numpy as np\n",
    "import pandas as pd\n",
    "import ipydatagrid\n",
    "\n",
    "data = pd.DataFrame(\n",
    "    np.random.randint(0, 100, size=(5, 5)), \n",
    "    columns=[\"A\", \"B\", \"C\", \"D\", \"E\"]\n",
    ")\n",
    "grid = ipydatagrid.DataGrid(data, editable=True)\n",
    "grid\n"
   ]
  },
  {
   "cell_type": "code",
   "execution_count": null,
   "id": "6c5e3ebd",
   "metadata": {},
   "outputs": [],
   "source": [
    "\n",
    "# Activate ipympl\n",
    "%matplotlib widget  \n",
    "\n",
    "import matplotlib.pyplot as plt  \n",
    "import numpy as np  \n",
    "\n",
    "x = np.linspace(0, 10, 100)  \n",
    "y = np.sin(x)  \n",
    "\n",
    "fig, ax = plt.subplots()  \n",
    "ax.plot(x, y)  \n",
    "plt.show()\n"
   ]
  },
  {
   "cell_type": "code",
   "execution_count": null,
   "id": "a6697cf2",
   "metadata": {},
   "outputs": [],
   "source": [
    "\n",
    "def             my_function(x,      y):\n",
    "    print(x,            y)\n"
   ]
  },
  {
   "cell_type": "code",
   "execution_count": null,
   "id": "f155d1de",
   "metadata": {},
   "outputs": [],
   "source": [
    "\n",
    "import tempfile\n",
    "import papermill as pm\n",
    "\n",
    "with tempfile.NamedTemporaryFile(delete=False, suffix='.ipynb') as temp_output:\n",
    "    pm.execute_notebook(\n",
    "        \"test-papermill.ipynb\", \n",
    "        temp_output.name,        \n",
    "        parameters={\"param1\": \"TestRun\", \"param2\": 99},\n",
    "        kernel_name=\"python3\"\n",
    "    )\n",
    "    print(f\"Output saved to {temp_output.name}\")\n",
    "    output_path = temp_output.name  \n",
    "output_path\n"
   ]
  },
  {
   "cell_type": "code",
   "execution_count": null,
   "id": "51ba9831",
   "metadata": {},
   "outputs": [],
   "source": [
    "\n",
    "import ipywidgets as widgets\n",
    "from IPython.display import display\n",
    "\n",
    "slider = widgets.IntSlider(value=50, min=0, max=100, description=\"Slider:\")\n",
    "button = widgets.Button(description=\"Click Me\")\n",
    "output = widgets.Output()\n",
    "\n",
    "def on_button_click(b):\n",
    "    with output:\n",
    "        print(\"Button Clicked!\")\n",
    "\n",
    "button.on_click(on_button_click)\n",
    "display(slider, button, output)\n"
   ]
  },
  {
   "cell_type": "code",
   "execution_count": null,
   "id": "30bd861e",
   "metadata": {},
   "outputs": [],
   "source": [
    "\n",
    "from dash import dcc, html, Dash\n",
    "app = Dash(__name__)\n",
    "app.layout = html.Div([\n",
    "    dcc.Graph(\n",
    "        id='graph',\n",
    "        figure={\n",
    "            'data': [{'x': [1, 2, 3, 4], 'y': [10, 11, 12, 13], 'type': 'line', 'name': 'Test'}],\n",
    "            'layout': {'title': 'Dash in JupyterLab'}\n",
    "        }\n",
    "    )\n",
    "])\n",
    "app.run_server(host=\"0.0.0.0\", port=8052)\n"
   ]
  },
  {
   "cell_type": "code",
   "execution_count": null,
   "id": "d4b31d47",
   "metadata": {},
   "outputs": [],
   "source": [
    "\n",
    "import numpy as np\n",
    "np\n"
   ]
  },
  {
   "cell_type": "code",
   "execution_count": null,
   "id": "1063a2eb",
   "metadata": {},
   "outputs": [],
   "source": [
    "\n",
    "import numpy as np\n",
    "import pandas as pd\n",
    "import ipydatagrid\n",
    "\n",
    "data = pd.DataFrame(\n",
    "    np.random.randint(0, 100, size=(5, 5)), \n",
    "    columns=[\"A\", \"B\", \"C\", \"D\", \"E\"]\n",
    ")\n",
    "grid = ipydatagrid.DataGrid(data, editable=True)\n",
    "grid\n"
   ]
  },
  {
   "cell_type": "code",
   "execution_count": null,
   "id": "33b3a9da",
   "metadata": {},
   "outputs": [],
   "source": [
    "\n",
    "# Activate ipympl\n",
    "%matplotlib widget  \n",
    "\n",
    "import matplotlib.pyplot as plt  \n",
    "import numpy as np  \n",
    "\n",
    "x = np.linspace(0, 10, 100)  \n",
    "y = np.sin(x)  \n",
    "\n",
    "fig, ax = plt.subplots()  \n",
    "ax.plot(x, y)  \n",
    "plt.show()\n"
   ]
  },
  {
   "cell_type": "code",
   "execution_count": null,
   "id": "efe55bd8",
   "metadata": {},
   "outputs": [],
   "source": [
    "\n",
    "def             my_function(x,      y):\n",
    "    print(x,            y)\n"
   ]
  },
  {
   "cell_type": "code",
   "execution_count": null,
   "id": "0a2fc40f",
   "metadata": {},
   "outputs": [],
   "source": [
    "\n",
    "import tempfile\n",
    "import papermill as pm\n",
    "\n",
    "with tempfile.NamedTemporaryFile(delete=False, suffix='.ipynb') as temp_output:\n",
    "    pm.execute_notebook(\n",
    "        \"test-papermill.ipynb\", \n",
    "        temp_output.name,        \n",
    "        parameters={\"param1\": \"TestRun\", \"param2\": 99},\n",
    "        kernel_name=\"python3\"\n",
    "    )\n",
    "    print(f\"Output saved to {temp_output.name}\")\n",
    "    output_path = temp_output.name  \n",
    "output_path\n"
   ]
  },
  {
   "cell_type": "code",
   "execution_count": null,
   "id": "41ed44eb",
   "metadata": {},
   "outputs": [],
   "source": [
    "\n",
    "import ipywidgets as widgets\n",
    "from IPython.display import display\n",
    "\n",
    "slider = widgets.IntSlider(value=50, min=0, max=100, description=\"Slider:\")\n",
    "button = widgets.Button(description=\"Click Me\")\n",
    "output = widgets.Output()\n",
    "\n",
    "def on_button_click(b):\n",
    "    with output:\n",
    "        print(\"Button Clicked!\")\n",
    "\n",
    "button.on_click(on_button_click)\n",
    "display(slider, button, output)\n"
   ]
  },
  {
   "cell_type": "code",
   "execution_count": null,
   "id": "f26ffdc1",
   "metadata": {},
   "outputs": [],
   "source": [
    "\n",
    "from dash import dcc, html, Dash\n",
    "app = Dash(__name__)\n",
    "app.layout = html.Div([\n",
    "    dcc.Graph(\n",
    "        id='graph',\n",
    "        figure={\n",
    "            'data': [{'x': [1, 2, 3, 4], 'y': [10, 11, 12, 13], 'type': 'line', 'name': 'Test'}],\n",
    "            'layout': {'title': 'Dash in JupyterLab'}\n",
    "        }\n",
    "    )\n",
    "])\n",
    "app.run_server(host=\"0.0.0.0\", port=8052)\n"
   ]
  },
  {
   "cell_type": "code",
   "execution_count": null,
   "id": "9d9d8735",
   "metadata": {},
   "outputs": [],
   "source": [
    "\n",
    "import numpy as np\n",
    "np\n"
   ]
  },
  {
   "cell_type": "code",
   "execution_count": null,
   "id": "86ede153",
   "metadata": {},
   "outputs": [],
   "source": [
    "\n",
    "import numpy as np\n",
    "import pandas as pd\n",
    "import ipydatagrid\n",
    "\n",
    "data = pd.DataFrame(\n",
    "    np.random.randint(0, 100, size=(5, 5)), \n",
    "    columns=[\"A\", \"B\", \"C\", \"D\", \"E\"]\n",
    ")\n",
    "grid = ipydatagrid.DataGrid(data, editable=True)\n",
    "grid\n"
   ]
  },
  {
   "cell_type": "code",
   "execution_count": null,
   "id": "f91f8168",
   "metadata": {},
   "outputs": [],
   "source": [
    "\n",
    "# Activate ipympl\n",
    "%matplotlib widget  \n",
    "\n",
    "import matplotlib.pyplot as plt  \n",
    "import numpy as np  \n",
    "\n",
    "x = np.linspace(0, 10, 100)  \n",
    "y = np.sin(x)  \n",
    "\n",
    "fig, ax = plt.subplots()  \n",
    "ax.plot(x, y)  \n",
    "plt.show()\n"
   ]
  },
  {
   "cell_type": "code",
   "execution_count": null,
   "id": "cb37a6c5",
   "metadata": {},
   "outputs": [],
   "source": [
    "\n",
    "def             my_function(x,      y):\n",
    "    print(x,            y)\n"
   ]
  },
  {
   "cell_type": "code",
   "execution_count": null,
   "id": "3f900ba7",
   "metadata": {},
   "outputs": [],
   "source": [
    "\n",
    "import tempfile\n",
    "import papermill as pm\n",
    "\n",
    "with tempfile.NamedTemporaryFile(delete=False, suffix='.ipynb') as temp_output:\n",
    "    pm.execute_notebook(\n",
    "        \"test-papermill.ipynb\", \n",
    "        temp_output.name,        \n",
    "        parameters={\"param1\": \"TestRun\", \"param2\": 99},\n",
    "        kernel_name=\"python3\"\n",
    "    )\n",
    "    print(f\"Output saved to {temp_output.name}\")\n",
    "    output_path = temp_output.name  \n",
    "output_path\n"
   ]
  },
  {
   "cell_type": "code",
   "execution_count": null,
   "id": "3657a654",
   "metadata": {},
   "outputs": [],
   "source": [
    "\n",
    "import ipywidgets as widgets\n",
    "from IPython.display import display\n",
    "\n",
    "slider = widgets.IntSlider(value=50, min=0, max=100, description=\"Slider:\")\n",
    "button = widgets.Button(description=\"Click Me\")\n",
    "output = widgets.Output()\n",
    "\n",
    "def on_button_click(b):\n",
    "    with output:\n",
    "        print(\"Button Clicked!\")\n",
    "\n",
    "button.on_click(on_button_click)\n",
    "display(slider, button, output)\n"
   ]
  },
  {
   "cell_type": "code",
   "execution_count": null,
   "id": "fc29a5a0",
   "metadata": {},
   "outputs": [],
   "source": [
    "\n",
    "from dash import dcc, html, Dash\n",
    "app = Dash(__name__)\n",
    "app.layout = html.Div([\n",
    "    dcc.Graph(\n",
    "        id='graph',\n",
    "        figure={\n",
    "            'data': [{'x': [1, 2, 3, 4], 'y': [10, 11, 12, 13], 'type': 'line', 'name': 'Test'}],\n",
    "            'layout': {'title': 'Dash in JupyterLab'}\n",
    "        }\n",
    "    )\n",
    "])\n",
    "app.run_server(host=\"0.0.0.0\", port=8052)\n"
   ]
  },
  {
   "cell_type": "code",
   "execution_count": null,
   "id": "c04af32f",
   "metadata": {},
   "outputs": [],
   "source": [
    "\n",
    "import numpy as np\n",
    "np\n"
   ]
  },
  {
   "cell_type": "code",
   "execution_count": null,
   "id": "c7b290c2",
   "metadata": {},
   "outputs": [],
   "source": [
    "\n",
    "import numpy as np\n",
    "import pandas as pd\n",
    "import ipydatagrid\n",
    "\n",
    "data = pd.DataFrame(\n",
    "    np.random.randint(0, 100, size=(5, 5)), \n",
    "    columns=[\"A\", \"B\", \"C\", \"D\", \"E\"]\n",
    ")\n",
    "grid = ipydatagrid.DataGrid(data, editable=True)\n",
    "grid\n"
   ]
  },
  {
   "cell_type": "code",
   "execution_count": null,
   "id": "8611c329",
   "metadata": {},
   "outputs": [],
   "source": [
    "\n",
    "# Activate ipympl\n",
    "%matplotlib widget  \n",
    "\n",
    "import matplotlib.pyplot as plt  \n",
    "import numpy as np  \n",
    "\n",
    "x = np.linspace(0, 10, 100)  \n",
    "y = np.sin(x)  \n",
    "\n",
    "fig, ax = plt.subplots()  \n",
    "ax.plot(x, y)  \n",
    "plt.show()\n"
   ]
  },
  {
   "cell_type": "code",
   "execution_count": null,
   "id": "e2339829",
   "metadata": {},
   "outputs": [],
   "source": [
    "\n",
    "def             my_function(x,      y):\n",
    "    print(x,            y)\n"
   ]
  },
  {
   "cell_type": "code",
   "execution_count": null,
   "id": "962a609a",
   "metadata": {},
   "outputs": [],
   "source": [
    "\n",
    "import tempfile\n",
    "import papermill as pm\n",
    "\n",
    "with tempfile.NamedTemporaryFile(delete=False, suffix='.ipynb') as temp_output:\n",
    "    pm.execute_notebook(\n",
    "        \"test-papermill.ipynb\", \n",
    "        temp_output.name,        \n",
    "        parameters={\"param1\": \"TestRun\", \"param2\": 99},\n",
    "        kernel_name=\"python3\"\n",
    "    )\n",
    "    print(f\"Output saved to {temp_output.name}\")\n",
    "    output_path = temp_output.name  \n",
    "output_path\n"
   ]
  },
  {
   "cell_type": "code",
   "execution_count": null,
   "id": "facafd0c",
   "metadata": {},
   "outputs": [],
   "source": [
    "\n",
    "import ipywidgets as widgets\n",
    "from IPython.display import display\n",
    "\n",
    "slider = widgets.IntSlider(value=50, min=0, max=100, description=\"Slider:\")\n",
    "button = widgets.Button(description=\"Click Me\")\n",
    "output = widgets.Output()\n",
    "\n",
    "def on_button_click(b):\n",
    "    with output:\n",
    "        print(\"Button Clicked!\")\n",
    "\n",
    "button.on_click(on_button_click)\n",
    "display(slider, button, output)\n"
   ]
  },
  {
   "cell_type": "code",
   "execution_count": null,
   "id": "2aab687b",
   "metadata": {},
   "outputs": [],
   "source": [
    "\n",
    "from dash import dcc, html, Dash\n",
    "app = Dash(__name__)\n",
    "app.layout = html.Div([\n",
    "    dcc.Graph(\n",
    "        id='graph',\n",
    "        figure={\n",
    "            'data': [{'x': [1, 2, 3, 4], 'y': [10, 11, 12, 13], 'type': 'line', 'name': 'Test'}],\n",
    "            'layout': {'title': 'Dash in JupyterLab'}\n",
    "        }\n",
    "    )\n",
    "])\n",
    "app.run_server(host=\"0.0.0.0\", port=8052)\n"
   ]
  },
  {
   "cell_type": "code",
   "execution_count": null,
   "id": "4242b43b",
   "metadata": {},
   "outputs": [],
   "source": [
    "\n",
    "import numpy as np\n",
    "np\n"
   ]
  },
  {
   "cell_type": "code",
   "execution_count": null,
   "id": "970c4975",
   "metadata": {},
   "outputs": [],
   "source": [
    "\n",
    "import numpy as np\n",
    "import pandas as pd\n",
    "import ipydatagrid\n",
    "\n",
    "data = pd.DataFrame(\n",
    "    np.random.randint(0, 100, size=(5, 5)), \n",
    "    columns=[\"A\", \"B\", \"C\", \"D\", \"E\"]\n",
    ")\n",
    "grid = ipydatagrid.DataGrid(data, editable=True)\n",
    "grid\n"
   ]
  },
  {
   "cell_type": "code",
   "execution_count": null,
   "id": "e46a15aa",
   "metadata": {},
   "outputs": [],
   "source": [
    "\n",
    "# Activate ipympl\n",
    "%matplotlib widget  \n",
    "\n",
    "import matplotlib.pyplot as plt  \n",
    "import numpy as np  \n",
    "\n",
    "x = np.linspace(0, 10, 100)  \n",
    "y = np.sin(x)  \n",
    "\n",
    "fig, ax = plt.subplots()  \n",
    "ax.plot(x, y)  \n",
    "plt.show()\n"
   ]
  },
  {
   "cell_type": "code",
   "execution_count": null,
   "id": "13ae605d",
   "metadata": {},
   "outputs": [],
   "source": [
    "\n",
    "def             my_function(x,      y):\n",
    "    print(x,            y)\n"
   ]
  },
  {
   "cell_type": "code",
   "execution_count": null,
   "id": "f744c334",
   "metadata": {},
   "outputs": [],
   "source": [
    "\n",
    "import tempfile\n",
    "import papermill as pm\n",
    "\n",
    "with tempfile.NamedTemporaryFile(delete=False, suffix='.ipynb') as temp_output:\n",
    "    pm.execute_notebook(\n",
    "        \"test-papermill.ipynb\", \n",
    "        temp_output.name,        \n",
    "        parameters={\"param1\": \"TestRun\", \"param2\": 99},\n",
    "        kernel_name=\"python3\"\n",
    "    )\n",
    "    print(f\"Output saved to {temp_output.name}\")\n",
    "    output_path = temp_output.name  \n",
    "output_path\n"
   ]
  },
  {
   "cell_type": "code",
   "execution_count": null,
   "id": "abdb203e",
   "metadata": {},
   "outputs": [],
   "source": [
    "\n",
    "import ipywidgets as widgets\n",
    "from IPython.display import display\n",
    "\n",
    "slider = widgets.IntSlider(value=50, min=0, max=100, description=\"Slider:\")\n",
    "button = widgets.Button(description=\"Click Me\")\n",
    "output = widgets.Output()\n",
    "\n",
    "def on_button_click(b):\n",
    "    with output:\n",
    "        print(\"Button Clicked!\")\n",
    "\n",
    "button.on_click(on_button_click)\n",
    "display(slider, button, output)\n"
   ]
  },
  {
   "cell_type": "code",
   "execution_count": null,
   "id": "418ac8ff",
   "metadata": {},
   "outputs": [],
   "source": [
    "\n",
    "from dash import dcc, html, Dash\n",
    "app = Dash(__name__)\n",
    "app.layout = html.Div([\n",
    "    dcc.Graph(\n",
    "        id='graph',\n",
    "        figure={\n",
    "            'data': [{'x': [1, 2, 3, 4], 'y': [10, 11, 12, 13], 'type': 'line', 'name': 'Test'}],\n",
    "            'layout': {'title': 'Dash in JupyterLab'}\n",
    "        }\n",
    "    )\n",
    "])\n",
    "app.run_server(host=\"0.0.0.0\", port=8052)\n"
   ]
  },
  {
   "cell_type": "code",
   "execution_count": null,
   "id": "0ddfe7b2",
   "metadata": {},
   "outputs": [],
   "source": [
    "\n",
    "import numpy as np\n",
    "np\n"
   ]
  },
  {
   "cell_type": "code",
   "execution_count": null,
   "id": "12b69450",
   "metadata": {},
   "outputs": [],
   "source": [
    "\n",
    "import numpy as np\n",
    "import pandas as pd\n",
    "import ipydatagrid\n",
    "\n",
    "data = pd.DataFrame(\n",
    "    np.random.randint(0, 100, size=(5, 5)), \n",
    "    columns=[\"A\", \"B\", \"C\", \"D\", \"E\"]\n",
    ")\n",
    "grid = ipydatagrid.DataGrid(data, editable=True)\n",
    "grid\n"
   ]
  },
  {
   "cell_type": "code",
   "execution_count": null,
   "id": "753c516c",
   "metadata": {},
   "outputs": [],
   "source": [
    "\n",
    "# Activate ipympl\n",
    "%matplotlib widget  \n",
    "\n",
    "import matplotlib.pyplot as plt  \n",
    "import numpy as np  \n",
    "\n",
    "x = np.linspace(0, 10, 100)  \n",
    "y = np.sin(x)  \n",
    "\n",
    "fig, ax = plt.subplots()  \n",
    "ax.plot(x, y)  \n",
    "plt.show()\n"
   ]
  },
  {
   "cell_type": "code",
   "execution_count": null,
   "id": "f84540a5",
   "metadata": {},
   "outputs": [],
   "source": [
    "\n",
    "def             my_function(x,      y):\n",
    "    print(x,            y)\n"
   ]
  },
  {
   "cell_type": "code",
   "execution_count": null,
   "id": "2aa435cb",
   "metadata": {},
   "outputs": [],
   "source": [
    "\n",
    "import tempfile\n",
    "import papermill as pm\n",
    "\n",
    "with tempfile.NamedTemporaryFile(delete=False, suffix='.ipynb') as temp_output:\n",
    "    pm.execute_notebook(\n",
    "        \"test-papermill.ipynb\", \n",
    "        temp_output.name,        \n",
    "        parameters={\"param1\": \"TestRun\", \"param2\": 99},\n",
    "        kernel_name=\"python3\"\n",
    "    )\n",
    "    print(f\"Output saved to {temp_output.name}\")\n",
    "    output_path = temp_output.name  \n",
    "output_path\n"
   ]
  },
  {
   "cell_type": "code",
   "execution_count": null,
   "id": "904abe5f",
   "metadata": {},
   "outputs": [],
   "source": [
    "\n",
    "import ipywidgets as widgets\n",
    "from IPython.display import display\n",
    "\n",
    "slider = widgets.IntSlider(value=50, min=0, max=100, description=\"Slider:\")\n",
    "button = widgets.Button(description=\"Click Me\")\n",
    "output = widgets.Output()\n",
    "\n",
    "def on_button_click(b):\n",
    "    with output:\n",
    "        print(\"Button Clicked!\")\n",
    "\n",
    "button.on_click(on_button_click)\n",
    "display(slider, button, output)\n"
   ]
  },
  {
   "cell_type": "code",
   "execution_count": null,
   "id": "4aa900cc",
   "metadata": {},
   "outputs": [],
   "source": [
    "\n",
    "from dash import dcc, html, Dash\n",
    "app = Dash(__name__)\n",
    "app.layout = html.Div([\n",
    "    dcc.Graph(\n",
    "        id='graph',\n",
    "        figure={\n",
    "            'data': [{'x': [1, 2, 3, 4], 'y': [10, 11, 12, 13], 'type': 'line', 'name': 'Test'}],\n",
    "            'layout': {'title': 'Dash in JupyterLab'}\n",
    "        }\n",
    "    )\n",
    "])\n",
    "app.run_server(host=\"0.0.0.0\", port=8052)\n"
   ]
  },
  {
   "cell_type": "code",
   "execution_count": null,
   "id": "5e18fcd2",
   "metadata": {},
   "outputs": [],
   "source": [
    "\n",
    "import numpy as np\n",
    "np\n"
   ]
  },
  {
   "cell_type": "code",
   "execution_count": null,
   "id": "3f18cf33",
   "metadata": {},
   "outputs": [],
   "source": [
    "\n",
    "import numpy as np\n",
    "import pandas as pd\n",
    "import ipydatagrid\n",
    "\n",
    "data = pd.DataFrame(\n",
    "    np.random.randint(0, 100, size=(5, 5)), \n",
    "    columns=[\"A\", \"B\", \"C\", \"D\", \"E\"]\n",
    ")\n",
    "grid = ipydatagrid.DataGrid(data, editable=True)\n",
    "grid\n"
   ]
  },
  {
   "cell_type": "code",
   "execution_count": null,
   "id": "1bab3f28",
   "metadata": {},
   "outputs": [],
   "source": [
    "\n",
    "# Activate ipympl\n",
    "%matplotlib widget  \n",
    "\n",
    "import matplotlib.pyplot as plt  \n",
    "import numpy as np  \n",
    "\n",
    "x = np.linspace(0, 10, 100)  \n",
    "y = np.sin(x)  \n",
    "\n",
    "fig, ax = plt.subplots()  \n",
    "ax.plot(x, y)  \n",
    "plt.show()\n"
   ]
  },
  {
   "cell_type": "code",
   "execution_count": null,
   "id": "bb56b425",
   "metadata": {},
   "outputs": [],
   "source": [
    "\n",
    "def             my_function(x,      y):\n",
    "    print(x,            y)\n"
   ]
  },
  {
   "cell_type": "code",
   "execution_count": null,
   "id": "1636742b",
   "metadata": {},
   "outputs": [],
   "source": [
    "\n",
    "import tempfile\n",
    "import papermill as pm\n",
    "\n",
    "with tempfile.NamedTemporaryFile(delete=False, suffix='.ipynb') as temp_output:\n",
    "    pm.execute_notebook(\n",
    "        \"test-papermill.ipynb\", \n",
    "        temp_output.name,        \n",
    "        parameters={\"param1\": \"TestRun\", \"param2\": 99},\n",
    "        kernel_name=\"python3\"\n",
    "    )\n",
    "    print(f\"Output saved to {temp_output.name}\")\n",
    "    output_path = temp_output.name  \n",
    "output_path\n"
   ]
  },
  {
   "cell_type": "code",
   "execution_count": null,
   "id": "00e70dfd",
   "metadata": {},
   "outputs": [],
   "source": [
    "\n",
    "import ipywidgets as widgets\n",
    "from IPython.display import display\n",
    "\n",
    "slider = widgets.IntSlider(value=50, min=0, max=100, description=\"Slider:\")\n",
    "button = widgets.Button(description=\"Click Me\")\n",
    "output = widgets.Output()\n",
    "\n",
    "def on_button_click(b):\n",
    "    with output:\n",
    "        print(\"Button Clicked!\")\n",
    "\n",
    "button.on_click(on_button_click)\n",
    "display(slider, button, output)\n"
   ]
  },
  {
   "cell_type": "code",
   "execution_count": null,
   "id": "c17f8fb5",
   "metadata": {},
   "outputs": [],
   "source": [
    "\n",
    "from dash import dcc, html, Dash\n",
    "app = Dash(__name__)\n",
    "app.layout = html.Div([\n",
    "    dcc.Graph(\n",
    "        id='graph',\n",
    "        figure={\n",
    "            'data': [{'x': [1, 2, 3, 4], 'y': [10, 11, 12, 13], 'type': 'line', 'name': 'Test'}],\n",
    "            'layout': {'title': 'Dash in JupyterLab'}\n",
    "        }\n",
    "    )\n",
    "])\n",
    "app.run_server(host=\"0.0.0.0\", port=8052)\n"
   ]
  },
  {
   "cell_type": "code",
   "execution_count": null,
   "id": "8fec3978",
   "metadata": {},
   "outputs": [],
   "source": [
    "\n",
    "import numpy as np\n",
    "np\n"
   ]
  },
  {
   "cell_type": "code",
   "execution_count": null,
   "id": "4af4eb6e",
   "metadata": {},
   "outputs": [],
   "source": [
    "\n",
    "import numpy as np\n",
    "import pandas as pd\n",
    "import ipydatagrid\n",
    "\n",
    "data = pd.DataFrame(\n",
    "    np.random.randint(0, 100, size=(5, 5)), \n",
    "    columns=[\"A\", \"B\", \"C\", \"D\", \"E\"]\n",
    ")\n",
    "grid = ipydatagrid.DataGrid(data, editable=True)\n",
    "grid\n"
   ]
  },
  {
   "cell_type": "code",
   "execution_count": null,
   "id": "e04ff6b6",
   "metadata": {},
   "outputs": [],
   "source": [
    "\n",
    "# Activate ipympl\n",
    "%matplotlib widget  \n",
    "\n",
    "import matplotlib.pyplot as plt  \n",
    "import numpy as np  \n",
    "\n",
    "x = np.linspace(0, 10, 100)  \n",
    "y = np.sin(x)  \n",
    "\n",
    "fig, ax = plt.subplots()  \n",
    "ax.plot(x, y)  \n",
    "plt.show()\n"
   ]
  },
  {
   "cell_type": "code",
   "execution_count": null,
   "id": "92651d55",
   "metadata": {},
   "outputs": [],
   "source": [
    "\n",
    "def             my_function(x,      y):\n",
    "    print(x,            y)\n"
   ]
  },
  {
   "cell_type": "code",
   "execution_count": null,
   "id": "39c919ac",
   "metadata": {},
   "outputs": [],
   "source": [
    "\n",
    "import tempfile\n",
    "import papermill as pm\n",
    "\n",
    "with tempfile.NamedTemporaryFile(delete=False, suffix='.ipynb') as temp_output:\n",
    "    pm.execute_notebook(\n",
    "        \"test-papermill.ipynb\", \n",
    "        temp_output.name,        \n",
    "        parameters={\"param1\": \"TestRun\", \"param2\": 99},\n",
    "        kernel_name=\"python3\"\n",
    "    )\n",
    "    print(f\"Output saved to {temp_output.name}\")\n",
    "    output_path = temp_output.name  \n",
    "output_path\n"
   ]
  },
  {
   "cell_type": "code",
   "execution_count": null,
   "id": "503ba4ff",
   "metadata": {},
   "outputs": [],
   "source": [
    "\n",
    "import ipywidgets as widgets\n",
    "from IPython.display import display\n",
    "\n",
    "slider = widgets.IntSlider(value=50, min=0, max=100, description=\"Slider:\")\n",
    "button = widgets.Button(description=\"Click Me\")\n",
    "output = widgets.Output()\n",
    "\n",
    "def on_button_click(b):\n",
    "    with output:\n",
    "        print(\"Button Clicked!\")\n",
    "\n",
    "button.on_click(on_button_click)\n",
    "display(slider, button, output)\n"
   ]
  },
  {
   "cell_type": "code",
   "execution_count": null,
   "id": "4eab38d4",
   "metadata": {},
   "outputs": [],
   "source": [
    "\n",
    "from dash import dcc, html, Dash\n",
    "app = Dash(__name__)\n",
    "app.layout = html.Div([\n",
    "    dcc.Graph(\n",
    "        id='graph',\n",
    "        figure={\n",
    "            'data': [{'x': [1, 2, 3, 4], 'y': [10, 11, 12, 13], 'type': 'line', 'name': 'Test'}],\n",
    "            'layout': {'title': 'Dash in JupyterLab'}\n",
    "        }\n",
    "    )\n",
    "])\n",
    "app.run_server(host=\"0.0.0.0\", port=8052)\n"
   ]
  },
  {
   "cell_type": "code",
   "execution_count": null,
   "id": "ed9de318",
   "metadata": {},
   "outputs": [],
   "source": [
    "\n",
    "import numpy as np\n",
    "np\n"
   ]
  },
  {
   "cell_type": "code",
   "execution_count": null,
   "id": "f38fb0d4",
   "metadata": {},
   "outputs": [],
   "source": [
    "\n",
    "import numpy as np\n",
    "import pandas as pd\n",
    "import ipydatagrid\n",
    "\n",
    "data = pd.DataFrame(\n",
    "    np.random.randint(0, 100, size=(5, 5)), \n",
    "    columns=[\"A\", \"B\", \"C\", \"D\", \"E\"]\n",
    ")\n",
    "grid = ipydatagrid.DataGrid(data, editable=True)\n",
    "grid\n"
   ]
  },
  {
   "cell_type": "code",
   "execution_count": null,
   "id": "fffd497b",
   "metadata": {},
   "outputs": [],
   "source": [
    "\n",
    "# Activate ipympl\n",
    "%matplotlib widget  \n",
    "\n",
    "import matplotlib.pyplot as plt  \n",
    "import numpy as np  \n",
    "\n",
    "x = np.linspace(0, 10, 100)  \n",
    "y = np.sin(x)  \n",
    "\n",
    "fig, ax = plt.subplots()  \n",
    "ax.plot(x, y)  \n",
    "plt.show()\n"
   ]
  },
  {
   "cell_type": "code",
   "execution_count": null,
   "id": "7de16af2",
   "metadata": {},
   "outputs": [],
   "source": [
    "\n",
    "def             my_function(x,      y):\n",
    "    print(x,            y)\n"
   ]
  },
  {
   "cell_type": "code",
   "execution_count": null,
   "id": "d73b378c",
   "metadata": {},
   "outputs": [],
   "source": [
    "\n",
    "import tempfile\n",
    "import papermill as pm\n",
    "\n",
    "with tempfile.NamedTemporaryFile(delete=False, suffix='.ipynb') as temp_output:\n",
    "    pm.execute_notebook(\n",
    "        \"test-papermill.ipynb\", \n",
    "        temp_output.name,        \n",
    "        parameters={\"param1\": \"TestRun\", \"param2\": 99},\n",
    "        kernel_name=\"python3\"\n",
    "    )\n",
    "    print(f\"Output saved to {temp_output.name}\")\n",
    "    output_path = temp_output.name  \n",
    "output_path\n"
   ]
  },
  {
   "cell_type": "code",
   "execution_count": null,
   "id": "a8afa7a7",
   "metadata": {},
   "outputs": [],
   "source": [
    "\n",
    "import ipywidgets as widgets\n",
    "from IPython.display import display\n",
    "\n",
    "slider = widgets.IntSlider(value=50, min=0, max=100, description=\"Slider:\")\n",
    "button = widgets.Button(description=\"Click Me\")\n",
    "output = widgets.Output()\n",
    "\n",
    "def on_button_click(b):\n",
    "    with output:\n",
    "        print(\"Button Clicked!\")\n",
    "\n",
    "button.on_click(on_button_click)\n",
    "display(slider, button, output)\n"
   ]
  },
  {
   "cell_type": "code",
   "execution_count": null,
   "id": "e0da62da",
   "metadata": {},
   "outputs": [],
   "source": [
    "\n",
    "from dash import dcc, html, Dash\n",
    "app = Dash(__name__)\n",
    "app.layout = html.Div([\n",
    "    dcc.Graph(\n",
    "        id='graph',\n",
    "        figure={\n",
    "            'data': [{'x': [1, 2, 3, 4], 'y': [10, 11, 12, 13], 'type': 'line', 'name': 'Test'}],\n",
    "            'layout': {'title': 'Dash in JupyterLab'}\n",
    "        }\n",
    "    )\n",
    "])\n",
    "app.run_server(host=\"0.0.0.0\", port=8052)\n"
   ]
  },
  {
   "cell_type": "code",
   "execution_count": null,
   "id": "d50ad88a",
   "metadata": {},
   "outputs": [],
   "source": [
    "\n",
    "import numpy as np\n",
    "np\n"
   ]
  },
  {
   "cell_type": "code",
   "execution_count": null,
   "id": "adb63661",
   "metadata": {},
   "outputs": [],
   "source": [
    "\n",
    "import numpy as np\n",
    "import pandas as pd\n",
    "import ipydatagrid\n",
    "\n",
    "data = pd.DataFrame(\n",
    "    np.random.randint(0, 100, size=(5, 5)), \n",
    "    columns=[\"A\", \"B\", \"C\", \"D\", \"E\"]\n",
    ")\n",
    "grid = ipydatagrid.DataGrid(data, editable=True)\n",
    "grid\n"
   ]
  },
  {
   "cell_type": "code",
   "execution_count": null,
   "id": "14951891",
   "metadata": {},
   "outputs": [],
   "source": [
    "\n",
    "# Activate ipympl\n",
    "%matplotlib widget  \n",
    "\n",
    "import matplotlib.pyplot as plt  \n",
    "import numpy as np  \n",
    "\n",
    "x = np.linspace(0, 10, 100)  \n",
    "y = np.sin(x)  \n",
    "\n",
    "fig, ax = plt.subplots()  \n",
    "ax.plot(x, y)  \n",
    "plt.show()\n"
   ]
  },
  {
   "cell_type": "code",
   "execution_count": null,
   "id": "1c1ac974",
   "metadata": {},
   "outputs": [],
   "source": [
    "\n",
    "def             my_function(x,      y):\n",
    "    print(x,            y)\n"
   ]
  },
  {
   "cell_type": "code",
   "execution_count": null,
   "id": "2193db93",
   "metadata": {},
   "outputs": [],
   "source": [
    "\n",
    "import tempfile\n",
    "import papermill as pm\n",
    "\n",
    "with tempfile.NamedTemporaryFile(delete=False, suffix='.ipynb') as temp_output:\n",
    "    pm.execute_notebook(\n",
    "        \"test-papermill.ipynb\", \n",
    "        temp_output.name,        \n",
    "        parameters={\"param1\": \"TestRun\", \"param2\": 99},\n",
    "        kernel_name=\"python3\"\n",
    "    )\n",
    "    print(f\"Output saved to {temp_output.name}\")\n",
    "    output_path = temp_output.name  \n",
    "output_path\n"
   ]
  },
  {
   "cell_type": "code",
   "execution_count": null,
   "id": "97ad66a9",
   "metadata": {},
   "outputs": [],
   "source": [
    "\n",
    "import ipywidgets as widgets\n",
    "from IPython.display import display\n",
    "\n",
    "slider = widgets.IntSlider(value=50, min=0, max=100, description=\"Slider:\")\n",
    "button = widgets.Button(description=\"Click Me\")\n",
    "output = widgets.Output()\n",
    "\n",
    "def on_button_click(b):\n",
    "    with output:\n",
    "        print(\"Button Clicked!\")\n",
    "\n",
    "button.on_click(on_button_click)\n",
    "display(slider, button, output)\n"
   ]
  },
  {
   "cell_type": "code",
   "execution_count": null,
   "id": "0995454d",
   "metadata": {},
   "outputs": [],
   "source": [
    "\n",
    "from dash import dcc, html, Dash\n",
    "app = Dash(__name__)\n",
    "app.layout = html.Div([\n",
    "    dcc.Graph(\n",
    "        id='graph',\n",
    "        figure={\n",
    "            'data': [{'x': [1, 2, 3, 4], 'y': [10, 11, 12, 13], 'type': 'line', 'name': 'Test'}],\n",
    "            'layout': {'title': 'Dash in JupyterLab'}\n",
    "        }\n",
    "    )\n",
    "])\n",
    "app.run_server(host=\"0.0.0.0\", port=8052)\n"
   ]
  },
  {
   "cell_type": "code",
   "execution_count": null,
   "id": "f7032c26",
   "metadata": {},
   "outputs": [],
   "source": [
    "\n",
    "import numpy as np\n",
    "np\n"
   ]
  },
  {
   "cell_type": "code",
   "execution_count": null,
   "id": "bf83ed5c",
   "metadata": {},
   "outputs": [],
   "source": [
    "\n",
    "import numpy as np\n",
    "import pandas as pd\n",
    "import ipydatagrid\n",
    "\n",
    "data = pd.DataFrame(\n",
    "    np.random.randint(0, 100, size=(5, 5)), \n",
    "    columns=[\"A\", \"B\", \"C\", \"D\", \"E\"]\n",
    ")\n",
    "grid = ipydatagrid.DataGrid(data, editable=True)\n",
    "grid\n"
   ]
  },
  {
   "cell_type": "code",
   "execution_count": null,
   "id": "e47118be",
   "metadata": {},
   "outputs": [],
   "source": [
    "\n",
    "# Activate ipympl\n",
    "%matplotlib widget  \n",
    "\n",
    "import matplotlib.pyplot as plt  \n",
    "import numpy as np  \n",
    "\n",
    "x = np.linspace(0, 10, 100)  \n",
    "y = np.sin(x)  \n",
    "\n",
    "fig, ax = plt.subplots()  \n",
    "ax.plot(x, y)  \n",
    "plt.show()\n"
   ]
  },
  {
   "cell_type": "code",
   "execution_count": null,
   "id": "51730373",
   "metadata": {},
   "outputs": [],
   "source": [
    "\n",
    "def             my_function(x,      y):\n",
    "    print(x,            y)\n"
   ]
  },
  {
   "cell_type": "code",
   "execution_count": null,
   "id": "f7735ebb",
   "metadata": {},
   "outputs": [],
   "source": [
    "\n",
    "import tempfile\n",
    "import papermill as pm\n",
    "\n",
    "with tempfile.NamedTemporaryFile(delete=False, suffix='.ipynb') as temp_output:\n",
    "    pm.execute_notebook(\n",
    "        \"test-papermill.ipynb\", \n",
    "        temp_output.name,        \n",
    "        parameters={\"param1\": \"TestRun\", \"param2\": 99},\n",
    "        kernel_name=\"python3\"\n",
    "    )\n",
    "    print(f\"Output saved to {temp_output.name}\")\n",
    "    output_path = temp_output.name  \n",
    "output_path\n"
   ]
  },
  {
   "cell_type": "code",
   "execution_count": null,
   "id": "4c96926c",
   "metadata": {},
   "outputs": [],
   "source": [
    "\n",
    "import ipywidgets as widgets\n",
    "from IPython.display import display\n",
    "\n",
    "slider = widgets.IntSlider(value=50, min=0, max=100, description=\"Slider:\")\n",
    "button = widgets.Button(description=\"Click Me\")\n",
    "output = widgets.Output()\n",
    "\n",
    "def on_button_click(b):\n",
    "    with output:\n",
    "        print(\"Button Clicked!\")\n",
    "\n",
    "button.on_click(on_button_click)\n",
    "display(slider, button, output)\n"
   ]
  },
  {
   "cell_type": "code",
   "execution_count": null,
   "id": "e9980034",
   "metadata": {},
   "outputs": [],
   "source": [
    "\n",
    "from dash import dcc, html, Dash\n",
    "app = Dash(__name__)\n",
    "app.layout = html.Div([\n",
    "    dcc.Graph(\n",
    "        id='graph',\n",
    "        figure={\n",
    "            'data': [{'x': [1, 2, 3, 4], 'y': [10, 11, 12, 13], 'type': 'line', 'name': 'Test'}],\n",
    "            'layout': {'title': 'Dash in JupyterLab'}\n",
    "        }\n",
    "    )\n",
    "])\n",
    "app.run_server(host=\"0.0.0.0\", port=8052)\n"
   ]
  },
  {
   "cell_type": "code",
   "execution_count": null,
   "id": "e55bc4ce",
   "metadata": {},
   "outputs": [],
   "source": [
    "\n",
    "import numpy as np\n",
    "np\n"
   ]
  },
  {
   "cell_type": "code",
   "execution_count": null,
   "id": "f0288952",
   "metadata": {},
   "outputs": [],
   "source": [
    "\n",
    "import numpy as np\n",
    "import pandas as pd\n",
    "import ipydatagrid\n",
    "\n",
    "data = pd.DataFrame(\n",
    "    np.random.randint(0, 100, size=(5, 5)), \n",
    "    columns=[\"A\", \"B\", \"C\", \"D\", \"E\"]\n",
    ")\n",
    "grid = ipydatagrid.DataGrid(data, editable=True)\n",
    "grid\n"
   ]
  },
  {
   "cell_type": "code",
   "execution_count": null,
   "id": "e2429f14",
   "metadata": {},
   "outputs": [],
   "source": [
    "\n",
    "# Activate ipympl\n",
    "%matplotlib widget  \n",
    "\n",
    "import matplotlib.pyplot as plt  \n",
    "import numpy as np  \n",
    "\n",
    "x = np.linspace(0, 10, 100)  \n",
    "y = np.sin(x)  \n",
    "\n",
    "fig, ax = plt.subplots()  \n",
    "ax.plot(x, y)  \n",
    "plt.show()\n"
   ]
  },
  {
   "cell_type": "code",
   "execution_count": null,
   "id": "7c84510a",
   "metadata": {},
   "outputs": [],
   "source": [
    "\n",
    "def             my_function(x,      y):\n",
    "    print(x,            y)\n"
   ]
  },
  {
   "cell_type": "code",
   "execution_count": null,
   "id": "57a70231",
   "metadata": {},
   "outputs": [],
   "source": [
    "\n",
    "import tempfile\n",
    "import papermill as pm\n",
    "\n",
    "with tempfile.NamedTemporaryFile(delete=False, suffix='.ipynb') as temp_output:\n",
    "    pm.execute_notebook(\n",
    "        \"test-papermill.ipynb\", \n",
    "        temp_output.name,        \n",
    "        parameters={\"param1\": \"TestRun\", \"param2\": 99},\n",
    "        kernel_name=\"python3\"\n",
    "    )\n",
    "    print(f\"Output saved to {temp_output.name}\")\n",
    "    output_path = temp_output.name  \n",
    "output_path\n"
   ]
  },
  {
   "cell_type": "code",
   "execution_count": null,
   "id": "c10d8d43",
   "metadata": {},
   "outputs": [],
   "source": [
    "\n",
    "import ipywidgets as widgets\n",
    "from IPython.display import display\n",
    "\n",
    "slider = widgets.IntSlider(value=50, min=0, max=100, description=\"Slider:\")\n",
    "button = widgets.Button(description=\"Click Me\")\n",
    "output = widgets.Output()\n",
    "\n",
    "def on_button_click(b):\n",
    "    with output:\n",
    "        print(\"Button Clicked!\")\n",
    "\n",
    "button.on_click(on_button_click)\n",
    "display(slider, button, output)\n"
   ]
  },
  {
   "cell_type": "code",
   "execution_count": null,
   "id": "c94f268f",
   "metadata": {},
   "outputs": [],
   "source": [
    "\n",
    "from dash import dcc, html, Dash\n",
    "app = Dash(__name__)\n",
    "app.layout = html.Div([\n",
    "    dcc.Graph(\n",
    "        id='graph',\n",
    "        figure={\n",
    "            'data': [{'x': [1, 2, 3, 4], 'y': [10, 11, 12, 13], 'type': 'line', 'name': 'Test'}],\n",
    "            'layout': {'title': 'Dash in JupyterLab'}\n",
    "        }\n",
    "    )\n",
    "])\n",
    "app.run_server(host=\"0.0.0.0\", port=8052)\n"
   ]
  },
  {
   "cell_type": "code",
   "execution_count": null,
   "id": "87a76ee2",
   "metadata": {},
   "outputs": [],
   "source": [
    "\n",
    "import numpy as np\n",
    "np\n"
   ]
  },
  {
   "cell_type": "code",
   "execution_count": null,
   "id": "d86bf557",
   "metadata": {},
   "outputs": [],
   "source": [
    "\n",
    "import numpy as np\n",
    "import pandas as pd\n",
    "import ipydatagrid\n",
    "\n",
    "data = pd.DataFrame(\n",
    "    np.random.randint(0, 100, size=(5, 5)), \n",
    "    columns=[\"A\", \"B\", \"C\", \"D\", \"E\"]\n",
    ")\n",
    "grid = ipydatagrid.DataGrid(data, editable=True)\n",
    "grid\n"
   ]
  },
  {
   "cell_type": "code",
   "execution_count": null,
   "id": "93112685",
   "metadata": {},
   "outputs": [],
   "source": [
    "\n",
    "# Activate ipympl\n",
    "%matplotlib widget  \n",
    "\n",
    "import matplotlib.pyplot as plt  \n",
    "import numpy as np  \n",
    "\n",
    "x = np.linspace(0, 10, 100)  \n",
    "y = np.sin(x)  \n",
    "\n",
    "fig, ax = plt.subplots()  \n",
    "ax.plot(x, y)  \n",
    "plt.show()\n"
   ]
  },
  {
   "cell_type": "code",
   "execution_count": null,
   "id": "2d7d3bbd",
   "metadata": {},
   "outputs": [],
   "source": [
    "\n",
    "def             my_function(x,      y):\n",
    "    print(x,            y)\n"
   ]
  },
  {
   "cell_type": "code",
   "execution_count": null,
   "id": "a6a16c87",
   "metadata": {},
   "outputs": [],
   "source": [
    "\n",
    "import tempfile\n",
    "import papermill as pm\n",
    "\n",
    "with tempfile.NamedTemporaryFile(delete=False, suffix='.ipynb') as temp_output:\n",
    "    pm.execute_notebook(\n",
    "        \"test-papermill.ipynb\", \n",
    "        temp_output.name,        \n",
    "        parameters={\"param1\": \"TestRun\", \"param2\": 99},\n",
    "        kernel_name=\"python3\"\n",
    "    )\n",
    "    print(f\"Output saved to {temp_output.name}\")\n",
    "    output_path = temp_output.name  \n",
    "output_path\n"
   ]
  },
  {
   "cell_type": "code",
   "execution_count": null,
   "id": "c3cdfd07",
   "metadata": {},
   "outputs": [],
   "source": [
    "\n",
    "import ipywidgets as widgets\n",
    "from IPython.display import display\n",
    "\n",
    "slider = widgets.IntSlider(value=50, min=0, max=100, description=\"Slider:\")\n",
    "button = widgets.Button(description=\"Click Me\")\n",
    "output = widgets.Output()\n",
    "\n",
    "def on_button_click(b):\n",
    "    with output:\n",
    "        print(\"Button Clicked!\")\n",
    "\n",
    "button.on_click(on_button_click)\n",
    "display(slider, button, output)\n"
   ]
  },
  {
   "cell_type": "code",
   "execution_count": null,
   "id": "54d278ba",
   "metadata": {},
   "outputs": [],
   "source": [
    "\n",
    "from dash import dcc, html, Dash\n",
    "app = Dash(__name__)\n",
    "app.layout = html.Div([\n",
    "    dcc.Graph(\n",
    "        id='graph',\n",
    "        figure={\n",
    "            'data': [{'x': [1, 2, 3, 4], 'y': [10, 11, 12, 13], 'type': 'line', 'name': 'Test'}],\n",
    "            'layout': {'title': 'Dash in JupyterLab'}\n",
    "        }\n",
    "    )\n",
    "])\n",
    "app.run_server(host=\"0.0.0.0\", port=8052)\n"
   ]
  },
  {
   "cell_type": "code",
   "execution_count": null,
   "id": "8cfb80c8",
   "metadata": {},
   "outputs": [],
   "source": [
    "\n",
    "import numpy as np\n",
    "np\n"
   ]
  },
  {
   "cell_type": "code",
   "execution_count": null,
   "id": "7e9e03de",
   "metadata": {},
   "outputs": [],
   "source": [
    "\n",
    "import numpy as np\n",
    "import pandas as pd\n",
    "import ipydatagrid\n",
    "\n",
    "data = pd.DataFrame(\n",
    "    np.random.randint(0, 100, size=(5, 5)), \n",
    "    columns=[\"A\", \"B\", \"C\", \"D\", \"E\"]\n",
    ")\n",
    "grid = ipydatagrid.DataGrid(data, editable=True)\n",
    "grid\n"
   ]
  },
  {
   "cell_type": "code",
   "execution_count": null,
   "id": "b1ac288a",
   "metadata": {},
   "outputs": [],
   "source": [
    "\n",
    "# Activate ipympl\n",
    "%matplotlib widget  \n",
    "\n",
    "import matplotlib.pyplot as plt  \n",
    "import numpy as np  \n",
    "\n",
    "x = np.linspace(0, 10, 100)  \n",
    "y = np.sin(x)  \n",
    "\n",
    "fig, ax = plt.subplots()  \n",
    "ax.plot(x, y)  \n",
    "plt.show()\n"
   ]
  },
  {
   "cell_type": "code",
   "execution_count": null,
   "id": "31688805",
   "metadata": {},
   "outputs": [],
   "source": [
    "\n",
    "def             my_function(x,      y):\n",
    "    print(x,            y)\n"
   ]
  },
  {
   "cell_type": "code",
   "execution_count": null,
   "id": "e82268aa",
   "metadata": {},
   "outputs": [],
   "source": [
    "\n",
    "import tempfile\n",
    "import papermill as pm\n",
    "\n",
    "with tempfile.NamedTemporaryFile(delete=False, suffix='.ipynb') as temp_output:\n",
    "    pm.execute_notebook(\n",
    "        \"test-papermill.ipynb\", \n",
    "        temp_output.name,        \n",
    "        parameters={\"param1\": \"TestRun\", \"param2\": 99},\n",
    "        kernel_name=\"python3\"\n",
    "    )\n",
    "    print(f\"Output saved to {temp_output.name}\")\n",
    "    output_path = temp_output.name  \n",
    "output_path\n"
   ]
  },
  {
   "cell_type": "code",
   "execution_count": null,
   "id": "74f8782c",
   "metadata": {},
   "outputs": [],
   "source": [
    "\n",
    "import ipywidgets as widgets\n",
    "from IPython.display import display\n",
    "\n",
    "slider = widgets.IntSlider(value=50, min=0, max=100, description=\"Slider:\")\n",
    "button = widgets.Button(description=\"Click Me\")\n",
    "output = widgets.Output()\n",
    "\n",
    "def on_button_click(b):\n",
    "    with output:\n",
    "        print(\"Button Clicked!\")\n",
    "\n",
    "button.on_click(on_button_click)\n",
    "display(slider, button, output)\n"
   ]
  },
  {
   "cell_type": "code",
   "execution_count": null,
   "id": "b26c0751",
   "metadata": {},
   "outputs": [],
   "source": [
    "\n",
    "from dash import dcc, html, Dash\n",
    "app = Dash(__name__)\n",
    "app.layout = html.Div([\n",
    "    dcc.Graph(\n",
    "        id='graph',\n",
    "        figure={\n",
    "            'data': [{'x': [1, 2, 3, 4], 'y': [10, 11, 12, 13], 'type': 'line', 'name': 'Test'}],\n",
    "            'layout': {'title': 'Dash in JupyterLab'}\n",
    "        }\n",
    "    )\n",
    "])\n",
    "app.run_server(host=\"0.0.0.0\", port=8052)\n"
   ]
  },
  {
   "cell_type": "code",
   "execution_count": null,
   "id": "a04b0983",
   "metadata": {},
   "outputs": [],
   "source": [
    "\n",
    "import numpy as np\n",
    "np\n"
   ]
  },
  {
   "cell_type": "code",
   "execution_count": null,
   "id": "76b6b103",
   "metadata": {},
   "outputs": [],
   "source": [
    "\n",
    "import numpy as np\n",
    "import pandas as pd\n",
    "import ipydatagrid\n",
    "\n",
    "data = pd.DataFrame(\n",
    "    np.random.randint(0, 100, size=(5, 5)), \n",
    "    columns=[\"A\", \"B\", \"C\", \"D\", \"E\"]\n",
    ")\n",
    "grid = ipydatagrid.DataGrid(data, editable=True)\n",
    "grid\n"
   ]
  },
  {
   "cell_type": "code",
   "execution_count": null,
   "id": "44ca3b23",
   "metadata": {},
   "outputs": [],
   "source": [
    "\n",
    "# Activate ipympl\n",
    "%matplotlib widget  \n",
    "\n",
    "import matplotlib.pyplot as plt  \n",
    "import numpy as np  \n",
    "\n",
    "x = np.linspace(0, 10, 100)  \n",
    "y = np.sin(x)  \n",
    "\n",
    "fig, ax = plt.subplots()  \n",
    "ax.plot(x, y)  \n",
    "plt.show()\n"
   ]
  },
  {
   "cell_type": "code",
   "execution_count": null,
   "id": "c002387c",
   "metadata": {},
   "outputs": [],
   "source": [
    "\n",
    "def             my_function(x,      y):\n",
    "    print(x,            y)\n"
   ]
  },
  {
   "cell_type": "code",
   "execution_count": null,
   "id": "96a840ba",
   "metadata": {},
   "outputs": [],
   "source": [
    "\n",
    "import tempfile\n",
    "import papermill as pm\n",
    "\n",
    "with tempfile.NamedTemporaryFile(delete=False, suffix='.ipynb') as temp_output:\n",
    "    pm.execute_notebook(\n",
    "        \"test-papermill.ipynb\", \n",
    "        temp_output.name,        \n",
    "        parameters={\"param1\": \"TestRun\", \"param2\": 99},\n",
    "        kernel_name=\"python3\"\n",
    "    )\n",
    "    print(f\"Output saved to {temp_output.name}\")\n",
    "    output_path = temp_output.name  \n",
    "output_path\n"
   ]
  },
  {
   "cell_type": "code",
   "execution_count": null,
   "id": "88e806af",
   "metadata": {},
   "outputs": [],
   "source": [
    "\n",
    "import ipywidgets as widgets\n",
    "from IPython.display import display\n",
    "\n",
    "slider = widgets.IntSlider(value=50, min=0, max=100, description=\"Slider:\")\n",
    "button = widgets.Button(description=\"Click Me\")\n",
    "output = widgets.Output()\n",
    "\n",
    "def on_button_click(b):\n",
    "    with output:\n",
    "        print(\"Button Clicked!\")\n",
    "\n",
    "button.on_click(on_button_click)\n",
    "display(slider, button, output)\n"
   ]
  },
  {
   "cell_type": "code",
   "execution_count": null,
   "id": "9fc991be",
   "metadata": {},
   "outputs": [],
   "source": [
    "\n",
    "from dash import dcc, html, Dash\n",
    "app = Dash(__name__)\n",
    "app.layout = html.Div([\n",
    "    dcc.Graph(\n",
    "        id='graph',\n",
    "        figure={\n",
    "            'data': [{'x': [1, 2, 3, 4], 'y': [10, 11, 12, 13], 'type': 'line', 'name': 'Test'}],\n",
    "            'layout': {'title': 'Dash in JupyterLab'}\n",
    "        }\n",
    "    )\n",
    "])\n",
    "app.run_server(host=\"0.0.0.0\", port=8052)\n"
   ]
  },
  {
   "cell_type": "code",
   "execution_count": null,
   "id": "1fde602b",
   "metadata": {},
   "outputs": [],
   "source": [
    "\n",
    "import numpy as np\n",
    "np\n"
   ]
  },
  {
   "cell_type": "code",
   "execution_count": null,
   "id": "c5b0ed86",
   "metadata": {},
   "outputs": [],
   "source": [
    "\n",
    "import numpy as np\n",
    "import pandas as pd\n",
    "import ipydatagrid\n",
    "\n",
    "data = pd.DataFrame(\n",
    "    np.random.randint(0, 100, size=(5, 5)), \n",
    "    columns=[\"A\", \"B\", \"C\", \"D\", \"E\"]\n",
    ")\n",
    "grid = ipydatagrid.DataGrid(data, editable=True)\n",
    "grid\n"
   ]
  },
  {
   "cell_type": "code",
   "execution_count": null,
   "id": "79654219",
   "metadata": {},
   "outputs": [],
   "source": [
    "\n",
    "# Activate ipympl\n",
    "%matplotlib widget  \n",
    "\n",
    "import matplotlib.pyplot as plt  \n",
    "import numpy as np  \n",
    "\n",
    "x = np.linspace(0, 10, 100)  \n",
    "y = np.sin(x)  \n",
    "\n",
    "fig, ax = plt.subplots()  \n",
    "ax.plot(x, y)  \n",
    "plt.show()\n"
   ]
  },
  {
   "cell_type": "code",
   "execution_count": null,
   "id": "d9320012",
   "metadata": {},
   "outputs": [],
   "source": [
    "\n",
    "def             my_function(x,      y):\n",
    "    print(x,            y)\n"
   ]
  },
  {
   "cell_type": "code",
   "execution_count": null,
   "id": "7aa1b6bc",
   "metadata": {},
   "outputs": [],
   "source": [
    "\n",
    "import tempfile\n",
    "import papermill as pm\n",
    "\n",
    "with tempfile.NamedTemporaryFile(delete=False, suffix='.ipynb') as temp_output:\n",
    "    pm.execute_notebook(\n",
    "        \"test-papermill.ipynb\", \n",
    "        temp_output.name,        \n",
    "        parameters={\"param1\": \"TestRun\", \"param2\": 99},\n",
    "        kernel_name=\"python3\"\n",
    "    )\n",
    "    print(f\"Output saved to {temp_output.name}\")\n",
    "    output_path = temp_output.name  \n",
    "output_path\n"
   ]
  },
  {
   "cell_type": "code",
   "execution_count": null,
   "id": "11fa2059",
   "metadata": {},
   "outputs": [],
   "source": [
    "\n",
    "import ipywidgets as widgets\n",
    "from IPython.display import display\n",
    "\n",
    "slider = widgets.IntSlider(value=50, min=0, max=100, description=\"Slider:\")\n",
    "button = widgets.Button(description=\"Click Me\")\n",
    "output = widgets.Output()\n",
    "\n",
    "def on_button_click(b):\n",
    "    with output:\n",
    "        print(\"Button Clicked!\")\n",
    "\n",
    "button.on_click(on_button_click)\n",
    "display(slider, button, output)\n"
   ]
  },
  {
   "cell_type": "code",
   "execution_count": null,
   "id": "ab4ceed0",
   "metadata": {},
   "outputs": [],
   "source": [
    "\n",
    "from dash import dcc, html, Dash\n",
    "app = Dash(__name__)\n",
    "app.layout = html.Div([\n",
    "    dcc.Graph(\n",
    "        id='graph',\n",
    "        figure={\n",
    "            'data': [{'x': [1, 2, 3, 4], 'y': [10, 11, 12, 13], 'type': 'line', 'name': 'Test'}],\n",
    "            'layout': {'title': 'Dash in JupyterLab'}\n",
    "        }\n",
    "    )\n",
    "])\n",
    "app.run_server(host=\"0.0.0.0\", port=8052)\n"
   ]
  },
  {
   "cell_type": "code",
   "execution_count": null,
   "id": "e3ee333c",
   "metadata": {},
   "outputs": [],
   "source": [
    "\n",
    "import numpy as np\n",
    "np\n"
   ]
  },
  {
   "cell_type": "code",
   "execution_count": null,
   "id": "a14b0429",
   "metadata": {},
   "outputs": [],
   "source": [
    "\n",
    "import numpy as np\n",
    "import pandas as pd\n",
    "import ipydatagrid\n",
    "\n",
    "data = pd.DataFrame(\n",
    "    np.random.randint(0, 100, size=(5, 5)), \n",
    "    columns=[\"A\", \"B\", \"C\", \"D\", \"E\"]\n",
    ")\n",
    "grid = ipydatagrid.DataGrid(data, editable=True)\n",
    "grid\n"
   ]
  },
  {
   "cell_type": "code",
   "execution_count": null,
   "id": "ecd8bda9",
   "metadata": {},
   "outputs": [],
   "source": [
    "\n",
    "# Activate ipympl\n",
    "%matplotlib widget  \n",
    "\n",
    "import matplotlib.pyplot as plt  \n",
    "import numpy as np  \n",
    "\n",
    "x = np.linspace(0, 10, 100)  \n",
    "y = np.sin(x)  \n",
    "\n",
    "fig, ax = plt.subplots()  \n",
    "ax.plot(x, y)  \n",
    "plt.show()\n"
   ]
  },
  {
   "cell_type": "code",
   "execution_count": null,
   "id": "2b7c1613",
   "metadata": {},
   "outputs": [],
   "source": [
    "\n",
    "def             my_function(x,      y):\n",
    "    print(x,            y)\n"
   ]
  },
  {
   "cell_type": "code",
   "execution_count": null,
   "id": "5c01b19c",
   "metadata": {},
   "outputs": [],
   "source": [
    "\n",
    "import tempfile\n",
    "import papermill as pm\n",
    "\n",
    "with tempfile.NamedTemporaryFile(delete=False, suffix='.ipynb') as temp_output:\n",
    "    pm.execute_notebook(\n",
    "        \"test-papermill.ipynb\", \n",
    "        temp_output.name,        \n",
    "        parameters={\"param1\": \"TestRun\", \"param2\": 99},\n",
    "        kernel_name=\"python3\"\n",
    "    )\n",
    "    print(f\"Output saved to {temp_output.name}\")\n",
    "    output_path = temp_output.name  \n",
    "output_path\n"
   ]
  },
  {
   "cell_type": "code",
   "execution_count": null,
   "id": "92a708e2",
   "metadata": {},
   "outputs": [],
   "source": [
    "\n",
    "import ipywidgets as widgets\n",
    "from IPython.display import display\n",
    "\n",
    "slider = widgets.IntSlider(value=50, min=0, max=100, description=\"Slider:\")\n",
    "button = widgets.Button(description=\"Click Me\")\n",
    "output = widgets.Output()\n",
    "\n",
    "def on_button_click(b):\n",
    "    with output:\n",
    "        print(\"Button Clicked!\")\n",
    "\n",
    "button.on_click(on_button_click)\n",
    "display(slider, button, output)\n"
   ]
  },
  {
   "cell_type": "code",
   "execution_count": null,
   "id": "85626fb0",
   "metadata": {},
   "outputs": [],
   "source": [
    "\n",
    "from dash import dcc, html, Dash\n",
    "app = Dash(__name__)\n",
    "app.layout = html.Div([\n",
    "    dcc.Graph(\n",
    "        id='graph',\n",
    "        figure={\n",
    "            'data': [{'x': [1, 2, 3, 4], 'y': [10, 11, 12, 13], 'type': 'line', 'name': 'Test'}],\n",
    "            'layout': {'title': 'Dash in JupyterLab'}\n",
    "        }\n",
    "    )\n",
    "])\n",
    "app.run_server(host=\"0.0.0.0\", port=8052)\n"
   ]
  },
  {
   "cell_type": "code",
   "execution_count": null,
   "id": "3e7f667d",
   "metadata": {},
   "outputs": [],
   "source": [
    "\n",
    "import numpy as np\n",
    "np\n"
   ]
  },
  {
   "cell_type": "code",
   "execution_count": null,
   "id": "f73390a7",
   "metadata": {},
   "outputs": [],
   "source": [
    "\n",
    "import numpy as np\n",
    "import pandas as pd\n",
    "import ipydatagrid\n",
    "\n",
    "data = pd.DataFrame(\n",
    "    np.random.randint(0, 100, size=(5, 5)), \n",
    "    columns=[\"A\", \"B\", \"C\", \"D\", \"E\"]\n",
    ")\n",
    "grid = ipydatagrid.DataGrid(data, editable=True)\n",
    "grid\n"
   ]
  },
  {
   "cell_type": "code",
   "execution_count": null,
   "id": "dabcbc2f",
   "metadata": {},
   "outputs": [],
   "source": [
    "\n",
    "# Activate ipympl\n",
    "%matplotlib widget  \n",
    "\n",
    "import matplotlib.pyplot as plt  \n",
    "import numpy as np  \n",
    "\n",
    "x = np.linspace(0, 10, 100)  \n",
    "y = np.sin(x)  \n",
    "\n",
    "fig, ax = plt.subplots()  \n",
    "ax.plot(x, y)  \n",
    "plt.show()\n"
   ]
  },
  {
   "cell_type": "code",
   "execution_count": null,
   "id": "3412de1b",
   "metadata": {},
   "outputs": [],
   "source": [
    "\n",
    "def             my_function(x,      y):\n",
    "    print(x,            y)\n"
   ]
  },
  {
   "cell_type": "code",
   "execution_count": null,
   "id": "1eafeaa4",
   "metadata": {},
   "outputs": [],
   "source": [
    "\n",
    "import tempfile\n",
    "import papermill as pm\n",
    "\n",
    "with tempfile.NamedTemporaryFile(delete=False, suffix='.ipynb') as temp_output:\n",
    "    pm.execute_notebook(\n",
    "        \"test-papermill.ipynb\", \n",
    "        temp_output.name,        \n",
    "        parameters={\"param1\": \"TestRun\", \"param2\": 99},\n",
    "        kernel_name=\"python3\"\n",
    "    )\n",
    "    print(f\"Output saved to {temp_output.name}\")\n",
    "    output_path = temp_output.name  \n",
    "output_path\n"
   ]
  },
  {
   "cell_type": "code",
   "execution_count": null,
   "id": "a82b006c",
   "metadata": {},
   "outputs": [],
   "source": [
    "\n",
    "import ipywidgets as widgets\n",
    "from IPython.display import display\n",
    "\n",
    "slider = widgets.IntSlider(value=50, min=0, max=100, description=\"Slider:\")\n",
    "button = widgets.Button(description=\"Click Me\")\n",
    "output = widgets.Output()\n",
    "\n",
    "def on_button_click(b):\n",
    "    with output:\n",
    "        print(\"Button Clicked!\")\n",
    "\n",
    "button.on_click(on_button_click)\n",
    "display(slider, button, output)\n"
   ]
  },
  {
   "cell_type": "code",
   "execution_count": null,
   "id": "a7cdb99b",
   "metadata": {},
   "outputs": [],
   "source": [
    "\n",
    "from dash import dcc, html, Dash\n",
    "app = Dash(__name__)\n",
    "app.layout = html.Div([\n",
    "    dcc.Graph(\n",
    "        id='graph',\n",
    "        figure={\n",
    "            'data': [{'x': [1, 2, 3, 4], 'y': [10, 11, 12, 13], 'type': 'line', 'name': 'Test'}],\n",
    "            'layout': {'title': 'Dash in JupyterLab'}\n",
    "        }\n",
    "    )\n",
    "])\n",
    "app.run_server(host=\"0.0.0.0\", port=8052)\n"
   ]
  },
  {
   "cell_type": "code",
   "execution_count": null,
   "id": "7641499a",
   "metadata": {},
   "outputs": [],
   "source": [
    "\n",
    "import numpy as np\n",
    "np\n"
   ]
  },
  {
   "cell_type": "code",
   "execution_count": null,
   "id": "4d9ed837",
   "metadata": {},
   "outputs": [],
   "source": [
    "\n",
    "import numpy as np\n",
    "import pandas as pd\n",
    "import ipydatagrid\n",
    "\n",
    "data = pd.DataFrame(\n",
    "    np.random.randint(0, 100, size=(5, 5)), \n",
    "    columns=[\"A\", \"B\", \"C\", \"D\", \"E\"]\n",
    ")\n",
    "grid = ipydatagrid.DataGrid(data, editable=True)\n",
    "grid\n"
   ]
  },
  {
   "cell_type": "code",
   "execution_count": null,
   "id": "2b4895bf",
   "metadata": {},
   "outputs": [],
   "source": [
    "\n",
    "# Activate ipympl\n",
    "%matplotlib widget  \n",
    "\n",
    "import matplotlib.pyplot as plt  \n",
    "import numpy as np  \n",
    "\n",
    "x = np.linspace(0, 10, 100)  \n",
    "y = np.sin(x)  \n",
    "\n",
    "fig, ax = plt.subplots()  \n",
    "ax.plot(x, y)  \n",
    "plt.show()\n"
   ]
  },
  {
   "cell_type": "code",
   "execution_count": null,
   "id": "04cafdd1",
   "metadata": {},
   "outputs": [],
   "source": [
    "\n",
    "def             my_function(x,      y):\n",
    "    print(x,            y)\n"
   ]
  },
  {
   "cell_type": "code",
   "execution_count": null,
   "id": "eb04e86d",
   "metadata": {},
   "outputs": [],
   "source": [
    "\n",
    "import tempfile\n",
    "import papermill as pm\n",
    "\n",
    "with tempfile.NamedTemporaryFile(delete=False, suffix='.ipynb') as temp_output:\n",
    "    pm.execute_notebook(\n",
    "        \"test-papermill.ipynb\", \n",
    "        temp_output.name,        \n",
    "        parameters={\"param1\": \"TestRun\", \"param2\": 99},\n",
    "        kernel_name=\"python3\"\n",
    "    )\n",
    "    print(f\"Output saved to {temp_output.name}\")\n",
    "    output_path = temp_output.name  \n",
    "output_path\n"
   ]
  },
  {
   "cell_type": "code",
   "execution_count": null,
   "id": "6456b7ee",
   "metadata": {},
   "outputs": [],
   "source": [
    "\n",
    "import ipywidgets as widgets\n",
    "from IPython.display import display\n",
    "\n",
    "slider = widgets.IntSlider(value=50, min=0, max=100, description=\"Slider:\")\n",
    "button = widgets.Button(description=\"Click Me\")\n",
    "output = widgets.Output()\n",
    "\n",
    "def on_button_click(b):\n",
    "    with output:\n",
    "        print(\"Button Clicked!\")\n",
    "\n",
    "button.on_click(on_button_click)\n",
    "display(slider, button, output)\n"
   ]
  },
  {
   "cell_type": "code",
   "execution_count": null,
   "id": "0679182c",
   "metadata": {},
   "outputs": [],
   "source": [
    "\n",
    "from dash import dcc, html, Dash\n",
    "app = Dash(__name__)\n",
    "app.layout = html.Div([\n",
    "    dcc.Graph(\n",
    "        id='graph',\n",
    "        figure={\n",
    "            'data': [{'x': [1, 2, 3, 4], 'y': [10, 11, 12, 13], 'type': 'line', 'name': 'Test'}],\n",
    "            'layout': {'title': 'Dash in JupyterLab'}\n",
    "        }\n",
    "    )\n",
    "])\n",
    "app.run_server(host=\"0.0.0.0\", port=8052)\n"
   ]
  },
  {
   "cell_type": "code",
   "execution_count": null,
   "id": "5117e3a0",
   "metadata": {},
   "outputs": [],
   "source": [
    "\n",
    "import numpy as np\n",
    "np\n"
   ]
  },
  {
   "cell_type": "code",
   "execution_count": null,
   "id": "4f9c34cb",
   "metadata": {},
   "outputs": [],
   "source": [
    "\n",
    "import numpy as np\n",
    "import pandas as pd\n",
    "import ipydatagrid\n",
    "\n",
    "data = pd.DataFrame(\n",
    "    np.random.randint(0, 100, size=(5, 5)), \n",
    "    columns=[\"A\", \"B\", \"C\", \"D\", \"E\"]\n",
    ")\n",
    "grid = ipydatagrid.DataGrid(data, editable=True)\n",
    "grid\n"
   ]
  },
  {
   "cell_type": "code",
   "execution_count": null,
   "id": "b5621fcc",
   "metadata": {},
   "outputs": [],
   "source": [
    "\n",
    "# Activate ipympl\n",
    "%matplotlib widget  \n",
    "\n",
    "import matplotlib.pyplot as plt  \n",
    "import numpy as np  \n",
    "\n",
    "x = np.linspace(0, 10, 100)  \n",
    "y = np.sin(x)  \n",
    "\n",
    "fig, ax = plt.subplots()  \n",
    "ax.plot(x, y)  \n",
    "plt.show()\n"
   ]
  },
  {
   "cell_type": "code",
   "execution_count": null,
   "id": "458a49d1",
   "metadata": {},
   "outputs": [],
   "source": [
    "\n",
    "def             my_function(x,      y):\n",
    "    print(x,            y)\n"
   ]
  },
  {
   "cell_type": "code",
   "execution_count": null,
   "id": "bcfb9240",
   "metadata": {},
   "outputs": [],
   "source": [
    "\n",
    "import tempfile\n",
    "import papermill as pm\n",
    "\n",
    "with tempfile.NamedTemporaryFile(delete=False, suffix='.ipynb') as temp_output:\n",
    "    pm.execute_notebook(\n",
    "        \"test-papermill.ipynb\", \n",
    "        temp_output.name,        \n",
    "        parameters={\"param1\": \"TestRun\", \"param2\": 99},\n",
    "        kernel_name=\"python3\"\n",
    "    )\n",
    "    print(f\"Output saved to {temp_output.name}\")\n",
    "    output_path = temp_output.name  \n",
    "output_path\n"
   ]
  },
  {
   "cell_type": "code",
   "execution_count": null,
   "id": "d6fdc409",
   "metadata": {},
   "outputs": [],
   "source": [
    "\n",
    "import ipywidgets as widgets\n",
    "from IPython.display import display\n",
    "\n",
    "slider = widgets.IntSlider(value=50, min=0, max=100, description=\"Slider:\")\n",
    "button = widgets.Button(description=\"Click Me\")\n",
    "output = widgets.Output()\n",
    "\n",
    "def on_button_click(b):\n",
    "    with output:\n",
    "        print(\"Button Clicked!\")\n",
    "\n",
    "button.on_click(on_button_click)\n",
    "display(slider, button, output)\n"
   ]
  },
  {
   "cell_type": "code",
   "execution_count": null,
   "id": "d0f921c2",
   "metadata": {},
   "outputs": [],
   "source": [
    "\n",
    "from dash import dcc, html, Dash\n",
    "app = Dash(__name__)\n",
    "app.layout = html.Div([\n",
    "    dcc.Graph(\n",
    "        id='graph',\n",
    "        figure={\n",
    "            'data': [{'x': [1, 2, 3, 4], 'y': [10, 11, 12, 13], 'type': 'line', 'name': 'Test'}],\n",
    "            'layout': {'title': 'Dash in JupyterLab'}\n",
    "        }\n",
    "    )\n",
    "])\n",
    "app.run_server(host=\"0.0.0.0\", port=8052)\n"
   ]
  },
  {
   "cell_type": "code",
   "execution_count": null,
   "id": "516889f2",
   "metadata": {},
   "outputs": [],
   "source": [
    "\n",
    "import numpy as np\n",
    "np\n"
   ]
  },
  {
   "cell_type": "code",
   "execution_count": null,
   "id": "f291673a",
   "metadata": {},
   "outputs": [],
   "source": [
    "\n",
    "import numpy as np\n",
    "import pandas as pd\n",
    "import ipydatagrid\n",
    "\n",
    "data = pd.DataFrame(\n",
    "    np.random.randint(0, 100, size=(5, 5)), \n",
    "    columns=[\"A\", \"B\", \"C\", \"D\", \"E\"]\n",
    ")\n",
    "grid = ipydatagrid.DataGrid(data, editable=True)\n",
    "grid\n"
   ]
  },
  {
   "cell_type": "code",
   "execution_count": null,
   "id": "5215ca46",
   "metadata": {},
   "outputs": [],
   "source": [
    "\n",
    "# Activate ipympl\n",
    "%matplotlib widget  \n",
    "\n",
    "import matplotlib.pyplot as plt  \n",
    "import numpy as np  \n",
    "\n",
    "x = np.linspace(0, 10, 100)  \n",
    "y = np.sin(x)  \n",
    "\n",
    "fig, ax = plt.subplots()  \n",
    "ax.plot(x, y)  \n",
    "plt.show()\n"
   ]
  },
  {
   "cell_type": "code",
   "execution_count": null,
   "id": "851206c3",
   "metadata": {},
   "outputs": [],
   "source": [
    "\n",
    "def             my_function(x,      y):\n",
    "    print(x,            y)\n"
   ]
  },
  {
   "cell_type": "code",
   "execution_count": null,
   "id": "5e23633e",
   "metadata": {},
   "outputs": [],
   "source": [
    "\n",
    "import tempfile\n",
    "import papermill as pm\n",
    "\n",
    "with tempfile.NamedTemporaryFile(delete=False, suffix='.ipynb') as temp_output:\n",
    "    pm.execute_notebook(\n",
    "        \"test-papermill.ipynb\", \n",
    "        temp_output.name,        \n",
    "        parameters={\"param1\": \"TestRun\", \"param2\": 99},\n",
    "        kernel_name=\"python3\"\n",
    "    )\n",
    "    print(f\"Output saved to {temp_output.name}\")\n",
    "    output_path = temp_output.name  \n",
    "output_path\n"
   ]
  },
  {
   "cell_type": "code",
   "execution_count": null,
   "id": "82b90387",
   "metadata": {},
   "outputs": [],
   "source": [
    "\n",
    "import ipywidgets as widgets\n",
    "from IPython.display import display\n",
    "\n",
    "slider = widgets.IntSlider(value=50, min=0, max=100, description=\"Slider:\")\n",
    "button = widgets.Button(description=\"Click Me\")\n",
    "output = widgets.Output()\n",
    "\n",
    "def on_button_click(b):\n",
    "    with output:\n",
    "        print(\"Button Clicked!\")\n",
    "\n",
    "button.on_click(on_button_click)\n",
    "display(slider, button, output)\n"
   ]
  },
  {
   "cell_type": "code",
   "execution_count": null,
   "id": "a55c968d",
   "metadata": {},
   "outputs": [],
   "source": [
    "\n",
    "from dash import dcc, html, Dash\n",
    "app = Dash(__name__)\n",
    "app.layout = html.Div([\n",
    "    dcc.Graph(\n",
    "        id='graph',\n",
    "        figure={\n",
    "            'data': [{'x': [1, 2, 3, 4], 'y': [10, 11, 12, 13], 'type': 'line', 'name': 'Test'}],\n",
    "            'layout': {'title': 'Dash in JupyterLab'}\n",
    "        }\n",
    "    )\n",
    "])\n",
    "app.run_server(host=\"0.0.0.0\", port=8052)\n"
   ]
  },
  {
   "cell_type": "code",
   "execution_count": null,
   "id": "f8da47eb",
   "metadata": {},
   "outputs": [],
   "source": [
    "\n",
    "import numpy as np\n",
    "np\n"
   ]
  },
  {
   "cell_type": "code",
   "execution_count": null,
   "id": "02a72839",
   "metadata": {},
   "outputs": [],
   "source": [
    "\n",
    "import numpy as np\n",
    "import pandas as pd\n",
    "import ipydatagrid\n",
    "\n",
    "data = pd.DataFrame(\n",
    "    np.random.randint(0, 100, size=(5, 5)), \n",
    "    columns=[\"A\", \"B\", \"C\", \"D\", \"E\"]\n",
    ")\n",
    "grid = ipydatagrid.DataGrid(data, editable=True)\n",
    "grid\n"
   ]
  },
  {
   "cell_type": "code",
   "execution_count": null,
   "id": "47c74b67",
   "metadata": {},
   "outputs": [],
   "source": [
    "\n",
    "# Activate ipympl\n",
    "%matplotlib widget  \n",
    "\n",
    "import matplotlib.pyplot as plt  \n",
    "import numpy as np  \n",
    "\n",
    "x = np.linspace(0, 10, 100)  \n",
    "y = np.sin(x)  \n",
    "\n",
    "fig, ax = plt.subplots()  \n",
    "ax.plot(x, y)  \n",
    "plt.show()\n"
   ]
  },
  {
   "cell_type": "code",
   "execution_count": null,
   "id": "4d341321",
   "metadata": {},
   "outputs": [],
   "source": [
    "\n",
    "def             my_function(x,      y):\n",
    "    print(x,            y)\n"
   ]
  },
  {
   "cell_type": "code",
   "execution_count": null,
   "id": "e8ff0f2b",
   "metadata": {},
   "outputs": [],
   "source": [
    "\n",
    "import tempfile\n",
    "import papermill as pm\n",
    "\n",
    "with tempfile.NamedTemporaryFile(delete=False, suffix='.ipynb') as temp_output:\n",
    "    pm.execute_notebook(\n",
    "        \"test-papermill.ipynb\", \n",
    "        temp_output.name,        \n",
    "        parameters={\"param1\": \"TestRun\", \"param2\": 99},\n",
    "        kernel_name=\"python3\"\n",
    "    )\n",
    "    print(f\"Output saved to {temp_output.name}\")\n",
    "    output_path = temp_output.name  \n",
    "output_path\n"
   ]
  },
  {
   "cell_type": "code",
   "execution_count": null,
   "id": "97e9c1b8",
   "metadata": {},
   "outputs": [],
   "source": [
    "\n",
    "import ipywidgets as widgets\n",
    "from IPython.display import display\n",
    "\n",
    "slider = widgets.IntSlider(value=50, min=0, max=100, description=\"Slider:\")\n",
    "button = widgets.Button(description=\"Click Me\")\n",
    "output = widgets.Output()\n",
    "\n",
    "def on_button_click(b):\n",
    "    with output:\n",
    "        print(\"Button Clicked!\")\n",
    "\n",
    "button.on_click(on_button_click)\n",
    "display(slider, button, output)\n"
   ]
  },
  {
   "cell_type": "code",
   "execution_count": null,
   "id": "ecffc95c",
   "metadata": {},
   "outputs": [],
   "source": [
    "\n",
    "from dash import dcc, html, Dash\n",
    "app = Dash(__name__)\n",
    "app.layout = html.Div([\n",
    "    dcc.Graph(\n",
    "        id='graph',\n",
    "        figure={\n",
    "            'data': [{'x': [1, 2, 3, 4], 'y': [10, 11, 12, 13], 'type': 'line', 'name': 'Test'}],\n",
    "            'layout': {'title': 'Dash in JupyterLab'}\n",
    "        }\n",
    "    )\n",
    "])\n",
    "app.run_server(host=\"0.0.0.0\", port=8052)\n"
   ]
  },
  {
   "cell_type": "code",
   "execution_count": null,
   "id": "221939ec",
   "metadata": {},
   "outputs": [],
   "source": [
    "\n",
    "import numpy as np\n",
    "np\n"
   ]
  },
  {
   "cell_type": "code",
   "execution_count": null,
   "id": "aeeea961",
   "metadata": {},
   "outputs": [],
   "source": [
    "\n",
    "import numpy as np\n",
    "import pandas as pd\n",
    "import ipydatagrid\n",
    "\n",
    "data = pd.DataFrame(\n",
    "    np.random.randint(0, 100, size=(5, 5)), \n",
    "    columns=[\"A\", \"B\", \"C\", \"D\", \"E\"]\n",
    ")\n",
    "grid = ipydatagrid.DataGrid(data, editable=True)\n",
    "grid\n"
   ]
  },
  {
   "cell_type": "code",
   "execution_count": null,
   "id": "e7880f99",
   "metadata": {},
   "outputs": [],
   "source": [
    "\n",
    "# Activate ipympl\n",
    "%matplotlib widget  \n",
    "\n",
    "import matplotlib.pyplot as plt  \n",
    "import numpy as np  \n",
    "\n",
    "x = np.linspace(0, 10, 100)  \n",
    "y = np.sin(x)  \n",
    "\n",
    "fig, ax = plt.subplots()  \n",
    "ax.plot(x, y)  \n",
    "plt.show()\n"
   ]
  },
  {
   "cell_type": "code",
   "execution_count": null,
   "id": "494f133e",
   "metadata": {},
   "outputs": [],
   "source": [
    "\n",
    "def             my_function(x,      y):\n",
    "    print(x,            y)\n"
   ]
  },
  {
   "cell_type": "code",
   "execution_count": null,
   "id": "1b9d62ef",
   "metadata": {},
   "outputs": [],
   "source": [
    "\n",
    "import tempfile\n",
    "import papermill as pm\n",
    "\n",
    "with tempfile.NamedTemporaryFile(delete=False, suffix='.ipynb') as temp_output:\n",
    "    pm.execute_notebook(\n",
    "        \"test-papermill.ipynb\", \n",
    "        temp_output.name,        \n",
    "        parameters={\"param1\": \"TestRun\", \"param2\": 99},\n",
    "        kernel_name=\"python3\"\n",
    "    )\n",
    "    print(f\"Output saved to {temp_output.name}\")\n",
    "    output_path = temp_output.name  \n",
    "output_path\n"
   ]
  },
  {
   "cell_type": "code",
   "execution_count": null,
   "id": "e1e5c147",
   "metadata": {},
   "outputs": [],
   "source": [
    "\n",
    "import ipywidgets as widgets\n",
    "from IPython.display import display\n",
    "\n",
    "slider = widgets.IntSlider(value=50, min=0, max=100, description=\"Slider:\")\n",
    "button = widgets.Button(description=\"Click Me\")\n",
    "output = widgets.Output()\n",
    "\n",
    "def on_button_click(b):\n",
    "    with output:\n",
    "        print(\"Button Clicked!\")\n",
    "\n",
    "button.on_click(on_button_click)\n",
    "display(slider, button, output)\n"
   ]
  },
  {
   "cell_type": "code",
   "execution_count": null,
   "id": "82c34e52",
   "metadata": {},
   "outputs": [],
   "source": [
    "\n",
    "from dash import dcc, html, Dash\n",
    "app = Dash(__name__)\n",
    "app.layout = html.Div([\n",
    "    dcc.Graph(\n",
    "        id='graph',\n",
    "        figure={\n",
    "            'data': [{'x': [1, 2, 3, 4], 'y': [10, 11, 12, 13], 'type': 'line', 'name': 'Test'}],\n",
    "            'layout': {'title': 'Dash in JupyterLab'}\n",
    "        }\n",
    "    )\n",
    "])\n",
    "app.run_server(host=\"0.0.0.0\", port=8052)\n"
   ]
  },
  {
   "cell_type": "code",
   "execution_count": null,
   "id": "30a57462",
   "metadata": {},
   "outputs": [],
   "source": [
    "\n",
    "import numpy as np\n",
    "np\n"
   ]
  },
  {
   "cell_type": "code",
   "execution_count": null,
   "id": "c38c891c",
   "metadata": {},
   "outputs": [],
   "source": [
    "\n",
    "import numpy as np\n",
    "import pandas as pd\n",
    "import ipydatagrid\n",
    "\n",
    "data = pd.DataFrame(\n",
    "    np.random.randint(0, 100, size=(5, 5)), \n",
    "    columns=[\"A\", \"B\", \"C\", \"D\", \"E\"]\n",
    ")\n",
    "grid = ipydatagrid.DataGrid(data, editable=True)\n",
    "grid\n"
   ]
  },
  {
   "cell_type": "code",
   "execution_count": null,
   "id": "dd6dbaf5",
   "metadata": {},
   "outputs": [],
   "source": [
    "\n",
    "# Activate ipympl\n",
    "%matplotlib widget  \n",
    "\n",
    "import matplotlib.pyplot as plt  \n",
    "import numpy as np  \n",
    "\n",
    "x = np.linspace(0, 10, 100)  \n",
    "y = np.sin(x)  \n",
    "\n",
    "fig, ax = plt.subplots()  \n",
    "ax.plot(x, y)  \n",
    "plt.show()\n"
   ]
  },
  {
   "cell_type": "code",
   "execution_count": null,
   "id": "94f8c098",
   "metadata": {},
   "outputs": [],
   "source": [
    "\n",
    "def             my_function(x,      y):\n",
    "    print(x,            y)\n"
   ]
  },
  {
   "cell_type": "code",
   "execution_count": null,
   "id": "f142ca65",
   "metadata": {},
   "outputs": [],
   "source": [
    "\n",
    "import tempfile\n",
    "import papermill as pm\n",
    "\n",
    "with tempfile.NamedTemporaryFile(delete=False, suffix='.ipynb') as temp_output:\n",
    "    pm.execute_notebook(\n",
    "        \"test-papermill.ipynb\", \n",
    "        temp_output.name,        \n",
    "        parameters={\"param1\": \"TestRun\", \"param2\": 99},\n",
    "        kernel_name=\"python3\"\n",
    "    )\n",
    "    print(f\"Output saved to {temp_output.name}\")\n",
    "    output_path = temp_output.name  \n",
    "output_path\n"
   ]
  },
  {
   "cell_type": "code",
   "execution_count": null,
   "id": "c77b3d7b",
   "metadata": {},
   "outputs": [],
   "source": [
    "\n",
    "import ipywidgets as widgets\n",
    "from IPython.display import display\n",
    "\n",
    "slider = widgets.IntSlider(value=50, min=0, max=100, description=\"Slider:\")\n",
    "button = widgets.Button(description=\"Click Me\")\n",
    "output = widgets.Output()\n",
    "\n",
    "def on_button_click(b):\n",
    "    with output:\n",
    "        print(\"Button Clicked!\")\n",
    "\n",
    "button.on_click(on_button_click)\n",
    "display(slider, button, output)\n"
   ]
  },
  {
   "cell_type": "code",
   "execution_count": null,
   "id": "8a7b660c",
   "metadata": {},
   "outputs": [],
   "source": [
    "\n",
    "from dash import dcc, html, Dash\n",
    "app = Dash(__name__)\n",
    "app.layout = html.Div([\n",
    "    dcc.Graph(\n",
    "        id='graph',\n",
    "        figure={\n",
    "            'data': [{'x': [1, 2, 3, 4], 'y': [10, 11, 12, 13], 'type': 'line', 'name': 'Test'}],\n",
    "            'layout': {'title': 'Dash in JupyterLab'}\n",
    "        }\n",
    "    )\n",
    "])\n",
    "app.run_server(host=\"0.0.0.0\", port=8052)\n"
   ]
  },
  {
   "cell_type": "code",
   "execution_count": null,
   "id": "17761205",
   "metadata": {},
   "outputs": [],
   "source": [
    "\n",
    "import numpy as np\n",
    "np\n"
   ]
  },
  {
   "cell_type": "code",
   "execution_count": null,
   "id": "0e3604a9",
   "metadata": {},
   "outputs": [],
   "source": [
    "\n",
    "import numpy as np\n",
    "import pandas as pd\n",
    "import ipydatagrid\n",
    "\n",
    "data = pd.DataFrame(\n",
    "    np.random.randint(0, 100, size=(5, 5)), \n",
    "    columns=[\"A\", \"B\", \"C\", \"D\", \"E\"]\n",
    ")\n",
    "grid = ipydatagrid.DataGrid(data, editable=True)\n",
    "grid\n"
   ]
  },
  {
   "cell_type": "code",
   "execution_count": null,
   "id": "452f330f",
   "metadata": {},
   "outputs": [],
   "source": [
    "\n",
    "# Activate ipympl\n",
    "%matplotlib widget  \n",
    "\n",
    "import matplotlib.pyplot as plt  \n",
    "import numpy as np  \n",
    "\n",
    "x = np.linspace(0, 10, 100)  \n",
    "y = np.sin(x)  \n",
    "\n",
    "fig, ax = plt.subplots()  \n",
    "ax.plot(x, y)  \n",
    "plt.show()\n"
   ]
  },
  {
   "cell_type": "code",
   "execution_count": null,
   "id": "2a8e4127",
   "metadata": {},
   "outputs": [],
   "source": [
    "\n",
    "def             my_function(x,      y):\n",
    "    print(x,            y)\n"
   ]
  },
  {
   "cell_type": "code",
   "execution_count": null,
   "id": "af523bb1",
   "metadata": {},
   "outputs": [],
   "source": [
    "\n",
    "import tempfile\n",
    "import papermill as pm\n",
    "\n",
    "with tempfile.NamedTemporaryFile(delete=False, suffix='.ipynb') as temp_output:\n",
    "    pm.execute_notebook(\n",
    "        \"test-papermill.ipynb\", \n",
    "        temp_output.name,        \n",
    "        parameters={\"param1\": \"TestRun\", \"param2\": 99},\n",
    "        kernel_name=\"python3\"\n",
    "    )\n",
    "    print(f\"Output saved to {temp_output.name}\")\n",
    "    output_path = temp_output.name  \n",
    "output_path\n"
   ]
  },
  {
   "cell_type": "code",
   "execution_count": null,
   "id": "296d5388",
   "metadata": {},
   "outputs": [],
   "source": [
    "\n",
    "import ipywidgets as widgets\n",
    "from IPython.display import display\n",
    "\n",
    "slider = widgets.IntSlider(value=50, min=0, max=100, description=\"Slider:\")\n",
    "button = widgets.Button(description=\"Click Me\")\n",
    "output = widgets.Output()\n",
    "\n",
    "def on_button_click(b):\n",
    "    with output:\n",
    "        print(\"Button Clicked!\")\n",
    "\n",
    "button.on_click(on_button_click)\n",
    "display(slider, button, output)\n"
   ]
  },
  {
   "cell_type": "code",
   "execution_count": null,
   "id": "07a9a3ed",
   "metadata": {},
   "outputs": [],
   "source": [
    "\n",
    "from dash import dcc, html, Dash\n",
    "app = Dash(__name__)\n",
    "app.layout = html.Div([\n",
    "    dcc.Graph(\n",
    "        id='graph',\n",
    "        figure={\n",
    "            'data': [{'x': [1, 2, 3, 4], 'y': [10, 11, 12, 13], 'type': 'line', 'name': 'Test'}],\n",
    "            'layout': {'title': 'Dash in JupyterLab'}\n",
    "        }\n",
    "    )\n",
    "])\n",
    "app.run_server(host=\"0.0.0.0\", port=8052)\n"
   ]
  },
  {
   "cell_type": "code",
   "execution_count": null,
   "id": "a230028a",
   "metadata": {},
   "outputs": [],
   "source": [
    "\n",
    "import numpy as np\n",
    "np\n"
   ]
  },
  {
   "cell_type": "code",
   "execution_count": null,
   "id": "334714ac",
   "metadata": {},
   "outputs": [],
   "source": [
    "\n",
    "import numpy as np\n",
    "import pandas as pd\n",
    "import ipydatagrid\n",
    "\n",
    "data = pd.DataFrame(\n",
    "    np.random.randint(0, 100, size=(5, 5)), \n",
    "    columns=[\"A\", \"B\", \"C\", \"D\", \"E\"]\n",
    ")\n",
    "grid = ipydatagrid.DataGrid(data, editable=True)\n",
    "grid\n"
   ]
  },
  {
   "cell_type": "code",
   "execution_count": null,
   "id": "fd3c4448",
   "metadata": {},
   "outputs": [],
   "source": [
    "\n",
    "# Activate ipympl\n",
    "%matplotlib widget  \n",
    "\n",
    "import matplotlib.pyplot as plt  \n",
    "import numpy as np  \n",
    "\n",
    "x = np.linspace(0, 10, 100)  \n",
    "y = np.sin(x)  \n",
    "\n",
    "fig, ax = plt.subplots()  \n",
    "ax.plot(x, y)  \n",
    "plt.show()\n"
   ]
  },
  {
   "cell_type": "code",
   "execution_count": null,
   "id": "767950f6",
   "metadata": {},
   "outputs": [],
   "source": [
    "\n",
    "def             my_function(x,      y):\n",
    "    print(x,            y)\n"
   ]
  },
  {
   "cell_type": "code",
   "execution_count": null,
   "id": "4807354c",
   "metadata": {},
   "outputs": [],
   "source": [
    "\n",
    "import tempfile\n",
    "import papermill as pm\n",
    "\n",
    "with tempfile.NamedTemporaryFile(delete=False, suffix='.ipynb') as temp_output:\n",
    "    pm.execute_notebook(\n",
    "        \"test-papermill.ipynb\", \n",
    "        temp_output.name,        \n",
    "        parameters={\"param1\": \"TestRun\", \"param2\": 99},\n",
    "        kernel_name=\"python3\"\n",
    "    )\n",
    "    print(f\"Output saved to {temp_output.name}\")\n",
    "    output_path = temp_output.name  \n",
    "output_path\n"
   ]
  },
  {
   "cell_type": "code",
   "execution_count": null,
   "id": "ac56990b",
   "metadata": {},
   "outputs": [],
   "source": [
    "\n",
    "import ipywidgets as widgets\n",
    "from IPython.display import display\n",
    "\n",
    "slider = widgets.IntSlider(value=50, min=0, max=100, description=\"Slider:\")\n",
    "button = widgets.Button(description=\"Click Me\")\n",
    "output = widgets.Output()\n",
    "\n",
    "def on_button_click(b):\n",
    "    with output:\n",
    "        print(\"Button Clicked!\")\n",
    "\n",
    "button.on_click(on_button_click)\n",
    "display(slider, button, output)\n"
   ]
  },
  {
   "cell_type": "code",
   "execution_count": null,
   "id": "21f64358",
   "metadata": {},
   "outputs": [],
   "source": [
    "\n",
    "from dash import dcc, html, Dash\n",
    "app = Dash(__name__)\n",
    "app.layout = html.Div([\n",
    "    dcc.Graph(\n",
    "        id='graph',\n",
    "        figure={\n",
    "            'data': [{'x': [1, 2, 3, 4], 'y': [10, 11, 12, 13], 'type': 'line', 'name': 'Test'}],\n",
    "            'layout': {'title': 'Dash in JupyterLab'}\n",
    "        }\n",
    "    )\n",
    "])\n",
    "app.run_server(host=\"0.0.0.0\", port=8052)\n"
   ]
  }
 ],
 "metadata": {
  "kernelspec": {
   "display_name": "Python 3",
   "language": "python",
   "name": "python3"
  }
 },
 "nbformat": 4,
 "nbformat_minor": 5
}
